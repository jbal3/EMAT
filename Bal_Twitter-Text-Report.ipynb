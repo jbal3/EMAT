{
 "cells": [
  {
   "cell_type": "markdown",
   "id": "59045c79",
   "metadata": {},
   "source": [
    "## Wilde and Styles: A Twitter Text Report on the \"Don't Worry Darling\" Relationship\n",
    "#### Jenna Bal\n",
    "\n",
    "\"Don't Worry Darling\" is a movie starring Harry Styles, Florence Pugh, and Chris Pine and directed by Olivia Wilde. When the film was released late September, drama surrounding the cast took social media by storm when it became evident that Harry Styles and Olivia Wilde were [dating](https://www.usmagazine.com/celebrity-news/pictures/olivia-wilde-and-harry-styles-relationship-timeline/). The two had met on the set of the movie three months earlier, one month before Wilde split from her then fiancé. \n",
    "\n",
    "Now that the drama surrounding the film has settled, I want to know what people are saying about the pair. Does the general public still have a strong opinion? Or did the fascination die down alongside the movie's hype?\n"
   ]
  },
  {
   "cell_type": "markdown",
   "id": "1414ef14",
   "metadata": {},
   "source": [
    "**I started by importing all the needed information.**"
   ]
  },
  {
   "cell_type": "code",
   "execution_count": 1,
   "id": "6ce6ce6f",
   "metadata": {},
   "outputs": [],
   "source": [
    "import pandas as pd\n",
    "import json\n",
    "import requests\n",
    "import urllib"
   ]
  },
  {
   "cell_type": "code",
   "execution_count": 2,
   "id": "e0c96d68",
   "metadata": {},
   "outputs": [],
   "source": [
    "bearer_token = pd.read_csv(\"Twitter_Token_9-22\", header = 0, sep ='\\t')"
   ]
  },
  {
   "cell_type": "markdown",
   "id": "3578ac71",
   "metadata": {},
   "source": [
    "**I called the bearer token to make sure it was working correctly, but then I cleared it since bearer tokens should stay private.**"
   ]
  },
  {
   "cell_type": "code",
   "execution_count": null,
   "id": "86bbbe98",
   "metadata": {},
   "outputs": [],
   "source": [
    "bearer_token['Bearer_token'].iloc[0]"
   ]
  },
  {
   "cell_type": "code",
   "execution_count": 3,
   "id": "6d0232e4",
   "metadata": {},
   "outputs": [],
   "source": [
    "headers = {'Authorization':'Bearer {}'.format(bearer_token['Bearer_token'].iloc[0])}"
   ]
  },
  {
   "cell_type": "markdown",
   "id": "01369638",
   "metadata": {},
   "source": [
    "**Used recent endpoints to collect the data as the project requirements state.**"
   ]
  },
  {
   "cell_type": "code",
   "execution_count": 4,
   "id": "fa9ad039",
   "metadata": {},
   "outputs": [],
   "source": [
    "endpoint = 'https://api.twitter.com/2/tweets/search/recent'"
   ]
  },
  {
   "cell_type": "markdown",
   "id": "529a47cb",
   "metadata": {},
   "source": [
    "My query involves the names of both Olivia Wilde and Harry Styles because I want to know about the pair together, not apart. I also gave the query several words relating to relationships, love, dating, etc. From how difficult it was for me to receive the required tweets for this project (300) I could already tell this was not as hot of a topic as it was when the movie first came out. However, after adding a few more words such as \"married\" and \"together,\" I reached the required tweet count meaning that people are still talking about the couple."
   ]
  },
  {
   "cell_type": "code",
   "execution_count": 5,
   "id": "8bd728c3",
   "metadata": {},
   "outputs": [],
   "source": [
    "query_param = urllib.parse.quote('(\"Olivia Wilde\" OR \"Wilde\") (\"Harry Styles\" OR \"Styles\") (\"romance\" OR \"romantic\" OR \"relationship\" OR \"dating\" OR \"date\" OR \"together\" OR \"love\" OR \"in love\" OR \"married\") -is:retweet')"
   ]
  },
  {
   "cell_type": "markdown",
   "id": "7d15221a",
   "metadata": {},
   "source": [
    "**I added both tweet fields and user fields to receive the required information for this project. However, I could not seem to add the author name. Since I wanted to look at what people were tweeting about the couple, I included the text option so I would be able to see content of the tweets in my dataframe.**"
   ]
  },
  {
   "cell_type": "code",
   "execution_count": 6,
   "id": "3e645010",
   "metadata": {},
   "outputs": [],
   "source": [
    "tweet_fields = 'author_id,text,public_metrics,created_at'"
   ]
  },
  {
   "cell_type": "code",
   "execution_count": 7,
   "id": "c643e0ac",
   "metadata": {},
   "outputs": [],
   "source": [
    "user_fields = 'username,id'"
   ]
  },
  {
   "cell_type": "code",
   "execution_count": 8,
   "id": "7df7c4c7",
   "metadata": {
    "scrolled": true
   },
   "outputs": [],
   "source": [
    "query_url = endpoint + '?query={}&tweet.fields={}&user.fields'.format(query_param, tweet_fields, user_fields)"
   ]
  },
  {
   "cell_type": "code",
   "execution_count": 9,
   "id": "95e8b4d0",
   "metadata": {},
   "outputs": [
    {
     "data": {
      "text/plain": [
       "'https://api.twitter.com/2/tweets/search/recent?query=%28%22Olivia%20Wilde%22%20OR%20%22Wilde%22%29%20%28%22Harry%20Styles%22%20OR%20%22Styles%22%29%20%28%22romance%22%20OR%20%22romantic%22%20OR%20%22relationship%22%20OR%20%22dating%22%20OR%20%22date%22%20OR%20%22together%22%20OR%20%22love%22%20OR%20%22in%20love%22%20OR%20%22married%22%29%20-is%3Aretweet&tweet.fields=author_id,text,public_metrics,created_at&user.fields'"
      ]
     },
     "execution_count": 9,
     "metadata": {},
     "output_type": "execute_result"
    }
   ],
   "source": [
    "query_url"
   ]
  },
  {
   "cell_type": "code",
   "execution_count": 10,
   "id": "8344655f",
   "metadata": {},
   "outputs": [],
   "source": [
    "response = requests.get(query_url, headers = headers)"
   ]
  },
  {
   "cell_type": "markdown",
   "id": "7edfd1e1",
   "metadata": {},
   "source": [
    "**Checking to make sure everything is working correctly with \"status code.\"**"
   ]
  },
  {
   "cell_type": "code",
   "execution_count": 64,
   "id": "26923be7",
   "metadata": {},
   "outputs": [
    {
     "data": {
      "text/plain": [
       "200"
      ]
     },
     "execution_count": 64,
     "metadata": {},
     "output_type": "execute_result"
    }
   ],
   "source": [
    "response.status_code"
   ]
  },
  {
   "cell_type": "code",
   "execution_count": null,
   "id": "9e2d81d9",
   "metadata": {},
   "outputs": [],
   "source": [
    "response.text"
   ]
  },
  {
   "cell_type": "markdown",
   "id": "551549f9",
   "metadata": {},
   "source": [
    "**I used code I wrote down during our 10-18 class to explore the dictionaries and keys of the content that would eventually be put into dataframes.**"
   ]
  },
  {
   "cell_type": "code",
   "execution_count": 66,
   "id": "c5f070de",
   "metadata": {},
   "outputs": [],
   "source": [
    "response_dict = json.loads(response.text)"
   ]
  },
  {
   "cell_type": "code",
   "execution_count": 67,
   "id": "88c290e0",
   "metadata": {
    "scrolled": true
   },
   "outputs": [
    {
     "data": {
      "text/plain": [
       "dict_keys(['data', 'meta'])"
      ]
     },
     "execution_count": 67,
     "metadata": {},
     "output_type": "execute_result"
    }
   ],
   "source": [
    "response_dict.keys()"
   ]
  },
  {
   "cell_type": "code",
   "execution_count": 68,
   "id": "12a1d8ec",
   "metadata": {},
   "outputs": [
    {
     "data": {
      "text/plain": [
       "dict"
      ]
     },
     "execution_count": 68,
     "metadata": {},
     "output_type": "execute_result"
    }
   ],
   "source": [
    "type(response_dict['data'][0])"
   ]
  },
  {
   "cell_type": "code",
   "execution_count": 16,
   "id": "094eb5d9",
   "metadata": {},
   "outputs": [
    {
     "data": {
      "text/plain": [
       "dict_keys(['edit_history_tweet_ids', 'text', 'author_id', 'created_at', 'id', 'public_metrics'])"
      ]
     },
     "execution_count": 16,
     "metadata": {},
     "output_type": "execute_result"
    }
   ],
   "source": [
    "response_dict['data'][0].keys()"
   ]
  },
  {
   "cell_type": "code",
   "execution_count": 17,
   "id": "036d9224",
   "metadata": {},
   "outputs": [
    {
     "data": {
      "text/plain": [
       "'Olivia Wilde and Harry Styles pick up lunch together in\\xa0LA https://t.co/GQynsRnMMD'"
      ]
     },
     "execution_count": 17,
     "metadata": {},
     "output_type": "execute_result"
    }
   ],
   "source": [
    "response_dict['data'][0]['text']"
   ]
  },
  {
   "cell_type": "code",
   "execution_count": 18,
   "id": "07dd9a38",
   "metadata": {
    "scrolled": false
   },
   "outputs": [
    {
     "data": {
      "text/plain": [
       "dict"
      ]
     },
     "execution_count": 18,
     "metadata": {},
     "output_type": "execute_result"
    }
   ],
   "source": [
    "type(response_dict['data'][0]['public_metrics'])"
   ]
  },
  {
   "cell_type": "markdown",
   "id": "d607aadb",
   "metadata": {},
   "source": [
    "**I called the keys to the response dictionary to see what \"public metrics\" encompasses.**"
   ]
  },
  {
   "cell_type": "code",
   "execution_count": 20,
   "id": "e7e89e13",
   "metadata": {},
   "outputs": [
    {
     "data": {
      "text/plain": [
       "dict_keys(['retweet_count', 'reply_count', 'like_count', 'quote_count'])"
      ]
     },
     "execution_count": 20,
     "metadata": {},
     "output_type": "execute_result"
    }
   ],
   "source": [
    "response_dict['data'][0]['public_metrics'].keys()"
   ]
  },
  {
   "cell_type": "code",
   "execution_count": 21,
   "id": "73f524db",
   "metadata": {
    "scrolled": true
   },
   "outputs": [
    {
     "data": {
      "text/plain": [
       "0"
      ]
     },
     "execution_count": 21,
     "metadata": {},
     "output_type": "execute_result"
    }
   ],
   "source": [
    "response_dict['data'][0]['public_metrics']['like_count']"
   ]
  },
  {
   "cell_type": "code",
   "execution_count": 22,
   "id": "e77ef164",
   "metadata": {
    "scrolled": true
   },
   "outputs": [
    {
     "data": {
      "text/plain": [
       "'1585042580219338755'"
      ]
     },
     "execution_count": 22,
     "metadata": {},
     "output_type": "execute_result"
    }
   ],
   "source": [
    "response_dict['data'][0]['id']"
   ]
  },
  {
   "cell_type": "markdown",
   "id": "12fd217e",
   "metadata": {},
   "source": [
    "**I created a dataframe to organize the information into a chart.**"
   ]
  },
  {
   "cell_type": "code",
   "execution_count": 27,
   "id": "37bf055d",
   "metadata": {},
   "outputs": [],
   "source": [
    "response_df = pd.DataFrame(response_dict['data'])"
   ]
  },
  {
   "cell_type": "code",
   "execution_count": 28,
   "id": "9543afca",
   "metadata": {
    "scrolled": true
   },
   "outputs": [
    {
     "data": {
      "text/html": [
       "<div>\n",
       "<style scoped>\n",
       "    .dataframe tbody tr th:only-of-type {\n",
       "        vertical-align: middle;\n",
       "    }\n",
       "\n",
       "    .dataframe tbody tr th {\n",
       "        vertical-align: top;\n",
       "    }\n",
       "\n",
       "    .dataframe thead th {\n",
       "        text-align: right;\n",
       "    }\n",
       "</style>\n",
       "<table border=\"1\" class=\"dataframe\">\n",
       "  <thead>\n",
       "    <tr style=\"text-align: right;\">\n",
       "      <th></th>\n",
       "      <th>edit_history_tweet_ids</th>\n",
       "      <th>text</th>\n",
       "      <th>author_id</th>\n",
       "      <th>created_at</th>\n",
       "      <th>id</th>\n",
       "      <th>public_metrics</th>\n",
       "    </tr>\n",
       "  </thead>\n",
       "  <tbody>\n",
       "    <tr>\n",
       "      <th>0</th>\n",
       "      <td>[1585042580219338755]</td>\n",
       "      <td>Olivia Wilde and Harry Styles pick up lunch to...</td>\n",
       "      <td>1331116530000564224</td>\n",
       "      <td>2022-10-25T22:56:14.000Z</td>\n",
       "      <td>1585042580219338755</td>\n",
       "      <td>{'retweet_count': 0, 'reply_count': 0, 'like_c...</td>\n",
       "    </tr>\n",
       "    <tr>\n",
       "      <th>1</th>\n",
       "      <td>[1585034959206551553]</td>\n",
       "      <td>@harryscowgirI https://t.co/cY6hNdynB5</td>\n",
       "      <td>1286868444495962113</td>\n",
       "      <td>2022-10-25T22:25:57.000Z</td>\n",
       "      <td>1585034959206551553</td>\n",
       "      <td>{'retweet_count': 0, 'reply_count': 1, 'like_c...</td>\n",
       "    </tr>\n",
       "    <tr>\n",
       "      <th>2</th>\n",
       "      <td>[1585025321778442241]</td>\n",
       "      <td>https://t.co/pN1KYna1C4</td>\n",
       "      <td>1229412320880865282</td>\n",
       "      <td>2022-10-25T21:47:39.000Z</td>\n",
       "      <td>1585025321778442241</td>\n",
       "      <td>{'retweet_count': 1, 'reply_count': 0, 'like_c...</td>\n",
       "    </tr>\n",
       "    <tr>\n",
       "      <th>3</th>\n",
       "      <td>[1585021471411216384]</td>\n",
       "      <td>Olivia Wilde &amp;amp; Harry Styles Pick Up Lunch ...</td>\n",
       "      <td>1526200453696040964</td>\n",
       "      <td>2022-10-25T21:32:21.000Z</td>\n",
       "      <td>1585021471411216384</td>\n",
       "      <td>{'retweet_count': 0, 'reply_count': 0, 'like_c...</td>\n",
       "    </tr>\n",
       "    <tr>\n",
       "      <th>4</th>\n",
       "      <td>[1585014750378795008]</td>\n",
       "      <td>Olivia Wilde grabs food with Harry Styles whil...</td>\n",
       "      <td>19538986</td>\n",
       "      <td>2022-10-25T21:05:39.000Z</td>\n",
       "      <td>1585014750378795008</td>\n",
       "      <td>{'retweet_count': 6, 'reply_count': 2, 'like_c...</td>\n",
       "    </tr>\n",
       "  </tbody>\n",
       "</table>\n",
       "</div>"
      ],
      "text/plain": [
       "  edit_history_tweet_ids                                               text  \\\n",
       "0  [1585042580219338755]  Olivia Wilde and Harry Styles pick up lunch to...   \n",
       "1  [1585034959206551553]             @harryscowgirI https://t.co/cY6hNdynB5   \n",
       "2  [1585025321778442241]                            https://t.co/pN1KYna1C4   \n",
       "3  [1585021471411216384]  Olivia Wilde &amp; Harry Styles Pick Up Lunch ...   \n",
       "4  [1585014750378795008]  Olivia Wilde grabs food with Harry Styles whil...   \n",
       "\n",
       "             author_id                created_at                   id  \\\n",
       "0  1331116530000564224  2022-10-25T22:56:14.000Z  1585042580219338755   \n",
       "1  1286868444495962113  2022-10-25T22:25:57.000Z  1585034959206551553   \n",
       "2  1229412320880865282  2022-10-25T21:47:39.000Z  1585025321778442241   \n",
       "3  1526200453696040964  2022-10-25T21:32:21.000Z  1585021471411216384   \n",
       "4             19538986  2022-10-25T21:05:39.000Z  1585014750378795008   \n",
       "\n",
       "                                      public_metrics  \n",
       "0  {'retweet_count': 0, 'reply_count': 0, 'like_c...  \n",
       "1  {'retweet_count': 0, 'reply_count': 1, 'like_c...  \n",
       "2  {'retweet_count': 1, 'reply_count': 0, 'like_c...  \n",
       "3  {'retweet_count': 0, 'reply_count': 0, 'like_c...  \n",
       "4  {'retweet_count': 6, 'reply_count': 2, 'like_c...  "
      ]
     },
     "execution_count": 28,
     "metadata": {},
     "output_type": "execute_result"
    }
   ],
   "source": [
    "response_df.head()"
   ]
  },
  {
   "cell_type": "markdown",
   "id": "f53ed082",
   "metadata": {},
   "source": [
    "**Then I created another dataframe specifically for the \"public metrics\" of each tweet.**"
   ]
  },
  {
   "cell_type": "code",
   "execution_count": 38,
   "id": "90957bd3",
   "metadata": {},
   "outputs": [],
   "source": [
    "public_metrics_df = pd.DataFrame(list(response_df['public_metrics']))"
   ]
  },
  {
   "cell_type": "markdown",
   "id": "961cd355",
   "metadata": {},
   "source": [
    "Looking at the public metrics can also tell me what people think about the couple because more popular and agreed on tweets will have more likes. So even if people are not posting about the relationship still, they could be liking and retweeting. "
   ]
  },
  {
   "cell_type": "code",
   "execution_count": 39,
   "id": "68d3056f",
   "metadata": {
    "scrolled": true
   },
   "outputs": [
    {
     "data": {
      "text/html": [
       "<div>\n",
       "<style scoped>\n",
       "    .dataframe tbody tr th:only-of-type {\n",
       "        vertical-align: middle;\n",
       "    }\n",
       "\n",
       "    .dataframe tbody tr th {\n",
       "        vertical-align: top;\n",
       "    }\n",
       "\n",
       "    .dataframe thead th {\n",
       "        text-align: right;\n",
       "    }\n",
       "</style>\n",
       "<table border=\"1\" class=\"dataframe\">\n",
       "  <thead>\n",
       "    <tr style=\"text-align: right;\">\n",
       "      <th></th>\n",
       "      <th>retweet_count</th>\n",
       "      <th>reply_count</th>\n",
       "      <th>like_count</th>\n",
       "      <th>quote_count</th>\n",
       "    </tr>\n",
       "  </thead>\n",
       "  <tbody>\n",
       "    <tr>\n",
       "      <th>0</th>\n",
       "      <td>0</td>\n",
       "      <td>0</td>\n",
       "      <td>0</td>\n",
       "      <td>0</td>\n",
       "    </tr>\n",
       "    <tr>\n",
       "      <th>1</th>\n",
       "      <td>0</td>\n",
       "      <td>1</td>\n",
       "      <td>1</td>\n",
       "      <td>0</td>\n",
       "    </tr>\n",
       "    <tr>\n",
       "      <th>2</th>\n",
       "      <td>1</td>\n",
       "      <td>0</td>\n",
       "      <td>3</td>\n",
       "      <td>0</td>\n",
       "    </tr>\n",
       "    <tr>\n",
       "      <th>3</th>\n",
       "      <td>0</td>\n",
       "      <td>0</td>\n",
       "      <td>1</td>\n",
       "      <td>0</td>\n",
       "    </tr>\n",
       "    <tr>\n",
       "      <th>4</th>\n",
       "      <td>6</td>\n",
       "      <td>2</td>\n",
       "      <td>30</td>\n",
       "      <td>7</td>\n",
       "    </tr>\n",
       "    <tr>\n",
       "      <th>5</th>\n",
       "      <td>0</td>\n",
       "      <td>0</td>\n",
       "      <td>0</td>\n",
       "      <td>0</td>\n",
       "    </tr>\n",
       "    <tr>\n",
       "      <th>6</th>\n",
       "      <td>1</td>\n",
       "      <td>1</td>\n",
       "      <td>5</td>\n",
       "      <td>0</td>\n",
       "    </tr>\n",
       "    <tr>\n",
       "      <th>7</th>\n",
       "      <td>0</td>\n",
       "      <td>0</td>\n",
       "      <td>0</td>\n",
       "      <td>0</td>\n",
       "    </tr>\n",
       "    <tr>\n",
       "      <th>8</th>\n",
       "      <td>0</td>\n",
       "      <td>0</td>\n",
       "      <td>2</td>\n",
       "      <td>0</td>\n",
       "    </tr>\n",
       "    <tr>\n",
       "      <th>9</th>\n",
       "      <td>0</td>\n",
       "      <td>0</td>\n",
       "      <td>1</td>\n",
       "      <td>0</td>\n",
       "    </tr>\n",
       "  </tbody>\n",
       "</table>\n",
       "</div>"
      ],
      "text/plain": [
       "   retweet_count  reply_count  like_count  quote_count\n",
       "0              0            0           0            0\n",
       "1              0            1           1            0\n",
       "2              1            0           3            0\n",
       "3              0            0           1            0\n",
       "4              6            2          30            7\n",
       "5              0            0           0            0\n",
       "6              1            1           5            0\n",
       "7              0            0           0            0\n",
       "8              0            0           2            0\n",
       "9              0            0           1            0"
      ]
     },
     "execution_count": 39,
     "metadata": {},
     "output_type": "execute_result"
    }
   ],
   "source": [
    "public_metrics_df"
   ]
  },
  {
   "cell_type": "markdown",
   "id": "b0cd0d23",
   "metadata": {},
   "source": [
    "**I combined both dataframes into one, essentially tacking the \"public metrics\" onto the end of the previous dataframe I created.**"
   ]
  },
  {
   "cell_type": "code",
   "execution_count": 42,
   "id": "b4e87fd3",
   "metadata": {},
   "outputs": [],
   "source": [
    "response_df['retweets'] = public_metrics_df['retweet_count']\n",
    "response_df['replies'] = public_metrics_df['reply_count']\n",
    "response_df['likes'] = public_metrics_df['like_count']\n",
    "response_df['quotes'] = public_metrics_df['quote_count']"
   ]
  },
  {
   "cell_type": "code",
   "execution_count": 43,
   "id": "50efc723",
   "metadata": {},
   "outputs": [
    {
     "data": {
      "text/html": [
       "<div>\n",
       "<style scoped>\n",
       "    .dataframe tbody tr th:only-of-type {\n",
       "        vertical-align: middle;\n",
       "    }\n",
       "\n",
       "    .dataframe tbody tr th {\n",
       "        vertical-align: top;\n",
       "    }\n",
       "\n",
       "    .dataframe thead th {\n",
       "        text-align: right;\n",
       "    }\n",
       "</style>\n",
       "<table border=\"1\" class=\"dataframe\">\n",
       "  <thead>\n",
       "    <tr style=\"text-align: right;\">\n",
       "      <th></th>\n",
       "      <th>edit_history_tweet_ids</th>\n",
       "      <th>text</th>\n",
       "      <th>author_id</th>\n",
       "      <th>created_at</th>\n",
       "      <th>id</th>\n",
       "      <th>public_metrics</th>\n",
       "      <th>retweets</th>\n",
       "      <th>replies</th>\n",
       "      <th>likes</th>\n",
       "      <th>quotes</th>\n",
       "    </tr>\n",
       "  </thead>\n",
       "  <tbody>\n",
       "    <tr>\n",
       "      <th>0</th>\n",
       "      <td>[1585042580219338755]</td>\n",
       "      <td>Olivia Wilde and Harry Styles pick up lunch to...</td>\n",
       "      <td>1331116530000564224</td>\n",
       "      <td>2022-10-25T22:56:14.000Z</td>\n",
       "      <td>1585042580219338755</td>\n",
       "      <td>{'retweet_count': 0, 'reply_count': 0, 'like_c...</td>\n",
       "      <td>0</td>\n",
       "      <td>0</td>\n",
       "      <td>0</td>\n",
       "      <td>0</td>\n",
       "    </tr>\n",
       "    <tr>\n",
       "      <th>1</th>\n",
       "      <td>[1585034959206551553]</td>\n",
       "      <td>@harryscowgirI https://t.co/cY6hNdynB5</td>\n",
       "      <td>1286868444495962113</td>\n",
       "      <td>2022-10-25T22:25:57.000Z</td>\n",
       "      <td>1585034959206551553</td>\n",
       "      <td>{'retweet_count': 0, 'reply_count': 1, 'like_c...</td>\n",
       "      <td>0</td>\n",
       "      <td>1</td>\n",
       "      <td>1</td>\n",
       "      <td>0</td>\n",
       "    </tr>\n",
       "    <tr>\n",
       "      <th>2</th>\n",
       "      <td>[1585025321778442241]</td>\n",
       "      <td>https://t.co/pN1KYna1C4</td>\n",
       "      <td>1229412320880865282</td>\n",
       "      <td>2022-10-25T21:47:39.000Z</td>\n",
       "      <td>1585025321778442241</td>\n",
       "      <td>{'retweet_count': 1, 'reply_count': 0, 'like_c...</td>\n",
       "      <td>1</td>\n",
       "      <td>0</td>\n",
       "      <td>3</td>\n",
       "      <td>0</td>\n",
       "    </tr>\n",
       "    <tr>\n",
       "      <th>3</th>\n",
       "      <td>[1585021471411216384]</td>\n",
       "      <td>Olivia Wilde &amp;amp; Harry Styles Pick Up Lunch ...</td>\n",
       "      <td>1526200453696040964</td>\n",
       "      <td>2022-10-25T21:32:21.000Z</td>\n",
       "      <td>1585021471411216384</td>\n",
       "      <td>{'retweet_count': 0, 'reply_count': 0, 'like_c...</td>\n",
       "      <td>0</td>\n",
       "      <td>0</td>\n",
       "      <td>1</td>\n",
       "      <td>0</td>\n",
       "    </tr>\n",
       "    <tr>\n",
       "      <th>4</th>\n",
       "      <td>[1585014750378795008]</td>\n",
       "      <td>Olivia Wilde grabs food with Harry Styles whil...</td>\n",
       "      <td>19538986</td>\n",
       "      <td>2022-10-25T21:05:39.000Z</td>\n",
       "      <td>1585014750378795008</td>\n",
       "      <td>{'retweet_count': 6, 'reply_count': 2, 'like_c...</td>\n",
       "      <td>6</td>\n",
       "      <td>2</td>\n",
       "      <td>30</td>\n",
       "      <td>7</td>\n",
       "    </tr>\n",
       "  </tbody>\n",
       "</table>\n",
       "</div>"
      ],
      "text/plain": [
       "  edit_history_tweet_ids                                               text  \\\n",
       "0  [1585042580219338755]  Olivia Wilde and Harry Styles pick up lunch to...   \n",
       "1  [1585034959206551553]             @harryscowgirI https://t.co/cY6hNdynB5   \n",
       "2  [1585025321778442241]                            https://t.co/pN1KYna1C4   \n",
       "3  [1585021471411216384]  Olivia Wilde &amp; Harry Styles Pick Up Lunch ...   \n",
       "4  [1585014750378795008]  Olivia Wilde grabs food with Harry Styles whil...   \n",
       "\n",
       "             author_id                created_at                   id  \\\n",
       "0  1331116530000564224  2022-10-25T22:56:14.000Z  1585042580219338755   \n",
       "1  1286868444495962113  2022-10-25T22:25:57.000Z  1585034959206551553   \n",
       "2  1229412320880865282  2022-10-25T21:47:39.000Z  1585025321778442241   \n",
       "3  1526200453696040964  2022-10-25T21:32:21.000Z  1585021471411216384   \n",
       "4             19538986  2022-10-25T21:05:39.000Z  1585014750378795008   \n",
       "\n",
       "                                      public_metrics  retweets  replies  \\\n",
       "0  {'retweet_count': 0, 'reply_count': 0, 'like_c...         0        0   \n",
       "1  {'retweet_count': 0, 'reply_count': 1, 'like_c...         0        1   \n",
       "2  {'retweet_count': 1, 'reply_count': 0, 'like_c...         1        0   \n",
       "3  {'retweet_count': 0, 'reply_count': 0, 'like_c...         0        0   \n",
       "4  {'retweet_count': 6, 'reply_count': 2, 'like_c...         6        2   \n",
       "\n",
       "   likes  quotes  \n",
       "0      0       0  \n",
       "1      1       0  \n",
       "2      3       0  \n",
       "3      1       0  \n",
       "4     30       7  "
      ]
     },
     "execution_count": 43,
     "metadata": {},
     "output_type": "execute_result"
    }
   ],
   "source": [
    "response_df.head()"
   ]
  },
  {
   "cell_type": "code",
   "execution_count": null,
   "id": "ac5296fe",
   "metadata": {},
   "outputs": [],
   "source": [
    "response_dict['meta']['next_token']"
   ]
  },
  {
   "cell_type": "markdown",
   "id": "6fb63a0d",
   "metadata": {},
   "source": [
    "**Pages need to be linked and read, so calling next token is needed since Twitter can only do a certain number of tweets at a time.**"
   ]
  },
  {
   "cell_type": "code",
   "execution_count": 48,
   "id": "297fdd83",
   "metadata": {},
   "outputs": [],
   "source": [
    "next_query_url = query_url + \"&next_token={}\".format(response_dict['meta']['next_token'])"
   ]
  },
  {
   "cell_type": "code",
   "execution_count": 49,
   "id": "2ba6d7d3",
   "metadata": {},
   "outputs": [],
   "source": [
    "next_response = requests.get(next_query_url, headers = headers)"
   ]
  },
  {
   "cell_type": "code",
   "execution_count": 50,
   "id": "4e515e85",
   "metadata": {
    "scrolled": true
   },
   "outputs": [
    {
     "data": {
      "text/plain": [
       "200"
      ]
     },
     "execution_count": 50,
     "metadata": {},
     "output_type": "execute_result"
    }
   ],
   "source": [
    "next_response.status_code"
   ]
  },
  {
   "cell_type": "code",
   "execution_count": null,
   "id": "837efef5",
   "metadata": {},
   "outputs": [],
   "source": [
    "next_response.text"
   ]
  },
  {
   "cell_type": "code",
   "execution_count": 52,
   "id": "f6a49060",
   "metadata": {},
   "outputs": [],
   "source": [
    "next_response_dict = json.loads(next_response.text)"
   ]
  },
  {
   "cell_type": "code",
   "execution_count": null,
   "id": "04f30833",
   "metadata": {
    "scrolled": true
   },
   "outputs": [],
   "source": [
    "next_response_dict['meta']"
   ]
  },
  {
   "cell_type": "markdown",
   "id": "fba7275e",
   "metadata": {},
   "source": [
    "**A for loop was created to receive the needed number of tweets (300) for the project. I used the code we went through in class to create this.**"
   ]
  },
  {
   "cell_type": "code",
   "execution_count": 54,
   "id": "ace1c68d",
   "metadata": {},
   "outputs": [],
   "source": [
    "def twt_recent_search (query, num_pages, headers):\n",
    "    response_list = []\n",
    "    next_token = ''\n",
    "    for i in range(0, num_pages):\n",
    "        if i > 0:\n",
    "            this_query = query + \"&next_token={}\".format(next_token)\n",
    "        else:\n",
    "            this_query = query\n",
    "        \n",
    "        this_response = requests.get(this_query, headers = headers)\n",
    "        print(this_response.status_code)\n",
    "        this_response_dict = json.loads(this_response.text)\n",
    "        response_list.append(this_response_dict)\n",
    "        next_token = this_response_dict['meta']['next_token']\n",
    "        \n",
    "    return response_list"
   ]
  },
  {
   "cell_type": "code",
   "execution_count": null,
   "id": "03bdd928",
   "metadata": {
    "scrolled": true
   },
   "outputs": [],
   "source": [
    "my_responses = twt_recent_search(query_url, 30, headers)"
   ]
  },
  {
   "cell_type": "code",
   "execution_count": 56,
   "id": "f9ad8bfb",
   "metadata": {},
   "outputs": [],
   "source": [
    "results_1 = pd.DataFrame.from_records(my_responses)"
   ]
  },
  {
   "cell_type": "code",
   "execution_count": 57,
   "id": "6f343a61",
   "metadata": {},
   "outputs": [],
   "source": [
    "data_list = list(results_1['data'])"
   ]
  },
  {
   "cell_type": "code",
   "execution_count": 58,
   "id": "83930229",
   "metadata": {},
   "outputs": [],
   "source": [
    "data_list_of_dfs = [pd.DataFrame(x) for x in data_list]"
   ]
  },
  {
   "cell_type": "code",
   "execution_count": 59,
   "id": "c14013ef",
   "metadata": {},
   "outputs": [],
   "source": [
    "data_df = pd.concat(data_list_of_dfs)"
   ]
  },
  {
   "cell_type": "code",
   "execution_count": 69,
   "id": "e19d7f51",
   "metadata": {
    "scrolled": true
   },
   "outputs": [
    {
     "data": {
      "text/html": [
       "<div>\n",
       "<style scoped>\n",
       "    .dataframe tbody tr th:only-of-type {\n",
       "        vertical-align: middle;\n",
       "    }\n",
       "\n",
       "    .dataframe tbody tr th {\n",
       "        vertical-align: top;\n",
       "    }\n",
       "\n",
       "    .dataframe thead th {\n",
       "        text-align: right;\n",
       "    }\n",
       "</style>\n",
       "<table border=\"1\" class=\"dataframe\">\n",
       "  <thead>\n",
       "    <tr style=\"text-align: right;\">\n",
       "      <th></th>\n",
       "      <th>author_id</th>\n",
       "      <th>public_metrics</th>\n",
       "      <th>edit_history_tweet_ids</th>\n",
       "      <th>text</th>\n",
       "      <th>id</th>\n",
       "      <th>created_at</th>\n",
       "    </tr>\n",
       "  </thead>\n",
       "  <tbody>\n",
       "    <tr>\n",
       "      <th>0</th>\n",
       "      <td>1331116530000564224</td>\n",
       "      <td>{'retweet_count': 0, 'reply_count': 0, 'like_c...</td>\n",
       "      <td>[1585042580219338755]</td>\n",
       "      <td>Olivia Wilde and Harry Styles pick up lunch to...</td>\n",
       "      <td>1585042580219338755</td>\n",
       "      <td>2022-10-25T22:56:14.000Z</td>\n",
       "    </tr>\n",
       "    <tr>\n",
       "      <th>1</th>\n",
       "      <td>1286868444495962113</td>\n",
       "      <td>{'retweet_count': 0, 'reply_count': 1, 'like_c...</td>\n",
       "      <td>[1585034959206551553]</td>\n",
       "      <td>@harryscowgirI https://t.co/cY6hNdynB5</td>\n",
       "      <td>1585034959206551553</td>\n",
       "      <td>2022-10-25T22:25:57.000Z</td>\n",
       "    </tr>\n",
       "    <tr>\n",
       "      <th>2</th>\n",
       "      <td>1229412320880865282</td>\n",
       "      <td>{'retweet_count': 1, 'reply_count': 0, 'like_c...</td>\n",
       "      <td>[1585025321778442241]</td>\n",
       "      <td>https://t.co/pN1KYna1C4</td>\n",
       "      <td>1585025321778442241</td>\n",
       "      <td>2022-10-25T21:47:39.000Z</td>\n",
       "    </tr>\n",
       "    <tr>\n",
       "      <th>3</th>\n",
       "      <td>1526200453696040964</td>\n",
       "      <td>{'retweet_count': 0, 'reply_count': 0, 'like_c...</td>\n",
       "      <td>[1585021471411216384]</td>\n",
       "      <td>Olivia Wilde &amp;amp; Harry Styles Pick Up Lunch ...</td>\n",
       "      <td>1585021471411216384</td>\n",
       "      <td>2022-10-25T21:32:21.000Z</td>\n",
       "    </tr>\n",
       "    <tr>\n",
       "      <th>4</th>\n",
       "      <td>19538986</td>\n",
       "      <td>{'retweet_count': 6, 'reply_count': 2, 'like_c...</td>\n",
       "      <td>[1585014750378795008]</td>\n",
       "      <td>Olivia Wilde grabs food with Harry Styles whil...</td>\n",
       "      <td>1585014750378795008</td>\n",
       "      <td>2022-10-25T21:05:39.000Z</td>\n",
       "    </tr>\n",
       "  </tbody>\n",
       "</table>\n",
       "</div>"
      ],
      "text/plain": [
       "             author_id                                     public_metrics  \\\n",
       "0  1331116530000564224  {'retweet_count': 0, 'reply_count': 0, 'like_c...   \n",
       "1  1286868444495962113  {'retweet_count': 0, 'reply_count': 1, 'like_c...   \n",
       "2  1229412320880865282  {'retweet_count': 1, 'reply_count': 0, 'like_c...   \n",
       "3  1526200453696040964  {'retweet_count': 0, 'reply_count': 0, 'like_c...   \n",
       "4             19538986  {'retweet_count': 6, 'reply_count': 2, 'like_c...   \n",
       "\n",
       "  edit_history_tweet_ids                                               text  \\\n",
       "0  [1585042580219338755]  Olivia Wilde and Harry Styles pick up lunch to...   \n",
       "1  [1585034959206551553]             @harryscowgirI https://t.co/cY6hNdynB5   \n",
       "2  [1585025321778442241]                            https://t.co/pN1KYna1C4   \n",
       "3  [1585021471411216384]  Olivia Wilde &amp; Harry Styles Pick Up Lunch ...   \n",
       "4  [1585014750378795008]  Olivia Wilde grabs food with Harry Styles whil...   \n",
       "\n",
       "                    id                created_at  \n",
       "0  1585042580219338755  2022-10-25T22:56:14.000Z  \n",
       "1  1585034959206551553  2022-10-25T22:25:57.000Z  \n",
       "2  1585025321778442241  2022-10-25T21:47:39.000Z  \n",
       "3  1585021471411216384  2022-10-25T21:32:21.000Z  \n",
       "4  1585014750378795008  2022-10-25T21:05:39.000Z  "
      ]
     },
     "execution_count": 69,
     "metadata": {},
     "output_type": "execute_result"
    }
   ],
   "source": [
    "data_df.head()"
   ]
  },
  {
   "cell_type": "markdown",
   "id": "a4fdca67",
   "metadata": {},
   "source": [
    "I had to broaden my query several times to produce enough tweets for this assignment. This in part answers my question of \"Did the fascination surrounding the couple's relationship die down alongside the movie's hype?\" From how many synonyms for \"relationship\" I had to put in my query, the number of tweets being made every day about the pair has definitely declined. To answer my other question of \"Does the general public still have a strong opinion on the couple?\" I would have to look at the text of each tweet to see if it is positive, negative, or neutral. "
   ]
  },
  {
   "cell_type": "code",
   "execution_count": 1246,
   "id": "b5133b89",
   "metadata": {},
   "outputs": [
    {
     "data": {
      "text/plain": [
       "299"
      ]
     },
     "execution_count": 1246,
     "metadata": {},
     "output_type": "execute_result"
    }
   ],
   "source": [
    "len(data_df.index)"
   ]
  }
 ],
 "metadata": {
  "kernelspec": {
   "display_name": "Python 3 (ipykernel)",
   "language": "python",
   "name": "python3"
  },
  "language_info": {
   "codemirror_mode": {
    "name": "ipython",
    "version": 3
   },
   "file_extension": ".py",
   "mimetype": "text/x-python",
   "name": "python",
   "nbconvert_exporter": "python",
   "pygments_lexer": "ipython3",
   "version": "3.10.4"
  }
 },
 "nbformat": 4,
 "nbformat_minor": 5
}
