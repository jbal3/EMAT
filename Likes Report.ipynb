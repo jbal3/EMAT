{
 "cells": [
  {
   "cell_type": "markdown",
   "id": "d80dac4f",
   "metadata": {},
   "source": [
    "### Likes Report: Discover how interests change over time through Instagram likes \n",
    "#### Jenna Bal\n",
    "\n",
    "The data featured in this report was collected by data analysts at Instagram to better infer my (the user's) interests so the content I see, such as ads, suggested content, and sponsored posts, is catered towards me. The data is reliable because it is a record of everything I have ever liked since I first created this account. It tracks my interests over time. However, for the same reason, this data could be considered unreliable because I no longer even follow many of the accounts I used to like posts from. If all of the data were to be considered when analyzing my current interests, advertisers would not be marketing to me correctly. \n",
    " \n",
    "**I started this project how every project starts: opening a jupyter notebook and importing pandas and my json file.**"
   ]
  },
  {
   "cell_type": "code",
   "execution_count": 20,
   "id": "b06791d9",
   "metadata": {},
   "outputs": [],
   "source": [
    "import pandas as pd\n",
    "import json"
   ]
  },
  {
   "cell_type": "code",
   "execution_count": 21,
   "id": "83920528",
   "metadata": {},
   "outputs": [],
   "source": [
    "with open (\"/Users/jennabal/Desktop/Data in Emerging Tech/jenna.bal3_20220906/likes/liked_posts.json\") as j:\n",
    "    liked_posts = json.load(j)"
   ]
  },
  {
   "cell_type": "markdown",
   "id": "6128203e",
   "metadata": {},
   "source": [
    "Each data item included the \"tile\" (user that made the post), \"media list data,\" \"string list data\" (the link), \"value,\" and \"timestamp.\" For this assignment, the directions were to organize the liked posts initially by timestamp, then the number of posts liked from each individual user."
   ]
  },
  {
   "cell_type": "code",
   "execution_count": null,
   "id": "46bdc66b",
   "metadata": {
    "scrolled": false
   },
   "outputs": [],
   "source": [
    "liked_posts"
   ]
  },
  {
   "cell_type": "markdown",
   "id": "57b1aba6",
   "metadata": {},
   "source": [
    "**I created a table using the \"DataFrame\" function.**"
   ]
  },
  {
   "cell_type": "code",
   "execution_count": 23,
   "id": "0835c909",
   "metadata": {
    "scrolled": true
   },
   "outputs": [],
   "source": [
    "liked_posts_df = pd.DataFrame(liked_posts['likes_media_likes'])"
   ]
  },
  {
   "cell_type": "code",
   "execution_count": 24,
   "id": "13aa0b15",
   "metadata": {
    "scrolled": false
   },
   "outputs": [
    {
     "data": {
      "text/html": [
       "<div>\n",
       "<style scoped>\n",
       "    .dataframe tbody tr th:only-of-type {\n",
       "        vertical-align: middle;\n",
       "    }\n",
       "\n",
       "    .dataframe tbody tr th {\n",
       "        vertical-align: top;\n",
       "    }\n",
       "\n",
       "    .dataframe thead th {\n",
       "        text-align: right;\n",
       "    }\n",
       "</style>\n",
       "<table border=\"1\" class=\"dataframe\">\n",
       "  <thead>\n",
       "    <tr style=\"text-align: right;\">\n",
       "      <th></th>\n",
       "      <th>title</th>\n",
       "      <th>media_list_data</th>\n",
       "      <th>string_list_data</th>\n",
       "    </tr>\n",
       "  </thead>\n",
       "  <tbody>\n",
       "    <tr>\n",
       "      <th>0</th>\n",
       "      <td>kenzie</td>\n",
       "      <td>[]</td>\n",
       "      <td>[{'href': 'https://www.instagram.com/p/5kTrMyM...</td>\n",
       "    </tr>\n",
       "    <tr>\n",
       "      <th>1</th>\n",
       "      <td>maddieziegler</td>\n",
       "      <td>[]</td>\n",
       "      <td>[{'href': 'https://www.instagram.com/p/5EhGi5P...</td>\n",
       "    </tr>\n",
       "    <tr>\n",
       "      <th>2</th>\n",
       "      <td>kenzie</td>\n",
       "      <td>[]</td>\n",
       "      <td>[{'href': 'https://www.instagram.com/p/4rdp11s...</td>\n",
       "    </tr>\n",
       "    <tr>\n",
       "      <th>3</th>\n",
       "      <td>maddieziegler</td>\n",
       "      <td>[]</td>\n",
       "      <td>[{'href': 'https://www.instagram.com/p/4Sv0WXP...</td>\n",
       "    </tr>\n",
       "    <tr>\n",
       "      <th>4</th>\n",
       "      <td>maddieziegler</td>\n",
       "      <td>[]</td>\n",
       "      <td>[{'href': 'https://www.instagram.com/p/4M6FIwv...</td>\n",
       "    </tr>\n",
       "    <tr>\n",
       "      <th>...</th>\n",
       "      <td>...</td>\n",
       "      <td>...</td>\n",
       "      <td>...</td>\n",
       "    </tr>\n",
       "    <tr>\n",
       "      <th>6330</th>\n",
       "      <td>hollyhumberstone</td>\n",
       "      <td>[]</td>\n",
       "      <td>[{'href': 'https://www.instagram.com/p/CengbYU...</td>\n",
       "    </tr>\n",
       "    <tr>\n",
       "      <th>6331</th>\n",
       "      <td>_taypet</td>\n",
       "      <td>[]</td>\n",
       "      <td>[{'href': 'https://www.instagram.com/p/CepDw7z...</td>\n",
       "    </tr>\n",
       "    <tr>\n",
       "      <th>6332</th>\n",
       "      <td>kendallg_11</td>\n",
       "      <td>[]</td>\n",
       "      <td>[{'href': 'https://www.instagram.com/p/CepAG1h...</td>\n",
       "    </tr>\n",
       "    <tr>\n",
       "      <th>6333</th>\n",
       "      <td>emmachamberlain</td>\n",
       "      <td>[]</td>\n",
       "      <td>[{'href': 'https://www.instagram.com/p/Ceo-fIK...</td>\n",
       "    </tr>\n",
       "    <tr>\n",
       "      <th>6334</th>\n",
       "      <td>hollyhumberstone</td>\n",
       "      <td>[]</td>\n",
       "      <td>[{'href': 'https://www.instagram.com/p/Cc6Ftkt...</td>\n",
       "    </tr>\n",
       "  </tbody>\n",
       "</table>\n",
       "<p>6335 rows × 3 columns</p>\n",
       "</div>"
      ],
      "text/plain": [
       "                 title media_list_data  \\\n",
       "0               kenzie              []   \n",
       "1        maddieziegler              []   \n",
       "2               kenzie              []   \n",
       "3        maddieziegler              []   \n",
       "4        maddieziegler              []   \n",
       "...                ...             ...   \n",
       "6330  hollyhumberstone              []   \n",
       "6331           _taypet              []   \n",
       "6332       kendallg_11              []   \n",
       "6333   emmachamberlain              []   \n",
       "6334  hollyhumberstone              []   \n",
       "\n",
       "                                       string_list_data  \n",
       "0     [{'href': 'https://www.instagram.com/p/5kTrMyM...  \n",
       "1     [{'href': 'https://www.instagram.com/p/5EhGi5P...  \n",
       "2     [{'href': 'https://www.instagram.com/p/4rdp11s...  \n",
       "3     [{'href': 'https://www.instagram.com/p/4Sv0WXP...  \n",
       "4     [{'href': 'https://www.instagram.com/p/4M6FIwv...  \n",
       "...                                                 ...  \n",
       "6330  [{'href': 'https://www.instagram.com/p/CengbYU...  \n",
       "6331  [{'href': 'https://www.instagram.com/p/CepDw7z...  \n",
       "6332  [{'href': 'https://www.instagram.com/p/CepAG1h...  \n",
       "6333  [{'href': 'https://www.instagram.com/p/Ceo-fIK...  \n",
       "6334  [{'href': 'https://www.instagram.com/p/Cc6Ftkt...  \n",
       "\n",
       "[6335 rows x 3 columns]"
      ]
     },
     "execution_count": 24,
     "metadata": {},
     "output_type": "execute_result"
    }
   ],
   "source": [
    "liked_posts_df"
   ]
  },
  {
   "cell_type": "markdown",
   "id": "58df1a93",
   "metadata": {},
   "source": [
    "**I isolated a single timestamp from the first data point.**"
   ]
  },
  {
   "cell_type": "code",
   "execution_count": 25,
   "id": "82612bb0",
   "metadata": {
    "scrolled": true
   },
   "outputs": [
    {
     "data": {
      "text/plain": [
       "[{'href': 'https://www.instagram.com/p/5kTrMyMypi/',\n",
       "  'value': 'ð\\x9f\\x91\\x8d',\n",
       "  'timestamp': 1437849168}]"
      ]
     },
     "execution_count": 25,
     "metadata": {},
     "output_type": "execute_result"
    }
   ],
   "source": [
    "liked_posts_df['string_list_data'][0]"
   ]
  },
  {
   "cell_type": "code",
   "execution_count": 26,
   "id": "f08fc922",
   "metadata": {},
   "outputs": [
    {
     "data": {
      "text/plain": [
       "{'href': 'https://www.instagram.com/p/5kTrMyMypi/',\n",
       " 'value': 'ð\\x9f\\x91\\x8d',\n",
       " 'timestamp': 1437849168}"
      ]
     },
     "execution_count": 26,
     "metadata": {},
     "output_type": "execute_result"
    }
   ],
   "source": [
    "liked_posts_df['string_list_data'][0][0]"
   ]
  },
  {
   "cell_type": "code",
   "execution_count": 27,
   "id": "ff4ff322",
   "metadata": {},
   "outputs": [
    {
     "data": {
      "text/plain": [
       "1437849168"
      ]
     },
     "execution_count": 27,
     "metadata": {},
     "output_type": "execute_result"
    }
   ],
   "source": [
    "liked_posts_df['string_list_data'][0][0]['timestamp']"
   ]
  },
  {
   "cell_type": "code",
   "execution_count": 28,
   "id": "cad27ed4",
   "metadata": {
    "scrolled": true
   },
   "outputs": [],
   "source": [
    "timestamp = [x[0]['timestamp'] for x in liked_posts_df['string_list_data']]"
   ]
  },
  {
   "cell_type": "markdown",
   "id": "829a9e81",
   "metadata": {},
   "source": [
    "**I also created a list of all the timestamps.**"
   ]
  },
  {
   "cell_type": "code",
   "execution_count": null,
   "id": "b66ff7a3",
   "metadata": {
    "scrolled": true
   },
   "outputs": [],
   "source": [
    "timestamp"
   ]
  },
  {
   "cell_type": "code",
   "execution_count": 30,
   "id": "c8f197c3",
   "metadata": {},
   "outputs": [],
   "source": [
    "liked_posts_df['timestamps'] = timestamp"
   ]
  },
  {
   "cell_type": "code",
   "execution_count": 31,
   "id": "43a38092",
   "metadata": {
    "scrolled": false
   },
   "outputs": [
    {
     "data": {
      "text/plain": [
       "<bound method NDFrame.head of                  title media_list_data  \\\n",
       "0               kenzie              []   \n",
       "1        maddieziegler              []   \n",
       "2               kenzie              []   \n",
       "3        maddieziegler              []   \n",
       "4        maddieziegler              []   \n",
       "...                ...             ...   \n",
       "6330  hollyhumberstone              []   \n",
       "6331           _taypet              []   \n",
       "6332       kendallg_11              []   \n",
       "6333   emmachamberlain              []   \n",
       "6334  hollyhumberstone              []   \n",
       "\n",
       "                                       string_list_data  timestamps  \n",
       "0     [{'href': 'https://www.instagram.com/p/5kTrMyM...  1437849168  \n",
       "1     [{'href': 'https://www.instagram.com/p/5EhGi5P...  1436797483  \n",
       "2     [{'href': 'https://www.instagram.com/p/4rdp11s...  1435941153  \n",
       "3     [{'href': 'https://www.instagram.com/p/4Sv0WXP...  1435161440  \n",
       "4     [{'href': 'https://www.instagram.com/p/4M6FIwv...  1434921328  \n",
       "...                                                 ...         ...  \n",
       "6330  [{'href': 'https://www.instagram.com/p/CengbYU...  1654901966  \n",
       "6331  [{'href': 'https://www.instagram.com/p/CepDw7z...  1654901815  \n",
       "6332  [{'href': 'https://www.instagram.com/p/CepAG1h...  1654901789  \n",
       "6333  [{'href': 'https://www.instagram.com/p/Ceo-fIK...  1654897794  \n",
       "6334  [{'href': 'https://www.instagram.com/p/Cc6Ftkt...  1654891824  \n",
       "\n",
       "[6335 rows x 4 columns]>"
      ]
     },
     "execution_count": 31,
     "metadata": {},
     "output_type": "execute_result"
    }
   ],
   "source": [
    "liked_posts_df.head"
   ]
  },
  {
   "cell_type": "markdown",
   "id": "cbab1f06",
   "metadata": {},
   "source": [
    "**Because the assignment was focused on the timestamp of the like and user who made the post, I dropped \"string list data\" and \"media list data\" because they were not relevant to my work. In order to tidy up my workspace, I dropped the info using \".drop\"**"
   ]
  },
  {
   "cell_type": "code",
   "execution_count": 32,
   "id": "a053d934",
   "metadata": {
    "scrolled": true
   },
   "outputs": [],
   "source": [
    "liked_posts_df_ = liked_posts_df.drop('media_list_data', axis = 1)"
   ]
  },
  {
   "cell_type": "code",
   "execution_count": 37,
   "id": "1cc79f84",
   "metadata": {
    "scrolled": true
   },
   "outputs": [
    {
     "data": {
      "text/html": [
       "<div>\n",
       "<style scoped>\n",
       "    .dataframe tbody tr th:only-of-type {\n",
       "        vertical-align: middle;\n",
       "    }\n",
       "\n",
       "    .dataframe tbody tr th {\n",
       "        vertical-align: top;\n",
       "    }\n",
       "\n",
       "    .dataframe thead th {\n",
       "        text-align: right;\n",
       "    }\n",
       "</style>\n",
       "<table border=\"1\" class=\"dataframe\">\n",
       "  <thead>\n",
       "    <tr style=\"text-align: right;\">\n",
       "      <th></th>\n",
       "      <th>title</th>\n",
       "      <th>string_list_data</th>\n",
       "      <th>timestamps</th>\n",
       "    </tr>\n",
       "  </thead>\n",
       "  <tbody>\n",
       "    <tr>\n",
       "      <th>0</th>\n",
       "      <td>kenzie</td>\n",
       "      <td>[{'href': 'https://www.instagram.com/p/5kTrMyM...</td>\n",
       "      <td>1437849168</td>\n",
       "    </tr>\n",
       "    <tr>\n",
       "      <th>1</th>\n",
       "      <td>maddieziegler</td>\n",
       "      <td>[{'href': 'https://www.instagram.com/p/5EhGi5P...</td>\n",
       "      <td>1436797483</td>\n",
       "    </tr>\n",
       "    <tr>\n",
       "      <th>2</th>\n",
       "      <td>kenzie</td>\n",
       "      <td>[{'href': 'https://www.instagram.com/p/4rdp11s...</td>\n",
       "      <td>1435941153</td>\n",
       "    </tr>\n",
       "    <tr>\n",
       "      <th>3</th>\n",
       "      <td>maddieziegler</td>\n",
       "      <td>[{'href': 'https://www.instagram.com/p/4Sv0WXP...</td>\n",
       "      <td>1435161440</td>\n",
       "    </tr>\n",
       "    <tr>\n",
       "      <th>4</th>\n",
       "      <td>maddieziegler</td>\n",
       "      <td>[{'href': 'https://www.instagram.com/p/4M6FIwv...</td>\n",
       "      <td>1434921328</td>\n",
       "    </tr>\n",
       "    <tr>\n",
       "      <th>...</th>\n",
       "      <td>...</td>\n",
       "      <td>...</td>\n",
       "      <td>...</td>\n",
       "    </tr>\n",
       "    <tr>\n",
       "      <th>6330</th>\n",
       "      <td>hollyhumberstone</td>\n",
       "      <td>[{'href': 'https://www.instagram.com/p/CengbYU...</td>\n",
       "      <td>1654901966</td>\n",
       "    </tr>\n",
       "    <tr>\n",
       "      <th>6331</th>\n",
       "      <td>_taypet</td>\n",
       "      <td>[{'href': 'https://www.instagram.com/p/CepDw7z...</td>\n",
       "      <td>1654901815</td>\n",
       "    </tr>\n",
       "    <tr>\n",
       "      <th>6332</th>\n",
       "      <td>kendallg_11</td>\n",
       "      <td>[{'href': 'https://www.instagram.com/p/CepAG1h...</td>\n",
       "      <td>1654901789</td>\n",
       "    </tr>\n",
       "    <tr>\n",
       "      <th>6333</th>\n",
       "      <td>emmachamberlain</td>\n",
       "      <td>[{'href': 'https://www.instagram.com/p/Ceo-fIK...</td>\n",
       "      <td>1654897794</td>\n",
       "    </tr>\n",
       "    <tr>\n",
       "      <th>6334</th>\n",
       "      <td>hollyhumberstone</td>\n",
       "      <td>[{'href': 'https://www.instagram.com/p/Cc6Ftkt...</td>\n",
       "      <td>1654891824</td>\n",
       "    </tr>\n",
       "  </tbody>\n",
       "</table>\n",
       "<p>6335 rows × 3 columns</p>\n",
       "</div>"
      ],
      "text/plain": [
       "                 title                                   string_list_data  \\\n",
       "0               kenzie  [{'href': 'https://www.instagram.com/p/5kTrMyM...   \n",
       "1        maddieziegler  [{'href': 'https://www.instagram.com/p/5EhGi5P...   \n",
       "2               kenzie  [{'href': 'https://www.instagram.com/p/4rdp11s...   \n",
       "3        maddieziegler  [{'href': 'https://www.instagram.com/p/4Sv0WXP...   \n",
       "4        maddieziegler  [{'href': 'https://www.instagram.com/p/4M6FIwv...   \n",
       "...                ...                                                ...   \n",
       "6330  hollyhumberstone  [{'href': 'https://www.instagram.com/p/CengbYU...   \n",
       "6331           _taypet  [{'href': 'https://www.instagram.com/p/CepDw7z...   \n",
       "6332       kendallg_11  [{'href': 'https://www.instagram.com/p/CepAG1h...   \n",
       "6333   emmachamberlain  [{'href': 'https://www.instagram.com/p/Ceo-fIK...   \n",
       "6334  hollyhumberstone  [{'href': 'https://www.instagram.com/p/Cc6Ftkt...   \n",
       "\n",
       "      timestamps  \n",
       "0     1437849168  \n",
       "1     1436797483  \n",
       "2     1435941153  \n",
       "3     1435161440  \n",
       "4     1434921328  \n",
       "...          ...  \n",
       "6330  1654901966  \n",
       "6331  1654901815  \n",
       "6332  1654901789  \n",
       "6333  1654897794  \n",
       "6334  1654891824  \n",
       "\n",
       "[6335 rows x 3 columns]"
      ]
     },
     "execution_count": 37,
     "metadata": {},
     "output_type": "execute_result"
    }
   ],
   "source": [
    "liked_posts_df_"
   ]
  },
  {
   "cell_type": "markdown",
   "id": "8be3550f",
   "metadata": {},
   "source": [
    "From a quick glance at the data, it is obvious my interests in middle school (when I first created my account) to now have changed drastically. Many accounts whose posts I liked frequently a few years I do not even follow now. For example, I used to like a lot of posts from all the stars of the TV show Dance Moms (examples above include \"kenzie\" and \"maddieziegler\") when I now only follow one of the girls. It was interesting to look back on posts I have liked because it jogged my memory about many of my old interests that I forgot I was once very invested in."
   ]
  },
  {
   "cell_type": "code",
   "execution_count": 34,
   "id": "d288c86b",
   "metadata": {},
   "outputs": [],
   "source": [
    "liked_posts_df_final = liked_posts_df_.drop('string_list_data', axis = 1)"
   ]
  },
  {
   "cell_type": "code",
   "execution_count": 35,
   "id": "27f5dd4e",
   "metadata": {
    "scrolled": true
   },
   "outputs": [
    {
     "data": {
      "text/html": [
       "<div>\n",
       "<style scoped>\n",
       "    .dataframe tbody tr th:only-of-type {\n",
       "        vertical-align: middle;\n",
       "    }\n",
       "\n",
       "    .dataframe tbody tr th {\n",
       "        vertical-align: top;\n",
       "    }\n",
       "\n",
       "    .dataframe thead th {\n",
       "        text-align: right;\n",
       "    }\n",
       "</style>\n",
       "<table border=\"1\" class=\"dataframe\">\n",
       "  <thead>\n",
       "    <tr style=\"text-align: right;\">\n",
       "      <th></th>\n",
       "      <th>title</th>\n",
       "      <th>timestamps</th>\n",
       "    </tr>\n",
       "  </thead>\n",
       "  <tbody>\n",
       "    <tr>\n",
       "      <th>0</th>\n",
       "      <td>kenzie</td>\n",
       "      <td>1437849168</td>\n",
       "    </tr>\n",
       "    <tr>\n",
       "      <th>1</th>\n",
       "      <td>maddieziegler</td>\n",
       "      <td>1436797483</td>\n",
       "    </tr>\n",
       "    <tr>\n",
       "      <th>2</th>\n",
       "      <td>kenzie</td>\n",
       "      <td>1435941153</td>\n",
       "    </tr>\n",
       "    <tr>\n",
       "      <th>3</th>\n",
       "      <td>maddieziegler</td>\n",
       "      <td>1435161440</td>\n",
       "    </tr>\n",
       "    <tr>\n",
       "      <th>4</th>\n",
       "      <td>maddieziegler</td>\n",
       "      <td>1434921328</td>\n",
       "    </tr>\n",
       "    <tr>\n",
       "      <th>...</th>\n",
       "      <td>...</td>\n",
       "      <td>...</td>\n",
       "    </tr>\n",
       "    <tr>\n",
       "      <th>6330</th>\n",
       "      <td>hollyhumberstone</td>\n",
       "      <td>1654901966</td>\n",
       "    </tr>\n",
       "    <tr>\n",
       "      <th>6331</th>\n",
       "      <td>_taypet</td>\n",
       "      <td>1654901815</td>\n",
       "    </tr>\n",
       "    <tr>\n",
       "      <th>6332</th>\n",
       "      <td>kendallg_11</td>\n",
       "      <td>1654901789</td>\n",
       "    </tr>\n",
       "    <tr>\n",
       "      <th>6333</th>\n",
       "      <td>emmachamberlain</td>\n",
       "      <td>1654897794</td>\n",
       "    </tr>\n",
       "    <tr>\n",
       "      <th>6334</th>\n",
       "      <td>hollyhumberstone</td>\n",
       "      <td>1654891824</td>\n",
       "    </tr>\n",
       "  </tbody>\n",
       "</table>\n",
       "<p>6335 rows × 2 columns</p>\n",
       "</div>"
      ],
      "text/plain": [
       "                 title  timestamps\n",
       "0               kenzie  1437849168\n",
       "1        maddieziegler  1436797483\n",
       "2               kenzie  1435941153\n",
       "3        maddieziegler  1435161440\n",
       "4        maddieziegler  1434921328\n",
       "...                ...         ...\n",
       "6330  hollyhumberstone  1654901966\n",
       "6331           _taypet  1654901815\n",
       "6332       kendallg_11  1654901789\n",
       "6333   emmachamberlain  1654897794\n",
       "6334  hollyhumberstone  1654891824\n",
       "\n",
       "[6335 rows x 2 columns]"
      ]
     },
     "execution_count": 35,
     "metadata": {},
     "output_type": "execute_result"
    }
   ],
   "source": [
    "liked_posts_df_final"
   ]
  },
  {
   "cell_type": "markdown",
   "id": "0cb5dfeb",
   "metadata": {},
   "source": [
    "**Lastly, I used the \"group by\" function in order to see the number of posts I have liked from each account. Throughout the entire project I referenced past in-class work that dealt with Facebook data while adapting it to my needs for Instagram data.**"
   ]
  },
  {
   "cell_type": "code",
   "execution_count": 38,
   "id": "aaafb949",
   "metadata": {
    "scrolled": true
   },
   "outputs": [
    {
     "data": {
      "text/html": [
       "<div>\n",
       "<style scoped>\n",
       "    .dataframe tbody tr th:only-of-type {\n",
       "        vertical-align: middle;\n",
       "    }\n",
       "\n",
       "    .dataframe tbody tr th {\n",
       "        vertical-align: top;\n",
       "    }\n",
       "\n",
       "    .dataframe thead th {\n",
       "        text-align: right;\n",
       "    }\n",
       "</style>\n",
       "<table border=\"1\" class=\"dataframe\">\n",
       "  <thead>\n",
       "    <tr style=\"text-align: right;\">\n",
       "      <th></th>\n",
       "      <th>timestamps</th>\n",
       "    </tr>\n",
       "    <tr>\n",
       "      <th>title</th>\n",
       "      <th></th>\n",
       "    </tr>\n",
       "  </thead>\n",
       "  <tbody>\n",
       "    <tr>\n",
       "      <th>zheng.mei.ling</th>\n",
       "      <td>1</td>\n",
       "    </tr>\n",
       "    <tr>\n",
       "      <th>zendaya</th>\n",
       "      <td>28</td>\n",
       "    </tr>\n",
       "    <tr>\n",
       "      <th>zack_vannette76</th>\n",
       "      <td>1</td>\n",
       "    </tr>\n",
       "    <tr>\n",
       "      <th>xxclose</th>\n",
       "      <td>2</td>\n",
       "    </tr>\n",
       "    <tr>\n",
       "      <th>xtinemay</th>\n",
       "      <td>19</td>\n",
       "    </tr>\n",
       "    <tr>\n",
       "      <th>...</th>\n",
       "      <td>...</td>\n",
       "    </tr>\n",
       "    <tr>\n",
       "      <th>_baileybaird</th>\n",
       "      <td>5</td>\n",
       "    </tr>\n",
       "    <tr>\n",
       "      <th>_alainaconte_</th>\n",
       "      <td>1</td>\n",
       "    </tr>\n",
       "    <tr>\n",
       "      <th>_adriennebundy_</th>\n",
       "      <td>25</td>\n",
       "    </tr>\n",
       "    <tr>\n",
       "      <th>_abbycoe_</th>\n",
       "      <td>3</td>\n",
       "    </tr>\n",
       "    <tr>\n",
       "      <th>20kaitlyn20</th>\n",
       "      <td>9</td>\n",
       "    </tr>\n",
       "  </tbody>\n",
       "</table>\n",
       "<p>680 rows × 1 columns</p>\n",
       "</div>"
      ],
      "text/plain": [
       "                 timestamps\n",
       "title                      \n",
       "zheng.mei.ling            1\n",
       "zendaya                  28\n",
       "zack_vannette76           1\n",
       "xxclose                   2\n",
       "xtinemay                 19\n",
       "...                     ...\n",
       "_baileybaird              5\n",
       "_alainaconte_             1\n",
       "_adriennebundy_          25\n",
       "_abbycoe_                 3\n",
       "20kaitlyn20               9\n",
       "\n",
       "[680 rows x 1 columns]"
      ]
     },
     "execution_count": 38,
     "metadata": {},
     "output_type": "execute_result"
    }
   ],
   "source": [
    "liked_posts_df_final.groupby('title').count().sort_values('title', ascending = False)"
   ]
  },
  {
   "cell_type": "markdown",
   "id": "bc9c1c3a",
   "metadata": {},
   "source": [
    "Another interesting discovery is that I do not like posts from every account I follow. I follow over 800 people, but my there are only 680 accounts that have a like count. This data could be used by me to evaluate if there are any accounts that I am following that are simply taking up space in my feed."
   ]
  },
  {
   "cell_type": "markdown",
   "id": "e17d297c",
   "metadata": {},
   "source": [
    "When looked at as a whole, the data can track the evolution of my interests. If all the data were to be considered when analyzing my current interests, the correct content would not reach me. If I wanted to focus more on my current interests, I would only use data from a certain point forward. For example, when I started college until now. However, if I wanted to compare my interests overtime, I would create a timeline with different sections (middle school, high school, college for example) to compare and contrast my interests over time. In order to do this, I would need to be able to decipher what time each timestamp stands for in accordance with how we keep track of time in a daily sense. This would be my next step."
   ]
  },
  {
   "cell_type": "markdown",
   "id": "3b28e297",
   "metadata": {},
   "source": [
    "If I were to conduct an analysis of other Insatgram data collected, O would use the \"followers\" file to prove that at significant points of change in my life, I gained followers more exponentially than I did on a normal day. For example, when I graduated from middle school to high school or joined a sorority in college. \n",
    "\n",
    "The theoretical hypothesis would be that I gain followers more exponentially at points of significant change in my life than I gain on a normal daily basis. \n",
    "\n",
    "The statistical hypothesis would (hopefully) be similar to the theoretical hypothesis but would also include the specific values that need to be met to prove the hypothesis true (or false). To do this I would look at the timestamps of when people started following me to see when there was less time between a significant amount of followers gained. "
   ]
  }
 ],
 "metadata": {
  "kernelspec": {
   "display_name": "Python 3 (ipykernel)",
   "language": "python",
   "name": "python3"
  },
  "language_info": {
   "codemirror_mode": {
    "name": "ipython",
    "version": 3
   },
   "file_extension": ".py",
   "mimetype": "text/x-python",
   "name": "python",
   "nbconvert_exporter": "python",
   "pygments_lexer": "ipython3",
   "version": "3.10.4"
  }
 },
 "nbformat": 4,
 "nbformat_minor": 5
}
