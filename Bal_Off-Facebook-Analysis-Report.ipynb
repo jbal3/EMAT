{
 "cells": [
  {
   "cell_type": "code",
   "execution_count": 19,
   "id": "75fd587f",
   "metadata": {},
   "outputs": [],
   "source": [
    "import json\n",
    "import pandas as pd\n",
    "import base64\n",
    "import requests\n",
    "import numpy as np\n",
    "from matplotlib import pyplot as plt\n",
    "from scipy import stats"
   ]
  },
  {
   "cell_type": "markdown",
   "id": "ae251a80",
   "metadata": {},
   "source": [
    "## Off Facebook Analysis ##\n",
    "**I expect this data will include many clothing websites because I like to both online shop and look at outfit ideas on Pinterest. I also think websites relating to academics may be present since I am currently a student as well.**"
   ]
  },
  {
   "cell_type": "markdown",
   "id": "af17e11e",
   "metadata": {},
   "source": [
    "I started by loading in my json file and creating a data frame from the information. "
   ]
  },
  {
   "cell_type": "code",
   "execution_count": 3,
   "id": "cbfd1bf5",
   "metadata": {},
   "outputs": [],
   "source": [
    "with open (\"your_off-facebook_activity copy.json\") as j:\n",
    "    off_fb = json.load(j)"
   ]
  },
  {
   "cell_type": "code",
   "execution_count": null,
   "id": "23fbe7db",
   "metadata": {
    "scrolled": true
   },
   "outputs": [],
   "source": [
    "off_fb"
   ]
  },
  {
   "cell_type": "code",
   "execution_count": 5,
   "id": "f1063259",
   "metadata": {},
   "outputs": [],
   "source": [
    "fb_df = pd.DataFrame(off_fb)"
   ]
  },
  {
   "cell_type": "code",
   "execution_count": 6,
   "id": "8a016859",
   "metadata": {
    "scrolled": false
   },
   "outputs": [
    {
     "data": {
      "text/html": [
       "<div>\n",
       "<style scoped>\n",
       "    .dataframe tbody tr th:only-of-type {\n",
       "        vertical-align: middle;\n",
       "    }\n",
       "\n",
       "    .dataframe tbody tr th {\n",
       "        vertical-align: top;\n",
       "    }\n",
       "\n",
       "    .dataframe thead th {\n",
       "        text-align: right;\n",
       "    }\n",
       "</style>\n",
       "<table border=\"1\" class=\"dataframe\">\n",
       "  <thead>\n",
       "    <tr style=\"text-align: right;\">\n",
       "      <th></th>\n",
       "      <th>off_facebook_activity_v2</th>\n",
       "    </tr>\n",
       "  </thead>\n",
       "  <tbody>\n",
       "    <tr>\n",
       "      <th>0</th>\n",
       "      <td>{'name': 'etsy.com', 'events': [{'id': 2974720...</td>\n",
       "    </tr>\n",
       "    <tr>\n",
       "      <th>1</th>\n",
       "      <td>{'name': 'emmiol.com', 'events': [{'id': 47971...</td>\n",
       "    </tr>\n",
       "    <tr>\n",
       "      <th>2</th>\n",
       "      <td>{'name': 'depop.com', 'events': [{'id': 366039...</td>\n",
       "    </tr>\n",
       "    <tr>\n",
       "      <th>3</th>\n",
       "      <td>{'name': 'quora.com', 'events': [{'id': 167558...</td>\n",
       "    </tr>\n",
       "    <tr>\n",
       "      <th>4</th>\n",
       "      <td>{'name': 'dollskill.com', 'events': [{'id': 60...</td>\n",
       "    </tr>\n",
       "  </tbody>\n",
       "</table>\n",
       "</div>"
      ],
      "text/plain": [
       "                            off_facebook_activity_v2\n",
       "0  {'name': 'etsy.com', 'events': [{'id': 2974720...\n",
       "1  {'name': 'emmiol.com', 'events': [{'id': 47971...\n",
       "2  {'name': 'depop.com', 'events': [{'id': 366039...\n",
       "3  {'name': 'quora.com', 'events': [{'id': 167558...\n",
       "4  {'name': 'dollskill.com', 'events': [{'id': 60..."
      ]
     },
     "execution_count": 6,
     "metadata": {},
     "output_type": "execute_result"
    }
   ],
   "source": [
    "fb_df.head()"
   ]
  },
  {
   "cell_type": "markdown",
   "id": "e29d8a7a",
   "metadata": {},
   "source": [
    "I created a second data frame by splitting the activity column into two columns: name and events."
   ]
  },
  {
   "cell_type": "code",
   "execution_count": 7,
   "id": "147832a9",
   "metadata": {},
   "outputs": [],
   "source": [
    "v2_df = pd.DataFrame(list(fb_df['off_facebook_activity_v2']))"
   ]
  },
  {
   "cell_type": "code",
   "execution_count": 8,
   "id": "e227c8bc",
   "metadata": {
    "scrolled": true
   },
   "outputs": [
    {
     "data": {
      "text/html": [
       "<div>\n",
       "<style scoped>\n",
       "    .dataframe tbody tr th:only-of-type {\n",
       "        vertical-align: middle;\n",
       "    }\n",
       "\n",
       "    .dataframe tbody tr th {\n",
       "        vertical-align: top;\n",
       "    }\n",
       "\n",
       "    .dataframe thead th {\n",
       "        text-align: right;\n",
       "    }\n",
       "</style>\n",
       "<table border=\"1\" class=\"dataframe\">\n",
       "  <thead>\n",
       "    <tr style=\"text-align: right;\">\n",
       "      <th></th>\n",
       "      <th>name</th>\n",
       "      <th>events</th>\n",
       "    </tr>\n",
       "  </thead>\n",
       "  <tbody>\n",
       "    <tr>\n",
       "      <th>0</th>\n",
       "      <td>etsy.com</td>\n",
       "      <td>[{'id': 297472060462208, 'type': 'PAGE_VIEW', ...</td>\n",
       "    </tr>\n",
       "    <tr>\n",
       "      <th>1</th>\n",
       "      <td>emmiol.com</td>\n",
       "      <td>[{'id': 479717462733375, 'type': 'ADD_TO_CART'...</td>\n",
       "    </tr>\n",
       "    <tr>\n",
       "      <th>2</th>\n",
       "      <td>depop.com</td>\n",
       "      <td>[{'id': 366039483606207, 'type': 'PAGE_VIEW', ...</td>\n",
       "    </tr>\n",
       "    <tr>\n",
       "      <th>3</th>\n",
       "      <td>quora.com</td>\n",
       "      <td>[{'id': 1675581722730896, 'type': 'PAGE_VIEW',...</td>\n",
       "    </tr>\n",
       "    <tr>\n",
       "      <th>4</th>\n",
       "      <td>dollskill.com</td>\n",
       "      <td>[{'id': 607675075993844, 'type': 'PAGE_VIEW', ...</td>\n",
       "    </tr>\n",
       "  </tbody>\n",
       "</table>\n",
       "</div>"
      ],
      "text/plain": [
       "            name                                             events\n",
       "0       etsy.com  [{'id': 297472060462208, 'type': 'PAGE_VIEW', ...\n",
       "1     emmiol.com  [{'id': 479717462733375, 'type': 'ADD_TO_CART'...\n",
       "2      depop.com  [{'id': 366039483606207, 'type': 'PAGE_VIEW', ...\n",
       "3      quora.com  [{'id': 1675581722730896, 'type': 'PAGE_VIEW',...\n",
       "4  dollskill.com  [{'id': 607675075993844, 'type': 'PAGE_VIEW', ..."
      ]
     },
     "execution_count": 8,
     "metadata": {},
     "output_type": "execute_result"
    }
   ],
   "source": [
    "v2_df.head()"
   ]
  },
  {
   "cell_type": "code",
   "execution_count": 9,
   "id": "d3fdada3",
   "metadata": {},
   "outputs": [
    {
     "data": {
      "text/plain": [
       "[{'id': 297472060462208, 'type': 'PAGE_VIEW', 'timestamp': 1662351000},\n",
       " {'id': 395490361516997, 'type': 'PAGE_VIEW', 'timestamp': 1662351000},\n",
       " {'id': 114623403312281, 'type': 'PAGE_VIEW', 'timestamp': 1662336660},\n",
       " {'id': 297472060462208, 'type': 'PAGE_VIEW', 'timestamp': 1662336660},\n",
       " {'id': 395490361516997, 'type': 'PAGE_VIEW', 'timestamp': 1662336660}]"
      ]
     },
     "execution_count": 9,
     "metadata": {},
     "output_type": "execute_result"
    }
   ],
   "source": [
    "v2_df['events'][0]"
   ]
  },
  {
   "cell_type": "code",
   "execution_count": 120,
   "id": "84992ed1",
   "metadata": {
    "scrolled": true
   },
   "outputs": [
    {
     "data": {
      "text/plain": [
       "5"
      ]
     },
     "execution_count": 120,
     "metadata": {},
     "output_type": "execute_result"
    }
   ],
   "source": [
    "len(v2_df['events'][0])"
   ]
  },
  {
   "cell_type": "markdown",
   "id": "0d219bd2",
   "metadata": {},
   "source": [
    "I used list comprehension and the groupby function to create a data frame that has a column for the names of the websites and a column for how frequently Facebook tracked each. "
   ]
  },
  {
   "cell_type": "code",
   "execution_count": 128,
   "id": "985f2bcd",
   "metadata": {},
   "outputs": [],
   "source": [
    "final_df = v2_df.groupby(['name']).count()\n",
    "final_df['events'] = [len(x) for x in v2_df['events']]"
   ]
  },
  {
   "cell_type": "code",
   "execution_count": 136,
   "id": "f40c2003",
   "metadata": {
    "scrolled": true
   },
   "outputs": [
    {
     "data": {
      "text/html": [
       "<div>\n",
       "<style scoped>\n",
       "    .dataframe tbody tr th:only-of-type {\n",
       "        vertical-align: middle;\n",
       "    }\n",
       "\n",
       "    .dataframe tbody tr th {\n",
       "        vertical-align: top;\n",
       "    }\n",
       "\n",
       "    .dataframe thead th {\n",
       "        text-align: right;\n",
       "    }\n",
       "</style>\n",
       "<table border=\"1\" class=\"dataframe\">\n",
       "  <thead>\n",
       "    <tr style=\"text-align: right;\">\n",
       "      <th></th>\n",
       "      <th>events</th>\n",
       "    </tr>\n",
       "    <tr>\n",
       "      <th>name</th>\n",
       "      <th></th>\n",
       "    </tr>\n",
       "  </thead>\n",
       "  <tbody>\n",
       "    <tr>\n",
       "      <th>Amazon</th>\n",
       "      <td>5</td>\n",
       "    </tr>\n",
       "    <tr>\n",
       "      <th>Spark SMG</th>\n",
       "      <td>3</td>\n",
       "    </tr>\n",
       "    <tr>\n",
       "      <th>anaconda.com</th>\n",
       "      <td>6</td>\n",
       "    </tr>\n",
       "    <tr>\n",
       "      <th>billhighway.co</th>\n",
       "      <td>1</td>\n",
       "    </tr>\n",
       "    <tr>\n",
       "      <th>blackmilkclothing.com</th>\n",
       "      <td>5</td>\n",
       "    </tr>\n",
       "  </tbody>\n",
       "</table>\n",
       "</div>"
      ],
      "text/plain": [
       "                       events\n",
       "name                         \n",
       "Amazon                      5\n",
       "Spark SMG                   3\n",
       "anaconda.com                6\n",
       "billhighway.co              1\n",
       "blackmilkclothing.com       5"
      ]
     },
     "execution_count": 136,
     "metadata": {},
     "output_type": "execute_result"
    }
   ],
   "source": [
    "final_df.head()"
   ]
  },
  {
   "cell_type": "markdown",
   "id": "96fd7362",
   "metadata": {},
   "source": [
    "**This histogram shows that Facebook tracked most websites between 1 and 5 times. However, I have one main outlier: genius.com. This was slightly surprising to me because I did not realize that genius of all websites would use Facebook data the most.**"
   ]
  },
  {
   "cell_type": "code",
   "execution_count": 132,
   "id": "c5b82304",
   "metadata": {
    "scrolled": false
   },
   "outputs": [
    {
     "data": {
      "image/png": "[encoded data removed]",
      "text/plain": [
       "<Figure size 432x288 with 1 Axes>"
      ]
     },
     "metadata": {
      "needs_background": "light"
     },
     "output_type": "display_data"
    }
   ],
   "source": [
    "events_hist = final_df['events'].plot.hist()\n",
    "plt.show()"
   ]
  },
  {
   "cell_type": "code",
   "execution_count": 146,
   "id": "39b37d70",
   "metadata": {
    "scrolled": true
   },
   "outputs": [
    {
     "data": {
      "text/html": [
       "<div>\n",
       "<style scoped>\n",
       "    .dataframe tbody tr th:only-of-type {\n",
       "        vertical-align: middle;\n",
       "    }\n",
       "\n",
       "    .dataframe tbody tr th {\n",
       "        vertical-align: top;\n",
       "    }\n",
       "\n",
       "    .dataframe thead th {\n",
       "        text-align: right;\n",
       "    }\n",
       "</style>\n",
       "<table border=\"1\" class=\"dataframe\">\n",
       "  <thead>\n",
       "    <tr style=\"text-align: right;\">\n",
       "      <th></th>\n",
       "      <th>events</th>\n",
       "    </tr>\n",
       "    <tr>\n",
       "      <th>name</th>\n",
       "      <th></th>\n",
       "    </tr>\n",
       "  </thead>\n",
       "  <tbody>\n",
       "    <tr>\n",
       "      <th>genius.com</th>\n",
       "      <td>58</td>\n",
       "    </tr>\n",
       "    <tr>\n",
       "      <th>pewresearch.org</th>\n",
       "      <td>15</td>\n",
       "    </tr>\n",
       "    <tr>\n",
       "      <th>microsoft.com</th>\n",
       "      <td>10</td>\n",
       "    </tr>\n",
       "    <tr>\n",
       "      <th>vimeo.com</th>\n",
       "      <td>9</td>\n",
       "    </tr>\n",
       "    <tr>\n",
       "      <th>anaconda.com</th>\n",
       "      <td>6</td>\n",
       "    </tr>\n",
       "    <tr>\n",
       "      <th>hellobombshell.com</th>\n",
       "      <td>5</td>\n",
       "    </tr>\n",
       "    <tr>\n",
       "      <th>Amazon</th>\n",
       "      <td>5</td>\n",
       "    </tr>\n",
       "    <tr>\n",
       "      <th>blackmilkclothing.com</th>\n",
       "      <td>5</td>\n",
       "    </tr>\n",
       "    <tr>\n",
       "      <th>quora.com</th>\n",
       "      <td>3</td>\n",
       "    </tr>\n",
       "    <tr>\n",
       "      <th>shopakira.com</th>\n",
       "      <td>3</td>\n",
       "    </tr>\n",
       "    <tr>\n",
       "      <th>Spark SMG</th>\n",
       "      <td>3</td>\n",
       "    </tr>\n",
       "    <tr>\n",
       "      <th>goodgoth.com</th>\n",
       "      <td>2</td>\n",
       "    </tr>\n",
       "    <tr>\n",
       "      <th>rebelliousfashion.com</th>\n",
       "      <td>2</td>\n",
       "    </tr>\n",
       "    <tr>\n",
       "      <th>sunfederalcu.org</th>\n",
       "      <td>2</td>\n",
       "    </tr>\n",
       "    <tr>\n",
       "      <th>news5cleveland.com</th>\n",
       "      <td>2</td>\n",
       "    </tr>\n",
       "    <tr>\n",
       "      <th>songkick.com</th>\n",
       "      <td>2</td>\n",
       "    </tr>\n",
       "    <tr>\n",
       "      <th>forever21.com</th>\n",
       "      <td>2</td>\n",
       "    </tr>\n",
       "    <tr>\n",
       "      <th>garageclothing.com</th>\n",
       "      <td>2</td>\n",
       "    </tr>\n",
       "    <tr>\n",
       "      <th>wordpress.com</th>\n",
       "      <td>2</td>\n",
       "    </tr>\n",
       "    <tr>\n",
       "      <th>nastygal.com</th>\n",
       "      <td>2</td>\n",
       "    </tr>\n",
       "  </tbody>\n",
       "</table>\n",
       "</div>"
      ],
      "text/plain": [
       "                       events\n",
       "name                         \n",
       "genius.com                 58\n",
       "pewresearch.org            15\n",
       "microsoft.com              10\n",
       "vimeo.com                   9\n",
       "anaconda.com                6\n",
       "hellobombshell.com          5\n",
       "Amazon                      5\n",
       "blackmilkclothing.com       5\n",
       "quora.com                   3\n",
       "shopakira.com               3\n",
       "Spark SMG                   3\n",
       "goodgoth.com                2\n",
       "rebelliousfashion.com       2\n",
       "sunfederalcu.org            2\n",
       "news5cleveland.com          2\n",
       "songkick.com                2\n",
       "forever21.com               2\n",
       "garageclothing.com          2\n",
       "wordpress.com               2\n",
       "nastygal.com                2"
      ]
     },
     "execution_count": 146,
     "metadata": {},
     "output_type": "execute_result"
    }
   ],
   "source": [
    "final_final_df = final_df.sort_values('events', ascending=False)\n",
    "final_final_df[0:20]"
   ]
  },
  {
   "cell_type": "markdown",
   "id": "993aff5b",
   "metadata": {},
   "source": [
    "**This bar graph shows the websites Facebook tracked most often. Like the histogram above, it shows that genius.com was tracked the most, followed by The Pew Research Center and Microsoft. Several of the websites listed I have never been to, but they seem similar to ones I have visited. For example, I have never been to shopkira.com, but it seems similar to forever21.com which I have visited. From this data, I think Facebook would conclude I like music (from genius.com and songkick.com) and online shopping (from the numerous clothing websites), and that I am in the media field (from the Pew Research Center and wordpress.com). All of this would be accurate.**"
   ]
  },
  {
   "cell_type": "code",
   "execution_count": 154,
   "id": "edfeb11a",
   "metadata": {},
   "outputs": [
    {
     "data": {
      "text/plain": [
       "Text(0, 0.5, 'number of events')"
      ]
     },
     "execution_count": 154,
     "metadata": {},
     "output_type": "execute_result"
    },
    {
     "data": {
      "image/png": "[encoded data removed]",
      "text/plain": [
       "<Figure size 432x288 with 1 Axes>"
      ]
     },
     "metadata": {
      "needs_background": "light"
     },
     "output_type": "display_data"
    }
   ],
   "source": [
    "fig1, ax1 = plt.subplots()\n",
    "events_bar = final_final_df['events'][0:20].plot.bar()\n",
    "ax1.set_ylabel('number of events')"
   ]
  },
  {
   "cell_type": "markdown",
   "id": "f8f15194",
   "metadata": {},
   "source": [
    "## My Spotify Analysis: 'Stoney' v 'So Far Gone' ##\n",
    "\n",
    "**For this project I picked Post Malone's 'Stoney' and Drake's 'So Far Gone' because they are two of my favorite rap albums. I want to compare them to see if I like certain recurring aspects in the rap music I listen to since I am very picky within the genre. I think I am typically more drawn to rap music that could also be considered r&b, so I will be looking at both tempo and energy to see if this is true (as r&b is usually slower and more relaxed than what people think of when they think of rap.)**\n",
    "\n",
    "**My hypothesis is that 'Stoney' and 'So Far Gone' will on average have songs with slower tempos and less energy due to the fact I enjoy more relaxed rap music.**"
   ]
  },
  {
   "cell_type": "markdown",
   "id": "bd3f4c57",
   "metadata": {},
   "source": [
    "I started by loading in the Spotify Keys in order to access the data I needed. "
   ]
  },
  {
   "cell_type": "code",
   "execution_count": 40,
   "id": "533ab28b",
   "metadata": {},
   "outputs": [],
   "source": [
    "keys = pd.read_csv(\"Spotify-Keys_9-23-21\", header = 0, sep = \",\")"
   ]
  },
  {
   "cell_type": "code",
   "execution_count": 41,
   "id": "dbed395b",
   "metadata": {},
   "outputs": [],
   "source": [
    "appid = keys['Client_ID'][0]"
   ]
  },
  {
   "cell_type": "code",
   "execution_count": 42,
   "id": "10f17c0b",
   "metadata": {},
   "outputs": [],
   "source": [
    "appsecret = keys['Client_Secret'][0]"
   ]
  },
  {
   "cell_type": "code",
   "execution_count": 43,
   "id": "0585ec12",
   "metadata": {},
   "outputs": [],
   "source": [
    "client_cred = base64.b64encode(str(appid + \":\" + appsecret).encode('ascii'))"
   ]
  },
  {
   "cell_type": "code",
   "execution_count": 44,
   "id": "755a37c8",
   "metadata": {},
   "outputs": [],
   "source": [
    "header = {'Authorization': 'Basic {}'.format(client_cred.decode('ascii'))}"
   ]
  },
  {
   "cell_type": "code",
   "execution_count": 45,
   "id": "42a01e29",
   "metadata": {},
   "outputs": [],
   "source": [
    "payload = {'grant_type' : 'client_credentials'}\n",
    "access_token_url = \"https://accounts.spotify.com/api/token\""
   ]
  },
  {
   "cell_type": "code",
   "execution_count": 46,
   "id": "7bfd089f",
   "metadata": {},
   "outputs": [],
   "source": [
    "response = requests.post(access_token_url, headers = header, data = payload)"
   ]
  },
  {
   "cell_type": "code",
   "execution_count": 47,
   "id": "66a6fbdd",
   "metadata": {},
   "outputs": [],
   "source": [
    "session_token = response.json()['access_token']"
   ]
  },
  {
   "cell_type": "code",
   "execution_count": 48,
   "id": "19523ae6",
   "metadata": {},
   "outputs": [],
   "source": [
    "session_header = {'Authorization': 'Bearer {}'.format(response.json()['access_token'])}"
   ]
  },
  {
   "cell_type": "markdown",
   "id": "1f1d52a6",
   "metadata": {},
   "source": [
    "I got the code needed to access the information on 'Stoney' from the album's url."
   ]
  },
  {
   "cell_type": "code",
   "execution_count": 49,
   "id": "0dcd4280",
   "metadata": {},
   "outputs": [],
   "source": [
    "stoney_id = '5s0rmjP8XOPhP6HhqOhuyC'"
   ]
  },
  {
   "cell_type": "code",
   "execution_count": 50,
   "id": "21699283",
   "metadata": {},
   "outputs": [],
   "source": [
    "album_tracks_endpoint = \"https://api.spotify.com/v1/albums/{}/tracks\".format(stoney_id)"
   ]
  },
  {
   "cell_type": "code",
   "execution_count": 51,
   "id": "15a05d02",
   "metadata": {},
   "outputs": [],
   "source": [
    "stoney_tracks = requests.get(album_tracks_endpoint, headers = session_header)"
   ]
  },
  {
   "cell_type": "code",
   "execution_count": 52,
   "id": "bc13ba6a",
   "metadata": {},
   "outputs": [
    {
     "data": {
      "text/plain": [
       "200"
      ]
     },
     "execution_count": 52,
     "metadata": {},
     "output_type": "execute_result"
    }
   ],
   "source": [
    "stoney_tracks.status_code"
   ]
  },
  {
   "cell_type": "code",
   "execution_count": 53,
   "id": "b5e0e84f",
   "metadata": {},
   "outputs": [],
   "source": [
    "stoney_dict = json.loads(stoney_tracks.text)"
   ]
  },
  {
   "cell_type": "code",
   "execution_count": 54,
   "id": "9f34ee6e",
   "metadata": {},
   "outputs": [
    {
     "data": {
      "text/plain": [
       "dict_keys(['href', 'items', 'limit', 'next', 'offset', 'previous', 'total'])"
      ]
     },
     "execution_count": 54,
     "metadata": {},
     "output_type": "execute_result"
    }
   ],
   "source": [
    "stoney_dict.keys()"
   ]
  },
  {
   "cell_type": "code",
   "execution_count": 55,
   "id": "b1cbe167",
   "metadata": {},
   "outputs": [],
   "source": [
    "stoney_track_ids = [x['id'] for x in stoney_dict['items']]"
   ]
  },
  {
   "cell_type": "code",
   "execution_count": 56,
   "id": "5e8e202f",
   "metadata": {},
   "outputs": [],
   "source": [
    "stoney_track_strings = ','.join(str(x) for x in stoney_track_ids)"
   ]
  },
  {
   "cell_type": "code",
   "execution_count": 57,
   "id": "fea9969d",
   "metadata": {},
   "outputs": [],
   "source": [
    "track_features_endpoint = \"https://api.spotify.com/v1/audio-features?ids={}\".format(stoney_track_strings)"
   ]
  },
  {
   "cell_type": "code",
   "execution_count": 58,
   "id": "ab3f81da",
   "metadata": {},
   "outputs": [],
   "source": [
    "stoney_features = requests.get(track_features_endpoint, headers = session_header)"
   ]
  },
  {
   "cell_type": "code",
   "execution_count": 59,
   "id": "46ce871f",
   "metadata": {},
   "outputs": [
    {
     "data": {
      "text/plain": [
       "200"
      ]
     },
     "execution_count": 59,
     "metadata": {},
     "output_type": "execute_result"
    }
   ],
   "source": [
    "stoney_features.status_code"
   ]
  },
  {
   "cell_type": "code",
   "execution_count": 60,
   "id": "a5362ac4",
   "metadata": {},
   "outputs": [],
   "source": [
    "stoney_dict = json.loads(stoney_features.text)"
   ]
  },
  {
   "cell_type": "markdown",
   "id": "31841757",
   "metadata": {},
   "source": [
    "I created a data frame for the features of 'Stoney' and exported it as a csv file in order to create the histogram and scatter plot."
   ]
  },
  {
   "cell_type": "code",
   "execution_count": 61,
   "id": "2d7c1374",
   "metadata": {},
   "outputs": [],
   "source": [
    "stoney_df = pd.DataFrame(stoney_dict['audio_features'])"
   ]
  },
  {
   "cell_type": "code",
   "execution_count": 62,
   "id": "73c949a0",
   "metadata": {
    "scrolled": true
   },
   "outputs": [
    {
     "data": {
      "text/html": [
       "<div>\n",
       "<style scoped>\n",
       "    .dataframe tbody tr th:only-of-type {\n",
       "        vertical-align: middle;\n",
       "    }\n",
       "\n",
       "    .dataframe tbody tr th {\n",
       "        vertical-align: top;\n",
       "    }\n",
       "\n",
       "    .dataframe thead th {\n",
       "        text-align: right;\n",
       "    }\n",
       "</style>\n",
       "<table border=\"1\" class=\"dataframe\">\n",
       "  <thead>\n",
       "    <tr style=\"text-align: right;\">\n",
       "      <th></th>\n",
       "      <th>danceability</th>\n",
       "      <th>energy</th>\n",
       "      <th>key</th>\n",
       "      <th>loudness</th>\n",
       "      <th>mode</th>\n",
       "      <th>speechiness</th>\n",
       "      <th>acousticness</th>\n",
       "      <th>instrumentalness</th>\n",
       "      <th>liveness</th>\n",
       "      <th>valence</th>\n",
       "      <th>tempo</th>\n",
       "      <th>type</th>\n",
       "      <th>id</th>\n",
       "      <th>uri</th>\n",
       "      <th>track_href</th>\n",
       "      <th>analysis_url</th>\n",
       "      <th>duration_ms</th>\n",
       "      <th>time_signature</th>\n",
       "    </tr>\n",
       "  </thead>\n",
       "  <tbody>\n",
       "    <tr>\n",
       "      <th>0</th>\n",
       "      <td>0.512</td>\n",
       "      <td>0.673</td>\n",
       "      <td>0</td>\n",
       "      <td>-7.359</td>\n",
       "      <td>1</td>\n",
       "      <td>0.0523</td>\n",
       "      <td>0.2890</td>\n",
       "      <td>0.000003</td>\n",
       "      <td>0.1260</td>\n",
       "      <td>0.110</td>\n",
       "      <td>99.840</td>\n",
       "      <td>audio_features</td>\n",
       "      <td>5BoOzegGrg5XFRR8UBDtkF</td>\n",
       "      <td>spotify:track:5BoOzegGrg5XFRR8UBDtkF</td>\n",
       "      <td>https://api.spotify.com/v1/tracks/5BoOzegGrg5X...</td>\n",
       "      <td>https://api.spotify.com/v1/audio-analysis/5BoO...</td>\n",
       "      <td>233813</td>\n",
       "      <td>4</td>\n",
       "    </tr>\n",
       "    <tr>\n",
       "      <th>1</th>\n",
       "      <td>0.442</td>\n",
       "      <td>0.684</td>\n",
       "      <td>6</td>\n",
       "      <td>-4.888</td>\n",
       "      <td>0</td>\n",
       "      <td>0.1680</td>\n",
       "      <td>0.1910</td>\n",
       "      <td>0.000000</td>\n",
       "      <td>0.0725</td>\n",
       "      <td>0.218</td>\n",
       "      <td>170.861</td>\n",
       "      <td>audio_features</td>\n",
       "      <td>02opp1cycqiFNDpLd2o1J3</td>\n",
       "      <td>spotify:track:02opp1cycqiFNDpLd2o1J3</td>\n",
       "      <td>https://api.spotify.com/v1/tracks/02opp1cycqiF...</td>\n",
       "      <td>https://api.spotify.com/v1/audio-analysis/02op...</td>\n",
       "      <td>207680</td>\n",
       "      <td>4</td>\n",
       "    </tr>\n",
       "    <tr>\n",
       "      <th>2</th>\n",
       "      <td>0.620</td>\n",
       "      <td>0.690</td>\n",
       "      <td>7</td>\n",
       "      <td>-6.508</td>\n",
       "      <td>1</td>\n",
       "      <td>0.0493</td>\n",
       "      <td>0.0931</td>\n",
       "      <td>0.000000</td>\n",
       "      <td>0.1310</td>\n",
       "      <td>0.331</td>\n",
       "      <td>133.935</td>\n",
       "      <td>audio_features</td>\n",
       "      <td>0H8XeaJunhvpBdBFIYi6Sh</td>\n",
       "      <td>spotify:track:0H8XeaJunhvpBdBFIYi6Sh</td>\n",
       "      <td>https://api.spotify.com/v1/tracks/0H8XeaJunhvp...</td>\n",
       "      <td>https://api.spotify.com/v1/audio-analysis/0H8X...</td>\n",
       "      <td>234213</td>\n",
       "      <td>4</td>\n",
       "    </tr>\n",
       "    <tr>\n",
       "      <th>3</th>\n",
       "      <td>0.575</td>\n",
       "      <td>0.734</td>\n",
       "      <td>2</td>\n",
       "      <td>-4.949</td>\n",
       "      <td>1</td>\n",
       "      <td>0.0570</td>\n",
       "      <td>0.0757</td>\n",
       "      <td>0.000000</td>\n",
       "      <td>0.2410</td>\n",
       "      <td>0.494</td>\n",
       "      <td>83.986</td>\n",
       "      <td>audio_features</td>\n",
       "      <td>6M0IsaUX4GNyto4niSegfI</td>\n",
       "      <td>spotify:track:6M0IsaUX4GNyto4niSegfI</td>\n",
       "      <td>https://api.spotify.com/v1/tracks/6M0IsaUX4GNy...</td>\n",
       "      <td>https://api.spotify.com/v1/audio-analysis/6M0I...</td>\n",
       "      <td>179827</td>\n",
       "      <td>4</td>\n",
       "    </tr>\n",
       "    <tr>\n",
       "      <th>4</th>\n",
       "      <td>0.670</td>\n",
       "      <td>0.572</td>\n",
       "      <td>4</td>\n",
       "      <td>-7.312</td>\n",
       "      <td>0</td>\n",
       "      <td>0.0415</td>\n",
       "      <td>0.6470</td>\n",
       "      <td>0.000005</td>\n",
       "      <td>0.1040</td>\n",
       "      <td>0.259</td>\n",
       "      <td>132.980</td>\n",
       "      <td>audio_features</td>\n",
       "      <td>1QWmKmqhv5zcsS3v45FNl0</td>\n",
       "      <td>spotify:track:1QWmKmqhv5zcsS3v45FNl0</td>\n",
       "      <td>https://api.spotify.com/v1/tracks/1QWmKmqhv5zc...</td>\n",
       "      <td>https://api.spotify.com/v1/audio-analysis/1QWm...</td>\n",
       "      <td>268933</td>\n",
       "      <td>4</td>\n",
       "    </tr>\n",
       "  </tbody>\n",
       "</table>\n",
       "</div>"
      ],
      "text/plain": [
       "   danceability  energy  key  loudness  mode  speechiness  acousticness  \\\n",
       "0         0.512   0.673    0    -7.359     1       0.0523        0.2890   \n",
       "1         0.442   0.684    6    -4.888     0       0.1680        0.1910   \n",
       "2         0.620   0.690    7    -6.508     1       0.0493        0.0931   \n",
       "3         0.575   0.734    2    -4.949     1       0.0570        0.0757   \n",
       "4         0.670   0.572    4    -7.312     0       0.0415        0.6470   \n",
       "\n",
       "   instrumentalness  liveness  valence    tempo            type  \\\n",
       "0          0.000003    0.1260    0.110   99.840  audio_features   \n",
       "1          0.000000    0.0725    0.218  170.861  audio_features   \n",
       "2          0.000000    0.1310    0.331  133.935  audio_features   \n",
       "3          0.000000    0.2410    0.494   83.986  audio_features   \n",
       "4          0.000005    0.1040    0.259  132.980  audio_features   \n",
       "\n",
       "                       id                                   uri  \\\n",
       "0  5BoOzegGrg5XFRR8UBDtkF  spotify:track:5BoOzegGrg5XFRR8UBDtkF   \n",
       "1  02opp1cycqiFNDpLd2o1J3  spotify:track:02opp1cycqiFNDpLd2o1J3   \n",
       "2  0H8XeaJunhvpBdBFIYi6Sh  spotify:track:0H8XeaJunhvpBdBFIYi6Sh   \n",
       "3  6M0IsaUX4GNyto4niSegfI  spotify:track:6M0IsaUX4GNyto4niSegfI   \n",
       "4  1QWmKmqhv5zcsS3v45FNl0  spotify:track:1QWmKmqhv5zcsS3v45FNl0   \n",
       "\n",
       "                                          track_href  \\\n",
       "0  https://api.spotify.com/v1/tracks/5BoOzegGrg5X...   \n",
       "1  https://api.spotify.com/v1/tracks/02opp1cycqiF...   \n",
       "2  https://api.spotify.com/v1/tracks/0H8XeaJunhvp...   \n",
       "3  https://api.spotify.com/v1/tracks/6M0IsaUX4GNy...   \n",
       "4  https://api.spotify.com/v1/tracks/1QWmKmqhv5zc...   \n",
       "\n",
       "                                        analysis_url  duration_ms  \\\n",
       "0  https://api.spotify.com/v1/audio-analysis/5BoO...       233813   \n",
       "1  https://api.spotify.com/v1/audio-analysis/02op...       207680   \n",
       "2  https://api.spotify.com/v1/audio-analysis/0H8X...       234213   \n",
       "3  https://api.spotify.com/v1/audio-analysis/6M0I...       179827   \n",
       "4  https://api.spotify.com/v1/audio-analysis/1QWm...       268933   \n",
       "\n",
       "   time_signature  \n",
       "0               4  \n",
       "1               4  \n",
       "2               4  \n",
       "3               4  \n",
       "4               4  "
      ]
     },
     "execution_count": 62,
     "metadata": {},
     "output_type": "execute_result"
    }
   ],
   "source": [
    "stoney_df.head()"
   ]
  },
  {
   "cell_type": "code",
   "execution_count": 63,
   "id": "3af54d1a",
   "metadata": {},
   "outputs": [],
   "source": [
    "stoney_df.to_csv('stoney.csv')"
   ]
  },
  {
   "cell_type": "code",
   "execution_count": 64,
   "id": "acccec18",
   "metadata": {},
   "outputs": [],
   "source": [
    "appid = keys['Client_ID'][0]"
   ]
  },
  {
   "cell_type": "code",
   "execution_count": 65,
   "id": "fb41d9f6",
   "metadata": {},
   "outputs": [],
   "source": [
    "appsecret = keys['Client_Secret'][0]"
   ]
  },
  {
   "cell_type": "code",
   "execution_count": 66,
   "id": "2a173282",
   "metadata": {},
   "outputs": [],
   "source": [
    "client_cred = base64.b64encode(str(appid + \":\" + appsecret).encode('ascii'))"
   ]
  },
  {
   "cell_type": "code",
   "execution_count": 67,
   "id": "d3f7a13c",
   "metadata": {},
   "outputs": [],
   "source": [
    "header = {'Authorization': 'Basic {}'.format(client_cred.decode('ascii'))}"
   ]
  },
  {
   "cell_type": "code",
   "execution_count": 68,
   "id": "4fa11449",
   "metadata": {},
   "outputs": [],
   "source": [
    "payload = {'grant_type' : 'client_credentials'}\n",
    "access_token_url = \"https://accounts.spotify.com/api/token\""
   ]
  },
  {
   "cell_type": "code",
   "execution_count": 69,
   "id": "78b40f8d",
   "metadata": {},
   "outputs": [],
   "source": [
    "response = requests.post(access_token_url, headers = header, data = payload)"
   ]
  },
  {
   "cell_type": "code",
   "execution_count": 70,
   "id": "44e4e8c5",
   "metadata": {},
   "outputs": [],
   "source": [
    "session_token = response.json()['access_token']"
   ]
  },
  {
   "cell_type": "code",
   "execution_count": 71,
   "id": "bdfc5df5",
   "metadata": {},
   "outputs": [],
   "source": [
    "session_header = {'Authorization': 'Bearer {}'.format(response.json()['access_token'])}"
   ]
  },
  {
   "cell_type": "markdown",
   "id": "e9578b9c",
   "metadata": {},
   "source": [
    "I got the code needed to access the information on 'So Far Gone' from the album's url."
   ]
  },
  {
   "cell_type": "code",
   "execution_count": 72,
   "id": "0d89b71b",
   "metadata": {},
   "outputs": [],
   "source": [
    "so_far_gone_id = '1LShhEEKRT5MNPcO7jtYHh'"
   ]
  },
  {
   "cell_type": "code",
   "execution_count": 73,
   "id": "22796447",
   "metadata": {},
   "outputs": [],
   "source": [
    "album_tracks_endpoint = \"https://api.spotify.com/v1/albums/{}/tracks\".format(so_far_gone_id)"
   ]
  },
  {
   "cell_type": "code",
   "execution_count": 74,
   "id": "6b89a251",
   "metadata": {},
   "outputs": [],
   "source": [
    "sfg_tracks = requests.get(album_tracks_endpoint, headers = session_header)"
   ]
  },
  {
   "cell_type": "code",
   "execution_count": 75,
   "id": "3c9ac67d",
   "metadata": {},
   "outputs": [
    {
     "data": {
      "text/plain": [
       "200"
      ]
     },
     "execution_count": 75,
     "metadata": {},
     "output_type": "execute_result"
    }
   ],
   "source": [
    "sfg_tracks.status_code"
   ]
  },
  {
   "cell_type": "code",
   "execution_count": 78,
   "id": "c1c81ef8",
   "metadata": {},
   "outputs": [],
   "source": [
    "sfg_dict = json.loads(sfg_tracks.text)"
   ]
  },
  {
   "cell_type": "code",
   "execution_count": 79,
   "id": "da315423",
   "metadata": {
    "scrolled": true
   },
   "outputs": [
    {
     "data": {
      "text/plain": [
       "dict_keys(['href', 'items', 'limit', 'next', 'offset', 'previous', 'total'])"
      ]
     },
     "execution_count": 79,
     "metadata": {},
     "output_type": "execute_result"
    }
   ],
   "source": [
    "sfg_dict.keys()"
   ]
  },
  {
   "cell_type": "code",
   "execution_count": 80,
   "id": "c868b12e",
   "metadata": {},
   "outputs": [
    {
     "data": {
      "text/plain": [
       "dict_keys(['artists', 'available_markets', 'disc_number', 'duration_ms', 'explicit', 'external_urls', 'href', 'id', 'is_local', 'name', 'preview_url', 'track_number', 'type', 'uri'])"
      ]
     },
     "execution_count": 80,
     "metadata": {},
     "output_type": "execute_result"
    }
   ],
   "source": [
    "sfg_dict['items'][0].keys()"
   ]
  },
  {
   "cell_type": "code",
   "execution_count": 81,
   "id": "9af2076a",
   "metadata": {},
   "outputs": [],
   "source": [
    "sfg_track_ids = [x['id'] for x in sfg_dict['items']]"
   ]
  },
  {
   "cell_type": "code",
   "execution_count": 82,
   "id": "4fa5739a",
   "metadata": {},
   "outputs": [],
   "source": [
    "sfg_track_strings = ','.join(str(x) for x in sfg_track_ids)"
   ]
  },
  {
   "cell_type": "code",
   "execution_count": 83,
   "id": "9071c635",
   "metadata": {},
   "outputs": [],
   "source": [
    "track_features_endpoint = \"https://api.spotify.com/v1/audio-features?ids={}\".format(sfg_track_strings)"
   ]
  },
  {
   "cell_type": "code",
   "execution_count": 84,
   "id": "c839332d",
   "metadata": {},
   "outputs": [],
   "source": [
    "sfg_features = requests.get(track_features_endpoint, headers = session_header)"
   ]
  },
  {
   "cell_type": "code",
   "execution_count": 85,
   "id": "735705eb",
   "metadata": {},
   "outputs": [
    {
     "data": {
      "text/plain": [
       "200"
      ]
     },
     "execution_count": 85,
     "metadata": {},
     "output_type": "execute_result"
    }
   ],
   "source": [
    "sfg_features.status_code"
   ]
  },
  {
   "cell_type": "code",
   "execution_count": 86,
   "id": "25fa3eab",
   "metadata": {},
   "outputs": [],
   "source": [
    "sfg_dict = json.loads(sfg_features.text)"
   ]
  },
  {
   "cell_type": "code",
   "execution_count": 87,
   "id": "48c073d9",
   "metadata": {},
   "outputs": [
    {
     "data": {
      "text/plain": [
       "dict_keys(['audio_features'])"
      ]
     },
     "execution_count": 87,
     "metadata": {},
     "output_type": "execute_result"
    }
   ],
   "source": [
    "sfg_dict.keys()"
   ]
  },
  {
   "cell_type": "markdown",
   "id": "4b75ca42",
   "metadata": {},
   "source": [
    "I created a data frame for the features of 'So Far Gone' and exported it as a csv file in order to create the histogram and scatter plot."
   ]
  },
  {
   "cell_type": "code",
   "execution_count": 89,
   "id": "f1a9c2ff",
   "metadata": {},
   "outputs": [],
   "source": [
    "sfg_df = pd.DataFrame(sfg_dict['audio_features'])"
   ]
  },
  {
   "cell_type": "code",
   "execution_count": 90,
   "id": "a2923eb8",
   "metadata": {},
   "outputs": [
    {
     "data": {
      "text/html": [
       "<div>\n",
       "<style scoped>\n",
       "    .dataframe tbody tr th:only-of-type {\n",
       "        vertical-align: middle;\n",
       "    }\n",
       "\n",
       "    .dataframe tbody tr th {\n",
       "        vertical-align: top;\n",
       "    }\n",
       "\n",
       "    .dataframe thead th {\n",
       "        text-align: right;\n",
       "    }\n",
       "</style>\n",
       "<table border=\"1\" class=\"dataframe\">\n",
       "  <thead>\n",
       "    <tr style=\"text-align: right;\">\n",
       "      <th></th>\n",
       "      <th>danceability</th>\n",
       "      <th>energy</th>\n",
       "      <th>key</th>\n",
       "      <th>loudness</th>\n",
       "      <th>mode</th>\n",
       "      <th>speechiness</th>\n",
       "      <th>acousticness</th>\n",
       "      <th>instrumentalness</th>\n",
       "      <th>liveness</th>\n",
       "      <th>valence</th>\n",
       "      <th>tempo</th>\n",
       "      <th>type</th>\n",
       "      <th>id</th>\n",
       "      <th>uri</th>\n",
       "      <th>track_href</th>\n",
       "      <th>analysis_url</th>\n",
       "      <th>duration_ms</th>\n",
       "      <th>time_signature</th>\n",
       "    </tr>\n",
       "  </thead>\n",
       "  <tbody>\n",
       "    <tr>\n",
       "      <th>0</th>\n",
       "      <td>0.462</td>\n",
       "      <td>0.422</td>\n",
       "      <td>6</td>\n",
       "      <td>-10.381</td>\n",
       "      <td>1</td>\n",
       "      <td>0.1750</td>\n",
       "      <td>0.93900</td>\n",
       "      <td>0.03270</td>\n",
       "      <td>0.108</td>\n",
       "      <td>0.0853</td>\n",
       "      <td>87.364</td>\n",
       "      <td>audio_features</td>\n",
       "      <td>1v24T2ug4TlssYZvI3aL4O</td>\n",
       "      <td>spotify:track:1v24T2ug4TlssYZvI3aL4O</td>\n",
       "      <td>https://api.spotify.com/v1/tracks/1v24T2ug4Tls...</td>\n",
       "      <td>https://api.spotify.com/v1/audio-analysis/1v24...</td>\n",
       "      <td>176179</td>\n",
       "      <td>4</td>\n",
       "    </tr>\n",
       "    <tr>\n",
       "      <th>1</th>\n",
       "      <td>0.683</td>\n",
       "      <td>0.695</td>\n",
       "      <td>1</td>\n",
       "      <td>-6.798</td>\n",
       "      <td>0</td>\n",
       "      <td>0.0574</td>\n",
       "      <td>0.39300</td>\n",
       "      <td>0.00124</td>\n",
       "      <td>0.124</td>\n",
       "      <td>0.4060</td>\n",
       "      <td>135.337</td>\n",
       "      <td>audio_features</td>\n",
       "      <td>3XLSlQLJf3Ut0zvMUxnF1h</td>\n",
       "      <td>spotify:track:3XLSlQLJf3Ut0zvMUxnF1h</td>\n",
       "      <td>https://api.spotify.com/v1/tracks/3XLSlQLJf3Ut...</td>\n",
       "      <td>https://api.spotify.com/v1/audio-analysis/3XLS...</td>\n",
       "      <td>290791</td>\n",
       "      <td>4</td>\n",
       "    </tr>\n",
       "    <tr>\n",
       "      <th>2</th>\n",
       "      <td>0.562</td>\n",
       "      <td>0.544</td>\n",
       "      <td>8</td>\n",
       "      <td>-5.065</td>\n",
       "      <td>1</td>\n",
       "      <td>0.3690</td>\n",
       "      <td>0.53600</td>\n",
       "      <td>0.00000</td>\n",
       "      <td>0.170</td>\n",
       "      <td>0.2310</td>\n",
       "      <td>159.517</td>\n",
       "      <td>audio_features</td>\n",
       "      <td>6NwhtCYkfwWlcR62Ac4E7y</td>\n",
       "      <td>spotify:track:6NwhtCYkfwWlcR62Ac4E7y</td>\n",
       "      <td>https://api.spotify.com/v1/tracks/6NwhtCYkfwWl...</td>\n",
       "      <td>https://api.spotify.com/v1/audio-analysis/6Nwh...</td>\n",
       "      <td>375050</td>\n",
       "      <td>4</td>\n",
       "    </tr>\n",
       "    <tr>\n",
       "      <th>3</th>\n",
       "      <td>0.790</td>\n",
       "      <td>0.731</td>\n",
       "      <td>9</td>\n",
       "      <td>-4.607</td>\n",
       "      <td>0</td>\n",
       "      <td>0.0327</td>\n",
       "      <td>0.00427</td>\n",
       "      <td>0.29000</td>\n",
       "      <td>0.157</td>\n",
       "      <td>0.9380</td>\n",
       "      <td>127.403</td>\n",
       "      <td>audio_features</td>\n",
       "      <td>4FDSPGncHRpr6yB8DD4CtI</td>\n",
       "      <td>spotify:track:4FDSPGncHRpr6yB8DD4CtI</td>\n",
       "      <td>https://api.spotify.com/v1/tracks/4FDSPGncHRpr...</td>\n",
       "      <td>https://api.spotify.com/v1/audio-analysis/4FDS...</td>\n",
       "      <td>234176</td>\n",
       "      <td>4</td>\n",
       "    </tr>\n",
       "    <tr>\n",
       "      <th>4</th>\n",
       "      <td>0.749</td>\n",
       "      <td>0.476</td>\n",
       "      <td>11</td>\n",
       "      <td>-11.147</td>\n",
       "      <td>0</td>\n",
       "      <td>0.5070</td>\n",
       "      <td>0.57900</td>\n",
       "      <td>0.00000</td>\n",
       "      <td>0.100</td>\n",
       "      <td>0.5340</td>\n",
       "      <td>71.937</td>\n",
       "      <td>audio_features</td>\n",
       "      <td>0JaVdpmiex2EP7bBzyKVTa</td>\n",
       "      <td>spotify:track:0JaVdpmiex2EP7bBzyKVTa</td>\n",
       "      <td>https://api.spotify.com/v1/tracks/0JaVdpmiex2E...</td>\n",
       "      <td>https://api.spotify.com/v1/audio-analysis/0JaV...</td>\n",
       "      <td>188189</td>\n",
       "      <td>4</td>\n",
       "    </tr>\n",
       "  </tbody>\n",
       "</table>\n",
       "</div>"
      ],
      "text/plain": [
       "   danceability  energy  key  loudness  mode  speechiness  acousticness  \\\n",
       "0         0.462   0.422    6   -10.381     1       0.1750       0.93900   \n",
       "1         0.683   0.695    1    -6.798     0       0.0574       0.39300   \n",
       "2         0.562   0.544    8    -5.065     1       0.3690       0.53600   \n",
       "3         0.790   0.731    9    -4.607     0       0.0327       0.00427   \n",
       "4         0.749   0.476   11   -11.147     0       0.5070       0.57900   \n",
       "\n",
       "   instrumentalness  liveness  valence    tempo            type  \\\n",
       "0           0.03270     0.108   0.0853   87.364  audio_features   \n",
       "1           0.00124     0.124   0.4060  135.337  audio_features   \n",
       "2           0.00000     0.170   0.2310  159.517  audio_features   \n",
       "3           0.29000     0.157   0.9380  127.403  audio_features   \n",
       "4           0.00000     0.100   0.5340   71.937  audio_features   \n",
       "\n",
       "                       id                                   uri  \\\n",
       "0  1v24T2ug4TlssYZvI3aL4O  spotify:track:1v24T2ug4TlssYZvI3aL4O   \n",
       "1  3XLSlQLJf3Ut0zvMUxnF1h  spotify:track:3XLSlQLJf3Ut0zvMUxnF1h   \n",
       "2  6NwhtCYkfwWlcR62Ac4E7y  spotify:track:6NwhtCYkfwWlcR62Ac4E7y   \n",
       "3  4FDSPGncHRpr6yB8DD4CtI  spotify:track:4FDSPGncHRpr6yB8DD4CtI   \n",
       "4  0JaVdpmiex2EP7bBzyKVTa  spotify:track:0JaVdpmiex2EP7bBzyKVTa   \n",
       "\n",
       "                                          track_href  \\\n",
       "0  https://api.spotify.com/v1/tracks/1v24T2ug4Tls...   \n",
       "1  https://api.spotify.com/v1/tracks/3XLSlQLJf3Ut...   \n",
       "2  https://api.spotify.com/v1/tracks/6NwhtCYkfwWl...   \n",
       "3  https://api.spotify.com/v1/tracks/4FDSPGncHRpr...   \n",
       "4  https://api.spotify.com/v1/tracks/0JaVdpmiex2E...   \n",
       "\n",
       "                                        analysis_url  duration_ms  \\\n",
       "0  https://api.spotify.com/v1/audio-analysis/1v24...       176179   \n",
       "1  https://api.spotify.com/v1/audio-analysis/3XLS...       290791   \n",
       "2  https://api.spotify.com/v1/audio-analysis/6Nwh...       375050   \n",
       "3  https://api.spotify.com/v1/audio-analysis/4FDS...       234176   \n",
       "4  https://api.spotify.com/v1/audio-analysis/0JaV...       188189   \n",
       "\n",
       "   time_signature  \n",
       "0               4  \n",
       "1               4  \n",
       "2               4  \n",
       "3               4  \n",
       "4               4  "
      ]
     },
     "execution_count": 90,
     "metadata": {},
     "output_type": "execute_result"
    }
   ],
   "source": [
    "sfg_df.head()"
   ]
  },
  {
   "cell_type": "code",
   "execution_count": 91,
   "id": "ba37c829",
   "metadata": {},
   "outputs": [],
   "source": [
    "sfg_df.to_csv('so far gone.csv')"
   ]
  },
  {
   "cell_type": "markdown",
   "id": "0ae8e24a",
   "metadata": {},
   "source": [
    "I combined the contents of both csv files into one and added an album column in order to access all the information in one file. "
   ]
  },
  {
   "cell_type": "code",
   "execution_count": 92,
   "id": "3f639ea8",
   "metadata": {},
   "outputs": [],
   "source": [
    "my_audio = pd.read_csv('my_audio.csv', sep = ',')"
   ]
  },
  {
   "cell_type": "markdown",
   "id": "6d6c7f3a",
   "metadata": {},
   "source": [
    "**This first figure shows that the tempo of songs on 'So Far Gone' are on average slower than the songs on 'Stoney.' On the other hand, the energy of the songs on 'So Far Gone' are higher on average than those on 'Stoney.' The songs on 'Stoney' stick to midpoints more than the songs on 'So Far Gone.'**"
   ]
  },
  {
   "cell_type": "code",
   "execution_count": 101,
   "id": "d8eb980d",
   "metadata": {},
   "outputs": [
    {
     "data": {
      "image/png": "[encoded data removed]",
      "text/plain": [
       "<Figure size 432x288 with 2 Axes>"
      ]
     },
     "metadata": {
      "needs_background": "light"
     },
     "output_type": "display_data"
    }
   ],
   "source": [
    "fig1, ax1 = plt.subplots(1, 2, layout = 'constrained')\n",
    "\n",
    "stoney_tempo = my_audio[my_audio['Album'] == 'Stoney']['tempo']\n",
    "sfg_tempo = my_audio[my_audio['Album'] == 'So Far Gone']['tempo']\n",
    "\n",
    "stoney_energy = my_audio[my_audio['Album'] == 'Stoney']['energy']\n",
    "sfg_energy = my_audio[my_audio['Album'] == 'So Far Gone']['energy']\n",
    "\n",
    "ax1[0].hist(stoney_tempo, alpha = 0.5, color ='orange', label = 'stoney')\n",
    "ax1[0].hist(sfg_tempo, alpha = 0.5, color = 'red', label = 'sfg')\n",
    "\n",
    "ax1[1].hist(stoney_energy, alpha = 0.5, color ='orange', label = 'stoney')\n",
    "ax1[1].hist(sfg_energy, alpha = 0.5, color = 'red', label = 'sfg')\n",
    "\n",
    "ax1[0].set_xlabel('tempo')\n",
    "ax1[1].set_xlabel('energy')\n",
    "\n",
    "ax1[0].legend()\n",
    "ax1[1].legend()\n",
    "\n",
    "plt.show()"
   ]
  },
  {
   "cell_type": "markdown",
   "id": "7d6673a8",
   "metadata": {},
   "source": [
    "**This second figure shows the relationship between the tempo and energy of both 'Stoney' and 'So Far Gone' individually. From this figure it seems as though the songs on both albums have higher energy even when the tempo of the songs vary.**"
   ]
  },
  {
   "cell_type": "code",
   "execution_count": 94,
   "id": "ddb825d7",
   "metadata": {
    "scrolled": true
   },
   "outputs": [
    {
     "data": {
      "image/png": "[encoded data removed]",
      "text/plain": [
       "<Figure size 432x288 with 1 Axes>"
      ]
     },
     "metadata": {
      "needs_background": "light"
     },
     "output_type": "display_data"
    }
   ],
   "source": [
    "fig2, ax1 = plt.subplots()\n",
    "stoney_df = my_audio[my_audio['Album'] == 'Stoney']\n",
    "sfg_df = my_audio[my_audio['Album'] == 'So Far Gone']\n",
    "ax1.scatter(stoney_df['tempo'], stoney_df['energy'], label = 'Stoney', color = 'orange')\n",
    "ax1.scatter(sfg_df['tempo'], sfg_df['energy'], label = 'So Far Gone', color = 'red')\n",
    "ax1.set_xlabel('tempo')\n",
    "ax1.set_ylabel('energy')\n",
    "ax1.set_title('Relationship between Tempo & Energy for Stoney & So Far Gone')\n",
    "ax1.legend()\n",
    "plt.show()"
   ]
  },
  {
   "cell_type": "markdown",
   "id": "b3265f37",
   "metadata": {},
   "source": [
    "**Figure three conveys the same idea as figure two except it considers both albums together instead of individually. Similar conclusions can be drawn.**"
   ]
  },
  {
   "cell_type": "code",
   "execution_count": 95,
   "id": "653ceeb1",
   "metadata": {
    "scrolled": true
   },
   "outputs": [
    {
     "data": {
      "image/png": "[encoded data removed]",
      "text/plain": [
       "<Figure size 432x288 with 1 Axes>"
      ]
     },
     "metadata": {
      "needs_background": "light"
     },
     "output_type": "display_data"
    }
   ],
   "source": [
    "fig3, ax1 = plt.subplots()\n",
    "general_df = my_audio\n",
    "ax1.scatter(general_df['tempo'], general_df['energy'], color = 'blue')\n",
    "ax1.set_xlabel('tempo')\n",
    "ax1.set_ylabel('energy')\n",
    "ax1.set_title('Relationship between Tempo & Energy for Stoney & So Far Gone')\n",
    "plt.show()"
   ]
  },
  {
   "cell_type": "markdown",
   "id": "c9b4bb13",
   "metadata": {},
   "source": [
    "**Figure four is a box plot of the tempos for the songs on both albums. From looking at the graph, it seems as though the tempos on 'So Far Gone' have a larger range than the tempos on 'Stoney.'**"
   ]
  },
  {
   "cell_type": "markdown",
   "id": "55330133",
   "metadata": {},
   "source": [
    "I made sure to use the jitter function to spread out the points as the tempos of many of the songs were around the same numbers."
   ]
  },
  {
   "cell_type": "code",
   "execution_count": 96,
   "id": "f410beda",
   "metadata": {},
   "outputs": [
    {
     "data": {
      "image/png": "[encoded data removed]",
      "text/plain": [
       "<Figure size 432x288 with 1 Axes>"
      ]
     },
     "metadata": {
      "needs_background": "light"
     },
     "output_type": "display_data"
    }
   ],
   "source": [
    "fig4, ax1 = plt.subplots()\n",
    "stoney_tempo = my_audio[my_audio['Album'] == 'Stoney']['tempo']\n",
    "sfg_tempo = my_audio[my_audio['Album'] == 'So Far Gone']['tempo']\n",
    "stoney_x = [1] * len(stoney_tempo)\n",
    "sfg_x = [2] * len(sfg_tempo)\n",
    "stoney_x_jitter = np.random.uniform(-0.15, 0.15, len(stoney_x))\n",
    "sfg_x_jitter = np.random.uniform(-0.15, 0.15, len (sfg_x))\n",
    "ax1.scatter(stoney_x + stoney_x_jitter, stoney_tempo, alpha = 0.5, color = 'orange')\n",
    "ax1.scatter(sfg_x + sfg_x_jitter, sfg_tempo, alpha = 0.5, color = 'red')\n",
    "ax1.set_xlim(0.5, 2.5)\n",
    "ax1.boxplot([stoney_tempo, sfg_tempo])\n",
    "ax1.set_xticks([1,2], ['Stoney', 'So Far Gone'])\n",
    "plt.show()"
   ]
  },
  {
   "cell_type": "code",
   "execution_count": 97,
   "id": "f42684f4",
   "metadata": {},
   "outputs": [
    {
     "data": {
      "text/plain": [
       "DescribeResult(nobs=18, minmax=(72.976, 170.861), mean=112.52316666666668, variance=775.9551340294116, skewness=0.22730401367397196, kurtosis=-0.925879269978251)"
      ]
     },
     "execution_count": 97,
     "metadata": {},
     "output_type": "execute_result"
    }
   ],
   "source": [
    "stats.describe(my_audio[my_audio['Album'] == 'Stoney']['tempo'])"
   ]
  },
  {
   "cell_type": "code",
   "execution_count": 98,
   "id": "1c0ab249",
   "metadata": {},
   "outputs": [
    {
     "data": {
      "text/plain": [
       "DescribeResult(nobs=18, minmax=(71.937, 185.167), mean=119.63366666666667, variance=1188.5604389411762, skewness=0.3548090769330254, kurtosis=-1.2386735765174823)"
      ]
     },
     "execution_count": 98,
     "metadata": {},
     "output_type": "execute_result"
    }
   ],
   "source": [
    "stats.describe(my_audio[my_audio['Album'] == 'So Far Gone']['tempo'])"
   ]
  },
  {
   "cell_type": "markdown",
   "id": "100039bc",
   "metadata": {},
   "source": [
    "**The t-test tells me that the results are 0.68 away from the expected or null hypothesis. AKA, the results are 0.68 away from being in a bell curve. The p-value here represents that this is not overly significant because it is more than 0.05.**"
   ]
  },
  {
   "cell_type": "code",
   "execution_count": 99,
   "id": "7e12f0ea",
   "metadata": {},
   "outputs": [
    {
     "data": {
      "text/plain": [
       "Ttest_indResult(statistic=-0.6806261883679144, pvalue=0.5007171845564932)"
      ]
     },
     "execution_count": 99,
     "metadata": {},
     "output_type": "execute_result"
    }
   ],
   "source": [
    "stats.ttest_ind(my_audio[my_audio['Album'] == 'Stoney']['tempo'], my_audio[my_audio['Album'] == 'So Far Gone']['tempo'])"
   ]
  },
  {
   "cell_type": "markdown",
   "id": "9d2808d7",
   "metadata": {},
   "source": [
    "**When looking back at the hypothesis I formed, it looks as though I was wrong because the songs on each album have a range of tempos and energy levels. To take this project further, I would look into other rap albums I like such as 'Because the Internet' and 'Camp' by Childish Gambin to see if the albums show the same trend.**"
   ]
  }
 ],
 "metadata": {
  "kernelspec": {
   "display_name": "Python 3 (ipykernel)",
   "language": "python",
   "name": "python3"
  },
  "language_info": {
   "codemirror_mode": {
    "name": "ipython",
    "version": 3
   },
   "file_extension": ".py",
   "mimetype": "text/x-python",
   "name": "python",
   "nbconvert_exporter": "python",
   "pygments_lexer": "ipython3",
   "version": "3.10.4"
  }
 },
 "nbformat": 4,
 "nbformat_minor": 5
}
