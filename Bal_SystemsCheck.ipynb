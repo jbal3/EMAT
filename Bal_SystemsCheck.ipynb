{
 "cells": [
  {
   "cell_type": "markdown",
   "id": "46384530",
   "metadata": {},
   "source": [
    "### What I Hope to Get Out of This Class\n",
    "\n",
    "1. Become a better **problem solver**\n",
    "\n",
    "2. Be able to **understand code** (at least more than I do now LOL)\n",
    "\n",
    "3. Use what I learn in **other classes**\n",
    "\n",
    "4. Apply content to **my minor** (web design)"
   ]
  },
  {
   "cell_type": "code",
   "execution_count": 2,
   "id": "873cac08",
   "metadata": {
    "scrolled": true
   },
   "outputs": [
    {
     "name": "stdout",
     "output_type": "stream",
     "text": [
      "1\n",
      "2\n",
      "3\n",
      "4\n"
     ]
    }
   ],
   "source": [
    "for i in [1,2,3,4]:\n",
    "    print(i)"
   ]
  },
  {
   "cell_type": "code",
   "execution_count": 3,
   "id": "2311f21b",
   "metadata": {},
   "outputs": [
    {
     "name": "stdout",
     "output_type": "stream",
     "text": [
      "Jenna\n"
     ]
    }
   ],
   "source": [
    "x = \"Jenna\"\n",
    "print (x)"
   ]
  },
  {
   "cell_type": "code",
   "execution_count": 7,
   "id": "a09407c0",
   "metadata": {},
   "outputs": [],
   "source": [
    "def names (x):\n",
    "    return(x)"
   ]
  },
  {
   "cell_type": "code",
   "execution_count": 5,
   "id": "39f47bc0",
   "metadata": {
    "scrolled": true
   },
   "outputs": [
    {
     "name": "stdout",
     "output_type": "stream",
     "text": [
      "Jenna\n"
     ]
    }
   ],
   "source": [
    "y = names(\"Jenna\")\n",
    "print(y)"
   ]
  }
 ],
 "metadata": {
  "kernelspec": {
   "display_name": "Python 3 (ipykernel)",
   "language": "python",
   "name": "python3"
  },
  "language_info": {
   "codemirror_mode": {
    "name": "ipython",
    "version": 3
   },
   "file_extension": ".py",
   "mimetype": "text/x-python",
   "name": "python",
   "nbconvert_exporter": "python",
   "pygments_lexer": "ipython3",
   "version": "3.10.4"
  }
 },
 "nbformat": 4,
 "nbformat_minor": 5
}
