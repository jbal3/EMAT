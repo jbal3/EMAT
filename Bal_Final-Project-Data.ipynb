{
 "cells": [
  {
   "cell_type": "code",
   "execution_count": 160,
   "id": "5d8484d6",
   "metadata": {},
   "outputs": [],
   "source": [
    "import json\n",
    "import pandas as pd\n",
    "import requests\n",
    "import base64"
   ]
  },
  {
   "cell_type": "code",
   "execution_count": 161,
   "id": "d7e6b8b3",
   "metadata": {},
   "outputs": [],
   "source": [
    "keys = pd.read_csv(\"Spotify-Keys_9-23-21\", header = 0, sep = \",\")"
   ]
  },
  {
   "cell_type": "code",
   "execution_count": 162,
   "id": "81231b07",
   "metadata": {},
   "outputs": [],
   "source": [
    "appid = keys['Client_ID'][0]"
   ]
  },
  {
   "cell_type": "code",
   "execution_count": 163,
   "id": "7752580e",
   "metadata": {},
   "outputs": [],
   "source": [
    "appsecret = keys['Client_Secret'][0]"
   ]
  },
  {
   "cell_type": "code",
   "execution_count": 164,
   "id": "60e4aa60",
   "metadata": {},
   "outputs": [],
   "source": [
    "client_cred = base64.b64encode(str(appid + \":\" + appsecret).encode('ascii'))"
   ]
  },
  {
   "cell_type": "code",
   "execution_count": 165,
   "id": "15d69227",
   "metadata": {},
   "outputs": [],
   "source": [
    "header = {'Authorization': 'Basic {}'.format(client_cred.decode('ascii'))}"
   ]
  },
  {
   "cell_type": "code",
   "execution_count": 166,
   "id": "b38e44cb",
   "metadata": {},
   "outputs": [],
   "source": [
    "payload = {'grant_type' : 'client_credentials'}\n",
    "access_token_url = \"https://accounts.spotify.com/api/token\""
   ]
  },
  {
   "cell_type": "code",
   "execution_count": 167,
   "id": "b5e81a89",
   "metadata": {},
   "outputs": [],
   "source": [
    "response = requests.post(access_token_url, headers = header, data = payload)"
   ]
  },
  {
   "cell_type": "code",
   "execution_count": 168,
   "id": "af215969",
   "metadata": {},
   "outputs": [],
   "source": [
    "session_token = response.json()['access_token']"
   ]
  },
  {
   "cell_type": "code",
   "execution_count": 169,
   "id": "a9f1b560",
   "metadata": {},
   "outputs": [],
   "source": [
    "session_header = {'Authorization': 'Bearer {}'.format(response.json()['access_token'])}"
   ]
  },
  {
   "cell_type": "code",
   "execution_count": 170,
   "id": "3d2be495",
   "metadata": {},
   "outputs": [],
   "source": [
    "fall_2022_id = '5qFxkaLI6E8pCj7eBytI5v'"
   ]
  },
  {
   "cell_type": "code",
   "execution_count": 171,
   "id": "f4915d6a",
   "metadata": {},
   "outputs": [],
   "source": [
    "playlist_tracks_endpoint = \"https://api.spotify.com/v1/playlists/{}/tracks\".format(fall_2022_id)"
   ]
  },
  {
   "cell_type": "code",
   "execution_count": 172,
   "id": "26e53912",
   "metadata": {},
   "outputs": [],
   "source": [
    "fall_2022_tracks = requests.get(playlist_tracks_endpoint, headers = session_header)"
   ]
  },
  {
   "cell_type": "code",
   "execution_count": 173,
   "id": "1149b557",
   "metadata": {},
   "outputs": [
    {
     "data": {
      "text/plain": [
       "200"
      ]
     },
     "execution_count": 173,
     "metadata": {},
     "output_type": "execute_result"
    }
   ],
   "source": [
    "fall_2022_tracks.status_code"
   ]
  },
  {
   "cell_type": "code",
   "execution_count": 174,
   "id": "33b10601",
   "metadata": {},
   "outputs": [],
   "source": [
    "fall_2022_dict = json.loads(fall_2022_tracks.text)"
   ]
  },
  {
   "cell_type": "code",
   "execution_count": 175,
   "id": "acabd83a",
   "metadata": {},
   "outputs": [
    {
     "data": {
      "text/plain": [
       "dict_keys(['href', 'items', 'limit', 'next', 'offset', 'previous', 'total'])"
      ]
     },
     "execution_count": 175,
     "metadata": {},
     "output_type": "execute_result"
    }
   ],
   "source": [
    "fall_2022_dict.keys()"
   ]
  },
  {
   "cell_type": "code",
   "execution_count": 176,
   "id": "0ffc4ada",
   "metadata": {},
   "outputs": [
    {
     "data": {
      "text/plain": [
       "dict_keys(['added_at', 'added_by', 'is_local', 'primary_color', 'track', 'video_thumbnail'])"
      ]
     },
     "execution_count": 176,
     "metadata": {},
     "output_type": "execute_result"
    }
   ],
   "source": [
    "fall_2022_dict['items'][0].keys()"
   ]
  },
  {
   "cell_type": "code",
   "execution_count": 177,
   "id": "a31f391c",
   "metadata": {},
   "outputs": [
    {
     "data": {
      "text/plain": [
       "'2uatFg68ynGEapEel9ASuK'"
      ]
     },
     "execution_count": 177,
     "metadata": {},
     "output_type": "execute_result"
    }
   ],
   "source": [
    "fall_2022_dict['items'][0]['track']['id']"
   ]
  },
  {
   "cell_type": "code",
   "execution_count": 178,
   "id": "5c356608",
   "metadata": {
    "scrolled": true
   },
   "outputs": [],
   "source": [
    "fall_2022_track_ids = [x['track']['id'] for x in fall_2022_dict['items']]"
   ]
  },
  {
   "cell_type": "code",
   "execution_count": null,
   "id": "dd44398e",
   "metadata": {},
   "outputs": [],
   "source": [
    "fall_2022_track_ids"
   ]
  },
  {
   "cell_type": "code",
   "execution_count": 180,
   "id": "ff721696",
   "metadata": {},
   "outputs": [],
   "source": [
    "fall_2022_track_strings = ','.join(str(x) for x in fall_2022_track_ids)"
   ]
  },
  {
   "cell_type": "code",
   "execution_count": 181,
   "id": "c51065db",
   "metadata": {
    "scrolled": true
   },
   "outputs": [
    {
     "data": {
      "text/plain": [
       "'2uatFg68ynGEapEel9ASuK,53taBvemC88CMHP2I1xAFX,7sgNQ34g23PpgpfAAuxMPy,4HHqDiNjHlsWtxqXoTR00O,4VeCmOb1rAEZQfH7Rlms9C,78vv48Ic6syaE6kWqDGY47,3Hvg5tRKsQlX25wYwgMF9p,6lCvK2AR2uOKkVFCVlAzzm,57V4uc2b2diZ4RPHXWecb9,3Z2anmIVG8b1GelyeFQdnP,0zesU7Cq6UM582kMYC6J3E,7nDFTHHwfe32a8qdp9XqPy,3rXCZRMiMZp0feGcYXpwYX,7trx783SvnHhKkmgSSTIFJ,01K4zKU104LyJ8gMb7227B,5ASPgiUgnrHCfwnJlh04ZR,2qhfWLkKqWripwiw8DJdGU,3o1cohFfwd57rAvrbyVE5e,0GNVXNz7Jkicfk2mp5OyG5,3cfeJE1UxGSOdtaQPkR2nd,6sQckd3Z8NPxVVKUnavY1F,7yNTZj1ugKCeRJdSP1meOk,3hiuZQQ33aDnu4Xmmn8Lr7,6vIyrLqStTPvZ6zwdW0zNw,14Aob2QYJ9Ija9pw9eJSI7,75nZ4W6quZhI55LKiqCXWh,1YenbnUpxiTyG15aLTl7JO,4GvdsVns332wQ3JsWAg2OV,3ekNuTF3UpOvIZCfiejpnC,5enxwA8aAbwZbf5qCHORXi,2CK9xYMVdmJMPKZyArVbt4,4Ifsg8iWpPy5qN5GDHnpta,0ZAbupc7jAQpG9IxojQ3s3,6255IIBwKySv6RYrOeHfQh,5EKqsMU2tn1iAYNQF8h0ll,3HAgxyWGeJtIVabS2mTREt,5hAFKx1IMhvx73JA6MSkIP,3PUMPtOSeXSJsBvK43K96b,20svOpmCQao5GUBgSu8zDe,7MbT4I8qGntX4fMdqMQgke,2MMZ1Llts0rTaU834P2Xct,2PfkfkaO9okAk0OxC4ggy5,6hUTzxvNiJ1c0lYqgoOTBW'"
      ]
     },
     "execution_count": 181,
     "metadata": {},
     "output_type": "execute_result"
    }
   ],
   "source": [
    "fall_2022_track_strings"
   ]
  },
  {
   "cell_type": "markdown",
   "id": "30050e99",
   "metadata": {},
   "source": [
    "I am still working on getting the genres for each track. Once I do that I will put all the info into a data frame using pandas."
   ]
  },
  {
   "cell_type": "code",
   "execution_count": 182,
   "id": "6fac5327",
   "metadata": {},
   "outputs": [],
   "source": [
    "track_genre_endpoint = \"https://api.spotify.com/v1/recommendations/available-genre-seeds\".format(fall_2022_track_strings)"
   ]
  },
  {
   "cell_type": "code",
   "execution_count": 183,
   "id": "5830c2d9",
   "metadata": {},
   "outputs": [],
   "source": [
    "fall_2022_genre = requests.get(track_genre_endpoint, headers = session_header)"
   ]
  },
  {
   "cell_type": "code",
   "execution_count": 184,
   "id": "3b7772da",
   "metadata": {},
   "outputs": [
    {
     "data": {
      "text/plain": [
       "200"
      ]
     },
     "execution_count": 184,
     "metadata": {},
     "output_type": "execute_result"
    }
   ],
   "source": [
    "fall_2022_genre.status_code"
   ]
  },
  {
   "cell_type": "code",
   "execution_count": 185,
   "id": "a34945dd",
   "metadata": {},
   "outputs": [],
   "source": [
    "fall_2022_dict = json.loads(fall_2022_genre.text)"
   ]
  },
  {
   "cell_type": "code",
   "execution_count": 186,
   "id": "2e59e66d",
   "metadata": {},
   "outputs": [
    {
     "data": {
      "text/plain": [
       "dict_keys(['genres'])"
      ]
     },
     "execution_count": 186,
     "metadata": {},
     "output_type": "execute_result"
    }
   ],
   "source": [
    "fall_2022_dict.keys()"
   ]
  },
  {
   "cell_type": "code",
   "execution_count": 187,
   "id": "1455e8b2",
   "metadata": {},
   "outputs": [
    {
     "data": {
      "text/plain": [
       "'acoustic'"
      ]
     },
     "execution_count": 187,
     "metadata": {},
     "output_type": "execute_result"
    }
   ],
   "source": [
    "fall_2022_dict['genres'][0]"
   ]
  },
  {
   "cell_type": "code",
   "execution_count": 188,
   "id": "51ecbc4c",
   "metadata": {},
   "outputs": [],
   "source": [
    "fall_2022_df = pd.DataFrame(fall_2022_dict['genres'])"
   ]
  },
  {
   "cell_type": "code",
   "execution_count": 189,
   "id": "e98dfa54",
   "metadata": {
    "scrolled": true
   },
   "outputs": [
    {
     "data": {
      "text/html": [
       "<div>\n",
       "<style scoped>\n",
       "    .dataframe tbody tr th:only-of-type {\n",
       "        vertical-align: middle;\n",
       "    }\n",
       "\n",
       "    .dataframe tbody tr th {\n",
       "        vertical-align: top;\n",
       "    }\n",
       "\n",
       "    .dataframe thead th {\n",
       "        text-align: right;\n",
       "    }\n",
       "</style>\n",
       "<table border=\"1\" class=\"dataframe\">\n",
       "  <thead>\n",
       "    <tr style=\"text-align: right;\">\n",
       "      <th></th>\n",
       "      <th>0</th>\n",
       "    </tr>\n",
       "  </thead>\n",
       "  <tbody>\n",
       "    <tr>\n",
       "      <th>0</th>\n",
       "      <td>acoustic</td>\n",
       "    </tr>\n",
       "    <tr>\n",
       "      <th>1</th>\n",
       "      <td>afrobeat</td>\n",
       "    </tr>\n",
       "    <tr>\n",
       "      <th>2</th>\n",
       "      <td>alt-rock</td>\n",
       "    </tr>\n",
       "    <tr>\n",
       "      <th>3</th>\n",
       "      <td>alternative</td>\n",
       "    </tr>\n",
       "    <tr>\n",
       "      <th>4</th>\n",
       "      <td>ambient</td>\n",
       "    </tr>\n",
       "    <tr>\n",
       "      <th>...</th>\n",
       "      <td>...</td>\n",
       "    </tr>\n",
       "    <tr>\n",
       "      <th>121</th>\n",
       "      <td>trance</td>\n",
       "    </tr>\n",
       "    <tr>\n",
       "      <th>122</th>\n",
       "      <td>trip-hop</td>\n",
       "    </tr>\n",
       "    <tr>\n",
       "      <th>123</th>\n",
       "      <td>turkish</td>\n",
       "    </tr>\n",
       "    <tr>\n",
       "      <th>124</th>\n",
       "      <td>work-out</td>\n",
       "    </tr>\n",
       "    <tr>\n",
       "      <th>125</th>\n",
       "      <td>world-music</td>\n",
       "    </tr>\n",
       "  </tbody>\n",
       "</table>\n",
       "<p>126 rows × 1 columns</p>\n",
       "</div>"
      ],
      "text/plain": [
       "               0\n",
       "0       acoustic\n",
       "1       afrobeat\n",
       "2       alt-rock\n",
       "3    alternative\n",
       "4        ambient\n",
       "..           ...\n",
       "121       trance\n",
       "122     trip-hop\n",
       "123      turkish\n",
       "124     work-out\n",
       "125  world-music\n",
       "\n",
       "[126 rows x 1 columns]"
      ]
     },
     "execution_count": 189,
     "metadata": {},
     "output_type": "execute_result"
    }
   ],
   "source": [
    "fall_2022_df"
   ]
  },
  {
   "cell_type": "markdown",
   "id": "323b5345",
   "metadata": {},
   "source": [
    "This is where my data collection for the summer playlist starts. I have been working on other finals as well, so I do not have all my data collected yet. I plan to work on it more this weekend. "
   ]
  },
  {
   "cell_type": "code",
   "execution_count": 190,
   "id": "c87562dd",
   "metadata": {},
   "outputs": [],
   "source": [
    "summer_2022_id = '3nN2wUvLsk6JNvaBdUAFpP'"
   ]
  },
  {
   "cell_type": "code",
   "execution_count": 191,
   "id": "625f0b06",
   "metadata": {},
   "outputs": [],
   "source": [
    "playlist_tracks_endpoint = \"https://api.spotify.com/v1/playlists/{}/tracks\".format(summer_2022_id)"
   ]
  },
  {
   "cell_type": "code",
   "execution_count": 192,
   "id": "ad820a5c",
   "metadata": {},
   "outputs": [],
   "source": [
    "summer_2022_tracks = requests.get(playlist_tracks_endpoint, headers = session_header)"
   ]
  },
  {
   "cell_type": "code",
   "execution_count": 193,
   "id": "21435592",
   "metadata": {},
   "outputs": [
    {
     "data": {
      "text/plain": [
       "200"
      ]
     },
     "execution_count": 193,
     "metadata": {},
     "output_type": "execute_result"
    }
   ],
   "source": [
    "summer_2022_tracks.status_code"
   ]
  },
  {
   "cell_type": "code",
   "execution_count": 194,
   "id": "f96d8cd5",
   "metadata": {},
   "outputs": [],
   "source": [
    "summer_2022_dict = json.loads(summer_2022_tracks.text)"
   ]
  },
  {
   "cell_type": "code",
   "execution_count": 195,
   "id": "6859d193",
   "metadata": {},
   "outputs": [
    {
     "data": {
      "text/plain": [
       "dict_keys(['href', 'items', 'limit', 'next', 'offset', 'previous', 'total'])"
      ]
     },
     "execution_count": 195,
     "metadata": {},
     "output_type": "execute_result"
    }
   ],
   "source": [
    "summer_2022_dict.keys()"
   ]
  },
  {
   "cell_type": "code",
   "execution_count": 196,
   "id": "f53a58cc",
   "metadata": {},
   "outputs": [
    {
     "data": {
      "text/plain": [
       "dict_keys(['added_at', 'added_by', 'is_local', 'primary_color', 'track', 'video_thumbnail'])"
      ]
     },
     "execution_count": 196,
     "metadata": {},
     "output_type": "execute_result"
    }
   ],
   "source": [
    "summer_2022_dict['items'][0].keys()"
   ]
  },
  {
   "cell_type": "code",
   "execution_count": 197,
   "id": "69b03888",
   "metadata": {},
   "outputs": [
    {
     "data": {
      "text/plain": [
       "'2ZWlPOoWh0626oTaHrnl2a'"
      ]
     },
     "execution_count": 197,
     "metadata": {},
     "output_type": "execute_result"
    }
   ],
   "source": [
    "summer_2022_dict['items'][0]['track']['id']"
   ]
  },
  {
   "cell_type": "code",
   "execution_count": 198,
   "id": "d6798d8a",
   "metadata": {},
   "outputs": [],
   "source": [
    "summer_2022_track_ids = [x['track']['id'] for x in summer_2022_dict['items']]"
   ]
  },
  {
   "cell_type": "code",
   "execution_count": null,
   "id": "2a8a1216",
   "metadata": {},
   "outputs": [],
   "source": [
    "summer_2022_track_ids"
   ]
  },
  {
   "cell_type": "code",
   "execution_count": 203,
   "id": "2920c8d9",
   "metadata": {},
   "outputs": [],
   "source": [
    "summer_2022_track_strings = ','.join(str(x) for x in summer_2022_track_ids)"
   ]
  },
  {
   "cell_type": "code",
   "execution_count": 204,
   "id": "7823493a",
   "metadata": {},
   "outputs": [
    {
     "data": {
      "text/plain": [
       "'2ZWlPOoWh0626oTaHrnl2a,2KHS3nIZrcWYM5txO4uM9N,3y7rwNtVmSo0dN5mhvv2dg,5Iq9CfQQSqeU7sPzdACC67,7b7wO3Je7i2HhyipNhcs1u,5q4BpnMrYEFzLO0dYODj6J,2uatFg68ynGEapEel9ASuK,6TT7B4MigCJCc0tqKYEpZC,0Oqc0kKFsQ6MhFOLBNZIGX,0mO6oS60RST2sWmN2FKknP,52ojopYMUzeNcudsoz7O9D,0JaVdpmiex2EP7bBzyKVTa,5exEU6LbxN4T4sY1nV5NfV,4QhWbupniDd44EDtnh2bFJ,7vRfxLcDDwgYW2WTrtEgUV,6K4t31amVTZDgR3sKmwUJJ,5bJ1DrEM4hNCafcDd1oxHx,0mCVNGC4Vvb6gDDQrDpaRh,524wvipGqxPKYWxkjf9y46,3i058E8uxTsYqJ5NWZzqSj,0g0sBPiXWelqPXS94iK4GU,5GUYJTQap5F3RDQiCOJhrS,32PhQGVwurZaoJrCvrh0nl,1WmEhKIzErn1aZNFf2m4FU,5ItZV96L6vLaicagdCUOTv,7Hxv4S989OEWkmq4QyhZLF,1EgLBP2HQsYf9Eh4bmQfWb,2NcQic8JxdjAlAHuNbOIRE,4sNG6zQBmtq7M8aeeKJRMQ,527hCrRlmminMcon8EaPGB,0BLY78hYpsH9NqP6X0N8CX,735rjks7kQgWCjTQlIHMuH,5xKvxwXINUs2dsyvDJ8Gjs,3QLjDkgLh9AOEHlhQtDuhs,7DrzZN5jaDyE0a0tVuVWnj,0YMe6PHRbeDcN7KJdCG0bW,0O3TAouZE4vL9dM5SyxgvH,1xLs8Mu1QEVbGCpyHQ2r2U,1h9cnXG82LBUy9l1FnYPCA,2F9DCIJ7ZXHhNkiIlIIOkw,7LigIDzs63Y4uFlZvNzCZq,6K8VQ84MqhsoakN5MjrnVR,3jS7bB0oXVOwGFZn3aE5NV,5YFIbauvzRGfW7xktVjR0I,7ARveOiD31w2Nq0n5FsSf8,38YclYWc3cxYdHoYxZ79jN,05iiUswjL7bPTeAcOfcIGR,1mw0RgNXIpYRyyCdBQbLgA'"
      ]
     },
     "execution_count": 204,
     "metadata": {},
     "output_type": "execute_result"
    }
   ],
   "source": [
    "summer_2022_track_strings"
   ]
  },
  {
   "cell_type": "code",
   "execution_count": null,
   "id": "de3e8825",
   "metadata": {},
   "outputs": [],
   "source": []
  }
 ],
 "metadata": {
  "kernelspec": {
   "display_name": "Python 3 (ipykernel)",
   "language": "python",
   "name": "python3"
  },
  "language_info": {
   "codemirror_mode": {
    "name": "ipython",
    "version": 3
   },
   "file_extension": ".py",
   "mimetype": "text/x-python",
   "name": "python",
   "nbconvert_exporter": "python",
   "pygments_lexer": "ipython3",
   "version": "3.10.4"
  }
 },
 "nbformat": 4,
 "nbformat_minor": 5
}
