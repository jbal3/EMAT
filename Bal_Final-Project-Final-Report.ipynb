{
 "cells": [
  {
   "cell_type": "markdown",
   "id": "3939041c",
   "metadata": {},
   "source": [
    "## Changing Seasons, Changing Songs ##\n",
    "### Comparing the Genres of Songs on my Summer and Fall 2022 Spotify playlists ###\n",
    "\n",
    "The goal of this project is to discover if I listen to different genres at different times of year or if I have favorite genres that surpass the boundaries of seasons.\n"
   ]
  },
  {
   "cell_type": "markdown",
   "id": "66ac3048",
   "metadata": {},
   "source": [
    "I started the project by loading in the needed packages."
   ]
  },
  {
   "cell_type": "code",
   "execution_count": 186,
   "id": "5d8484d6",
   "metadata": {},
   "outputs": [],
   "source": [
    "import json\n",
    "import pandas as pd\n",
    "import requests\n",
    "import base64"
   ]
  },
  {
   "cell_type": "code",
   "execution_count": 187,
   "id": "d7e6b8b3",
   "metadata": {},
   "outputs": [],
   "source": [
    "keys = pd.read_csv(\"Spotify-Keys_9-23-21\", header = 0, sep = \",\")"
   ]
  },
  {
   "cell_type": "code",
   "execution_count": 188,
   "id": "81231b07",
   "metadata": {},
   "outputs": [],
   "source": [
    "appid = keys['Client_ID'][0]"
   ]
  },
  {
   "cell_type": "code",
   "execution_count": 189,
   "id": "7752580e",
   "metadata": {},
   "outputs": [],
   "source": [
    "appsecret = keys['Client_Secret'][0]"
   ]
  },
  {
   "cell_type": "code",
   "execution_count": 190,
   "id": "60e4aa60",
   "metadata": {},
   "outputs": [],
   "source": [
    "client_cred = base64.b64encode(str(appid + \":\" + appsecret).encode('ascii'))"
   ]
  },
  {
   "cell_type": "code",
   "execution_count": 191,
   "id": "15d69227",
   "metadata": {},
   "outputs": [],
   "source": [
    "header = {'Authorization': 'Basic {}'.format(client_cred.decode('ascii'))}"
   ]
  },
  {
   "cell_type": "code",
   "execution_count": 192,
   "id": "b38e44cb",
   "metadata": {},
   "outputs": [],
   "source": [
    "payload = {'grant_type' : 'client_credentials'}\n",
    "access_token_url = \"https://accounts.spotify.com/api/token\""
   ]
  },
  {
   "cell_type": "code",
   "execution_count": 193,
   "id": "b5e81a89",
   "metadata": {},
   "outputs": [],
   "source": [
    "response = requests.post(access_token_url, headers = header, data = payload)"
   ]
  },
  {
   "cell_type": "code",
   "execution_count": 194,
   "id": "af215969",
   "metadata": {},
   "outputs": [],
   "source": [
    "session_token = response.json()['access_token']"
   ]
  },
  {
   "cell_type": "code",
   "execution_count": 195,
   "id": "a9f1b560",
   "metadata": {},
   "outputs": [],
   "source": [
    "session_header = {'Authorization': 'Bearer {}'.format(response.json()['access_token'])}"
   ]
  },
  {
   "cell_type": "markdown",
   "id": "7f43dad7",
   "metadata": {},
   "source": [
    "### Fall 2022 Data Collection ###"
   ]
  },
  {
   "cell_type": "markdown",
   "id": "5580637e",
   "metadata": {},
   "source": [
    "I collected the fall data by first loading in the playlist information and creating a data frame with each track as an individual row. Then I created a data frame with each artist as a row. I combined them into one using the merge function and deleted all the unneeded columns. Lastly, I exported the data frame as a CSV file."
   ]
  },
  {
   "cell_type": "code",
   "execution_count": 196,
   "id": "3d2be495",
   "metadata": {},
   "outputs": [],
   "source": [
    "fall_2022_id = '5qFxkaLI6E8pCj7eBytI5v'"
   ]
  },
  {
   "cell_type": "code",
   "execution_count": 197,
   "id": "f4915d6a",
   "metadata": {},
   "outputs": [],
   "source": [
    "playlist_tracks_endpoint = \"https://api.spotify.com/v1/playlists/{}/tracks\".format(fall_2022_id)"
   ]
  },
  {
   "cell_type": "code",
   "execution_count": 198,
   "id": "26e53912",
   "metadata": {},
   "outputs": [],
   "source": [
    "fall_2022_tracks = requests.get(playlist_tracks_endpoint, headers = session_header)"
   ]
  },
  {
   "cell_type": "code",
   "execution_count": 199,
   "id": "1149b557",
   "metadata": {},
   "outputs": [
    {
     "data": {
      "text/plain": [
       "200"
      ]
     },
     "execution_count": 199,
     "metadata": {},
     "output_type": "execute_result"
    }
   ],
   "source": [
    "fall_2022_tracks.status_code"
   ]
  },
  {
   "cell_type": "code",
   "execution_count": 200,
   "id": "33b10601",
   "metadata": {},
   "outputs": [],
   "source": [
    "fall_2022_dict = json.loads(fall_2022_tracks.text)"
   ]
  },
  {
   "cell_type": "code",
   "execution_count": 201,
   "id": "acabd83a",
   "metadata": {},
   "outputs": [
    {
     "data": {
      "text/plain": [
       "dict_keys(['href', 'items', 'limit', 'next', 'offset', 'previous', 'total'])"
      ]
     },
     "execution_count": 201,
     "metadata": {},
     "output_type": "execute_result"
    }
   ],
   "source": [
    "fall_2022_dict.keys()"
   ]
  },
  {
   "cell_type": "code",
   "execution_count": 202,
   "id": "0ffc4ada",
   "metadata": {},
   "outputs": [
    {
     "data": {
      "text/plain": [
       "dict_keys(['added_at', 'added_by', 'is_local', 'primary_color', 'track', 'video_thumbnail'])"
      ]
     },
     "execution_count": 202,
     "metadata": {},
     "output_type": "execute_result"
    }
   ],
   "source": [
    "fall_2022_dict['items'][0].keys()"
   ]
  },
  {
   "cell_type": "code",
   "execution_count": 203,
   "id": "3aeb2f8d",
   "metadata": {},
   "outputs": [
    {
     "data": {
      "text/plain": [
       "'2uatFg68ynGEapEel9ASuK'"
      ]
     },
     "execution_count": 203,
     "metadata": {},
     "output_type": "execute_result"
    }
   ],
   "source": [
    "fall_2022_dict['items'][0]['track']['id']"
   ]
  },
  {
   "cell_type": "code",
   "execution_count": 204,
   "id": "a31f391c",
   "metadata": {},
   "outputs": [
    {
     "data": {
      "text/plain": [
       "dict_keys(['external_urls', 'href', 'id', 'name', 'type', 'uri'])"
      ]
     },
     "execution_count": 204,
     "metadata": {},
     "output_type": "execute_result"
    }
   ],
   "source": [
    "fall_2022_dict['items'][0]['track']['artists'][0].keys()"
   ]
  },
  {
   "cell_type": "code",
   "execution_count": 205,
   "id": "e8afb3cf",
   "metadata": {},
   "outputs": [
    {
     "data": {
      "text/plain": [
       "'7vtSUU3zpHeYJfX6BPNrJd'"
      ]
     },
     "execution_count": 205,
     "metadata": {},
     "output_type": "execute_result"
    }
   ],
   "source": [
    "fall_2022_dict['items'][0]['track']['artists'][0]['id']"
   ]
  },
  {
   "cell_type": "code",
   "execution_count": 206,
   "id": "d7ff054c",
   "metadata": {},
   "outputs": [],
   "source": [
    "fall_2022_track_ids = [x['track']['id'] for x in fall_2022_dict['items']]"
   ]
  },
  {
   "cell_type": "code",
   "execution_count": 207,
   "id": "6efa73be",
   "metadata": {
    "scrolled": false
   },
   "outputs": [
    {
     "data": {
      "text/plain": [
       "['2uatFg68ynGEapEel9ASuK',\n",
       " '53taBvemC88CMHP2I1xAFX',\n",
       " '7sgNQ34g23PpgpfAAuxMPy',\n",
       " '4HHqDiNjHlsWtxqXoTR00O',\n",
       " '4VeCmOb1rAEZQfH7Rlms9C',\n",
       " '78vv48Ic6syaE6kWqDGY47',\n",
       " '3Hvg5tRKsQlX25wYwgMF9p',\n",
       " '6lCvK2AR2uOKkVFCVlAzzm',\n",
       " '57V4uc2b2diZ4RPHXWecb9',\n",
       " '3Z2anmIVG8b1GelyeFQdnP',\n",
       " '0zesU7Cq6UM582kMYC6J3E',\n",
       " '7nDFTHHwfe32a8qdp9XqPy',\n",
       " '3rXCZRMiMZp0feGcYXpwYX',\n",
       " '7trx783SvnHhKkmgSSTIFJ',\n",
       " '01K4zKU104LyJ8gMb7227B',\n",
       " '5ASPgiUgnrHCfwnJlh04ZR',\n",
       " '2qhfWLkKqWripwiw8DJdGU',\n",
       " '3o1cohFfwd57rAvrbyVE5e',\n",
       " '0GNVXNz7Jkicfk2mp5OyG5',\n",
       " '3cfeJE1UxGSOdtaQPkR2nd',\n",
       " '6sQckd3Z8NPxVVKUnavY1F',\n",
       " '7yNTZj1ugKCeRJdSP1meOk',\n",
       " '3hiuZQQ33aDnu4Xmmn8Lr7',\n",
       " '6vIyrLqStTPvZ6zwdW0zNw',\n",
       " '14Aob2QYJ9Ija9pw9eJSI7',\n",
       " '75nZ4W6quZhI55LKiqCXWh',\n",
       " '1YenbnUpxiTyG15aLTl7JO',\n",
       " '4GvdsVns332wQ3JsWAg2OV',\n",
       " '3ekNuTF3UpOvIZCfiejpnC',\n",
       " '5enxwA8aAbwZbf5qCHORXi',\n",
       " '2CK9xYMVdmJMPKZyArVbt4',\n",
       " '4Ifsg8iWpPy5qN5GDHnpta',\n",
       " '0ZAbupc7jAQpG9IxojQ3s3',\n",
       " '6255IIBwKySv6RYrOeHfQh',\n",
       " '5EKqsMU2tn1iAYNQF8h0ll',\n",
       " '3HAgxyWGeJtIVabS2mTREt',\n",
       " '5hAFKx1IMhvx73JA6MSkIP',\n",
       " '3PUMPtOSeXSJsBvK43K96b',\n",
       " '20svOpmCQao5GUBgSu8zDe',\n",
       " '7MbT4I8qGntX4fMdqMQgke',\n",
       " '2MMZ1Llts0rTaU834P2Xct',\n",
       " '2PfkfkaO9okAk0OxC4ggy5',\n",
       " '6hUTzxvNiJ1c0lYqgoOTBW']"
      ]
     },
     "execution_count": 207,
     "metadata": {},
     "output_type": "execute_result"
    }
   ],
   "source": [
    "fall_2022_track_ids"
   ]
  },
  {
   "cell_type": "code",
   "execution_count": 208,
   "id": "3dc1a357",
   "metadata": {},
   "outputs": [],
   "source": [
    "fall_2022_track_strings = ','.join(str(x) for x in fall_2022_track_ids)"
   ]
  },
  {
   "cell_type": "code",
   "execution_count": 209,
   "id": "5212c3d3",
   "metadata": {},
   "outputs": [
    {
     "data": {
      "text/plain": [
       "'2uatFg68ynGEapEel9ASuK,53taBvemC88CMHP2I1xAFX,7sgNQ34g23PpgpfAAuxMPy,4HHqDiNjHlsWtxqXoTR00O,4VeCmOb1rAEZQfH7Rlms9C,78vv48Ic6syaE6kWqDGY47,3Hvg5tRKsQlX25wYwgMF9p,6lCvK2AR2uOKkVFCVlAzzm,57V4uc2b2diZ4RPHXWecb9,3Z2anmIVG8b1GelyeFQdnP,0zesU7Cq6UM582kMYC6J3E,7nDFTHHwfe32a8qdp9XqPy,3rXCZRMiMZp0feGcYXpwYX,7trx783SvnHhKkmgSSTIFJ,01K4zKU104LyJ8gMb7227B,5ASPgiUgnrHCfwnJlh04ZR,2qhfWLkKqWripwiw8DJdGU,3o1cohFfwd57rAvrbyVE5e,0GNVXNz7Jkicfk2mp5OyG5,3cfeJE1UxGSOdtaQPkR2nd,6sQckd3Z8NPxVVKUnavY1F,7yNTZj1ugKCeRJdSP1meOk,3hiuZQQ33aDnu4Xmmn8Lr7,6vIyrLqStTPvZ6zwdW0zNw,14Aob2QYJ9Ija9pw9eJSI7,75nZ4W6quZhI55LKiqCXWh,1YenbnUpxiTyG15aLTl7JO,4GvdsVns332wQ3JsWAg2OV,3ekNuTF3UpOvIZCfiejpnC,5enxwA8aAbwZbf5qCHORXi,2CK9xYMVdmJMPKZyArVbt4,4Ifsg8iWpPy5qN5GDHnpta,0ZAbupc7jAQpG9IxojQ3s3,6255IIBwKySv6RYrOeHfQh,5EKqsMU2tn1iAYNQF8h0ll,3HAgxyWGeJtIVabS2mTREt,5hAFKx1IMhvx73JA6MSkIP,3PUMPtOSeXSJsBvK43K96b,20svOpmCQao5GUBgSu8zDe,7MbT4I8qGntX4fMdqMQgke,2MMZ1Llts0rTaU834P2Xct,2PfkfkaO9okAk0OxC4ggy5,6hUTzxvNiJ1c0lYqgoOTBW'"
      ]
     },
     "execution_count": 209,
     "metadata": {},
     "output_type": "execute_result"
    }
   ],
   "source": [
    "fall_2022_track_strings"
   ]
  },
  {
   "cell_type": "code",
   "execution_count": 210,
   "id": "d7ba0dee",
   "metadata": {},
   "outputs": [],
   "source": [
    "track_endpoint = \"https://api.spotify.com/v1/tracks?ids={}\".format(fall_2022_track_strings)"
   ]
  },
  {
   "cell_type": "code",
   "execution_count": 211,
   "id": "4cce05d8",
   "metadata": {},
   "outputs": [],
   "source": [
    "fall_2022_tracks_info = requests.get(track_endpoint, headers = session_header)"
   ]
  },
  {
   "cell_type": "code",
   "execution_count": 212,
   "id": "56e59757",
   "metadata": {
    "scrolled": true
   },
   "outputs": [
    {
     "data": {
      "text/plain": [
       "200"
      ]
     },
     "execution_count": 212,
     "metadata": {},
     "output_type": "execute_result"
    }
   ],
   "source": [
    "fall_2022_tracks_info.status_code"
   ]
  },
  {
   "cell_type": "code",
   "execution_count": 213,
   "id": "94706d8c",
   "metadata": {},
   "outputs": [],
   "source": [
    "fall_2022_dict = json.loads(fall_2022_tracks_info.text)"
   ]
  },
  {
   "cell_type": "code",
   "execution_count": 214,
   "id": "acde5754",
   "metadata": {},
   "outputs": [
    {
     "data": {
      "text/plain": [
       "dict_keys(['tracks'])"
      ]
     },
     "execution_count": 214,
     "metadata": {},
     "output_type": "execute_result"
    }
   ],
   "source": [
    "fall_2022_dict.keys()"
   ]
  },
  {
   "cell_type": "code",
   "execution_count": 215,
   "id": "0d0705c7",
   "metadata": {},
   "outputs": [],
   "source": [
    "fall_2022_tracks_df = pd.DataFrame(fall_2022_dict['tracks'])"
   ]
  },
  {
   "cell_type": "code",
   "execution_count": 216,
   "id": "ea1e2814",
   "metadata": {
    "scrolled": true
   },
   "outputs": [
    {
     "data": {
      "text/html": [
       "<div>\n",
       "<style scoped>\n",
       "    .dataframe tbody tr th:only-of-type {\n",
       "        vertical-align: middle;\n",
       "    }\n",
       "\n",
       "    .dataframe tbody tr th {\n",
       "        vertical-align: top;\n",
       "    }\n",
       "\n",
       "    .dataframe thead th {\n",
       "        text-align: right;\n",
       "    }\n",
       "</style>\n",
       "<table border=\"1\" class=\"dataframe\">\n",
       "  <thead>\n",
       "    <tr style=\"text-align: right;\">\n",
       "      <th></th>\n",
       "      <th>album</th>\n",
       "      <th>artists</th>\n",
       "      <th>available_markets</th>\n",
       "      <th>disc_number</th>\n",
       "      <th>duration_ms</th>\n",
       "      <th>explicit</th>\n",
       "      <th>external_ids</th>\n",
       "      <th>external_urls</th>\n",
       "      <th>href</th>\n",
       "      <th>id</th>\n",
       "      <th>is_local</th>\n",
       "      <th>name</th>\n",
       "      <th>popularity</th>\n",
       "      <th>preview_url</th>\n",
       "      <th>track_number</th>\n",
       "      <th>type</th>\n",
       "      <th>uri</th>\n",
       "    </tr>\n",
       "  </thead>\n",
       "  <tbody>\n",
       "    <tr>\n",
       "      <th>0</th>\n",
       "      <td>{'album_type': 'single', 'artists': [{'externa...</td>\n",
       "      <td>[{'external_urls': {'spotify': 'https://open.s...</td>\n",
       "      <td>[AD, AE, AG, AL, AM, AO, AR, AT, AU, AZ, BA, B...</td>\n",
       "      <td>1</td>\n",
       "      <td>278983</td>\n",
       "      <td>True</td>\n",
       "      <td>{'isrc': 'USAT21901844'}</td>\n",
       "      <td>{'spotify': 'https://open.spotify.com/track/2u...</td>\n",
       "      <td>https://api.spotify.com/v1/tracks/2uatFg68ynGE...</td>\n",
       "      <td>2uatFg68ynGEapEel9ASuK</td>\n",
       "      <td>False</td>\n",
       "      <td>Fool's Gold</td>\n",
       "      <td>54</td>\n",
       "      <td>https://p.scdn.co/mp3-preview/7dbf7deeaa297d44...</td>\n",
       "      <td>3</td>\n",
       "      <td>track</td>\n",
       "      <td>spotify:track:2uatFg68ynGEapEel9ASuK</td>\n",
       "    </tr>\n",
       "  </tbody>\n",
       "</table>\n",
       "</div>"
      ],
      "text/plain": [
       "                                               album  \\\n",
       "0  {'album_type': 'single', 'artists': [{'externa...   \n",
       "\n",
       "                                             artists  \\\n",
       "0  [{'external_urls': {'spotify': 'https://open.s...   \n",
       "\n",
       "                                   available_markets  disc_number  \\\n",
       "0  [AD, AE, AG, AL, AM, AO, AR, AT, AU, AZ, BA, B...            1   \n",
       "\n",
       "   duration_ms  explicit              external_ids  \\\n",
       "0       278983      True  {'isrc': 'USAT21901844'}   \n",
       "\n",
       "                                       external_urls  \\\n",
       "0  {'spotify': 'https://open.spotify.com/track/2u...   \n",
       "\n",
       "                                                href                      id  \\\n",
       "0  https://api.spotify.com/v1/tracks/2uatFg68ynGE...  2uatFg68ynGEapEel9ASuK   \n",
       "\n",
       "   is_local         name  popularity  \\\n",
       "0     False  Fool's Gold          54   \n",
       "\n",
       "                                         preview_url  track_number   type  \\\n",
       "0  https://p.scdn.co/mp3-preview/7dbf7deeaa297d44...             3  track   \n",
       "\n",
       "                                    uri  \n",
       "0  spotify:track:2uatFg68ynGEapEel9ASuK  "
      ]
     },
     "execution_count": 216,
     "metadata": {},
     "output_type": "execute_result"
    }
   ],
   "source": [
    "fall_2022_tracks_df.head(1)"
   ]
  },
  {
   "cell_type": "code",
   "execution_count": 217,
   "id": "792bd091",
   "metadata": {
    "scrolled": true
   },
   "outputs": [
    {
     "data": {
      "text/plain": [
       "[{'external_urls': {'spotify': 'https://open.spotify.com/artist/7vtSUU3zpHeYJfX6BPNrJd'},\n",
       "  'href': 'https://api.spotify.com/v1/artists/7vtSUU3zpHeYJfX6BPNrJd',\n",
       "  'id': '7vtSUU3zpHeYJfX6BPNrJd',\n",
       "  'name': 'Briston Maroney',\n",
       "  'type': 'artist',\n",
       "  'uri': 'spotify:artist:7vtSUU3zpHeYJfX6BPNrJd'}]"
      ]
     },
     "execution_count": 217,
     "metadata": {},
     "output_type": "execute_result"
    }
   ],
   "source": [
    "fall_2022_tracks_df['artists'][0]"
   ]
  },
  {
   "cell_type": "code",
   "execution_count": 218,
   "id": "22699524",
   "metadata": {},
   "outputs": [
    {
     "data": {
      "text/plain": [
       "'7vtSUU3zpHeYJfX6BPNrJd'"
      ]
     },
     "execution_count": 218,
     "metadata": {},
     "output_type": "execute_result"
    }
   ],
   "source": [
    "fall_2022_tracks_df['artists'][0][0]['id']"
   ]
  },
  {
   "cell_type": "code",
   "execution_count": 219,
   "id": "8a54a9e1",
   "metadata": {},
   "outputs": [],
   "source": [
    "fall_2022_artist_id = [x[0]['id'] for x in fall_2022_tracks_df['artists']]"
   ]
  },
  {
   "cell_type": "code",
   "execution_count": 220,
   "id": "053048d7",
   "metadata": {
    "scrolled": true
   },
   "outputs": [
    {
     "data": {
      "text/plain": [
       "['7vtSUU3zpHeYJfX6BPNrJd',\n",
       " '1GmsPCcpKgF9OhlNXjOsbS',\n",
       " '0wyMPXGfOuQzNR54ujR9Ix',\n",
       " '4wMfqR1EZagrSlYndItxGQ',\n",
       " '3gd8FJtBJtkRxdfbTu19U2',\n",
       " '3nYYI90ObxhjLjdxaoXGSa',\n",
       " '16oZKvXb6WkQlVAjwo2Wbg',\n",
       " '06HL4z0CvFAxyc27GXpf02',\n",
       " '2FXC3k01G6Gw61bmprjgqS',\n",
       " '2RQXRUsr4IW1f3mKyKsy4B',\n",
       " '0wyMPXGfOuQzNR54ujR9Ix',\n",
       " '2RQXRUsr4IW1f3mKyKsy4B',\n",
       " '25IG9fa7cbdmCIy3OnuH57',\n",
       " '4hz8tIajF2INpgM0qzPJz2',\n",
       " '06HL4z0CvFAxyc27GXpf02',\n",
       " '1r1uxoy19fzMxunt3ONAkG',\n",
       " '16oZKvXb6WkQlVAjwo2Wbg',\n",
       " '4dwdTW1Lfiq0cM8nBAqIIz',\n",
       " '2RQXRUsr4IW1f3mKyKsy4B',\n",
       " '4wMfqR1EZagrSlYndItxGQ',\n",
       " '06HL4z0CvFAxyc27GXpf02',\n",
       " '25IG9fa7cbdmCIy3OnuH57',\n",
       " '1GmsPCcpKgF9OhlNXjOsbS',\n",
       " '4dwdTW1Lfiq0cM8nBAqIIz',\n",
       " '1moxjboGR7GNWYIMWsRjgG',\n",
       " '0wyMPXGfOuQzNR54ujR9Ix',\n",
       " '4dwdTW1Lfiq0cM8nBAqIIz',\n",
       " '1r1uxoy19fzMxunt3ONAkG',\n",
       " '16oZKvXb6WkQlVAjwo2Wbg',\n",
       " '06HL4z0CvFAxyc27GXpf02',\n",
       " '1GmsPCcpKgF9OhlNXjOsbS',\n",
       " '7nW46aJfNHxK9Y3M5Dhadk',\n",
       " '4hz8tIajF2INpgM0qzPJz2',\n",
       " '0wyMPXGfOuQzNR54ujR9Ix',\n",
       " '16oZKvXb6WkQlVAjwo2Wbg',\n",
       " '0wyMPXGfOuQzNR54ujR9Ix',\n",
       " '2RQXRUsr4IW1f3mKyKsy4B',\n",
       " '4NZvixzsSefsNiIqXn0NDe',\n",
       " '0n94vC3S9c3mb2HyNAOcjg',\n",
       " '06HL4z0CvFAxyc27GXpf02',\n",
       " '25IG9fa7cbdmCIy3OnuH57',\n",
       " '2hR4h1Cao2ueuI7Cx9c7V8',\n",
       " '7gRGh8w4G9zaFJSaIYp8HH']"
      ]
     },
     "execution_count": 220,
     "metadata": {},
     "output_type": "execute_result"
    }
   ],
   "source": [
    "fall_2022_artist_id"
   ]
  },
  {
   "cell_type": "code",
   "execution_count": 221,
   "id": "01d6fbf0",
   "metadata": {},
   "outputs": [],
   "source": [
    "fall_2022_tracks_df['artists'] = fall_2022_artist_id"
   ]
  },
  {
   "cell_type": "code",
   "execution_count": 222,
   "id": "838995e4",
   "metadata": {
    "scrolled": true
   },
   "outputs": [
    {
     "data": {
      "text/html": [
       "<div>\n",
       "<style scoped>\n",
       "    .dataframe tbody tr th:only-of-type {\n",
       "        vertical-align: middle;\n",
       "    }\n",
       "\n",
       "    .dataframe tbody tr th {\n",
       "        vertical-align: top;\n",
       "    }\n",
       "\n",
       "    .dataframe thead th {\n",
       "        text-align: right;\n",
       "    }\n",
       "</style>\n",
       "<table border=\"1\" class=\"dataframe\">\n",
       "  <thead>\n",
       "    <tr style=\"text-align: right;\">\n",
       "      <th></th>\n",
       "      <th>album</th>\n",
       "      <th>artists</th>\n",
       "      <th>available_markets</th>\n",
       "      <th>disc_number</th>\n",
       "      <th>duration_ms</th>\n",
       "      <th>explicit</th>\n",
       "      <th>external_ids</th>\n",
       "      <th>external_urls</th>\n",
       "      <th>href</th>\n",
       "      <th>id</th>\n",
       "      <th>is_local</th>\n",
       "      <th>name</th>\n",
       "      <th>popularity</th>\n",
       "      <th>preview_url</th>\n",
       "      <th>track_number</th>\n",
       "      <th>type</th>\n",
       "      <th>uri</th>\n",
       "    </tr>\n",
       "  </thead>\n",
       "  <tbody>\n",
       "    <tr>\n",
       "      <th>0</th>\n",
       "      <td>{'album_type': 'single', 'artists': [{'externa...</td>\n",
       "      <td>7vtSUU3zpHeYJfX6BPNrJd</td>\n",
       "      <td>[AD, AE, AG, AL, AM, AO, AR, AT, AU, AZ, BA, B...</td>\n",
       "      <td>1</td>\n",
       "      <td>278983</td>\n",
       "      <td>True</td>\n",
       "      <td>{'isrc': 'USAT21901844'}</td>\n",
       "      <td>{'spotify': 'https://open.spotify.com/track/2u...</td>\n",
       "      <td>https://api.spotify.com/v1/tracks/2uatFg68ynGE...</td>\n",
       "      <td>2uatFg68ynGEapEel9ASuK</td>\n",
       "      <td>False</td>\n",
       "      <td>Fool's Gold</td>\n",
       "      <td>54</td>\n",
       "      <td>https://p.scdn.co/mp3-preview/7dbf7deeaa297d44...</td>\n",
       "      <td>3</td>\n",
       "      <td>track</td>\n",
       "      <td>spotify:track:2uatFg68ynGEapEel9ASuK</td>\n",
       "    </tr>\n",
       "  </tbody>\n",
       "</table>\n",
       "</div>"
      ],
      "text/plain": [
       "                                               album                 artists  \\\n",
       "0  {'album_type': 'single', 'artists': [{'externa...  7vtSUU3zpHeYJfX6BPNrJd   \n",
       "\n",
       "                                   available_markets  disc_number  \\\n",
       "0  [AD, AE, AG, AL, AM, AO, AR, AT, AU, AZ, BA, B...            1   \n",
       "\n",
       "   duration_ms  explicit              external_ids  \\\n",
       "0       278983      True  {'isrc': 'USAT21901844'}   \n",
       "\n",
       "                                       external_urls  \\\n",
       "0  {'spotify': 'https://open.spotify.com/track/2u...   \n",
       "\n",
       "                                                href                      id  \\\n",
       "0  https://api.spotify.com/v1/tracks/2uatFg68ynGE...  2uatFg68ynGEapEel9ASuK   \n",
       "\n",
       "   is_local         name  popularity  \\\n",
       "0     False  Fool's Gold          54   \n",
       "\n",
       "                                         preview_url  track_number   type  \\\n",
       "0  https://p.scdn.co/mp3-preview/7dbf7deeaa297d44...             3  track   \n",
       "\n",
       "                                    uri  \n",
       "0  spotify:track:2uatFg68ynGEapEel9ASuK  "
      ]
     },
     "execution_count": 222,
     "metadata": {},
     "output_type": "execute_result"
    }
   ],
   "source": [
    "fall_2022_tracks_df.head(1)"
   ]
  },
  {
   "cell_type": "code",
   "execution_count": 223,
   "id": "b54e5585",
   "metadata": {},
   "outputs": [],
   "source": [
    "fall_2022_tracks = fall_2022_tracks_df.drop(['album', 'available_markets', 'disc_number', 'duration_ms', 'explicit', 'external_ids', 'external_urls', 'href', 'is_local', 'popularity', 'preview_url', 'track_number', 'type', 'uri'], axis = 1)"
   ]
  },
  {
   "cell_type": "code",
   "execution_count": 224,
   "id": "c48ecf30",
   "metadata": {},
   "outputs": [
    {
     "data": {
      "text/html": [
       "<div>\n",
       "<style scoped>\n",
       "    .dataframe tbody tr th:only-of-type {\n",
       "        vertical-align: middle;\n",
       "    }\n",
       "\n",
       "    .dataframe tbody tr th {\n",
       "        vertical-align: top;\n",
       "    }\n",
       "\n",
       "    .dataframe thead th {\n",
       "        text-align: right;\n",
       "    }\n",
       "</style>\n",
       "<table border=\"1\" class=\"dataframe\">\n",
       "  <thead>\n",
       "    <tr style=\"text-align: right;\">\n",
       "      <th></th>\n",
       "      <th>artists</th>\n",
       "      <th>id</th>\n",
       "      <th>name</th>\n",
       "    </tr>\n",
       "  </thead>\n",
       "  <tbody>\n",
       "    <tr>\n",
       "      <th>0</th>\n",
       "      <td>7vtSUU3zpHeYJfX6BPNrJd</td>\n",
       "      <td>2uatFg68ynGEapEel9ASuK</td>\n",
       "      <td>Fool's Gold</td>\n",
       "    </tr>\n",
       "    <tr>\n",
       "      <th>1</th>\n",
       "      <td>1GmsPCcpKgF9OhlNXjOsbS</td>\n",
       "      <td>53taBvemC88CMHP2I1xAFX</td>\n",
       "      <td>Means Something</td>\n",
       "    </tr>\n",
       "    <tr>\n",
       "      <th>2</th>\n",
       "      <td>0wyMPXGfOuQzNR54ujR9Ix</td>\n",
       "      <td>7sgNQ34g23PpgpfAAuxMPy</td>\n",
       "      <td>Light</td>\n",
       "    </tr>\n",
       "    <tr>\n",
       "      <th>3</th>\n",
       "      <td>4wMfqR1EZagrSlYndItxGQ</td>\n",
       "      <td>4HHqDiNjHlsWtxqXoTR00O</td>\n",
       "      <td>i think about you all the time</td>\n",
       "    </tr>\n",
       "    <tr>\n",
       "      <th>4</th>\n",
       "      <td>3gd8FJtBJtkRxdfbTu19U2</td>\n",
       "      <td>4VeCmOb1rAEZQfH7Rlms9C</td>\n",
       "      <td>Guiding Light</td>\n",
       "    </tr>\n",
       "  </tbody>\n",
       "</table>\n",
       "</div>"
      ],
      "text/plain": [
       "                  artists                      id  \\\n",
       "0  7vtSUU3zpHeYJfX6BPNrJd  2uatFg68ynGEapEel9ASuK   \n",
       "1  1GmsPCcpKgF9OhlNXjOsbS  53taBvemC88CMHP2I1xAFX   \n",
       "2  0wyMPXGfOuQzNR54ujR9Ix  7sgNQ34g23PpgpfAAuxMPy   \n",
       "3  4wMfqR1EZagrSlYndItxGQ  4HHqDiNjHlsWtxqXoTR00O   \n",
       "4  3gd8FJtBJtkRxdfbTu19U2  4VeCmOb1rAEZQfH7Rlms9C   \n",
       "\n",
       "                             name  \n",
       "0                     Fool's Gold  \n",
       "1                 Means Something  \n",
       "2                           Light  \n",
       "3  i think about you all the time  \n",
       "4                   Guiding Light  "
      ]
     },
     "execution_count": 224,
     "metadata": {},
     "output_type": "execute_result"
    }
   ],
   "source": [
    "fall_2022_tracks.head()"
   ]
  },
  {
   "cell_type": "code",
   "execution_count": 225,
   "id": "dd44398e",
   "metadata": {
    "scrolled": true
   },
   "outputs": [
    {
     "data": {
      "text/plain": [
       "['7vtSUU3zpHeYJfX6BPNrJd',\n",
       " '1GmsPCcpKgF9OhlNXjOsbS',\n",
       " '0wyMPXGfOuQzNR54ujR9Ix',\n",
       " '4wMfqR1EZagrSlYndItxGQ',\n",
       " '3gd8FJtBJtkRxdfbTu19U2',\n",
       " '3nYYI90ObxhjLjdxaoXGSa',\n",
       " '16oZKvXb6WkQlVAjwo2Wbg',\n",
       " '06HL4z0CvFAxyc27GXpf02',\n",
       " '2FXC3k01G6Gw61bmprjgqS',\n",
       " '2RQXRUsr4IW1f3mKyKsy4B',\n",
       " '0wyMPXGfOuQzNR54ujR9Ix',\n",
       " '2RQXRUsr4IW1f3mKyKsy4B',\n",
       " '25IG9fa7cbdmCIy3OnuH57',\n",
       " '4hz8tIajF2INpgM0qzPJz2',\n",
       " '06HL4z0CvFAxyc27GXpf02',\n",
       " '1r1uxoy19fzMxunt3ONAkG',\n",
       " '16oZKvXb6WkQlVAjwo2Wbg',\n",
       " '4dwdTW1Lfiq0cM8nBAqIIz',\n",
       " '2RQXRUsr4IW1f3mKyKsy4B',\n",
       " '4wMfqR1EZagrSlYndItxGQ',\n",
       " '06HL4z0CvFAxyc27GXpf02',\n",
       " '25IG9fa7cbdmCIy3OnuH57',\n",
       " '1GmsPCcpKgF9OhlNXjOsbS',\n",
       " '4dwdTW1Lfiq0cM8nBAqIIz',\n",
       " '1moxjboGR7GNWYIMWsRjgG',\n",
       " '0wyMPXGfOuQzNR54ujR9Ix',\n",
       " '4dwdTW1Lfiq0cM8nBAqIIz',\n",
       " '1r1uxoy19fzMxunt3ONAkG',\n",
       " '16oZKvXb6WkQlVAjwo2Wbg',\n",
       " '06HL4z0CvFAxyc27GXpf02',\n",
       " '1GmsPCcpKgF9OhlNXjOsbS',\n",
       " '7nW46aJfNHxK9Y3M5Dhadk',\n",
       " '4hz8tIajF2INpgM0qzPJz2',\n",
       " '0wyMPXGfOuQzNR54ujR9Ix',\n",
       " '16oZKvXb6WkQlVAjwo2Wbg',\n",
       " '0wyMPXGfOuQzNR54ujR9Ix',\n",
       " '2RQXRUsr4IW1f3mKyKsy4B',\n",
       " '4NZvixzsSefsNiIqXn0NDe',\n",
       " '0n94vC3S9c3mb2HyNAOcjg',\n",
       " '06HL4z0CvFAxyc27GXpf02',\n",
       " '25IG9fa7cbdmCIy3OnuH57',\n",
       " '2hR4h1Cao2ueuI7Cx9c7V8',\n",
       " '7gRGh8w4G9zaFJSaIYp8HH']"
      ]
     },
     "execution_count": 225,
     "metadata": {},
     "output_type": "execute_result"
    }
   ],
   "source": [
    "fall_2022_artist_id"
   ]
  },
  {
   "cell_type": "code",
   "execution_count": 226,
   "id": "ff721696",
   "metadata": {},
   "outputs": [],
   "source": [
    "fall_2022_artist_strings = ','.join(str(x) for x in fall_2022_artist_id)"
   ]
  },
  {
   "cell_type": "code",
   "execution_count": 227,
   "id": "c51065db",
   "metadata": {
    "scrolled": false
   },
   "outputs": [
    {
     "data": {
      "text/plain": [
       "'7vtSUU3zpHeYJfX6BPNrJd,1GmsPCcpKgF9OhlNXjOsbS,0wyMPXGfOuQzNR54ujR9Ix,4wMfqR1EZagrSlYndItxGQ,3gd8FJtBJtkRxdfbTu19U2,3nYYI90ObxhjLjdxaoXGSa,16oZKvXb6WkQlVAjwo2Wbg,06HL4z0CvFAxyc27GXpf02,2FXC3k01G6Gw61bmprjgqS,2RQXRUsr4IW1f3mKyKsy4B,0wyMPXGfOuQzNR54ujR9Ix,2RQXRUsr4IW1f3mKyKsy4B,25IG9fa7cbdmCIy3OnuH57,4hz8tIajF2INpgM0qzPJz2,06HL4z0CvFAxyc27GXpf02,1r1uxoy19fzMxunt3ONAkG,16oZKvXb6WkQlVAjwo2Wbg,4dwdTW1Lfiq0cM8nBAqIIz,2RQXRUsr4IW1f3mKyKsy4B,4wMfqR1EZagrSlYndItxGQ,06HL4z0CvFAxyc27GXpf02,25IG9fa7cbdmCIy3OnuH57,1GmsPCcpKgF9OhlNXjOsbS,4dwdTW1Lfiq0cM8nBAqIIz,1moxjboGR7GNWYIMWsRjgG,0wyMPXGfOuQzNR54ujR9Ix,4dwdTW1Lfiq0cM8nBAqIIz,1r1uxoy19fzMxunt3ONAkG,16oZKvXb6WkQlVAjwo2Wbg,06HL4z0CvFAxyc27GXpf02,1GmsPCcpKgF9OhlNXjOsbS,7nW46aJfNHxK9Y3M5Dhadk,4hz8tIajF2INpgM0qzPJz2,0wyMPXGfOuQzNR54ujR9Ix,16oZKvXb6WkQlVAjwo2Wbg,0wyMPXGfOuQzNR54ujR9Ix,2RQXRUsr4IW1f3mKyKsy4B,4NZvixzsSefsNiIqXn0NDe,0n94vC3S9c3mb2HyNAOcjg,06HL4z0CvFAxyc27GXpf02,25IG9fa7cbdmCIy3OnuH57,2hR4h1Cao2ueuI7Cx9c7V8,7gRGh8w4G9zaFJSaIYp8HH'"
      ]
     },
     "execution_count": 227,
     "metadata": {},
     "output_type": "execute_result"
    }
   ],
   "source": [
    "fall_2022_artist_strings"
   ]
  },
  {
   "cell_type": "code",
   "execution_count": 228,
   "id": "556b0e45",
   "metadata": {},
   "outputs": [],
   "source": [
    "artist_endpoint = \"https://api.spotify.com/v1/artists?ids={}\".format(fall_2022_artist_strings)"
   ]
  },
  {
   "cell_type": "code",
   "execution_count": 229,
   "id": "39e1a170",
   "metadata": {},
   "outputs": [],
   "source": [
    "fall_2022_artist_info = requests.get(artist_endpoint, headers = session_header)"
   ]
  },
  {
   "cell_type": "code",
   "execution_count": 230,
   "id": "8e12fae6",
   "metadata": {},
   "outputs": [
    {
     "data": {
      "text/plain": [
       "200"
      ]
     },
     "execution_count": 230,
     "metadata": {},
     "output_type": "execute_result"
    }
   ],
   "source": [
    "fall_2022_artist_info.status_code"
   ]
  },
  {
   "cell_type": "code",
   "execution_count": 231,
   "id": "29e3393d",
   "metadata": {},
   "outputs": [],
   "source": [
    "fall_2022_dict = json.loads(fall_2022_artist_info.text)"
   ]
  },
  {
   "cell_type": "code",
   "execution_count": 232,
   "id": "7addc76f",
   "metadata": {},
   "outputs": [
    {
     "data": {
      "text/plain": [
       "dict_keys(['artists'])"
      ]
     },
     "execution_count": 232,
     "metadata": {},
     "output_type": "execute_result"
    }
   ],
   "source": [
    "fall_2022_dict.keys()"
   ]
  },
  {
   "cell_type": "code",
   "execution_count": 233,
   "id": "41572a54",
   "metadata": {},
   "outputs": [
    {
     "data": {
      "text/plain": [
       "dict_keys(['external_urls', 'followers', 'genres', 'href', 'id', 'images', 'name', 'popularity', 'type', 'uri'])"
      ]
     },
     "execution_count": 233,
     "metadata": {},
     "output_type": "execute_result"
    }
   ],
   "source": [
    "fall_2022_dict['artists'][0].keys()"
   ]
  },
  {
   "cell_type": "code",
   "execution_count": 234,
   "id": "767dcc69",
   "metadata": {},
   "outputs": [],
   "source": [
    "fall_2022_artists_df = pd.DataFrame(fall_2022_dict['artists'])"
   ]
  },
  {
   "cell_type": "code",
   "execution_count": 235,
   "id": "de24d58a",
   "metadata": {},
   "outputs": [
    {
     "data": {
      "text/html": [
       "<div>\n",
       "<style scoped>\n",
       "    .dataframe tbody tr th:only-of-type {\n",
       "        vertical-align: middle;\n",
       "    }\n",
       "\n",
       "    .dataframe tbody tr th {\n",
       "        vertical-align: top;\n",
       "    }\n",
       "\n",
       "    .dataframe thead th {\n",
       "        text-align: right;\n",
       "    }\n",
       "</style>\n",
       "<table border=\"1\" class=\"dataframe\">\n",
       "  <thead>\n",
       "    <tr style=\"text-align: right;\">\n",
       "      <th></th>\n",
       "      <th>external_urls</th>\n",
       "      <th>followers</th>\n",
       "      <th>genres</th>\n",
       "      <th>href</th>\n",
       "      <th>id</th>\n",
       "      <th>images</th>\n",
       "      <th>name</th>\n",
       "      <th>popularity</th>\n",
       "      <th>type</th>\n",
       "      <th>uri</th>\n",
       "    </tr>\n",
       "  </thead>\n",
       "  <tbody>\n",
       "    <tr>\n",
       "      <th>0</th>\n",
       "      <td>{'spotify': 'https://open.spotify.com/artist/7...</td>\n",
       "      <td>{'href': None, 'total': 217256}</td>\n",
       "      <td>[indie pop, modern rock, nashville indie]</td>\n",
       "      <td>https://api.spotify.com/v1/artists/7vtSUU3zpHe...</td>\n",
       "      <td>7vtSUU3zpHeYJfX6BPNrJd</td>\n",
       "      <td>[{'height': 640, 'url': 'https://i.scdn.co/ima...</td>\n",
       "      <td>Briston Maroney</td>\n",
       "      <td>61</td>\n",
       "      <td>artist</td>\n",
       "      <td>spotify:artist:7vtSUU3zpHeYJfX6BPNrJd</td>\n",
       "    </tr>\n",
       "  </tbody>\n",
       "</table>\n",
       "</div>"
      ],
      "text/plain": [
       "                                       external_urls  \\\n",
       "0  {'spotify': 'https://open.spotify.com/artist/7...   \n",
       "\n",
       "                         followers                                     genres  \\\n",
       "0  {'href': None, 'total': 217256}  [indie pop, modern rock, nashville indie]   \n",
       "\n",
       "                                                href                      id  \\\n",
       "0  https://api.spotify.com/v1/artists/7vtSUU3zpHe...  7vtSUU3zpHeYJfX6BPNrJd   \n",
       "\n",
       "                                              images             name  \\\n",
       "0  [{'height': 640, 'url': 'https://i.scdn.co/ima...  Briston Maroney   \n",
       "\n",
       "   popularity    type                                    uri  \n",
       "0          61  artist  spotify:artist:7vtSUU3zpHeYJfX6BPNrJd  "
      ]
     },
     "execution_count": 235,
     "metadata": {},
     "output_type": "execute_result"
    }
   ],
   "source": [
    "fall_2022_artists_df.head(1)"
   ]
  },
  {
   "cell_type": "code",
   "execution_count": 236,
   "id": "5aa36aa2",
   "metadata": {},
   "outputs": [],
   "source": [
    "fall_2022_artists = fall_2022_artists_df.drop(['external_urls', 'followers', 'href', 'images', 'popularity', 'type', 'uri'], axis = 1)"
   ]
  },
  {
   "cell_type": "code",
   "execution_count": 237,
   "id": "a2a81388",
   "metadata": {},
   "outputs": [
    {
     "data": {
      "text/html": [
       "<div>\n",
       "<style scoped>\n",
       "    .dataframe tbody tr th:only-of-type {\n",
       "        vertical-align: middle;\n",
       "    }\n",
       "\n",
       "    .dataframe tbody tr th {\n",
       "        vertical-align: top;\n",
       "    }\n",
       "\n",
       "    .dataframe thead th {\n",
       "        text-align: right;\n",
       "    }\n",
       "</style>\n",
       "<table border=\"1\" class=\"dataframe\">\n",
       "  <thead>\n",
       "    <tr style=\"text-align: right;\">\n",
       "      <th></th>\n",
       "      <th>genres</th>\n",
       "      <th>id</th>\n",
       "      <th>name</th>\n",
       "    </tr>\n",
       "  </thead>\n",
       "  <tbody>\n",
       "    <tr>\n",
       "      <th>0</th>\n",
       "      <td>[indie pop, modern rock, nashville indie]</td>\n",
       "      <td>7vtSUU3zpHeYJfX6BPNrJd</td>\n",
       "      <td>Briston Maroney</td>\n",
       "    </tr>\n",
       "    <tr>\n",
       "      <th>1</th>\n",
       "      <td>[boston folk, indie pop, pop]</td>\n",
       "      <td>1GmsPCcpKgF9OhlNXjOsbS</td>\n",
       "      <td>Lizzy McAlpine</td>\n",
       "    </tr>\n",
       "    <tr>\n",
       "      <th>2</th>\n",
       "      <td>[indie folk, stomp and holler]</td>\n",
       "      <td>0wyMPXGfOuQzNR54ujR9Ix</td>\n",
       "      <td>Caamp</td>\n",
       "    </tr>\n",
       "    <tr>\n",
       "      <th>3</th>\n",
       "      <td>[bubblegrunge, indie pop, indie rock, lo-fi in...</td>\n",
       "      <td>4wMfqR1EZagrSlYndItxGQ</td>\n",
       "      <td>Field Medic</td>\n",
       "    </tr>\n",
       "    <tr>\n",
       "      <th>4</th>\n",
       "      <td>[modern folk rock, stomp and holler, uk americ...</td>\n",
       "      <td>3gd8FJtBJtkRxdfbTu19U2</td>\n",
       "      <td>Mumford &amp; Sons</td>\n",
       "    </tr>\n",
       "  </tbody>\n",
       "</table>\n",
       "</div>"
      ],
      "text/plain": [
       "                                              genres                      id  \\\n",
       "0          [indie pop, modern rock, nashville indie]  7vtSUU3zpHeYJfX6BPNrJd   \n",
       "1                      [boston folk, indie pop, pop]  1GmsPCcpKgF9OhlNXjOsbS   \n",
       "2                     [indie folk, stomp and holler]  0wyMPXGfOuQzNR54ujR9Ix   \n",
       "3  [bubblegrunge, indie pop, indie rock, lo-fi in...  4wMfqR1EZagrSlYndItxGQ   \n",
       "4  [modern folk rock, stomp and holler, uk americ...  3gd8FJtBJtkRxdfbTu19U2   \n",
       "\n",
       "              name  \n",
       "0  Briston Maroney  \n",
       "1   Lizzy McAlpine  \n",
       "2            Caamp  \n",
       "3      Field Medic  \n",
       "4   Mumford & Sons  "
      ]
     },
     "execution_count": 237,
     "metadata": {},
     "output_type": "execute_result"
    }
   ],
   "source": [
    "fall_2022_artists.head()"
   ]
  },
  {
   "cell_type": "code",
   "execution_count": 238,
   "id": "d549ffa6",
   "metadata": {},
   "outputs": [],
   "source": [
    "fall_2022_final_df = fall_2022_tracks.merge(fall_2022_artists, left_on = 'artists', right_on = 'id', how = 'left' )"
   ]
  },
  {
   "cell_type": "code",
   "execution_count": 239,
   "id": "b8345e34",
   "metadata": {},
   "outputs": [
    {
     "data": {
      "text/html": [
       "<div>\n",
       "<style scoped>\n",
       "    .dataframe tbody tr th:only-of-type {\n",
       "        vertical-align: middle;\n",
       "    }\n",
       "\n",
       "    .dataframe tbody tr th {\n",
       "        vertical-align: top;\n",
       "    }\n",
       "\n",
       "    .dataframe thead th {\n",
       "        text-align: right;\n",
       "    }\n",
       "</style>\n",
       "<table border=\"1\" class=\"dataframe\">\n",
       "  <thead>\n",
       "    <tr style=\"text-align: right;\">\n",
       "      <th></th>\n",
       "      <th>artists</th>\n",
       "      <th>id_x</th>\n",
       "      <th>name_x</th>\n",
       "      <th>genres</th>\n",
       "      <th>id_y</th>\n",
       "      <th>name_y</th>\n",
       "    </tr>\n",
       "  </thead>\n",
       "  <tbody>\n",
       "    <tr>\n",
       "      <th>0</th>\n",
       "      <td>7vtSUU3zpHeYJfX6BPNrJd</td>\n",
       "      <td>2uatFg68ynGEapEel9ASuK</td>\n",
       "      <td>Fool's Gold</td>\n",
       "      <td>[indie pop, modern rock, nashville indie]</td>\n",
       "      <td>7vtSUU3zpHeYJfX6BPNrJd</td>\n",
       "      <td>Briston Maroney</td>\n",
       "    </tr>\n",
       "    <tr>\n",
       "      <th>1</th>\n",
       "      <td>1GmsPCcpKgF9OhlNXjOsbS</td>\n",
       "      <td>53taBvemC88CMHP2I1xAFX</td>\n",
       "      <td>Means Something</td>\n",
       "      <td>[boston folk, indie pop, pop]</td>\n",
       "      <td>1GmsPCcpKgF9OhlNXjOsbS</td>\n",
       "      <td>Lizzy McAlpine</td>\n",
       "    </tr>\n",
       "    <tr>\n",
       "      <th>2</th>\n",
       "      <td>1GmsPCcpKgF9OhlNXjOsbS</td>\n",
       "      <td>53taBvemC88CMHP2I1xAFX</td>\n",
       "      <td>Means Something</td>\n",
       "      <td>[boston folk, indie pop, pop]</td>\n",
       "      <td>1GmsPCcpKgF9OhlNXjOsbS</td>\n",
       "      <td>Lizzy McAlpine</td>\n",
       "    </tr>\n",
       "    <tr>\n",
       "      <th>3</th>\n",
       "      <td>1GmsPCcpKgF9OhlNXjOsbS</td>\n",
       "      <td>53taBvemC88CMHP2I1xAFX</td>\n",
       "      <td>Means Something</td>\n",
       "      <td>[boston folk, indie pop, pop]</td>\n",
       "      <td>1GmsPCcpKgF9OhlNXjOsbS</td>\n",
       "      <td>Lizzy McAlpine</td>\n",
       "    </tr>\n",
       "    <tr>\n",
       "      <th>4</th>\n",
       "      <td>0wyMPXGfOuQzNR54ujR9Ix</td>\n",
       "      <td>7sgNQ34g23PpgpfAAuxMPy</td>\n",
       "      <td>Light</td>\n",
       "      <td>[indie folk, stomp and holler]</td>\n",
       "      <td>0wyMPXGfOuQzNR54ujR9Ix</td>\n",
       "      <td>Caamp</td>\n",
       "    </tr>\n",
       "  </tbody>\n",
       "</table>\n",
       "</div>"
      ],
      "text/plain": [
       "                  artists                    id_x           name_x  \\\n",
       "0  7vtSUU3zpHeYJfX6BPNrJd  2uatFg68ynGEapEel9ASuK      Fool's Gold   \n",
       "1  1GmsPCcpKgF9OhlNXjOsbS  53taBvemC88CMHP2I1xAFX  Means Something   \n",
       "2  1GmsPCcpKgF9OhlNXjOsbS  53taBvemC88CMHP2I1xAFX  Means Something   \n",
       "3  1GmsPCcpKgF9OhlNXjOsbS  53taBvemC88CMHP2I1xAFX  Means Something   \n",
       "4  0wyMPXGfOuQzNR54ujR9Ix  7sgNQ34g23PpgpfAAuxMPy            Light   \n",
       "\n",
       "                                      genres                    id_y  \\\n",
       "0  [indie pop, modern rock, nashville indie]  7vtSUU3zpHeYJfX6BPNrJd   \n",
       "1              [boston folk, indie pop, pop]  1GmsPCcpKgF9OhlNXjOsbS   \n",
       "2              [boston folk, indie pop, pop]  1GmsPCcpKgF9OhlNXjOsbS   \n",
       "3              [boston folk, indie pop, pop]  1GmsPCcpKgF9OhlNXjOsbS   \n",
       "4             [indie folk, stomp and holler]  0wyMPXGfOuQzNR54ujR9Ix   \n",
       "\n",
       "            name_y  \n",
       "0  Briston Maroney  \n",
       "1   Lizzy McAlpine  \n",
       "2   Lizzy McAlpine  \n",
       "3   Lizzy McAlpine  \n",
       "4            Caamp  "
      ]
     },
     "execution_count": 239,
     "metadata": {},
     "output_type": "execute_result"
    }
   ],
   "source": [
    "fall_2022_final_df.head()"
   ]
  },
  {
   "cell_type": "code",
   "execution_count": 240,
   "id": "18bebdd9",
   "metadata": {},
   "outputs": [],
   "source": [
    "fall_2022_final = fall_2022_final_df.drop(['artists', 'id_x', 'id_y'], axis = 1)"
   ]
  },
  {
   "cell_type": "code",
   "execution_count": 241,
   "id": "2bdabb4a",
   "metadata": {},
   "outputs": [
    {
     "data": {
      "text/html": [
       "<div>\n",
       "<style scoped>\n",
       "    .dataframe tbody tr th:only-of-type {\n",
       "        vertical-align: middle;\n",
       "    }\n",
       "\n",
       "    .dataframe tbody tr th {\n",
       "        vertical-align: top;\n",
       "    }\n",
       "\n",
       "    .dataframe thead th {\n",
       "        text-align: right;\n",
       "    }\n",
       "</style>\n",
       "<table border=\"1\" class=\"dataframe\">\n",
       "  <thead>\n",
       "    <tr style=\"text-align: right;\">\n",
       "      <th></th>\n",
       "      <th>name_x</th>\n",
       "      <th>genres</th>\n",
       "      <th>name_y</th>\n",
       "    </tr>\n",
       "  </thead>\n",
       "  <tbody>\n",
       "    <tr>\n",
       "      <th>0</th>\n",
       "      <td>Fool's Gold</td>\n",
       "      <td>[indie pop, modern rock, nashville indie]</td>\n",
       "      <td>Briston Maroney</td>\n",
       "    </tr>\n",
       "    <tr>\n",
       "      <th>1</th>\n",
       "      <td>Means Something</td>\n",
       "      <td>[boston folk, indie pop, pop]</td>\n",
       "      <td>Lizzy McAlpine</td>\n",
       "    </tr>\n",
       "    <tr>\n",
       "      <th>2</th>\n",
       "      <td>Means Something</td>\n",
       "      <td>[boston folk, indie pop, pop]</td>\n",
       "      <td>Lizzy McAlpine</td>\n",
       "    </tr>\n",
       "    <tr>\n",
       "      <th>3</th>\n",
       "      <td>Means Something</td>\n",
       "      <td>[boston folk, indie pop, pop]</td>\n",
       "      <td>Lizzy McAlpine</td>\n",
       "    </tr>\n",
       "    <tr>\n",
       "      <th>4</th>\n",
       "      <td>Light</td>\n",
       "      <td>[indie folk, stomp and holler]</td>\n",
       "      <td>Caamp</td>\n",
       "    </tr>\n",
       "  </tbody>\n",
       "</table>\n",
       "</div>"
      ],
      "text/plain": [
       "            name_x                                     genres           name_y\n",
       "0      Fool's Gold  [indie pop, modern rock, nashville indie]  Briston Maroney\n",
       "1  Means Something              [boston folk, indie pop, pop]   Lizzy McAlpine\n",
       "2  Means Something              [boston folk, indie pop, pop]   Lizzy McAlpine\n",
       "3  Means Something              [boston folk, indie pop, pop]   Lizzy McAlpine\n",
       "4            Light             [indie folk, stomp and holler]            Caamp"
      ]
     },
     "execution_count": 241,
     "metadata": {},
     "output_type": "execute_result"
    }
   ],
   "source": [
    "fall_2022_final.head()"
   ]
  },
  {
   "cell_type": "code",
   "execution_count": 242,
   "id": "2578654f",
   "metadata": {},
   "outputs": [],
   "source": [
    "fall_2022_df = fall_2022_final.rename(columns={'name_x': 'song title', 'name_y': 'artist'})"
   ]
  },
  {
   "cell_type": "code",
   "execution_count": 243,
   "id": "ec5b977a",
   "metadata": {},
   "outputs": [
    {
     "data": {
      "text/html": [
       "<div>\n",
       "<style scoped>\n",
       "    .dataframe tbody tr th:only-of-type {\n",
       "        vertical-align: middle;\n",
       "    }\n",
       "\n",
       "    .dataframe tbody tr th {\n",
       "        vertical-align: top;\n",
       "    }\n",
       "\n",
       "    .dataframe thead th {\n",
       "        text-align: right;\n",
       "    }\n",
       "</style>\n",
       "<table border=\"1\" class=\"dataframe\">\n",
       "  <thead>\n",
       "    <tr style=\"text-align: right;\">\n",
       "      <th></th>\n",
       "      <th>song title</th>\n",
       "      <th>genres</th>\n",
       "      <th>artist</th>\n",
       "    </tr>\n",
       "  </thead>\n",
       "  <tbody>\n",
       "    <tr>\n",
       "      <th>0</th>\n",
       "      <td>Fool's Gold</td>\n",
       "      <td>[indie pop, modern rock, nashville indie]</td>\n",
       "      <td>Briston Maroney</td>\n",
       "    </tr>\n",
       "    <tr>\n",
       "      <th>1</th>\n",
       "      <td>Means Something</td>\n",
       "      <td>[boston folk, indie pop, pop]</td>\n",
       "      <td>Lizzy McAlpine</td>\n",
       "    </tr>\n",
       "    <tr>\n",
       "      <th>2</th>\n",
       "      <td>Means Something</td>\n",
       "      <td>[boston folk, indie pop, pop]</td>\n",
       "      <td>Lizzy McAlpine</td>\n",
       "    </tr>\n",
       "    <tr>\n",
       "      <th>3</th>\n",
       "      <td>Means Something</td>\n",
       "      <td>[boston folk, indie pop, pop]</td>\n",
       "      <td>Lizzy McAlpine</td>\n",
       "    </tr>\n",
       "    <tr>\n",
       "      <th>4</th>\n",
       "      <td>Light</td>\n",
       "      <td>[indie folk, stomp and holler]</td>\n",
       "      <td>Caamp</td>\n",
       "    </tr>\n",
       "  </tbody>\n",
       "</table>\n",
       "</div>"
      ],
      "text/plain": [
       "        song title                                     genres           artist\n",
       "0      Fool's Gold  [indie pop, modern rock, nashville indie]  Briston Maroney\n",
       "1  Means Something              [boston folk, indie pop, pop]   Lizzy McAlpine\n",
       "2  Means Something              [boston folk, indie pop, pop]   Lizzy McAlpine\n",
       "3  Means Something              [boston folk, indie pop, pop]   Lizzy McAlpine\n",
       "4            Light             [indie folk, stomp and holler]            Caamp"
      ]
     },
     "execution_count": 243,
     "metadata": {},
     "output_type": "execute_result"
    }
   ],
   "source": [
    "fall_2022_df.head()"
   ]
  },
  {
   "cell_type": "code",
   "execution_count": 244,
   "id": "93a02996",
   "metadata": {},
   "outputs": [],
   "source": [
    "fall_2022_df.to_csv('fall_2022.csv')"
   ]
  },
  {
   "cell_type": "markdown",
   "id": "323b5345",
   "metadata": {},
   "source": [
    "### Summer 2022 Playlist Data Collection ###"
   ]
  },
  {
   "cell_type": "markdown",
   "id": "9629bea2",
   "metadata": {},
   "source": [
    "I followed the same steps as I did for the data collection of the fall playlist. "
   ]
  },
  {
   "cell_type": "code",
   "execution_count": 245,
   "id": "c87562dd",
   "metadata": {},
   "outputs": [],
   "source": [
    "summer_2022_id = '3nN2wUvLsk6JNvaBdUAFpP'"
   ]
  },
  {
   "cell_type": "code",
   "execution_count": 246,
   "id": "625f0b06",
   "metadata": {},
   "outputs": [],
   "source": [
    "playlist_tracks_endpoint = \"https://api.spotify.com/v1/playlists/{}/tracks\".format(summer_2022_id)"
   ]
  },
  {
   "cell_type": "code",
   "execution_count": 247,
   "id": "ad820a5c",
   "metadata": {},
   "outputs": [],
   "source": [
    "summer_2022_tracks = requests.get(playlist_tracks_endpoint, headers = session_header)"
   ]
  },
  {
   "cell_type": "code",
   "execution_count": 248,
   "id": "21435592",
   "metadata": {},
   "outputs": [
    {
     "data": {
      "text/plain": [
       "200"
      ]
     },
     "execution_count": 248,
     "metadata": {},
     "output_type": "execute_result"
    }
   ],
   "source": [
    "summer_2022_tracks.status_code"
   ]
  },
  {
   "cell_type": "code",
   "execution_count": 249,
   "id": "f96d8cd5",
   "metadata": {},
   "outputs": [],
   "source": [
    "summer_2022_dict = json.loads(summer_2022_tracks.text)"
   ]
  },
  {
   "cell_type": "code",
   "execution_count": 250,
   "id": "6859d193",
   "metadata": {},
   "outputs": [
    {
     "data": {
      "text/plain": [
       "dict_keys(['href', 'items', 'limit', 'next', 'offset', 'previous', 'total'])"
      ]
     },
     "execution_count": 250,
     "metadata": {},
     "output_type": "execute_result"
    }
   ],
   "source": [
    "summer_2022_dict.keys()"
   ]
  },
  {
   "cell_type": "code",
   "execution_count": 251,
   "id": "f53a58cc",
   "metadata": {},
   "outputs": [
    {
     "data": {
      "text/plain": [
       "dict_keys(['added_at', 'added_by', 'is_local', 'primary_color', 'track', 'video_thumbnail'])"
      ]
     },
     "execution_count": 251,
     "metadata": {},
     "output_type": "execute_result"
    }
   ],
   "source": [
    "summer_2022_dict['items'][0].keys()"
   ]
  },
  {
   "cell_type": "code",
   "execution_count": 252,
   "id": "69b03888",
   "metadata": {},
   "outputs": [
    {
     "data": {
      "text/plain": [
       "'2ZWlPOoWh0626oTaHrnl2a'"
      ]
     },
     "execution_count": 252,
     "metadata": {},
     "output_type": "execute_result"
    }
   ],
   "source": [
    "summer_2022_dict['items'][0]['track']['id']"
   ]
  },
  {
   "cell_type": "code",
   "execution_count": 253,
   "id": "d6798d8a",
   "metadata": {},
   "outputs": [],
   "source": [
    "summer_2022_track_ids = [x['track']['id'] for x in summer_2022_dict['items']]"
   ]
  },
  {
   "cell_type": "code",
   "execution_count": 254,
   "id": "2a8a1216",
   "metadata": {
    "scrolled": true
   },
   "outputs": [
    {
     "data": {
      "text/plain": [
       "['2ZWlPOoWh0626oTaHrnl2a',\n",
       " '2KHS3nIZrcWYM5txO4uM9N',\n",
       " '3y7rwNtVmSo0dN5mhvv2dg',\n",
       " '5Iq9CfQQSqeU7sPzdACC67',\n",
       " '7b7wO3Je7i2HhyipNhcs1u',\n",
       " '5q4BpnMrYEFzLO0dYODj6J',\n",
       " '2uatFg68ynGEapEel9ASuK',\n",
       " '6TT7B4MigCJCc0tqKYEpZC',\n",
       " '0Oqc0kKFsQ6MhFOLBNZIGX',\n",
       " '0mO6oS60RST2sWmN2FKknP',\n",
       " '52ojopYMUzeNcudsoz7O9D',\n",
       " '0JaVdpmiex2EP7bBzyKVTa',\n",
       " '5exEU6LbxN4T4sY1nV5NfV',\n",
       " '4QhWbupniDd44EDtnh2bFJ',\n",
       " '7vRfxLcDDwgYW2WTrtEgUV',\n",
       " '6K4t31amVTZDgR3sKmwUJJ',\n",
       " '5bJ1DrEM4hNCafcDd1oxHx',\n",
       " '0mCVNGC4Vvb6gDDQrDpaRh',\n",
       " '524wvipGqxPKYWxkjf9y46',\n",
       " '3i058E8uxTsYqJ5NWZzqSj',\n",
       " '0g0sBPiXWelqPXS94iK4GU',\n",
       " '5GUYJTQap5F3RDQiCOJhrS',\n",
       " '32PhQGVwurZaoJrCvrh0nl',\n",
       " '1WmEhKIzErn1aZNFf2m4FU',\n",
       " '5ItZV96L6vLaicagdCUOTv',\n",
       " '7Hxv4S989OEWkmq4QyhZLF',\n",
       " '1EgLBP2HQsYf9Eh4bmQfWb',\n",
       " '2NcQic8JxdjAlAHuNbOIRE',\n",
       " '4sNG6zQBmtq7M8aeeKJRMQ',\n",
       " '527hCrRlmminMcon8EaPGB',\n",
       " '0BLY78hYpsH9NqP6X0N8CX',\n",
       " '735rjks7kQgWCjTQlIHMuH',\n",
       " '5xKvxwXINUs2dsyvDJ8Gjs',\n",
       " '3QLjDkgLh9AOEHlhQtDuhs',\n",
       " '7DrzZN5jaDyE0a0tVuVWnj',\n",
       " '0YMe6PHRbeDcN7KJdCG0bW',\n",
       " '0O3TAouZE4vL9dM5SyxgvH',\n",
       " '1xLs8Mu1QEVbGCpyHQ2r2U',\n",
       " '1h9cnXG82LBUy9l1FnYPCA',\n",
       " '2F9DCIJ7ZXHhNkiIlIIOkw',\n",
       " '7LigIDzs63Y4uFlZvNzCZq',\n",
       " '6K8VQ84MqhsoakN5MjrnVR',\n",
       " '3jS7bB0oXVOwGFZn3aE5NV',\n",
       " '5YFIbauvzRGfW7xktVjR0I',\n",
       " '7ARveOiD31w2Nq0n5FsSf8',\n",
       " '38YclYWc3cxYdHoYxZ79jN',\n",
       " '05iiUswjL7bPTeAcOfcIGR',\n",
       " '1mw0RgNXIpYRyyCdBQbLgA']"
      ]
     },
     "execution_count": 254,
     "metadata": {},
     "output_type": "execute_result"
    }
   ],
   "source": [
    "summer_2022_track_ids"
   ]
  },
  {
   "cell_type": "code",
   "execution_count": 255,
   "id": "2920c8d9",
   "metadata": {},
   "outputs": [],
   "source": [
    "summer_2022_track_strings = ','.join(str(x) for x in summer_2022_track_ids)"
   ]
  },
  {
   "cell_type": "code",
   "execution_count": 256,
   "id": "7823493a",
   "metadata": {},
   "outputs": [
    {
     "data": {
      "text/plain": [
       "'2ZWlPOoWh0626oTaHrnl2a,2KHS3nIZrcWYM5txO4uM9N,3y7rwNtVmSo0dN5mhvv2dg,5Iq9CfQQSqeU7sPzdACC67,7b7wO3Je7i2HhyipNhcs1u,5q4BpnMrYEFzLO0dYODj6J,2uatFg68ynGEapEel9ASuK,6TT7B4MigCJCc0tqKYEpZC,0Oqc0kKFsQ6MhFOLBNZIGX,0mO6oS60RST2sWmN2FKknP,52ojopYMUzeNcudsoz7O9D,0JaVdpmiex2EP7bBzyKVTa,5exEU6LbxN4T4sY1nV5NfV,4QhWbupniDd44EDtnh2bFJ,7vRfxLcDDwgYW2WTrtEgUV,6K4t31amVTZDgR3sKmwUJJ,5bJ1DrEM4hNCafcDd1oxHx,0mCVNGC4Vvb6gDDQrDpaRh,524wvipGqxPKYWxkjf9y46,3i058E8uxTsYqJ5NWZzqSj,0g0sBPiXWelqPXS94iK4GU,5GUYJTQap5F3RDQiCOJhrS,32PhQGVwurZaoJrCvrh0nl,1WmEhKIzErn1aZNFf2m4FU,5ItZV96L6vLaicagdCUOTv,7Hxv4S989OEWkmq4QyhZLF,1EgLBP2HQsYf9Eh4bmQfWb,2NcQic8JxdjAlAHuNbOIRE,4sNG6zQBmtq7M8aeeKJRMQ,527hCrRlmminMcon8EaPGB,0BLY78hYpsH9NqP6X0N8CX,735rjks7kQgWCjTQlIHMuH,5xKvxwXINUs2dsyvDJ8Gjs,3QLjDkgLh9AOEHlhQtDuhs,7DrzZN5jaDyE0a0tVuVWnj,0YMe6PHRbeDcN7KJdCG0bW,0O3TAouZE4vL9dM5SyxgvH,1xLs8Mu1QEVbGCpyHQ2r2U,1h9cnXG82LBUy9l1FnYPCA,2F9DCIJ7ZXHhNkiIlIIOkw,7LigIDzs63Y4uFlZvNzCZq,6K8VQ84MqhsoakN5MjrnVR,3jS7bB0oXVOwGFZn3aE5NV,5YFIbauvzRGfW7xktVjR0I,7ARveOiD31w2Nq0n5FsSf8,38YclYWc3cxYdHoYxZ79jN,05iiUswjL7bPTeAcOfcIGR,1mw0RgNXIpYRyyCdBQbLgA'"
      ]
     },
     "execution_count": 256,
     "metadata": {},
     "output_type": "execute_result"
    }
   ],
   "source": [
    "summer_2022_track_strings"
   ]
  },
  {
   "cell_type": "code",
   "execution_count": 257,
   "id": "b13e5290",
   "metadata": {},
   "outputs": [],
   "source": [
    "track_endpoint = \"https://api.spotify.com/v1/tracks?ids={}\".format(summer_2022_track_strings)"
   ]
  },
  {
   "cell_type": "code",
   "execution_count": 258,
   "id": "9a1cea06",
   "metadata": {},
   "outputs": [],
   "source": [
    "summer_2022_tracks_info = requests.get(track_endpoint, headers = session_header)"
   ]
  },
  {
   "cell_type": "code",
   "execution_count": 259,
   "id": "947e1bbd",
   "metadata": {},
   "outputs": [
    {
     "data": {
      "text/plain": [
       "200"
      ]
     },
     "execution_count": 259,
     "metadata": {},
     "output_type": "execute_result"
    }
   ],
   "source": [
    "summer_2022_tracks_info.status_code"
   ]
  },
  {
   "cell_type": "code",
   "execution_count": 260,
   "id": "fb4933a0",
   "metadata": {},
   "outputs": [],
   "source": [
    "summer_2022_dict = json.loads(summer_2022_tracks_info.text)"
   ]
  },
  {
   "cell_type": "code",
   "execution_count": 261,
   "id": "2584d65c",
   "metadata": {},
   "outputs": [
    {
     "data": {
      "text/plain": [
       "dict_keys(['tracks'])"
      ]
     },
     "execution_count": 261,
     "metadata": {},
     "output_type": "execute_result"
    }
   ],
   "source": [
    "summer_2022_dict.keys()"
   ]
  },
  {
   "cell_type": "code",
   "execution_count": 262,
   "id": "eeaf8677",
   "metadata": {},
   "outputs": [],
   "source": [
    "summer_2022_tracks_df = pd.DataFrame(summer_2022_dict['tracks'])"
   ]
  },
  {
   "cell_type": "code",
   "execution_count": 263,
   "id": "a3ebc06f",
   "metadata": {},
   "outputs": [
    {
     "data": {
      "text/html": [
       "<div>\n",
       "<style scoped>\n",
       "    .dataframe tbody tr th:only-of-type {\n",
       "        vertical-align: middle;\n",
       "    }\n",
       "\n",
       "    .dataframe tbody tr th {\n",
       "        vertical-align: top;\n",
       "    }\n",
       "\n",
       "    .dataframe thead th {\n",
       "        text-align: right;\n",
       "    }\n",
       "</style>\n",
       "<table border=\"1\" class=\"dataframe\">\n",
       "  <thead>\n",
       "    <tr style=\"text-align: right;\">\n",
       "      <th></th>\n",
       "      <th>album</th>\n",
       "      <th>artists</th>\n",
       "      <th>available_markets</th>\n",
       "      <th>disc_number</th>\n",
       "      <th>duration_ms</th>\n",
       "      <th>explicit</th>\n",
       "      <th>external_ids</th>\n",
       "      <th>external_urls</th>\n",
       "      <th>href</th>\n",
       "      <th>id</th>\n",
       "      <th>is_local</th>\n",
       "      <th>name</th>\n",
       "      <th>popularity</th>\n",
       "      <th>preview_url</th>\n",
       "      <th>track_number</th>\n",
       "      <th>type</th>\n",
       "      <th>uri</th>\n",
       "    </tr>\n",
       "  </thead>\n",
       "  <tbody>\n",
       "    <tr>\n",
       "      <th>0</th>\n",
       "      <td>{'album_type': 'album', 'artists': [{'external...</td>\n",
       "      <td>[{'external_urls': {'spotify': 'https://open.s...</td>\n",
       "      <td>[AD, AE, AG, AL, AM, AO, AR, AT, AU, AZ, BA, B...</td>\n",
       "      <td>1</td>\n",
       "      <td>249191</td>\n",
       "      <td>True</td>\n",
       "      <td>{'isrc': 'QZ5C81600002'}</td>\n",
       "      <td>{'spotify': 'https://open.spotify.com/track/2Z...</td>\n",
       "      <td>https://api.spotify.com/v1/tracks/2ZWlPOoWh062...</td>\n",
       "      <td>2ZWlPOoWh0626oTaHrnl2a</td>\n",
       "      <td>False</td>\n",
       "      <td>Ivy</td>\n",
       "      <td>80</td>\n",
       "      <td>https://p.scdn.co/mp3-preview/45f1db448547c589...</td>\n",
       "      <td>2</td>\n",
       "      <td>track</td>\n",
       "      <td>spotify:track:2ZWlPOoWh0626oTaHrnl2a</td>\n",
       "    </tr>\n",
       "  </tbody>\n",
       "</table>\n",
       "</div>"
      ],
      "text/plain": [
       "                                               album  \\\n",
       "0  {'album_type': 'album', 'artists': [{'external...   \n",
       "\n",
       "                                             artists  \\\n",
       "0  [{'external_urls': {'spotify': 'https://open.s...   \n",
       "\n",
       "                                   available_markets  disc_number  \\\n",
       "0  [AD, AE, AG, AL, AM, AO, AR, AT, AU, AZ, BA, B...            1   \n",
       "\n",
       "   duration_ms  explicit              external_ids  \\\n",
       "0       249191      True  {'isrc': 'QZ5C81600002'}   \n",
       "\n",
       "                                       external_urls  \\\n",
       "0  {'spotify': 'https://open.spotify.com/track/2Z...   \n",
       "\n",
       "                                                href                      id  \\\n",
       "0  https://api.spotify.com/v1/tracks/2ZWlPOoWh062...  2ZWlPOoWh0626oTaHrnl2a   \n",
       "\n",
       "   is_local name  popularity  \\\n",
       "0     False  Ivy          80   \n",
       "\n",
       "                                         preview_url  track_number   type  \\\n",
       "0  https://p.scdn.co/mp3-preview/45f1db448547c589...             2  track   \n",
       "\n",
       "                                    uri  \n",
       "0  spotify:track:2ZWlPOoWh0626oTaHrnl2a  "
      ]
     },
     "execution_count": 263,
     "metadata": {},
     "output_type": "execute_result"
    }
   ],
   "source": [
    "summer_2022_tracks_df.head(1)"
   ]
  },
  {
   "cell_type": "code",
   "execution_count": 264,
   "id": "8f8b73f5",
   "metadata": {},
   "outputs": [
    {
     "data": {
      "text/plain": [
       "dict_keys(['tracks'])"
      ]
     },
     "execution_count": 264,
     "metadata": {},
     "output_type": "execute_result"
    }
   ],
   "source": [
    "summer_2022_dict.keys()"
   ]
  },
  {
   "cell_type": "code",
   "execution_count": 265,
   "id": "b561607f",
   "metadata": {},
   "outputs": [
    {
     "data": {
      "text/plain": [
       "[{'external_urls': {'spotify': 'https://open.spotify.com/artist/2h93pZq0e7k5yf4dywlkpM'},\n",
       "  'href': 'https://api.spotify.com/v1/artists/2h93pZq0e7k5yf4dywlkpM',\n",
       "  'id': '2h93pZq0e7k5yf4dywlkpM',\n",
       "  'name': 'Frank Ocean',\n",
       "  'type': 'artist',\n",
       "  'uri': 'spotify:artist:2h93pZq0e7k5yf4dywlkpM'}]"
      ]
     },
     "execution_count": 265,
     "metadata": {},
     "output_type": "execute_result"
    }
   ],
   "source": [
    "summer_2022_tracks_df['artists'][0]"
   ]
  },
  {
   "cell_type": "code",
   "execution_count": 266,
   "id": "de3d2e3d",
   "metadata": {},
   "outputs": [
    {
     "data": {
      "text/plain": [
       "'2h93pZq0e7k5yf4dywlkpM'"
      ]
     },
     "execution_count": 266,
     "metadata": {},
     "output_type": "execute_result"
    }
   ],
   "source": [
    "summer_2022_tracks_df['artists'][0][0]['id']"
   ]
  },
  {
   "cell_type": "code",
   "execution_count": 267,
   "id": "f6a9296c",
   "metadata": {},
   "outputs": [],
   "source": [
    "summer_2022_artist_id = [x[0]['id'] for x in summer_2022_tracks_df['artists']]"
   ]
  },
  {
   "cell_type": "code",
   "execution_count": 268,
   "id": "d233de96",
   "metadata": {
    "scrolled": false
   },
   "outputs": [
    {
     "data": {
      "text/plain": [
       "['2h93pZq0e7k5yf4dywlkpM',\n",
       " '4e9vQfyvvDlcQAkjSdFE4x',\n",
       " '1moxjboGR7GNWYIMWsRjgG',\n",
       " '7jZycSvTyx0W9poD4PjEIG',\n",
       " '0nnYdIpahs41QiZ9MWp5Wx',\n",
       " '163tK9Wjr9P9DmM0AVK7lm',\n",
       " '7vtSUU3zpHeYJfX6BPNrJd',\n",
       " '5GGJosGMs08YEmKTZJe1fL',\n",
       " '00FQb4jTyendYWaN8pK0wa',\n",
       " '5INjqkS1o8h1imAzPqGZBb',\n",
       " '5INjqkS1o8h1imAzPqGZBb',\n",
       " '3TVXtAsR1Inumwj472S9r4',\n",
       " '1U1el3k54VvEUzo3ybLPlM',\n",
       " '2h93pZq0e7k5yf4dywlkpM',\n",
       " '00FQb4jTyendYWaN8pK0wa',\n",
       " '5INjqkS1o8h1imAzPqGZBb',\n",
       " '4LLpKhyESsyAXpc4laK94U',\n",
       " '73sIBHcqh3Z3NyqHKZ7FOL',\n",
       " '3TVXtAsR1Inumwj472S9r4',\n",
       " '6KImCVD70vtIoJWnq6nGn3',\n",
       " '4e9vQfyvvDlcQAkjSdFE4x',\n",
       " '2h93pZq0e7k5yf4dywlkpM',\n",
       " '0W8xe7IqAPlnBRMUpWOUuJ',\n",
       " '5GGJosGMs08YEmKTZJe1fL',\n",
       " '7jZycSvTyx0W9poD4PjEIG',\n",
       " '1moxjboGR7GNWYIMWsRjgG',\n",
       " '1moxjboGR7GNWYIMWsRjgG',\n",
       " '6KImCVD70vtIoJWnq6nGn3',\n",
       " '2D4FOOOtWycb3Aw9nY5n3c',\n",
       " '67WNUxmM7y4WzHPAVzBu3E',\n",
       " '6xdRb2GypJ7DqnWAI2mHGn',\n",
       " '6ogn9necmbUdCppmNnGOdi',\n",
       " '415rtLOb1FDKZAxo1IJ1hW',\n",
       " '3TVXtAsR1Inumwj472S9r4',\n",
       " '4aEuFytRb43SAgjchJDk5e',\n",
       " '0knGpCTbmG4ctl1wzYRZs4',\n",
       " '13ubrt8QOOCPljQ2FL1Kca',\n",
       " '6USv9qhCn6zfxlBQIYJ9qs',\n",
       " '5DPoUW5HGgfsoAelpybURt',\n",
       " '4wrzxtBZw20ufDstKyTnnP',\n",
       " '67WNUxmM7y4WzHPAVzBu3E',\n",
       " '163tK9Wjr9P9DmM0AVK7lm',\n",
       " '6ogn9necmbUdCppmNnGOdi',\n",
       " '6ogn9necmbUdCppmNnGOdi',\n",
       " '163tK9Wjr9P9DmM0AVK7lm',\n",
       " '7jZycSvTyx0W9poD4PjEIG',\n",
       " '5GGJosGMs08YEmKTZJe1fL',\n",
       " '6KImCVD70vtIoJWnq6nGn3']"
      ]
     },
     "execution_count": 268,
     "metadata": {},
     "output_type": "execute_result"
    }
   ],
   "source": [
    "summer_2022_artist_id"
   ]
  },
  {
   "cell_type": "code",
   "execution_count": 269,
   "id": "aa1d22d4",
   "metadata": {},
   "outputs": [],
   "source": [
    "summer_2022_tracks_df['artists'] = summer_2022_artist_id"
   ]
  },
  {
   "cell_type": "code",
   "execution_count": 270,
   "id": "dae650e9",
   "metadata": {
    "scrolled": true
   },
   "outputs": [
    {
     "data": {
      "text/html": [
       "<div>\n",
       "<style scoped>\n",
       "    .dataframe tbody tr th:only-of-type {\n",
       "        vertical-align: middle;\n",
       "    }\n",
       "\n",
       "    .dataframe tbody tr th {\n",
       "        vertical-align: top;\n",
       "    }\n",
       "\n",
       "    .dataframe thead th {\n",
       "        text-align: right;\n",
       "    }\n",
       "</style>\n",
       "<table border=\"1\" class=\"dataframe\">\n",
       "  <thead>\n",
       "    <tr style=\"text-align: right;\">\n",
       "      <th></th>\n",
       "      <th>album</th>\n",
       "      <th>artists</th>\n",
       "      <th>available_markets</th>\n",
       "      <th>disc_number</th>\n",
       "      <th>duration_ms</th>\n",
       "      <th>explicit</th>\n",
       "      <th>external_ids</th>\n",
       "      <th>external_urls</th>\n",
       "      <th>href</th>\n",
       "      <th>id</th>\n",
       "      <th>is_local</th>\n",
       "      <th>name</th>\n",
       "      <th>popularity</th>\n",
       "      <th>preview_url</th>\n",
       "      <th>track_number</th>\n",
       "      <th>type</th>\n",
       "      <th>uri</th>\n",
       "    </tr>\n",
       "  </thead>\n",
       "  <tbody>\n",
       "    <tr>\n",
       "      <th>0</th>\n",
       "      <td>{'album_type': 'album', 'artists': [{'external...</td>\n",
       "      <td>2h93pZq0e7k5yf4dywlkpM</td>\n",
       "      <td>[AD, AE, AG, AL, AM, AO, AR, AT, AU, AZ, BA, B...</td>\n",
       "      <td>1</td>\n",
       "      <td>249191</td>\n",
       "      <td>True</td>\n",
       "      <td>{'isrc': 'QZ5C81600002'}</td>\n",
       "      <td>{'spotify': 'https://open.spotify.com/track/2Z...</td>\n",
       "      <td>https://api.spotify.com/v1/tracks/2ZWlPOoWh062...</td>\n",
       "      <td>2ZWlPOoWh0626oTaHrnl2a</td>\n",
       "      <td>False</td>\n",
       "      <td>Ivy</td>\n",
       "      <td>80</td>\n",
       "      <td>https://p.scdn.co/mp3-preview/45f1db448547c589...</td>\n",
       "      <td>2</td>\n",
       "      <td>track</td>\n",
       "      <td>spotify:track:2ZWlPOoWh0626oTaHrnl2a</td>\n",
       "    </tr>\n",
       "  </tbody>\n",
       "</table>\n",
       "</div>"
      ],
      "text/plain": [
       "                                               album                 artists  \\\n",
       "0  {'album_type': 'album', 'artists': [{'external...  2h93pZq0e7k5yf4dywlkpM   \n",
       "\n",
       "                                   available_markets  disc_number  \\\n",
       "0  [AD, AE, AG, AL, AM, AO, AR, AT, AU, AZ, BA, B...            1   \n",
       "\n",
       "   duration_ms  explicit              external_ids  \\\n",
       "0       249191      True  {'isrc': 'QZ5C81600002'}   \n",
       "\n",
       "                                       external_urls  \\\n",
       "0  {'spotify': 'https://open.spotify.com/track/2Z...   \n",
       "\n",
       "                                                href                      id  \\\n",
       "0  https://api.spotify.com/v1/tracks/2ZWlPOoWh062...  2ZWlPOoWh0626oTaHrnl2a   \n",
       "\n",
       "   is_local name  popularity  \\\n",
       "0     False  Ivy          80   \n",
       "\n",
       "                                         preview_url  track_number   type  \\\n",
       "0  https://p.scdn.co/mp3-preview/45f1db448547c589...             2  track   \n",
       "\n",
       "                                    uri  \n",
       "0  spotify:track:2ZWlPOoWh0626oTaHrnl2a  "
      ]
     },
     "execution_count": 270,
     "metadata": {},
     "output_type": "execute_result"
    }
   ],
   "source": [
    "summer_2022_tracks_df.head(1)"
   ]
  },
  {
   "cell_type": "code",
   "execution_count": 271,
   "id": "9379e548",
   "metadata": {},
   "outputs": [],
   "source": [
    "summer_2022_tracks = summer_2022_tracks_df.drop(['album', 'available_markets', 'disc_number', 'duration_ms', 'explicit', 'external_ids', 'external_urls', 'href', 'is_local', 'popularity', 'preview_url', 'track_number', 'type', 'uri'], axis = 1)"
   ]
  },
  {
   "cell_type": "code",
   "execution_count": 272,
   "id": "9ff1ef64",
   "metadata": {},
   "outputs": [
    {
     "data": {
      "text/html": [
       "<div>\n",
       "<style scoped>\n",
       "    .dataframe tbody tr th:only-of-type {\n",
       "        vertical-align: middle;\n",
       "    }\n",
       "\n",
       "    .dataframe tbody tr th {\n",
       "        vertical-align: top;\n",
       "    }\n",
       "\n",
       "    .dataframe thead th {\n",
       "        text-align: right;\n",
       "    }\n",
       "</style>\n",
       "<table border=\"1\" class=\"dataframe\">\n",
       "  <thead>\n",
       "    <tr style=\"text-align: right;\">\n",
       "      <th></th>\n",
       "      <th>artists</th>\n",
       "      <th>id</th>\n",
       "      <th>name</th>\n",
       "    </tr>\n",
       "  </thead>\n",
       "  <tbody>\n",
       "    <tr>\n",
       "      <th>0</th>\n",
       "      <td>2h93pZq0e7k5yf4dywlkpM</td>\n",
       "      <td>2ZWlPOoWh0626oTaHrnl2a</td>\n",
       "      <td>Ivy</td>\n",
       "    </tr>\n",
       "    <tr>\n",
       "      <th>1</th>\n",
       "      <td>4e9vQfyvvDlcQAkjSdFE4x</td>\n",
       "      <td>2KHS3nIZrcWYM5txO4uM9N</td>\n",
       "      <td>Generous Heart</td>\n",
       "    </tr>\n",
       "    <tr>\n",
       "      <th>2</th>\n",
       "      <td>1moxjboGR7GNWYIMWsRjgG</td>\n",
       "      <td>3y7rwNtVmSo0dN5mhvv2dg</td>\n",
       "      <td>King</td>\n",
       "    </tr>\n",
       "    <tr>\n",
       "      <th>3</th>\n",
       "      <td>7jZycSvTyx0W9poD4PjEIG</td>\n",
       "      <td>5Iq9CfQQSqeU7sPzdACC67</td>\n",
       "      <td>She's Casual</td>\n",
       "    </tr>\n",
       "    <tr>\n",
       "      <th>4</th>\n",
       "      <td>0nnYdIpahs41QiZ9MWp5Wx</td>\n",
       "      <td>7b7wO3Je7i2HhyipNhcs1u</td>\n",
       "      <td>The Walls Are Way Too Thin</td>\n",
       "    </tr>\n",
       "  </tbody>\n",
       "</table>\n",
       "</div>"
      ],
      "text/plain": [
       "                  artists                      id                        name\n",
       "0  2h93pZq0e7k5yf4dywlkpM  2ZWlPOoWh0626oTaHrnl2a                         Ivy\n",
       "1  4e9vQfyvvDlcQAkjSdFE4x  2KHS3nIZrcWYM5txO4uM9N              Generous Heart\n",
       "2  1moxjboGR7GNWYIMWsRjgG  3y7rwNtVmSo0dN5mhvv2dg                        King\n",
       "3  7jZycSvTyx0W9poD4PjEIG  5Iq9CfQQSqeU7sPzdACC67                She's Casual\n",
       "4  0nnYdIpahs41QiZ9MWp5Wx  7b7wO3Je7i2HhyipNhcs1u  The Walls Are Way Too Thin"
      ]
     },
     "execution_count": 272,
     "metadata": {},
     "output_type": "execute_result"
    }
   ],
   "source": [
    "summer_2022_tracks.head()"
   ]
  },
  {
   "cell_type": "code",
   "execution_count": 273,
   "id": "61df2629",
   "metadata": {},
   "outputs": [],
   "source": [
    "summer_2022_artist_strings = ','.join(str(x) for x in summer_2022_artist_id)"
   ]
  },
  {
   "cell_type": "code",
   "execution_count": 274,
   "id": "4022a32c",
   "metadata": {},
   "outputs": [
    {
     "data": {
      "text/plain": [
       "'2h93pZq0e7k5yf4dywlkpM,4e9vQfyvvDlcQAkjSdFE4x,1moxjboGR7GNWYIMWsRjgG,7jZycSvTyx0W9poD4PjEIG,0nnYdIpahs41QiZ9MWp5Wx,163tK9Wjr9P9DmM0AVK7lm,7vtSUU3zpHeYJfX6BPNrJd,5GGJosGMs08YEmKTZJe1fL,00FQb4jTyendYWaN8pK0wa,5INjqkS1o8h1imAzPqGZBb,5INjqkS1o8h1imAzPqGZBb,3TVXtAsR1Inumwj472S9r4,1U1el3k54VvEUzo3ybLPlM,2h93pZq0e7k5yf4dywlkpM,00FQb4jTyendYWaN8pK0wa,5INjqkS1o8h1imAzPqGZBb,4LLpKhyESsyAXpc4laK94U,73sIBHcqh3Z3NyqHKZ7FOL,3TVXtAsR1Inumwj472S9r4,6KImCVD70vtIoJWnq6nGn3,4e9vQfyvvDlcQAkjSdFE4x,2h93pZq0e7k5yf4dywlkpM,0W8xe7IqAPlnBRMUpWOUuJ,5GGJosGMs08YEmKTZJe1fL,7jZycSvTyx0W9poD4PjEIG,1moxjboGR7GNWYIMWsRjgG,1moxjboGR7GNWYIMWsRjgG,6KImCVD70vtIoJWnq6nGn3,2D4FOOOtWycb3Aw9nY5n3c,67WNUxmM7y4WzHPAVzBu3E,6xdRb2GypJ7DqnWAI2mHGn,6ogn9necmbUdCppmNnGOdi,415rtLOb1FDKZAxo1IJ1hW,3TVXtAsR1Inumwj472S9r4,4aEuFytRb43SAgjchJDk5e,0knGpCTbmG4ctl1wzYRZs4,13ubrt8QOOCPljQ2FL1Kca,6USv9qhCn6zfxlBQIYJ9qs,5DPoUW5HGgfsoAelpybURt,4wrzxtBZw20ufDstKyTnnP,67WNUxmM7y4WzHPAVzBu3E,163tK9Wjr9P9DmM0AVK7lm,6ogn9necmbUdCppmNnGOdi,6ogn9necmbUdCppmNnGOdi,163tK9Wjr9P9DmM0AVK7lm,7jZycSvTyx0W9poD4PjEIG,5GGJosGMs08YEmKTZJe1fL,6KImCVD70vtIoJWnq6nGn3'"
      ]
     },
     "execution_count": 274,
     "metadata": {},
     "output_type": "execute_result"
    }
   ],
   "source": [
    "summer_2022_artist_strings"
   ]
  },
  {
   "cell_type": "code",
   "execution_count": 275,
   "id": "e980d988",
   "metadata": {},
   "outputs": [],
   "source": [
    "artist_endpoint = \"https://api.spotify.com/v1/artists?ids={}\".format(summer_2022_artist_strings)"
   ]
  },
  {
   "cell_type": "code",
   "execution_count": 276,
   "id": "f358a240",
   "metadata": {},
   "outputs": [],
   "source": [
    "summer_2022_genre_info = requests.get(artist_endpoint, headers = session_header)"
   ]
  },
  {
   "cell_type": "code",
   "execution_count": 277,
   "id": "4a5fdf4f",
   "metadata": {},
   "outputs": [
    {
     "data": {
      "text/plain": [
       "200"
      ]
     },
     "execution_count": 277,
     "metadata": {},
     "output_type": "execute_result"
    }
   ],
   "source": [
    "summer_2022_genre_info.status_code"
   ]
  },
  {
   "cell_type": "code",
   "execution_count": 278,
   "id": "44af05ef",
   "metadata": {},
   "outputs": [],
   "source": [
    "summer_2022_dict = json.loads(summer_2022_genre_info.text)"
   ]
  },
  {
   "cell_type": "code",
   "execution_count": 279,
   "id": "3f45a1ce",
   "metadata": {},
   "outputs": [
    {
     "data": {
      "text/plain": [
       "dict_keys(['artists'])"
      ]
     },
     "execution_count": 279,
     "metadata": {},
     "output_type": "execute_result"
    }
   ],
   "source": [
    "summer_2022_dict.keys()"
   ]
  },
  {
   "cell_type": "code",
   "execution_count": 280,
   "id": "c42f8e29",
   "metadata": {},
   "outputs": [],
   "source": [
    "summer_2022_artists_df = pd.DataFrame(summer_2022_dict['artists'])"
   ]
  },
  {
   "cell_type": "code",
   "execution_count": 281,
   "id": "4bc4e6d4",
   "metadata": {},
   "outputs": [
    {
     "data": {
      "text/html": [
       "<div>\n",
       "<style scoped>\n",
       "    .dataframe tbody tr th:only-of-type {\n",
       "        vertical-align: middle;\n",
       "    }\n",
       "\n",
       "    .dataframe tbody tr th {\n",
       "        vertical-align: top;\n",
       "    }\n",
       "\n",
       "    .dataframe thead th {\n",
       "        text-align: right;\n",
       "    }\n",
       "</style>\n",
       "<table border=\"1\" class=\"dataframe\">\n",
       "  <thead>\n",
       "    <tr style=\"text-align: right;\">\n",
       "      <th></th>\n",
       "      <th>external_urls</th>\n",
       "      <th>followers</th>\n",
       "      <th>genres</th>\n",
       "      <th>href</th>\n",
       "      <th>id</th>\n",
       "      <th>images</th>\n",
       "      <th>name</th>\n",
       "      <th>popularity</th>\n",
       "      <th>type</th>\n",
       "      <th>uri</th>\n",
       "    </tr>\n",
       "  </thead>\n",
       "  <tbody>\n",
       "    <tr>\n",
       "      <th>0</th>\n",
       "      <td>{'spotify': 'https://open.spotify.com/artist/2...</td>\n",
       "      <td>{'href': None, 'total': 10341103}</td>\n",
       "      <td>[hip hop, lgbtq+ hip hop, neo soul, pop]</td>\n",
       "      <td>https://api.spotify.com/v1/artists/2h93pZq0e7k...</td>\n",
       "      <td>2h93pZq0e7k5yf4dywlkpM</td>\n",
       "      <td>[{'height': 640, 'url': 'https://i.scdn.co/ima...</td>\n",
       "      <td>Frank Ocean</td>\n",
       "      <td>84</td>\n",
       "      <td>artist</td>\n",
       "      <td>spotify:artist:2h93pZq0e7k5yf4dywlkpM</td>\n",
       "    </tr>\n",
       "  </tbody>\n",
       "</table>\n",
       "</div>"
      ],
      "text/plain": [
       "                                       external_urls  \\\n",
       "0  {'spotify': 'https://open.spotify.com/artist/2...   \n",
       "\n",
       "                           followers  \\\n",
       "0  {'href': None, 'total': 10341103}   \n",
       "\n",
       "                                     genres  \\\n",
       "0  [hip hop, lgbtq+ hip hop, neo soul, pop]   \n",
       "\n",
       "                                                href                      id  \\\n",
       "0  https://api.spotify.com/v1/artists/2h93pZq0e7k...  2h93pZq0e7k5yf4dywlkpM   \n",
       "\n",
       "                                              images         name  popularity  \\\n",
       "0  [{'height': 640, 'url': 'https://i.scdn.co/ima...  Frank Ocean          84   \n",
       "\n",
       "     type                                    uri  \n",
       "0  artist  spotify:artist:2h93pZq0e7k5yf4dywlkpM  "
      ]
     },
     "execution_count": 281,
     "metadata": {},
     "output_type": "execute_result"
    }
   ],
   "source": [
    "summer_2022_artists_df.head(1)"
   ]
  },
  {
   "cell_type": "code",
   "execution_count": 282,
   "id": "64ee1de0",
   "metadata": {},
   "outputs": [],
   "source": [
    "summer_2022_artists = summer_2022_artists_df.drop(['external_urls', 'followers', 'href', 'images', 'popularity', 'type', 'uri'], axis = 1)"
   ]
  },
  {
   "cell_type": "code",
   "execution_count": 283,
   "id": "2a2b535c",
   "metadata": {},
   "outputs": [
    {
     "data": {
      "text/html": [
       "<div>\n",
       "<style scoped>\n",
       "    .dataframe tbody tr th:only-of-type {\n",
       "        vertical-align: middle;\n",
       "    }\n",
       "\n",
       "    .dataframe tbody tr th {\n",
       "        vertical-align: top;\n",
       "    }\n",
       "\n",
       "    .dataframe thead th {\n",
       "        text-align: right;\n",
       "    }\n",
       "</style>\n",
       "<table border=\"1\" class=\"dataframe\">\n",
       "  <thead>\n",
       "    <tr style=\"text-align: right;\">\n",
       "      <th></th>\n",
       "      <th>genres</th>\n",
       "      <th>id</th>\n",
       "      <th>name</th>\n",
       "    </tr>\n",
       "  </thead>\n",
       "  <tbody>\n",
       "    <tr>\n",
       "      <th>0</th>\n",
       "      <td>[hip hop, lgbtq+ hip hop, neo soul, pop]</td>\n",
       "      <td>2h93pZq0e7k5yf4dywlkpM</td>\n",
       "      <td>Frank Ocean</td>\n",
       "    </tr>\n",
       "    <tr>\n",
       "      <th>1</th>\n",
       "      <td>[indie pop]</td>\n",
       "      <td>4e9vQfyvvDlcQAkjSdFE4x</td>\n",
       "      <td>Maya Hawke</td>\n",
       "    </tr>\n",
       "    <tr>\n",
       "      <th>2</th>\n",
       "      <td>[baroque pop, pop, uk alternative pop]</td>\n",
       "      <td>1moxjboGR7GNWYIMWsRjgG</td>\n",
       "      <td>Florence + The Machine</td>\n",
       "    </tr>\n",
       "    <tr>\n",
       "      <th>3</th>\n",
       "      <td>[english indie rock, modern alternative rock, ...</td>\n",
       "      <td>7jZycSvTyx0W9poD4PjEIG</td>\n",
       "      <td>The Hunna</td>\n",
       "    </tr>\n",
       "    <tr>\n",
       "      <th>4</th>\n",
       "      <td>[alt z, indie pop, modern alternative pop, pop...</td>\n",
       "      <td>0nnYdIpahs41QiZ9MWp5Wx</td>\n",
       "      <td>Holly Humberstone</td>\n",
       "    </tr>\n",
       "  </tbody>\n",
       "</table>\n",
       "</div>"
      ],
      "text/plain": [
       "                                              genres                      id  \\\n",
       "0           [hip hop, lgbtq+ hip hop, neo soul, pop]  2h93pZq0e7k5yf4dywlkpM   \n",
       "1                                        [indie pop]  4e9vQfyvvDlcQAkjSdFE4x   \n",
       "2             [baroque pop, pop, uk alternative pop]  1moxjboGR7GNWYIMWsRjgG   \n",
       "3  [english indie rock, modern alternative rock, ...  7jZycSvTyx0W9poD4PjEIG   \n",
       "4  [alt z, indie pop, modern alternative pop, pop...  0nnYdIpahs41QiZ9MWp5Wx   \n",
       "\n",
       "                     name  \n",
       "0             Frank Ocean  \n",
       "1              Maya Hawke  \n",
       "2  Florence + The Machine  \n",
       "3               The Hunna  \n",
       "4       Holly Humberstone  "
      ]
     },
     "execution_count": 283,
     "metadata": {},
     "output_type": "execute_result"
    }
   ],
   "source": [
    "summer_2022_artists.head()"
   ]
  },
  {
   "cell_type": "code",
   "execution_count": 284,
   "id": "3f8c46d6",
   "metadata": {},
   "outputs": [],
   "source": [
    "summer_2022_final_df = summer_2022_tracks.merge(summer_2022_artists, left_on = 'artists', right_on = 'id', how = 'left' )"
   ]
  },
  {
   "cell_type": "markdown",
   "id": "7ac09bbb",
   "metadata": {},
   "source": [
    "I'm not sure why the data frames I created have some songs listed more than once. In the interest of moving forward, I exported each as a cvs file and deleted the extra song entries from the excel file."
   ]
  },
  {
   "cell_type": "code",
   "execution_count": 285,
   "id": "bca8de99",
   "metadata": {},
   "outputs": [
    {
     "data": {
      "text/html": [
       "<div>\n",
       "<style scoped>\n",
       "    .dataframe tbody tr th:only-of-type {\n",
       "        vertical-align: middle;\n",
       "    }\n",
       "\n",
       "    .dataframe tbody tr th {\n",
       "        vertical-align: top;\n",
       "    }\n",
       "\n",
       "    .dataframe thead th {\n",
       "        text-align: right;\n",
       "    }\n",
       "</style>\n",
       "<table border=\"1\" class=\"dataframe\">\n",
       "  <thead>\n",
       "    <tr style=\"text-align: right;\">\n",
       "      <th></th>\n",
       "      <th>artists</th>\n",
       "      <th>id_x</th>\n",
       "      <th>name_x</th>\n",
       "      <th>genres</th>\n",
       "      <th>id_y</th>\n",
       "      <th>name_y</th>\n",
       "    </tr>\n",
       "  </thead>\n",
       "  <tbody>\n",
       "    <tr>\n",
       "      <th>0</th>\n",
       "      <td>2h93pZq0e7k5yf4dywlkpM</td>\n",
       "      <td>2ZWlPOoWh0626oTaHrnl2a</td>\n",
       "      <td>Ivy</td>\n",
       "      <td>[hip hop, lgbtq+ hip hop, neo soul, pop]</td>\n",
       "      <td>2h93pZq0e7k5yf4dywlkpM</td>\n",
       "      <td>Frank Ocean</td>\n",
       "    </tr>\n",
       "    <tr>\n",
       "      <th>1</th>\n",
       "      <td>2h93pZq0e7k5yf4dywlkpM</td>\n",
       "      <td>2ZWlPOoWh0626oTaHrnl2a</td>\n",
       "      <td>Ivy</td>\n",
       "      <td>[hip hop, lgbtq+ hip hop, neo soul, pop]</td>\n",
       "      <td>2h93pZq0e7k5yf4dywlkpM</td>\n",
       "      <td>Frank Ocean</td>\n",
       "    </tr>\n",
       "    <tr>\n",
       "      <th>2</th>\n",
       "      <td>2h93pZq0e7k5yf4dywlkpM</td>\n",
       "      <td>2ZWlPOoWh0626oTaHrnl2a</td>\n",
       "      <td>Ivy</td>\n",
       "      <td>[hip hop, lgbtq+ hip hop, neo soul, pop]</td>\n",
       "      <td>2h93pZq0e7k5yf4dywlkpM</td>\n",
       "      <td>Frank Ocean</td>\n",
       "    </tr>\n",
       "    <tr>\n",
       "      <th>3</th>\n",
       "      <td>4e9vQfyvvDlcQAkjSdFE4x</td>\n",
       "      <td>2KHS3nIZrcWYM5txO4uM9N</td>\n",
       "      <td>Generous Heart</td>\n",
       "      <td>[indie pop]</td>\n",
       "      <td>4e9vQfyvvDlcQAkjSdFE4x</td>\n",
       "      <td>Maya Hawke</td>\n",
       "    </tr>\n",
       "    <tr>\n",
       "      <th>4</th>\n",
       "      <td>4e9vQfyvvDlcQAkjSdFE4x</td>\n",
       "      <td>2KHS3nIZrcWYM5txO4uM9N</td>\n",
       "      <td>Generous Heart</td>\n",
       "      <td>[indie pop]</td>\n",
       "      <td>4e9vQfyvvDlcQAkjSdFE4x</td>\n",
       "      <td>Maya Hawke</td>\n",
       "    </tr>\n",
       "  </tbody>\n",
       "</table>\n",
       "</div>"
      ],
      "text/plain": [
       "                  artists                    id_x          name_x  \\\n",
       "0  2h93pZq0e7k5yf4dywlkpM  2ZWlPOoWh0626oTaHrnl2a             Ivy   \n",
       "1  2h93pZq0e7k5yf4dywlkpM  2ZWlPOoWh0626oTaHrnl2a             Ivy   \n",
       "2  2h93pZq0e7k5yf4dywlkpM  2ZWlPOoWh0626oTaHrnl2a             Ivy   \n",
       "3  4e9vQfyvvDlcQAkjSdFE4x  2KHS3nIZrcWYM5txO4uM9N  Generous Heart   \n",
       "4  4e9vQfyvvDlcQAkjSdFE4x  2KHS3nIZrcWYM5txO4uM9N  Generous Heart   \n",
       "\n",
       "                                     genres                    id_y  \\\n",
       "0  [hip hop, lgbtq+ hip hop, neo soul, pop]  2h93pZq0e7k5yf4dywlkpM   \n",
       "1  [hip hop, lgbtq+ hip hop, neo soul, pop]  2h93pZq0e7k5yf4dywlkpM   \n",
       "2  [hip hop, lgbtq+ hip hop, neo soul, pop]  2h93pZq0e7k5yf4dywlkpM   \n",
       "3                               [indie pop]  4e9vQfyvvDlcQAkjSdFE4x   \n",
       "4                               [indie pop]  4e9vQfyvvDlcQAkjSdFE4x   \n",
       "\n",
       "        name_y  \n",
       "0  Frank Ocean  \n",
       "1  Frank Ocean  \n",
       "2  Frank Ocean  \n",
       "3   Maya Hawke  \n",
       "4   Maya Hawke  "
      ]
     },
     "execution_count": 285,
     "metadata": {},
     "output_type": "execute_result"
    }
   ],
   "source": [
    "summer_2022_final_df.head()"
   ]
  },
  {
   "cell_type": "code",
   "execution_count": 286,
   "id": "88e2e68c",
   "metadata": {},
   "outputs": [],
   "source": [
    "summer_2022_final = summer_2022_final_df.drop(['artists', 'id_x', 'id_y'], axis = 1)"
   ]
  },
  {
   "cell_type": "code",
   "execution_count": 287,
   "id": "0b65e274",
   "metadata": {},
   "outputs": [
    {
     "data": {
      "text/html": [
       "<div>\n",
       "<style scoped>\n",
       "    .dataframe tbody tr th:only-of-type {\n",
       "        vertical-align: middle;\n",
       "    }\n",
       "\n",
       "    .dataframe tbody tr th {\n",
       "        vertical-align: top;\n",
       "    }\n",
       "\n",
       "    .dataframe thead th {\n",
       "        text-align: right;\n",
       "    }\n",
       "</style>\n",
       "<table border=\"1\" class=\"dataframe\">\n",
       "  <thead>\n",
       "    <tr style=\"text-align: right;\">\n",
       "      <th></th>\n",
       "      <th>name_x</th>\n",
       "      <th>genres</th>\n",
       "      <th>name_y</th>\n",
       "    </tr>\n",
       "  </thead>\n",
       "  <tbody>\n",
       "    <tr>\n",
       "      <th>0</th>\n",
       "      <td>Ivy</td>\n",
       "      <td>[hip hop, lgbtq+ hip hop, neo soul, pop]</td>\n",
       "      <td>Frank Ocean</td>\n",
       "    </tr>\n",
       "    <tr>\n",
       "      <th>1</th>\n",
       "      <td>Ivy</td>\n",
       "      <td>[hip hop, lgbtq+ hip hop, neo soul, pop]</td>\n",
       "      <td>Frank Ocean</td>\n",
       "    </tr>\n",
       "    <tr>\n",
       "      <th>2</th>\n",
       "      <td>Ivy</td>\n",
       "      <td>[hip hop, lgbtq+ hip hop, neo soul, pop]</td>\n",
       "      <td>Frank Ocean</td>\n",
       "    </tr>\n",
       "    <tr>\n",
       "      <th>3</th>\n",
       "      <td>Generous Heart</td>\n",
       "      <td>[indie pop]</td>\n",
       "      <td>Maya Hawke</td>\n",
       "    </tr>\n",
       "    <tr>\n",
       "      <th>4</th>\n",
       "      <td>Generous Heart</td>\n",
       "      <td>[indie pop]</td>\n",
       "      <td>Maya Hawke</td>\n",
       "    </tr>\n",
       "  </tbody>\n",
       "</table>\n",
       "</div>"
      ],
      "text/plain": [
       "           name_x                                    genres       name_y\n",
       "0             Ivy  [hip hop, lgbtq+ hip hop, neo soul, pop]  Frank Ocean\n",
       "1             Ivy  [hip hop, lgbtq+ hip hop, neo soul, pop]  Frank Ocean\n",
       "2             Ivy  [hip hop, lgbtq+ hip hop, neo soul, pop]  Frank Ocean\n",
       "3  Generous Heart                               [indie pop]   Maya Hawke\n",
       "4  Generous Heart                               [indie pop]   Maya Hawke"
      ]
     },
     "execution_count": 287,
     "metadata": {},
     "output_type": "execute_result"
    }
   ],
   "source": [
    "summer_2022_final.head()"
   ]
  },
  {
   "cell_type": "code",
   "execution_count": 288,
   "id": "b77a9c4f",
   "metadata": {
    "scrolled": true
   },
   "outputs": [],
   "source": [
    "summer_2022_df = summer_2022_final.rename(columns={'name_x': 'song title', 'name_y': 'artist'})"
   ]
  },
  {
   "cell_type": "code",
   "execution_count": 289,
   "id": "17f52586",
   "metadata": {
    "scrolled": false
   },
   "outputs": [
    {
     "data": {
      "text/html": [
       "<div>\n",
       "<style scoped>\n",
       "    .dataframe tbody tr th:only-of-type {\n",
       "        vertical-align: middle;\n",
       "    }\n",
       "\n",
       "    .dataframe tbody tr th {\n",
       "        vertical-align: top;\n",
       "    }\n",
       "\n",
       "    .dataframe thead th {\n",
       "        text-align: right;\n",
       "    }\n",
       "</style>\n",
       "<table border=\"1\" class=\"dataframe\">\n",
       "  <thead>\n",
       "    <tr style=\"text-align: right;\">\n",
       "      <th></th>\n",
       "      <th>song title</th>\n",
       "      <th>genres</th>\n",
       "      <th>artist</th>\n",
       "    </tr>\n",
       "  </thead>\n",
       "  <tbody>\n",
       "    <tr>\n",
       "      <th>0</th>\n",
       "      <td>Ivy</td>\n",
       "      <td>[hip hop, lgbtq+ hip hop, neo soul, pop]</td>\n",
       "      <td>Frank Ocean</td>\n",
       "    </tr>\n",
       "    <tr>\n",
       "      <th>1</th>\n",
       "      <td>Ivy</td>\n",
       "      <td>[hip hop, lgbtq+ hip hop, neo soul, pop]</td>\n",
       "      <td>Frank Ocean</td>\n",
       "    </tr>\n",
       "    <tr>\n",
       "      <th>2</th>\n",
       "      <td>Ivy</td>\n",
       "      <td>[hip hop, lgbtq+ hip hop, neo soul, pop]</td>\n",
       "      <td>Frank Ocean</td>\n",
       "    </tr>\n",
       "    <tr>\n",
       "      <th>3</th>\n",
       "      <td>Generous Heart</td>\n",
       "      <td>[indie pop]</td>\n",
       "      <td>Maya Hawke</td>\n",
       "    </tr>\n",
       "    <tr>\n",
       "      <th>4</th>\n",
       "      <td>Generous Heart</td>\n",
       "      <td>[indie pop]</td>\n",
       "      <td>Maya Hawke</td>\n",
       "    </tr>\n",
       "  </tbody>\n",
       "</table>\n",
       "</div>"
      ],
      "text/plain": [
       "       song title                                    genres       artist\n",
       "0             Ivy  [hip hop, lgbtq+ hip hop, neo soul, pop]  Frank Ocean\n",
       "1             Ivy  [hip hop, lgbtq+ hip hop, neo soul, pop]  Frank Ocean\n",
       "2             Ivy  [hip hop, lgbtq+ hip hop, neo soul, pop]  Frank Ocean\n",
       "3  Generous Heart                               [indie pop]   Maya Hawke\n",
       "4  Generous Heart                               [indie pop]   Maya Hawke"
      ]
     },
     "execution_count": 289,
     "metadata": {},
     "output_type": "execute_result"
    }
   ],
   "source": [
    "summer_2022_df.head()"
   ]
  },
  {
   "cell_type": "code",
   "execution_count": 290,
   "id": "13ebf4e7",
   "metadata": {},
   "outputs": [],
   "source": [
    "summer_2022_df.to_csv('summer_2022.csv')"
   ]
  },
  {
   "cell_type": "markdown",
   "id": "4b70e11f",
   "metadata": {},
   "source": [
    "### Fall 2021 Playlist Data Collection ###"
   ]
  },
  {
   "cell_type": "markdown",
   "id": "b36f90b4",
   "metadata": {},
   "source": [
    "I followed the same steps as I did for the data collection for previous playlists. "
   ]
  },
  {
   "cell_type": "code",
   "execution_count": 291,
   "id": "78699b56",
   "metadata": {},
   "outputs": [],
   "source": [
    "fall_2021_id = '6NNtADJvq6PjDUEpWfLSP5'"
   ]
  },
  {
   "cell_type": "code",
   "execution_count": 292,
   "id": "5bd7412f",
   "metadata": {},
   "outputs": [],
   "source": [
    "playlist_tracks_endpoint = \"https://api.spotify.com/v1/playlists/{}/tracks\".format(fall_2021_id)"
   ]
  },
  {
   "cell_type": "code",
   "execution_count": 293,
   "id": "159b71b1",
   "metadata": {},
   "outputs": [],
   "source": [
    "fall_2021_tracks = requests.get(playlist_tracks_endpoint, headers = session_header)"
   ]
  },
  {
   "cell_type": "code",
   "execution_count": 294,
   "id": "da86340a",
   "metadata": {},
   "outputs": [
    {
     "data": {
      "text/plain": [
       "200"
      ]
     },
     "execution_count": 294,
     "metadata": {},
     "output_type": "execute_result"
    }
   ],
   "source": [
    "fall_2021_tracks.status_code"
   ]
  },
  {
   "cell_type": "code",
   "execution_count": 295,
   "id": "95e6d4eb",
   "metadata": {},
   "outputs": [],
   "source": [
    "fall_2021_dict = json.loads(fall_2021_tracks.text)"
   ]
  },
  {
   "cell_type": "code",
   "execution_count": 296,
   "id": "b299d32e",
   "metadata": {
    "scrolled": true
   },
   "outputs": [
    {
     "data": {
      "text/plain": [
       "dict_keys(['href', 'items', 'limit', 'next', 'offset', 'previous', 'total'])"
      ]
     },
     "execution_count": 296,
     "metadata": {},
     "output_type": "execute_result"
    }
   ],
   "source": [
    "fall_2021_dict.keys()"
   ]
  },
  {
   "cell_type": "code",
   "execution_count": 297,
   "id": "60341509",
   "metadata": {},
   "outputs": [
    {
     "data": {
      "text/plain": [
       "dict_keys(['added_at', 'added_by', 'is_local', 'primary_color', 'track', 'video_thumbnail'])"
      ]
     },
     "execution_count": 297,
     "metadata": {},
     "output_type": "execute_result"
    }
   ],
   "source": [
    "fall_2021_dict['items'][0].keys()"
   ]
  },
  {
   "cell_type": "code",
   "execution_count": 298,
   "id": "32dfb084",
   "metadata": {},
   "outputs": [
    {
     "data": {
      "text/plain": [
       "'7tMbZ0RGW0jFsBw7ipEPEV'"
      ]
     },
     "execution_count": 298,
     "metadata": {},
     "output_type": "execute_result"
    }
   ],
   "source": [
    "fall_2021_dict['items'][0]['track']['id']"
   ]
  },
  {
   "cell_type": "code",
   "execution_count": 299,
   "id": "2f375245",
   "metadata": {},
   "outputs": [],
   "source": [
    "fall_2021_track_ids = [x['track']['id'] for x in fall_2021_dict['items']]"
   ]
  },
  {
   "cell_type": "code",
   "execution_count": 300,
   "id": "c7cdc443",
   "metadata": {},
   "outputs": [],
   "source": [
    "fall_2021_track_strings = ','.join(str(x) for x in fall_2021_track_ids)"
   ]
  },
  {
   "cell_type": "code",
   "execution_count": 301,
   "id": "667b787a",
   "metadata": {},
   "outputs": [],
   "source": [
    "track_endpoint = \"https://api.spotify.com/v1/tracks?ids={}\".format(fall_2021_track_strings)"
   ]
  },
  {
   "cell_type": "code",
   "execution_count": 302,
   "id": "497babed",
   "metadata": {},
   "outputs": [],
   "source": [
    "fall_2021_tracks_info = requests.get(track_endpoint, headers = session_header)"
   ]
  },
  {
   "cell_type": "code",
   "execution_count": 303,
   "id": "e90e4faf",
   "metadata": {},
   "outputs": [
    {
     "data": {
      "text/plain": [
       "200"
      ]
     },
     "execution_count": 303,
     "metadata": {},
     "output_type": "execute_result"
    }
   ],
   "source": [
    "fall_2021_tracks_info.status_code"
   ]
  },
  {
   "cell_type": "code",
   "execution_count": 304,
   "id": "5dafe4e7",
   "metadata": {},
   "outputs": [],
   "source": [
    "fall_2021_dict = json.loads(fall_2021_tracks_info.text)"
   ]
  },
  {
   "cell_type": "code",
   "execution_count": 305,
   "id": "e0e1c7ac",
   "metadata": {},
   "outputs": [],
   "source": [
    "fall_2021_tracks_df = pd.DataFrame(fall_2021_dict['tracks'])"
   ]
  },
  {
   "cell_type": "code",
   "execution_count": 306,
   "id": "bf4ab747",
   "metadata": {},
   "outputs": [
    {
     "data": {
      "text/html": [
       "<div>\n",
       "<style scoped>\n",
       "    .dataframe tbody tr th:only-of-type {\n",
       "        vertical-align: middle;\n",
       "    }\n",
       "\n",
       "    .dataframe tbody tr th {\n",
       "        vertical-align: top;\n",
       "    }\n",
       "\n",
       "    .dataframe thead th {\n",
       "        text-align: right;\n",
       "    }\n",
       "</style>\n",
       "<table border=\"1\" class=\"dataframe\">\n",
       "  <thead>\n",
       "    <tr style=\"text-align: right;\">\n",
       "      <th></th>\n",
       "      <th>album</th>\n",
       "      <th>artists</th>\n",
       "      <th>available_markets</th>\n",
       "      <th>disc_number</th>\n",
       "      <th>duration_ms</th>\n",
       "      <th>explicit</th>\n",
       "      <th>external_ids</th>\n",
       "      <th>external_urls</th>\n",
       "      <th>href</th>\n",
       "      <th>id</th>\n",
       "      <th>is_local</th>\n",
       "      <th>name</th>\n",
       "      <th>popularity</th>\n",
       "      <th>preview_url</th>\n",
       "      <th>track_number</th>\n",
       "      <th>type</th>\n",
       "      <th>uri</th>\n",
       "    </tr>\n",
       "  </thead>\n",
       "  <tbody>\n",
       "    <tr>\n",
       "      <th>0</th>\n",
       "      <td>{'album_type': 'single', 'artists': [{'externa...</td>\n",
       "      <td>[{'external_urls': {'spotify': 'https://open.s...</td>\n",
       "      <td>[AD, AE, AG, AL, AM, AO, AR, AT, AU, AZ, BA, B...</td>\n",
       "      <td>1</td>\n",
       "      <td>254013</td>\n",
       "      <td>False</td>\n",
       "      <td>{'isrc': 'USQX91503233'}</td>\n",
       "      <td>{'spotify': 'https://open.spotify.com/track/7t...</td>\n",
       "      <td>https://api.spotify.com/v1/tracks/7tMbZ0RGW0jF...</td>\n",
       "      <td>7tMbZ0RGW0jFsBw7ipEPEV</td>\n",
       "      <td>False</td>\n",
       "      <td>Someone To Stay</td>\n",
       "      <td>58</td>\n",
       "      <td>https://p.scdn.co/mp3-preview/2945f20800d0a1d8...</td>\n",
       "      <td>1</td>\n",
       "      <td>track</td>\n",
       "      <td>spotify:track:7tMbZ0RGW0jFsBw7ipEPEV</td>\n",
       "    </tr>\n",
       "  </tbody>\n",
       "</table>\n",
       "</div>"
      ],
      "text/plain": [
       "                                               album  \\\n",
       "0  {'album_type': 'single', 'artists': [{'externa...   \n",
       "\n",
       "                                             artists  \\\n",
       "0  [{'external_urls': {'spotify': 'https://open.s...   \n",
       "\n",
       "                                   available_markets  disc_number  \\\n",
       "0  [AD, AE, AG, AL, AM, AO, AR, AT, AU, AZ, BA, B...            1   \n",
       "\n",
       "   duration_ms  explicit              external_ids  \\\n",
       "0       254013     False  {'isrc': 'USQX91503233'}   \n",
       "\n",
       "                                       external_urls  \\\n",
       "0  {'spotify': 'https://open.spotify.com/track/7t...   \n",
       "\n",
       "                                                href                      id  \\\n",
       "0  https://api.spotify.com/v1/tracks/7tMbZ0RGW0jF...  7tMbZ0RGW0jFsBw7ipEPEV   \n",
       "\n",
       "   is_local             name  popularity  \\\n",
       "0     False  Someone To Stay          58   \n",
       "\n",
       "                                         preview_url  track_number   type  \\\n",
       "0  https://p.scdn.co/mp3-preview/2945f20800d0a1d8...             1  track   \n",
       "\n",
       "                                    uri  \n",
       "0  spotify:track:7tMbZ0RGW0jFsBw7ipEPEV  "
      ]
     },
     "execution_count": 306,
     "metadata": {},
     "output_type": "execute_result"
    }
   ],
   "source": [
    "fall_2021_tracks_df.head(1)"
   ]
  },
  {
   "cell_type": "code",
   "execution_count": 307,
   "id": "e0c62c1c",
   "metadata": {},
   "outputs": [
    {
     "data": {
      "text/plain": [
       "[{'external_urls': {'spotify': 'https://open.spotify.com/artist/77BznF1Dr1k5KyEZ6Nn3jB'},\n",
       "  'href': 'https://api.spotify.com/v1/artists/77BznF1Dr1k5KyEZ6Nn3jB',\n",
       "  'id': '77BznF1Dr1k5KyEZ6Nn3jB',\n",
       "  'name': 'Vancouver Sleep Clinic',\n",
       "  'type': 'artist',\n",
       "  'uri': 'spotify:artist:77BznF1Dr1k5KyEZ6Nn3jB'}]"
      ]
     },
     "execution_count": 307,
     "metadata": {},
     "output_type": "execute_result"
    }
   ],
   "source": [
    "fall_2021_tracks_df['artists'][0]"
   ]
  },
  {
   "cell_type": "code",
   "execution_count": 308,
   "id": "b843be9d",
   "metadata": {},
   "outputs": [
    {
     "data": {
      "text/plain": [
       "'77BznF1Dr1k5KyEZ6Nn3jB'"
      ]
     },
     "execution_count": 308,
     "metadata": {},
     "output_type": "execute_result"
    }
   ],
   "source": [
    "fall_2021_tracks_df['artists'][0][0]['id']"
   ]
  },
  {
   "cell_type": "code",
   "execution_count": 309,
   "id": "34a2ed97",
   "metadata": {},
   "outputs": [],
   "source": [
    "fall_2021_artist_id = [x[0]['id'] for x in fall_2021_tracks_df['artists']]"
   ]
  },
  {
   "cell_type": "code",
   "execution_count": 310,
   "id": "376287f9",
   "metadata": {},
   "outputs": [],
   "source": [
    "fall_2021_tracks_df['artists'] = fall_2021_artist_id"
   ]
  },
  {
   "cell_type": "code",
   "execution_count": 311,
   "id": "67a27822",
   "metadata": {},
   "outputs": [
    {
     "data": {
      "text/html": [
       "<div>\n",
       "<style scoped>\n",
       "    .dataframe tbody tr th:only-of-type {\n",
       "        vertical-align: middle;\n",
       "    }\n",
       "\n",
       "    .dataframe tbody tr th {\n",
       "        vertical-align: top;\n",
       "    }\n",
       "\n",
       "    .dataframe thead th {\n",
       "        text-align: right;\n",
       "    }\n",
       "</style>\n",
       "<table border=\"1\" class=\"dataframe\">\n",
       "  <thead>\n",
       "    <tr style=\"text-align: right;\">\n",
       "      <th></th>\n",
       "      <th>album</th>\n",
       "      <th>artists</th>\n",
       "      <th>available_markets</th>\n",
       "      <th>disc_number</th>\n",
       "      <th>duration_ms</th>\n",
       "      <th>explicit</th>\n",
       "      <th>external_ids</th>\n",
       "      <th>external_urls</th>\n",
       "      <th>href</th>\n",
       "      <th>id</th>\n",
       "      <th>is_local</th>\n",
       "      <th>name</th>\n",
       "      <th>popularity</th>\n",
       "      <th>preview_url</th>\n",
       "      <th>track_number</th>\n",
       "      <th>type</th>\n",
       "      <th>uri</th>\n",
       "    </tr>\n",
       "  </thead>\n",
       "  <tbody>\n",
       "    <tr>\n",
       "      <th>0</th>\n",
       "      <td>{'album_type': 'single', 'artists': [{'externa...</td>\n",
       "      <td>77BznF1Dr1k5KyEZ6Nn3jB</td>\n",
       "      <td>[AD, AE, AG, AL, AM, AO, AR, AT, AU, AZ, BA, B...</td>\n",
       "      <td>1</td>\n",
       "      <td>254013</td>\n",
       "      <td>False</td>\n",
       "      <td>{'isrc': 'USQX91503233'}</td>\n",
       "      <td>{'spotify': 'https://open.spotify.com/track/7t...</td>\n",
       "      <td>https://api.spotify.com/v1/tracks/7tMbZ0RGW0jF...</td>\n",
       "      <td>7tMbZ0RGW0jFsBw7ipEPEV</td>\n",
       "      <td>False</td>\n",
       "      <td>Someone To Stay</td>\n",
       "      <td>58</td>\n",
       "      <td>https://p.scdn.co/mp3-preview/2945f20800d0a1d8...</td>\n",
       "      <td>1</td>\n",
       "      <td>track</td>\n",
       "      <td>spotify:track:7tMbZ0RGW0jFsBw7ipEPEV</td>\n",
       "    </tr>\n",
       "  </tbody>\n",
       "</table>\n",
       "</div>"
      ],
      "text/plain": [
       "                                               album                 artists  \\\n",
       "0  {'album_type': 'single', 'artists': [{'externa...  77BznF1Dr1k5KyEZ6Nn3jB   \n",
       "\n",
       "                                   available_markets  disc_number  \\\n",
       "0  [AD, AE, AG, AL, AM, AO, AR, AT, AU, AZ, BA, B...            1   \n",
       "\n",
       "   duration_ms  explicit              external_ids  \\\n",
       "0       254013     False  {'isrc': 'USQX91503233'}   \n",
       "\n",
       "                                       external_urls  \\\n",
       "0  {'spotify': 'https://open.spotify.com/track/7t...   \n",
       "\n",
       "                                                href                      id  \\\n",
       "0  https://api.spotify.com/v1/tracks/7tMbZ0RGW0jF...  7tMbZ0RGW0jFsBw7ipEPEV   \n",
       "\n",
       "   is_local             name  popularity  \\\n",
       "0     False  Someone To Stay          58   \n",
       "\n",
       "                                         preview_url  track_number   type  \\\n",
       "0  https://p.scdn.co/mp3-preview/2945f20800d0a1d8...             1  track   \n",
       "\n",
       "                                    uri  \n",
       "0  spotify:track:7tMbZ0RGW0jFsBw7ipEPEV  "
      ]
     },
     "execution_count": 311,
     "metadata": {},
     "output_type": "execute_result"
    }
   ],
   "source": [
    "fall_2021_tracks_df.head(1)"
   ]
  },
  {
   "cell_type": "code",
   "execution_count": 312,
   "id": "1d8b7e98",
   "metadata": {},
   "outputs": [],
   "source": [
    "fall_2021_tracks = fall_2021_tracks_df.drop(['album', 'available_markets', 'disc_number', 'duration_ms', 'explicit', 'external_ids', 'external_urls', 'href', 'is_local', 'popularity', 'preview_url', 'track_number', 'type', 'uri'], axis = 1)"
   ]
  },
  {
   "cell_type": "code",
   "execution_count": 313,
   "id": "c0a26f69",
   "metadata": {},
   "outputs": [
    {
     "data": {
      "text/html": [
       "<div>\n",
       "<style scoped>\n",
       "    .dataframe tbody tr th:only-of-type {\n",
       "        vertical-align: middle;\n",
       "    }\n",
       "\n",
       "    .dataframe tbody tr th {\n",
       "        vertical-align: top;\n",
       "    }\n",
       "\n",
       "    .dataframe thead th {\n",
       "        text-align: right;\n",
       "    }\n",
       "</style>\n",
       "<table border=\"1\" class=\"dataframe\">\n",
       "  <thead>\n",
       "    <tr style=\"text-align: right;\">\n",
       "      <th></th>\n",
       "      <th>artists</th>\n",
       "      <th>id</th>\n",
       "      <th>name</th>\n",
       "    </tr>\n",
       "  </thead>\n",
       "  <tbody>\n",
       "    <tr>\n",
       "      <th>0</th>\n",
       "      <td>77BznF1Dr1k5KyEZ6Nn3jB</td>\n",
       "      <td>7tMbZ0RGW0jFsBw7ipEPEV</td>\n",
       "      <td>Someone To Stay</td>\n",
       "    </tr>\n",
       "    <tr>\n",
       "      <th>1</th>\n",
       "      <td>3uwAm6vQy7kWPS2bciKWx9</td>\n",
       "      <td>3h3pOvw6hjOvZxRUseB7h9</td>\n",
       "      <td>i wanna be your girlfriend</td>\n",
       "    </tr>\n",
       "    <tr>\n",
       "      <th>2</th>\n",
       "      <td>3rWZHrfrsPBxVy692yAIxF</td>\n",
       "      <td>1gWgaCmXX9G5IxeyZPWooW</td>\n",
       "      <td>Boy</td>\n",
       "    </tr>\n",
       "    <tr>\n",
       "      <th>3</th>\n",
       "      <td>4dwdTW1Lfiq0cM8nBAqIIz</td>\n",
       "      <td>3SPVZJzf1Hs30rB6yXVf2y</td>\n",
       "      <td>Mountain Sound</td>\n",
       "    </tr>\n",
       "    <tr>\n",
       "      <th>4</th>\n",
       "      <td>06HL4z0CvFAxyc27GXpf02</td>\n",
       "      <td>4pvb0WLRcMtbPGmtejJJ6y</td>\n",
       "      <td>exile (feat. Bon Iver)</td>\n",
       "    </tr>\n",
       "  </tbody>\n",
       "</table>\n",
       "</div>"
      ],
      "text/plain": [
       "                  artists                      id                        name\n",
       "0  77BznF1Dr1k5KyEZ6Nn3jB  7tMbZ0RGW0jFsBw7ipEPEV             Someone To Stay\n",
       "1  3uwAm6vQy7kWPS2bciKWx9  3h3pOvw6hjOvZxRUseB7h9  i wanna be your girlfriend\n",
       "2  3rWZHrfrsPBxVy692yAIxF  1gWgaCmXX9G5IxeyZPWooW                         Boy\n",
       "3  4dwdTW1Lfiq0cM8nBAqIIz  3SPVZJzf1Hs30rB6yXVf2y              Mountain Sound\n",
       "4  06HL4z0CvFAxyc27GXpf02  4pvb0WLRcMtbPGmtejJJ6y      exile (feat. Bon Iver)"
      ]
     },
     "execution_count": 313,
     "metadata": {},
     "output_type": "execute_result"
    }
   ],
   "source": [
    "fall_2021_tracks.head()"
   ]
  },
  {
   "cell_type": "code",
   "execution_count": 314,
   "id": "39165eb8",
   "metadata": {},
   "outputs": [],
   "source": [
    "fall_2021_artist_strings = ','.join(str(x) for x in fall_2021_artist_id)"
   ]
  },
  {
   "cell_type": "code",
   "execution_count": 315,
   "id": "808fbc71",
   "metadata": {},
   "outputs": [],
   "source": [
    "artist_endpoint = \"https://api.spotify.com/v1/artists?ids={}\".format(fall_2021_artist_strings)"
   ]
  },
  {
   "cell_type": "code",
   "execution_count": 316,
   "id": "165d98b5",
   "metadata": {},
   "outputs": [],
   "source": [
    "fall_2021_genre_info = requests.get(artist_endpoint, headers = session_header)"
   ]
  },
  {
   "cell_type": "code",
   "execution_count": 317,
   "id": "746b223d",
   "metadata": {},
   "outputs": [
    {
     "data": {
      "text/plain": [
       "200"
      ]
     },
     "execution_count": 317,
     "metadata": {},
     "output_type": "execute_result"
    }
   ],
   "source": [
    "fall_2021_genre_info.status_code"
   ]
  },
  {
   "cell_type": "code",
   "execution_count": 318,
   "id": "7cf0fa93",
   "metadata": {},
   "outputs": [],
   "source": [
    "fall_2021_dict = json.loads(fall_2021_genre_info.text)"
   ]
  },
  {
   "cell_type": "code",
   "execution_count": 319,
   "id": "18439c16",
   "metadata": {},
   "outputs": [],
   "source": [
    "fall_2021_artists_df = pd.DataFrame(fall_2021_dict['artists'])"
   ]
  },
  {
   "cell_type": "code",
   "execution_count": 320,
   "id": "835718b2",
   "metadata": {},
   "outputs": [
    {
     "data": {
      "text/html": [
       "<div>\n",
       "<style scoped>\n",
       "    .dataframe tbody tr th:only-of-type {\n",
       "        vertical-align: middle;\n",
       "    }\n",
       "\n",
       "    .dataframe tbody tr th {\n",
       "        vertical-align: top;\n",
       "    }\n",
       "\n",
       "    .dataframe thead th {\n",
       "        text-align: right;\n",
       "    }\n",
       "</style>\n",
       "<table border=\"1\" class=\"dataframe\">\n",
       "  <thead>\n",
       "    <tr style=\"text-align: right;\">\n",
       "      <th></th>\n",
       "      <th>external_urls</th>\n",
       "      <th>followers</th>\n",
       "      <th>genres</th>\n",
       "      <th>href</th>\n",
       "      <th>id</th>\n",
       "      <th>images</th>\n",
       "      <th>name</th>\n",
       "      <th>popularity</th>\n",
       "      <th>type</th>\n",
       "      <th>uri</th>\n",
       "    </tr>\n",
       "  </thead>\n",
       "  <tbody>\n",
       "    <tr>\n",
       "      <th>0</th>\n",
       "      <td>{'spotify': 'https://open.spotify.com/artist/7...</td>\n",
       "      <td>{'href': None, 'total': 315028}</td>\n",
       "      <td>[indie folk, vapor pop, vapor soul]</td>\n",
       "      <td>https://api.spotify.com/v1/artists/77BznF1Dr1k...</td>\n",
       "      <td>77BznF1Dr1k5KyEZ6Nn3jB</td>\n",
       "      <td>[{'height': 640, 'url': 'https://i.scdn.co/ima...</td>\n",
       "      <td>Vancouver Sleep Clinic</td>\n",
       "      <td>60</td>\n",
       "      <td>artist</td>\n",
       "      <td>spotify:artist:77BznF1Dr1k5KyEZ6Nn3jB</td>\n",
       "    </tr>\n",
       "  </tbody>\n",
       "</table>\n",
       "</div>"
      ],
      "text/plain": [
       "                                       external_urls  \\\n",
       "0  {'spotify': 'https://open.spotify.com/artist/7...   \n",
       "\n",
       "                         followers                               genres  \\\n",
       "0  {'href': None, 'total': 315028}  [indie folk, vapor pop, vapor soul]   \n",
       "\n",
       "                                                href                      id  \\\n",
       "0  https://api.spotify.com/v1/artists/77BznF1Dr1k...  77BznF1Dr1k5KyEZ6Nn3jB   \n",
       "\n",
       "                                              images                    name  \\\n",
       "0  [{'height': 640, 'url': 'https://i.scdn.co/ima...  Vancouver Sleep Clinic   \n",
       "\n",
       "   popularity    type                                    uri  \n",
       "0          60  artist  spotify:artist:77BznF1Dr1k5KyEZ6Nn3jB  "
      ]
     },
     "execution_count": 320,
     "metadata": {},
     "output_type": "execute_result"
    }
   ],
   "source": [
    "fall_2021_artists_df.head(1)"
   ]
  },
  {
   "cell_type": "code",
   "execution_count": 321,
   "id": "1a5656be",
   "metadata": {},
   "outputs": [],
   "source": [
    "fall_2021_artists = fall_2021_artists_df.drop(['external_urls', 'followers', 'href', 'images', 'popularity', 'type', 'uri'], axis = 1)"
   ]
  },
  {
   "cell_type": "code",
   "execution_count": 322,
   "id": "a0eed404",
   "metadata": {},
   "outputs": [
    {
     "data": {
      "text/html": [
       "<div>\n",
       "<style scoped>\n",
       "    .dataframe tbody tr th:only-of-type {\n",
       "        vertical-align: middle;\n",
       "    }\n",
       "\n",
       "    .dataframe tbody tr th {\n",
       "        vertical-align: top;\n",
       "    }\n",
       "\n",
       "    .dataframe thead th {\n",
       "        text-align: right;\n",
       "    }\n",
       "</style>\n",
       "<table border=\"1\" class=\"dataframe\">\n",
       "  <thead>\n",
       "    <tr style=\"text-align: right;\">\n",
       "      <th></th>\n",
       "      <th>genres</th>\n",
       "      <th>id</th>\n",
       "      <th>name</th>\n",
       "    </tr>\n",
       "  </thead>\n",
       "  <tbody>\n",
       "    <tr>\n",
       "      <th>0</th>\n",
       "      <td>[indie folk, vapor pop, vapor soul]</td>\n",
       "      <td>77BznF1Dr1k5KyEZ6Nn3jB</td>\n",
       "      <td>Vancouver Sleep Clinic</td>\n",
       "    </tr>\n",
       "    <tr>\n",
       "      <th>1</th>\n",
       "      <td>[bedroom pop, indie pop, norwegian indie, pop]</td>\n",
       "      <td>3uwAm6vQy7kWPS2bciKWx9</td>\n",
       "      <td>girl in red</td>\n",
       "    </tr>\n",
       "    <tr>\n",
       "      <th>2</th>\n",
       "      <td>[afrofuturism, pop, post-teen pop]</td>\n",
       "      <td>3rWZHrfrsPBxVy692yAIxF</td>\n",
       "      <td>WILLOW</td>\n",
       "    </tr>\n",
       "    <tr>\n",
       "      <th>3</th>\n",
       "      <td>[folk-pop, metropopolis, modern rock, pop rock...</td>\n",
       "      <td>4dwdTW1Lfiq0cM8nBAqIIz</td>\n",
       "      <td>Of Monsters and Men</td>\n",
       "    </tr>\n",
       "    <tr>\n",
       "      <th>4</th>\n",
       "      <td>[pop]</td>\n",
       "      <td>06HL4z0CvFAxyc27GXpf02</td>\n",
       "      <td>Taylor Swift</td>\n",
       "    </tr>\n",
       "  </tbody>\n",
       "</table>\n",
       "</div>"
      ],
      "text/plain": [
       "                                              genres                      id  \\\n",
       "0                [indie folk, vapor pop, vapor soul]  77BznF1Dr1k5KyEZ6Nn3jB   \n",
       "1     [bedroom pop, indie pop, norwegian indie, pop]  3uwAm6vQy7kWPS2bciKWx9   \n",
       "2                 [afrofuturism, pop, post-teen pop]  3rWZHrfrsPBxVy692yAIxF   \n",
       "3  [folk-pop, metropopolis, modern rock, pop rock...  4dwdTW1Lfiq0cM8nBAqIIz   \n",
       "4                                              [pop]  06HL4z0CvFAxyc27GXpf02   \n",
       "\n",
       "                     name  \n",
       "0  Vancouver Sleep Clinic  \n",
       "1             girl in red  \n",
       "2                  WILLOW  \n",
       "3     Of Monsters and Men  \n",
       "4            Taylor Swift  "
      ]
     },
     "execution_count": 322,
     "metadata": {},
     "output_type": "execute_result"
    }
   ],
   "source": [
    "fall_2021_artists.head()"
   ]
  },
  {
   "cell_type": "code",
   "execution_count": 323,
   "id": "ae23d1fc",
   "metadata": {},
   "outputs": [],
   "source": [
    "fall_2021_final_df = fall_2021_tracks.merge(fall_2021_artists, left_on = 'artists', right_on = 'id', how = 'left' )"
   ]
  },
  {
   "cell_type": "code",
   "execution_count": 324,
   "id": "2e99dcd8",
   "metadata": {},
   "outputs": [
    {
     "data": {
      "text/html": [
       "<div>\n",
       "<style scoped>\n",
       "    .dataframe tbody tr th:only-of-type {\n",
       "        vertical-align: middle;\n",
       "    }\n",
       "\n",
       "    .dataframe tbody tr th {\n",
       "        vertical-align: top;\n",
       "    }\n",
       "\n",
       "    .dataframe thead th {\n",
       "        text-align: right;\n",
       "    }\n",
       "</style>\n",
       "<table border=\"1\" class=\"dataframe\">\n",
       "  <thead>\n",
       "    <tr style=\"text-align: right;\">\n",
       "      <th></th>\n",
       "      <th>artists</th>\n",
       "      <th>id_x</th>\n",
       "      <th>name_x</th>\n",
       "      <th>genres</th>\n",
       "      <th>id_y</th>\n",
       "      <th>name_y</th>\n",
       "    </tr>\n",
       "  </thead>\n",
       "  <tbody>\n",
       "    <tr>\n",
       "      <th>0</th>\n",
       "      <td>77BznF1Dr1k5KyEZ6Nn3jB</td>\n",
       "      <td>7tMbZ0RGW0jFsBw7ipEPEV</td>\n",
       "      <td>Someone To Stay</td>\n",
       "      <td>[indie folk, vapor pop, vapor soul]</td>\n",
       "      <td>77BznF1Dr1k5KyEZ6Nn3jB</td>\n",
       "      <td>Vancouver Sleep Clinic</td>\n",
       "    </tr>\n",
       "    <tr>\n",
       "      <th>1</th>\n",
       "      <td>3uwAm6vQy7kWPS2bciKWx9</td>\n",
       "      <td>3h3pOvw6hjOvZxRUseB7h9</td>\n",
       "      <td>i wanna be your girlfriend</td>\n",
       "      <td>[bedroom pop, indie pop, norwegian indie, pop]</td>\n",
       "      <td>3uwAm6vQy7kWPS2bciKWx9</td>\n",
       "      <td>girl in red</td>\n",
       "    </tr>\n",
       "    <tr>\n",
       "      <th>2</th>\n",
       "      <td>3uwAm6vQy7kWPS2bciKWx9</td>\n",
       "      <td>3h3pOvw6hjOvZxRUseB7h9</td>\n",
       "      <td>i wanna be your girlfriend</td>\n",
       "      <td>[bedroom pop, indie pop, norwegian indie, pop]</td>\n",
       "      <td>3uwAm6vQy7kWPS2bciKWx9</td>\n",
       "      <td>girl in red</td>\n",
       "    </tr>\n",
       "    <tr>\n",
       "      <th>3</th>\n",
       "      <td>3rWZHrfrsPBxVy692yAIxF</td>\n",
       "      <td>1gWgaCmXX9G5IxeyZPWooW</td>\n",
       "      <td>Boy</td>\n",
       "      <td>[afrofuturism, pop, post-teen pop]</td>\n",
       "      <td>3rWZHrfrsPBxVy692yAIxF</td>\n",
       "      <td>WILLOW</td>\n",
       "    </tr>\n",
       "    <tr>\n",
       "      <th>4</th>\n",
       "      <td>4dwdTW1Lfiq0cM8nBAqIIz</td>\n",
       "      <td>3SPVZJzf1Hs30rB6yXVf2y</td>\n",
       "      <td>Mountain Sound</td>\n",
       "      <td>[folk-pop, metropopolis, modern rock, pop rock...</td>\n",
       "      <td>4dwdTW1Lfiq0cM8nBAqIIz</td>\n",
       "      <td>Of Monsters and Men</td>\n",
       "    </tr>\n",
       "  </tbody>\n",
       "</table>\n",
       "</div>"
      ],
      "text/plain": [
       "                  artists                    id_x                      name_x  \\\n",
       "0  77BznF1Dr1k5KyEZ6Nn3jB  7tMbZ0RGW0jFsBw7ipEPEV             Someone To Stay   \n",
       "1  3uwAm6vQy7kWPS2bciKWx9  3h3pOvw6hjOvZxRUseB7h9  i wanna be your girlfriend   \n",
       "2  3uwAm6vQy7kWPS2bciKWx9  3h3pOvw6hjOvZxRUseB7h9  i wanna be your girlfriend   \n",
       "3  3rWZHrfrsPBxVy692yAIxF  1gWgaCmXX9G5IxeyZPWooW                         Boy   \n",
       "4  4dwdTW1Lfiq0cM8nBAqIIz  3SPVZJzf1Hs30rB6yXVf2y              Mountain Sound   \n",
       "\n",
       "                                              genres                    id_y  \\\n",
       "0                [indie folk, vapor pop, vapor soul]  77BznF1Dr1k5KyEZ6Nn3jB   \n",
       "1     [bedroom pop, indie pop, norwegian indie, pop]  3uwAm6vQy7kWPS2bciKWx9   \n",
       "2     [bedroom pop, indie pop, norwegian indie, pop]  3uwAm6vQy7kWPS2bciKWx9   \n",
       "3                 [afrofuturism, pop, post-teen pop]  3rWZHrfrsPBxVy692yAIxF   \n",
       "4  [folk-pop, metropopolis, modern rock, pop rock...  4dwdTW1Lfiq0cM8nBAqIIz   \n",
       "\n",
       "                   name_y  \n",
       "0  Vancouver Sleep Clinic  \n",
       "1             girl in red  \n",
       "2             girl in red  \n",
       "3                  WILLOW  \n",
       "4     Of Monsters and Men  "
      ]
     },
     "execution_count": 324,
     "metadata": {},
     "output_type": "execute_result"
    }
   ],
   "source": [
    "fall_2021_final_df.head()"
   ]
  },
  {
   "cell_type": "code",
   "execution_count": 325,
   "id": "1c0b4457",
   "metadata": {},
   "outputs": [],
   "source": [
    "fall_2021_final = fall_2021_final_df.drop(['artists', 'id_x', 'id_y'], axis = 1)"
   ]
  },
  {
   "cell_type": "code",
   "execution_count": 326,
   "id": "1f15b44b",
   "metadata": {},
   "outputs": [
    {
     "data": {
      "text/html": [
       "<div>\n",
       "<style scoped>\n",
       "    .dataframe tbody tr th:only-of-type {\n",
       "        vertical-align: middle;\n",
       "    }\n",
       "\n",
       "    .dataframe tbody tr th {\n",
       "        vertical-align: top;\n",
       "    }\n",
       "\n",
       "    .dataframe thead th {\n",
       "        text-align: right;\n",
       "    }\n",
       "</style>\n",
       "<table border=\"1\" class=\"dataframe\">\n",
       "  <thead>\n",
       "    <tr style=\"text-align: right;\">\n",
       "      <th></th>\n",
       "      <th>name_x</th>\n",
       "      <th>genres</th>\n",
       "      <th>name_y</th>\n",
       "    </tr>\n",
       "  </thead>\n",
       "  <tbody>\n",
       "    <tr>\n",
       "      <th>0</th>\n",
       "      <td>Someone To Stay</td>\n",
       "      <td>[indie folk, vapor pop, vapor soul]</td>\n",
       "      <td>Vancouver Sleep Clinic</td>\n",
       "    </tr>\n",
       "    <tr>\n",
       "      <th>1</th>\n",
       "      <td>i wanna be your girlfriend</td>\n",
       "      <td>[bedroom pop, indie pop, norwegian indie, pop]</td>\n",
       "      <td>girl in red</td>\n",
       "    </tr>\n",
       "    <tr>\n",
       "      <th>2</th>\n",
       "      <td>i wanna be your girlfriend</td>\n",
       "      <td>[bedroom pop, indie pop, norwegian indie, pop]</td>\n",
       "      <td>girl in red</td>\n",
       "    </tr>\n",
       "    <tr>\n",
       "      <th>3</th>\n",
       "      <td>Boy</td>\n",
       "      <td>[afrofuturism, pop, post-teen pop]</td>\n",
       "      <td>WILLOW</td>\n",
       "    </tr>\n",
       "    <tr>\n",
       "      <th>4</th>\n",
       "      <td>Mountain Sound</td>\n",
       "      <td>[folk-pop, metropopolis, modern rock, pop rock...</td>\n",
       "      <td>Of Monsters and Men</td>\n",
       "    </tr>\n",
       "  </tbody>\n",
       "</table>\n",
       "</div>"
      ],
      "text/plain": [
       "                       name_x  \\\n",
       "0             Someone To Stay   \n",
       "1  i wanna be your girlfriend   \n",
       "2  i wanna be your girlfriend   \n",
       "3                         Boy   \n",
       "4              Mountain Sound   \n",
       "\n",
       "                                              genres                  name_y  \n",
       "0                [indie folk, vapor pop, vapor soul]  Vancouver Sleep Clinic  \n",
       "1     [bedroom pop, indie pop, norwegian indie, pop]             girl in red  \n",
       "2     [bedroom pop, indie pop, norwegian indie, pop]             girl in red  \n",
       "3                 [afrofuturism, pop, post-teen pop]                  WILLOW  \n",
       "4  [folk-pop, metropopolis, modern rock, pop rock...     Of Monsters and Men  "
      ]
     },
     "execution_count": 326,
     "metadata": {},
     "output_type": "execute_result"
    }
   ],
   "source": [
    "fall_2021_final.head()"
   ]
  },
  {
   "cell_type": "code",
   "execution_count": 327,
   "id": "4f17ef1a",
   "metadata": {},
   "outputs": [],
   "source": [
    "fall_2021_df = fall_2021_final.rename(columns={'name_x': 'song title', 'name_y': 'artist'})"
   ]
  },
  {
   "cell_type": "code",
   "execution_count": 328,
   "id": "cdd65e87",
   "metadata": {},
   "outputs": [
    {
     "data": {
      "text/html": [
       "<div>\n",
       "<style scoped>\n",
       "    .dataframe tbody tr th:only-of-type {\n",
       "        vertical-align: middle;\n",
       "    }\n",
       "\n",
       "    .dataframe tbody tr th {\n",
       "        vertical-align: top;\n",
       "    }\n",
       "\n",
       "    .dataframe thead th {\n",
       "        text-align: right;\n",
       "    }\n",
       "</style>\n",
       "<table border=\"1\" class=\"dataframe\">\n",
       "  <thead>\n",
       "    <tr style=\"text-align: right;\">\n",
       "      <th></th>\n",
       "      <th>song title</th>\n",
       "      <th>genres</th>\n",
       "      <th>artist</th>\n",
       "    </tr>\n",
       "  </thead>\n",
       "  <tbody>\n",
       "    <tr>\n",
       "      <th>0</th>\n",
       "      <td>Someone To Stay</td>\n",
       "      <td>[indie folk, vapor pop, vapor soul]</td>\n",
       "      <td>Vancouver Sleep Clinic</td>\n",
       "    </tr>\n",
       "    <tr>\n",
       "      <th>1</th>\n",
       "      <td>i wanna be your girlfriend</td>\n",
       "      <td>[bedroom pop, indie pop, norwegian indie, pop]</td>\n",
       "      <td>girl in red</td>\n",
       "    </tr>\n",
       "    <tr>\n",
       "      <th>2</th>\n",
       "      <td>i wanna be your girlfriend</td>\n",
       "      <td>[bedroom pop, indie pop, norwegian indie, pop]</td>\n",
       "      <td>girl in red</td>\n",
       "    </tr>\n",
       "    <tr>\n",
       "      <th>3</th>\n",
       "      <td>Boy</td>\n",
       "      <td>[afrofuturism, pop, post-teen pop]</td>\n",
       "      <td>WILLOW</td>\n",
       "    </tr>\n",
       "    <tr>\n",
       "      <th>4</th>\n",
       "      <td>Mountain Sound</td>\n",
       "      <td>[folk-pop, metropopolis, modern rock, pop rock...</td>\n",
       "      <td>Of Monsters and Men</td>\n",
       "    </tr>\n",
       "  </tbody>\n",
       "</table>\n",
       "</div>"
      ],
      "text/plain": [
       "                   song title  \\\n",
       "0             Someone To Stay   \n",
       "1  i wanna be your girlfriend   \n",
       "2  i wanna be your girlfriend   \n",
       "3                         Boy   \n",
       "4              Mountain Sound   \n",
       "\n",
       "                                              genres                  artist  \n",
       "0                [indie folk, vapor pop, vapor soul]  Vancouver Sleep Clinic  \n",
       "1     [bedroom pop, indie pop, norwegian indie, pop]             girl in red  \n",
       "2     [bedroom pop, indie pop, norwegian indie, pop]             girl in red  \n",
       "3                 [afrofuturism, pop, post-teen pop]                  WILLOW  \n",
       "4  [folk-pop, metropopolis, modern rock, pop rock...     Of Monsters and Men  "
      ]
     },
     "execution_count": 328,
     "metadata": {},
     "output_type": "execute_result"
    }
   ],
   "source": [
    "fall_2021_df.head()"
   ]
  },
  {
   "cell_type": "code",
   "execution_count": 329,
   "id": "eec5ed6c",
   "metadata": {},
   "outputs": [],
   "source": [
    "fall_2021_df.to_csv('fall_2021.csv')"
   ]
  },
  {
   "cell_type": "markdown",
   "id": "6e5c978d",
   "metadata": {},
   "source": [
    "### Summer 2021 Playlist Data Collection ###"
   ]
  },
  {
   "cell_type": "markdown",
   "id": "d2059237",
   "metadata": {},
   "source": [
    "I followed the same steps as I did for the data collection for previous playlists. "
   ]
  },
  {
   "cell_type": "code",
   "execution_count": 330,
   "id": "7c9f83c3",
   "metadata": {},
   "outputs": [],
   "source": [
    "summer_2021_id = '1GWxMrxN5RgQRTi6PyN0UW'"
   ]
  },
  {
   "cell_type": "code",
   "execution_count": 331,
   "id": "2bb83b9e",
   "metadata": {},
   "outputs": [],
   "source": [
    "playlist_tracks_endpoint = \"https://api.spotify.com/v1/playlists/{}/tracks\".format(summer_2021_id)"
   ]
  },
  {
   "cell_type": "code",
   "execution_count": 332,
   "id": "6853bd3e",
   "metadata": {},
   "outputs": [],
   "source": [
    "summer_2021_tracks = requests.get(playlist_tracks_endpoint, headers = session_header)"
   ]
  },
  {
   "cell_type": "code",
   "execution_count": 337,
   "id": "924fee06",
   "metadata": {
    "scrolled": false
   },
   "outputs": [
    {
     "data": {
      "text/plain": [
       "200"
      ]
     },
     "execution_count": 337,
     "metadata": {},
     "output_type": "execute_result"
    }
   ],
   "source": [
    "summer_2021_tracks.status_code"
   ]
  },
  {
   "cell_type": "code",
   "execution_count": 334,
   "id": "d21bdda6",
   "metadata": {},
   "outputs": [],
   "source": [
    "summer_2021_dict = json.loads(summer_2021_tracks.text)"
   ]
  },
  {
   "cell_type": "code",
   "execution_count": 335,
   "id": "cd1e0781",
   "metadata": {},
   "outputs": [
    {
     "data": {
      "text/plain": [
       "dict_keys(['href', 'items', 'limit', 'next', 'offset', 'previous', 'total'])"
      ]
     },
     "execution_count": 335,
     "metadata": {},
     "output_type": "execute_result"
    }
   ],
   "source": [
    "summer_2021_dict.keys()"
   ]
  },
  {
   "cell_type": "code",
   "execution_count": 343,
   "id": "e1c3d3ef",
   "metadata": {},
   "outputs": [
    {
     "data": {
      "text/plain": [
       "dict_keys(['added_at', 'added_by', 'is_local', 'primary_color', 'track', 'video_thumbnail'])"
      ]
     },
     "execution_count": 343,
     "metadata": {},
     "output_type": "execute_result"
    }
   ],
   "source": [
    "summer_2021_dict['items'][0].keys()"
   ]
  },
  {
   "cell_type": "code",
   "execution_count": 344,
   "id": "e2b59b19",
   "metadata": {},
   "outputs": [
    {
     "data": {
      "text/plain": [
       "'6Dvxpqv61hyRZJs4qDfiP3'"
      ]
     },
     "execution_count": 344,
     "metadata": {},
     "output_type": "execute_result"
    }
   ],
   "source": [
    "summer_2021_dict['items'][0]['track']['id']"
   ]
  },
  {
   "cell_type": "code",
   "execution_count": 345,
   "id": "0c687d48",
   "metadata": {},
   "outputs": [],
   "source": [
    "summer_2021_track_ids = [x['track']['id'] for x in summer_2021_dict['items']]"
   ]
  },
  {
   "cell_type": "code",
   "execution_count": 347,
   "id": "3dd44d20",
   "metadata": {},
   "outputs": [],
   "source": [
    "summer_2021_track_strings = ','.join(str(x) for x in summer_2021_track_ids)"
   ]
  },
  {
   "cell_type": "code",
   "execution_count": 348,
   "id": "4912aa72",
   "metadata": {},
   "outputs": [],
   "source": [
    "track_endpoint = \"https://api.spotify.com/v1/tracks?ids={}\".format(summer_2021_track_strings)"
   ]
  },
  {
   "cell_type": "code",
   "execution_count": 349,
   "id": "1cde13b8",
   "metadata": {},
   "outputs": [],
   "source": [
    "summer_2021_tracks_info = requests.get(track_endpoint, headers = session_header)"
   ]
  },
  {
   "cell_type": "code",
   "execution_count": 350,
   "id": "1e9b2240",
   "metadata": {},
   "outputs": [
    {
     "data": {
      "text/plain": [
       "200"
      ]
     },
     "execution_count": 350,
     "metadata": {},
     "output_type": "execute_result"
    }
   ],
   "source": [
    "summer_2021_tracks_info.status_code"
   ]
  },
  {
   "cell_type": "code",
   "execution_count": 351,
   "id": "c0b64185",
   "metadata": {},
   "outputs": [],
   "source": [
    "summer_2021_dict = json.loads(summer_2021_tracks_info.text)"
   ]
  },
  {
   "cell_type": "code",
   "execution_count": 352,
   "id": "fdf15d9b",
   "metadata": {},
   "outputs": [],
   "source": [
    "summer_2021_tracks_df = pd.DataFrame(summer_2021_dict['tracks'])"
   ]
  },
  {
   "cell_type": "code",
   "execution_count": 353,
   "id": "f9153cad",
   "metadata": {},
   "outputs": [
    {
     "data": {
      "text/html": [
       "<div>\n",
       "<style scoped>\n",
       "    .dataframe tbody tr th:only-of-type {\n",
       "        vertical-align: middle;\n",
       "    }\n",
       "\n",
       "    .dataframe tbody tr th {\n",
       "        vertical-align: top;\n",
       "    }\n",
       "\n",
       "    .dataframe thead th {\n",
       "        text-align: right;\n",
       "    }\n",
       "</style>\n",
       "<table border=\"1\" class=\"dataframe\">\n",
       "  <thead>\n",
       "    <tr style=\"text-align: right;\">\n",
       "      <th></th>\n",
       "      <th>album</th>\n",
       "      <th>artists</th>\n",
       "      <th>available_markets</th>\n",
       "      <th>disc_number</th>\n",
       "      <th>duration_ms</th>\n",
       "      <th>explicit</th>\n",
       "      <th>external_ids</th>\n",
       "      <th>external_urls</th>\n",
       "      <th>href</th>\n",
       "      <th>id</th>\n",
       "      <th>is_local</th>\n",
       "      <th>name</th>\n",
       "      <th>popularity</th>\n",
       "      <th>preview_url</th>\n",
       "      <th>track_number</th>\n",
       "      <th>type</th>\n",
       "      <th>uri</th>\n",
       "    </tr>\n",
       "  </thead>\n",
       "  <tbody>\n",
       "    <tr>\n",
       "      <th>0</th>\n",
       "      <td>{'album_type': 'single', 'artists': [{'externa...</td>\n",
       "      <td>[{'external_urls': {'spotify': 'https://open.s...</td>\n",
       "      <td>[]</td>\n",
       "      <td>1</td>\n",
       "      <td>194363</td>\n",
       "      <td>False</td>\n",
       "      <td>{'isrc': 'GBKPL1810690'}</td>\n",
       "      <td>{'spotify': 'https://open.spotify.com/track/6D...</td>\n",
       "      <td>https://api.spotify.com/v1/tracks/6Dvxpqv61hyR...</td>\n",
       "      <td>6Dvxpqv61hyRZJs4qDfiP3</td>\n",
       "      <td>False</td>\n",
       "      <td>Dennis</td>\n",
       "      <td>25</td>\n",
       "      <td>None</td>\n",
       "      <td>1</td>\n",
       "      <td>track</td>\n",
       "      <td>spotify:track:6Dvxpqv61hyRZJs4qDfiP3</td>\n",
       "    </tr>\n",
       "  </tbody>\n",
       "</table>\n",
       "</div>"
      ],
      "text/plain": [
       "                                               album  \\\n",
       "0  {'album_type': 'single', 'artists': [{'externa...   \n",
       "\n",
       "                                             artists available_markets  \\\n",
       "0  [{'external_urls': {'spotify': 'https://open.s...                []   \n",
       "\n",
       "   disc_number  duration_ms  explicit              external_ids  \\\n",
       "0            1       194363     False  {'isrc': 'GBKPL1810690'}   \n",
       "\n",
       "                                       external_urls  \\\n",
       "0  {'spotify': 'https://open.spotify.com/track/6D...   \n",
       "\n",
       "                                                href                      id  \\\n",
       "0  https://api.spotify.com/v1/tracks/6Dvxpqv61hyR...  6Dvxpqv61hyRZJs4qDfiP3   \n",
       "\n",
       "   is_local    name  popularity preview_url  track_number   type  \\\n",
       "0     False  Dennis          25        None             1  track   \n",
       "\n",
       "                                    uri  \n",
       "0  spotify:track:6Dvxpqv61hyRZJs4qDfiP3  "
      ]
     },
     "execution_count": 353,
     "metadata": {},
     "output_type": "execute_result"
    }
   ],
   "source": [
    "summer_2021_tracks_df.head(1)"
   ]
  },
  {
   "cell_type": "code",
   "execution_count": 354,
   "id": "2dc39670",
   "metadata": {},
   "outputs": [
    {
     "data": {
      "text/plain": [
       "[{'external_urls': {'spotify': 'https://open.spotify.com/artist/6Sa4YbwEdGlfVSJMF1Lp67'},\n",
       "  'href': 'https://api.spotify.com/v1/artists/6Sa4YbwEdGlfVSJMF1Lp67',\n",
       "  'id': '6Sa4YbwEdGlfVSJMF1Lp67',\n",
       "  'name': 'Roy Blair',\n",
       "  'type': 'artist',\n",
       "  'uri': 'spotify:artist:6Sa4YbwEdGlfVSJMF1Lp67'}]"
      ]
     },
     "execution_count": 354,
     "metadata": {},
     "output_type": "execute_result"
    }
   ],
   "source": [
    "summer_2021_tracks_df['artists'][0]"
   ]
  },
  {
   "cell_type": "code",
   "execution_count": 355,
   "id": "ed7d9f68",
   "metadata": {},
   "outputs": [
    {
     "data": {
      "text/plain": [
       "'6Sa4YbwEdGlfVSJMF1Lp67'"
      ]
     },
     "execution_count": 355,
     "metadata": {},
     "output_type": "execute_result"
    }
   ],
   "source": [
    "summer_2021_tracks_df['artists'][0][0]['id']"
   ]
  },
  {
   "cell_type": "code",
   "execution_count": 356,
   "id": "3cbbf91e",
   "metadata": {},
   "outputs": [],
   "source": [
    "summer_2021_artist_id = [x[0]['id'] for x in summer_2021_tracks_df['artists']]"
   ]
  },
  {
   "cell_type": "code",
   "execution_count": 357,
   "id": "63aba3c4",
   "metadata": {},
   "outputs": [],
   "source": [
    "summer_2021_tracks_df['artists'] = summer_2021_artist_id"
   ]
  },
  {
   "cell_type": "code",
   "execution_count": 358,
   "id": "53cc35fc",
   "metadata": {},
   "outputs": [
    {
     "data": {
      "text/html": [
       "<div>\n",
       "<style scoped>\n",
       "    .dataframe tbody tr th:only-of-type {\n",
       "        vertical-align: middle;\n",
       "    }\n",
       "\n",
       "    .dataframe tbody tr th {\n",
       "        vertical-align: top;\n",
       "    }\n",
       "\n",
       "    .dataframe thead th {\n",
       "        text-align: right;\n",
       "    }\n",
       "</style>\n",
       "<table border=\"1\" class=\"dataframe\">\n",
       "  <thead>\n",
       "    <tr style=\"text-align: right;\">\n",
       "      <th></th>\n",
       "      <th>album</th>\n",
       "      <th>artists</th>\n",
       "      <th>available_markets</th>\n",
       "      <th>disc_number</th>\n",
       "      <th>duration_ms</th>\n",
       "      <th>explicit</th>\n",
       "      <th>external_ids</th>\n",
       "      <th>external_urls</th>\n",
       "      <th>href</th>\n",
       "      <th>id</th>\n",
       "      <th>is_local</th>\n",
       "      <th>name</th>\n",
       "      <th>popularity</th>\n",
       "      <th>preview_url</th>\n",
       "      <th>track_number</th>\n",
       "      <th>type</th>\n",
       "      <th>uri</th>\n",
       "    </tr>\n",
       "  </thead>\n",
       "  <tbody>\n",
       "    <tr>\n",
       "      <th>0</th>\n",
       "      <td>{'album_type': 'single', 'artists': [{'externa...</td>\n",
       "      <td>6Sa4YbwEdGlfVSJMF1Lp67</td>\n",
       "      <td>[]</td>\n",
       "      <td>1</td>\n",
       "      <td>194363</td>\n",
       "      <td>False</td>\n",
       "      <td>{'isrc': 'GBKPL1810690'}</td>\n",
       "      <td>{'spotify': 'https://open.spotify.com/track/6D...</td>\n",
       "      <td>https://api.spotify.com/v1/tracks/6Dvxpqv61hyR...</td>\n",
       "      <td>6Dvxpqv61hyRZJs4qDfiP3</td>\n",
       "      <td>False</td>\n",
       "      <td>Dennis</td>\n",
       "      <td>25</td>\n",
       "      <td>None</td>\n",
       "      <td>1</td>\n",
       "      <td>track</td>\n",
       "      <td>spotify:track:6Dvxpqv61hyRZJs4qDfiP3</td>\n",
       "    </tr>\n",
       "  </tbody>\n",
       "</table>\n",
       "</div>"
      ],
      "text/plain": [
       "                                               album                 artists  \\\n",
       "0  {'album_type': 'single', 'artists': [{'externa...  6Sa4YbwEdGlfVSJMF1Lp67   \n",
       "\n",
       "  available_markets  disc_number  duration_ms  explicit  \\\n",
       "0                []            1       194363     False   \n",
       "\n",
       "               external_ids  \\\n",
       "0  {'isrc': 'GBKPL1810690'}   \n",
       "\n",
       "                                       external_urls  \\\n",
       "0  {'spotify': 'https://open.spotify.com/track/6D...   \n",
       "\n",
       "                                                href                      id  \\\n",
       "0  https://api.spotify.com/v1/tracks/6Dvxpqv61hyR...  6Dvxpqv61hyRZJs4qDfiP3   \n",
       "\n",
       "   is_local    name  popularity preview_url  track_number   type  \\\n",
       "0     False  Dennis          25        None             1  track   \n",
       "\n",
       "                                    uri  \n",
       "0  spotify:track:6Dvxpqv61hyRZJs4qDfiP3  "
      ]
     },
     "execution_count": 358,
     "metadata": {},
     "output_type": "execute_result"
    }
   ],
   "source": [
    "summer_2021_tracks_df.head(1)"
   ]
  },
  {
   "cell_type": "code",
   "execution_count": 359,
   "id": "86cc5185",
   "metadata": {},
   "outputs": [],
   "source": [
    "summer_2021_tracks = summer_2021_tracks_df.drop(['album', 'available_markets', 'disc_number', 'duration_ms', 'explicit', 'external_ids', 'external_urls', 'href', 'is_local', 'popularity', 'preview_url', 'track_number', 'type', 'uri'], axis = 1)"
   ]
  },
  {
   "cell_type": "code",
   "execution_count": 360,
   "id": "dbc34cf0",
   "metadata": {},
   "outputs": [
    {
     "data": {
      "text/html": [
       "<div>\n",
       "<style scoped>\n",
       "    .dataframe tbody tr th:only-of-type {\n",
       "        vertical-align: middle;\n",
       "    }\n",
       "\n",
       "    .dataframe tbody tr th {\n",
       "        vertical-align: top;\n",
       "    }\n",
       "\n",
       "    .dataframe thead th {\n",
       "        text-align: right;\n",
       "    }\n",
       "</style>\n",
       "<table border=\"1\" class=\"dataframe\">\n",
       "  <thead>\n",
       "    <tr style=\"text-align: right;\">\n",
       "      <th></th>\n",
       "      <th>artists</th>\n",
       "      <th>id</th>\n",
       "      <th>name</th>\n",
       "    </tr>\n",
       "  </thead>\n",
       "  <tbody>\n",
       "    <tr>\n",
       "      <th>0</th>\n",
       "      <td>6Sa4YbwEdGlfVSJMF1Lp67</td>\n",
       "      <td>6Dvxpqv61hyRZJs4qDfiP3</td>\n",
       "      <td>Dennis</td>\n",
       "    </tr>\n",
       "    <tr>\n",
       "      <th>1</th>\n",
       "      <td>4j56EQDQu5XnL7R3E9iFJT</td>\n",
       "      <td>1UqhkbzB1kuFwt2iy4h29Q</td>\n",
       "      <td>Cough Syrup</td>\n",
       "    </tr>\n",
       "    <tr>\n",
       "      <th>2</th>\n",
       "      <td>2CUeVZl8E9ouggdBhyclFx</td>\n",
       "      <td>0wM1iycAaTB0BTWQa06POl</td>\n",
       "      <td>Special</td>\n",
       "    </tr>\n",
       "    <tr>\n",
       "      <th>3</th>\n",
       "      <td>7gHscNMDI8FF8pcgrV8eIn</td>\n",
       "      <td>6bLU8e0LGyztE9iD5DWBQ1</td>\n",
       "      <td>Hallucinogenics</td>\n",
       "    </tr>\n",
       "    <tr>\n",
       "      <th>4</th>\n",
       "      <td>0bBrsS9ufPAmeFQgDNG54O</td>\n",
       "      <td>0YqBRZmOpq4i30fqldKhOT</td>\n",
       "      <td>Hide n Seek</td>\n",
       "    </tr>\n",
       "  </tbody>\n",
       "</table>\n",
       "</div>"
      ],
      "text/plain": [
       "                  artists                      id             name\n",
       "0  6Sa4YbwEdGlfVSJMF1Lp67  6Dvxpqv61hyRZJs4qDfiP3           Dennis\n",
       "1  4j56EQDQu5XnL7R3E9iFJT  1UqhkbzB1kuFwt2iy4h29Q      Cough Syrup\n",
       "2  2CUeVZl8E9ouggdBhyclFx  0wM1iycAaTB0BTWQa06POl          Special\n",
       "3  7gHscNMDI8FF8pcgrV8eIn  6bLU8e0LGyztE9iD5DWBQ1  Hallucinogenics\n",
       "4  0bBrsS9ufPAmeFQgDNG54O  0YqBRZmOpq4i30fqldKhOT      Hide n Seek"
      ]
     },
     "execution_count": 360,
     "metadata": {},
     "output_type": "execute_result"
    }
   ],
   "source": [
    "summer_2021_tracks.head()"
   ]
  },
  {
   "cell_type": "code",
   "execution_count": 361,
   "id": "a873b095",
   "metadata": {},
   "outputs": [],
   "source": [
    "summer_2021_artist_strings = ','.join(str(x) for x in summer_2021_artist_id)"
   ]
  },
  {
   "cell_type": "code",
   "execution_count": 362,
   "id": "8b4a35a9",
   "metadata": {},
   "outputs": [],
   "source": [
    "artist_endpoint = \"https://api.spotify.com/v1/artists?ids={}\".format(summer_2021_artist_strings)"
   ]
  },
  {
   "cell_type": "code",
   "execution_count": 363,
   "id": "6603176e",
   "metadata": {},
   "outputs": [],
   "source": [
    "summer_2021_genre_info = requests.get(artist_endpoint, headers = session_header)"
   ]
  },
  {
   "cell_type": "code",
   "execution_count": 364,
   "id": "9794021c",
   "metadata": {},
   "outputs": [
    {
     "data": {
      "text/plain": [
       "200"
      ]
     },
     "execution_count": 364,
     "metadata": {},
     "output_type": "execute_result"
    }
   ],
   "source": [
    "summer_2021_genre_info.status_code"
   ]
  },
  {
   "cell_type": "code",
   "execution_count": 365,
   "id": "51212fd0",
   "metadata": {},
   "outputs": [],
   "source": [
    "summer_2021_dict = json.loads(summer_2021_genre_info.text)"
   ]
  },
  {
   "cell_type": "code",
   "execution_count": 366,
   "id": "f033c172",
   "metadata": {},
   "outputs": [],
   "source": [
    "summer_2021_artists_df = pd.DataFrame(summer_2021_dict['artists'])"
   ]
  },
  {
   "cell_type": "code",
   "execution_count": 367,
   "id": "9ecb295f",
   "metadata": {},
   "outputs": [
    {
     "data": {
      "text/html": [
       "<div>\n",
       "<style scoped>\n",
       "    .dataframe tbody tr th:only-of-type {\n",
       "        vertical-align: middle;\n",
       "    }\n",
       "\n",
       "    .dataframe tbody tr th {\n",
       "        vertical-align: top;\n",
       "    }\n",
       "\n",
       "    .dataframe thead th {\n",
       "        text-align: right;\n",
       "    }\n",
       "</style>\n",
       "<table border=\"1\" class=\"dataframe\">\n",
       "  <thead>\n",
       "    <tr style=\"text-align: right;\">\n",
       "      <th></th>\n",
       "      <th>external_urls</th>\n",
       "      <th>followers</th>\n",
       "      <th>genres</th>\n",
       "      <th>href</th>\n",
       "      <th>id</th>\n",
       "      <th>images</th>\n",
       "      <th>name</th>\n",
       "      <th>popularity</th>\n",
       "      <th>type</th>\n",
       "      <th>uri</th>\n",
       "    </tr>\n",
       "  </thead>\n",
       "  <tbody>\n",
       "    <tr>\n",
       "      <th>0</th>\n",
       "      <td>{'spotify': 'https://open.spotify.com/artist/6...</td>\n",
       "      <td>{'href': None, 'total': 230635}</td>\n",
       "      <td>[bedroom pop, indie pop]</td>\n",
       "      <td>https://api.spotify.com/v1/artists/6Sa4YbwEdGl...</td>\n",
       "      <td>6Sa4YbwEdGlfVSJMF1Lp67</td>\n",
       "      <td>[{'height': 640, 'url': 'https://i.scdn.co/ima...</td>\n",
       "      <td>Roy Blair</td>\n",
       "      <td>45</td>\n",
       "      <td>artist</td>\n",
       "      <td>spotify:artist:6Sa4YbwEdGlfVSJMF1Lp67</td>\n",
       "    </tr>\n",
       "  </tbody>\n",
       "</table>\n",
       "</div>"
      ],
      "text/plain": [
       "                                       external_urls  \\\n",
       "0  {'spotify': 'https://open.spotify.com/artist/6...   \n",
       "\n",
       "                         followers                    genres  \\\n",
       "0  {'href': None, 'total': 230635}  [bedroom pop, indie pop]   \n",
       "\n",
       "                                                href                      id  \\\n",
       "0  https://api.spotify.com/v1/artists/6Sa4YbwEdGl...  6Sa4YbwEdGlfVSJMF1Lp67   \n",
       "\n",
       "                                              images       name  popularity  \\\n",
       "0  [{'height': 640, 'url': 'https://i.scdn.co/ima...  Roy Blair          45   \n",
       "\n",
       "     type                                    uri  \n",
       "0  artist  spotify:artist:6Sa4YbwEdGlfVSJMF1Lp67  "
      ]
     },
     "execution_count": 367,
     "metadata": {},
     "output_type": "execute_result"
    }
   ],
   "source": [
    "summer_2021_artists_df.head(1)"
   ]
  },
  {
   "cell_type": "code",
   "execution_count": 368,
   "id": "8187e160",
   "metadata": {},
   "outputs": [],
   "source": [
    "summer_2021_artists = summer_2021_artists_df.drop(['external_urls', 'followers', 'href', 'images', 'popularity', 'type', 'uri'], axis = 1)"
   ]
  },
  {
   "cell_type": "code",
   "execution_count": 369,
   "id": "a2961114",
   "metadata": {},
   "outputs": [
    {
     "data": {
      "text/html": [
       "<div>\n",
       "<style scoped>\n",
       "    .dataframe tbody tr th:only-of-type {\n",
       "        vertical-align: middle;\n",
       "    }\n",
       "\n",
       "    .dataframe tbody tr th {\n",
       "        vertical-align: top;\n",
       "    }\n",
       "\n",
       "    .dataframe thead th {\n",
       "        text-align: right;\n",
       "    }\n",
       "</style>\n",
       "<table border=\"1\" class=\"dataframe\">\n",
       "  <thead>\n",
       "    <tr style=\"text-align: right;\">\n",
       "      <th></th>\n",
       "      <th>genres</th>\n",
       "      <th>id</th>\n",
       "      <th>name</th>\n",
       "    </tr>\n",
       "  </thead>\n",
       "  <tbody>\n",
       "    <tr>\n",
       "      <th>0</th>\n",
       "      <td>[bedroom pop, indie pop]</td>\n",
       "      <td>6Sa4YbwEdGlfVSJMF1Lp67</td>\n",
       "      <td>Roy Blair</td>\n",
       "    </tr>\n",
       "    <tr>\n",
       "      <th>1</th>\n",
       "      <td>[modern alternative rock, modern rock, rock, s...</td>\n",
       "      <td>4j56EQDQu5XnL7R3E9iFJT</td>\n",
       "      <td>Young the Giant</td>\n",
       "    </tr>\n",
       "    <tr>\n",
       "      <th>2</th>\n",
       "      <td>[alt z, indie pop]</td>\n",
       "      <td>2CUeVZl8E9ouggdBhyclFx</td>\n",
       "      <td>Chloe Lilac</td>\n",
       "    </tr>\n",
       "    <tr>\n",
       "      <th>3</th>\n",
       "      <td>[modern rock]</td>\n",
       "      <td>7gHscNMDI8FF8pcgrV8eIn</td>\n",
       "      <td>Matt Maeson</td>\n",
       "    </tr>\n",
       "    <tr>\n",
       "      <th>4</th>\n",
       "      <td>[bedroom soul, chill r&amp;b]</td>\n",
       "      <td>0bBrsS9ufPAmeFQgDNG54O</td>\n",
       "      <td>cehryl</td>\n",
       "    </tr>\n",
       "  </tbody>\n",
       "</table>\n",
       "</div>"
      ],
      "text/plain": [
       "                                              genres                      id  \\\n",
       "0                           [bedroom pop, indie pop]  6Sa4YbwEdGlfVSJMF1Lp67   \n",
       "1  [modern alternative rock, modern rock, rock, s...  4j56EQDQu5XnL7R3E9iFJT   \n",
       "2                                 [alt z, indie pop]  2CUeVZl8E9ouggdBhyclFx   \n",
       "3                                      [modern rock]  7gHscNMDI8FF8pcgrV8eIn   \n",
       "4                          [bedroom soul, chill r&b]  0bBrsS9ufPAmeFQgDNG54O   \n",
       "\n",
       "              name  \n",
       "0        Roy Blair  \n",
       "1  Young the Giant  \n",
       "2      Chloe Lilac  \n",
       "3      Matt Maeson  \n",
       "4           cehryl  "
      ]
     },
     "execution_count": 369,
     "metadata": {},
     "output_type": "execute_result"
    }
   ],
   "source": [
    "summer_2021_artists.head()"
   ]
  },
  {
   "cell_type": "code",
   "execution_count": 370,
   "id": "d5a74960",
   "metadata": {},
   "outputs": [],
   "source": [
    "summer_2021_final_df = summer_2021_tracks.merge(summer_2021_artists, left_on = 'artists', right_on = 'id', how = 'left' )"
   ]
  },
  {
   "cell_type": "code",
   "execution_count": 371,
   "id": "04561b9f",
   "metadata": {},
   "outputs": [
    {
     "data": {
      "text/html": [
       "<div>\n",
       "<style scoped>\n",
       "    .dataframe tbody tr th:only-of-type {\n",
       "        vertical-align: middle;\n",
       "    }\n",
       "\n",
       "    .dataframe tbody tr th {\n",
       "        vertical-align: top;\n",
       "    }\n",
       "\n",
       "    .dataframe thead th {\n",
       "        text-align: right;\n",
       "    }\n",
       "</style>\n",
       "<table border=\"1\" class=\"dataframe\">\n",
       "  <thead>\n",
       "    <tr style=\"text-align: right;\">\n",
       "      <th></th>\n",
       "      <th>artists</th>\n",
       "      <th>id_x</th>\n",
       "      <th>name_x</th>\n",
       "      <th>genres</th>\n",
       "      <th>id_y</th>\n",
       "      <th>name_y</th>\n",
       "    </tr>\n",
       "  </thead>\n",
       "  <tbody>\n",
       "    <tr>\n",
       "      <th>0</th>\n",
       "      <td>6Sa4YbwEdGlfVSJMF1Lp67</td>\n",
       "      <td>6Dvxpqv61hyRZJs4qDfiP3</td>\n",
       "      <td>Dennis</td>\n",
       "      <td>[bedroom pop, indie pop]</td>\n",
       "      <td>6Sa4YbwEdGlfVSJMF1Lp67</td>\n",
       "      <td>Roy Blair</td>\n",
       "    </tr>\n",
       "    <tr>\n",
       "      <th>1</th>\n",
       "      <td>4j56EQDQu5XnL7R3E9iFJT</td>\n",
       "      <td>1UqhkbzB1kuFwt2iy4h29Q</td>\n",
       "      <td>Cough Syrup</td>\n",
       "      <td>[modern alternative rock, modern rock, rock, s...</td>\n",
       "      <td>4j56EQDQu5XnL7R3E9iFJT</td>\n",
       "      <td>Young the Giant</td>\n",
       "    </tr>\n",
       "    <tr>\n",
       "      <th>2</th>\n",
       "      <td>2CUeVZl8E9ouggdBhyclFx</td>\n",
       "      <td>0wM1iycAaTB0BTWQa06POl</td>\n",
       "      <td>Special</td>\n",
       "      <td>[alt z, indie pop]</td>\n",
       "      <td>2CUeVZl8E9ouggdBhyclFx</td>\n",
       "      <td>Chloe Lilac</td>\n",
       "    </tr>\n",
       "    <tr>\n",
       "      <th>3</th>\n",
       "      <td>2CUeVZl8E9ouggdBhyclFx</td>\n",
       "      <td>0wM1iycAaTB0BTWQa06POl</td>\n",
       "      <td>Special</td>\n",
       "      <td>[alt z, indie pop]</td>\n",
       "      <td>2CUeVZl8E9ouggdBhyclFx</td>\n",
       "      <td>Chloe Lilac</td>\n",
       "    </tr>\n",
       "    <tr>\n",
       "      <th>4</th>\n",
       "      <td>7gHscNMDI8FF8pcgrV8eIn</td>\n",
       "      <td>6bLU8e0LGyztE9iD5DWBQ1</td>\n",
       "      <td>Hallucinogenics</td>\n",
       "      <td>[modern rock]</td>\n",
       "      <td>7gHscNMDI8FF8pcgrV8eIn</td>\n",
       "      <td>Matt Maeson</td>\n",
       "    </tr>\n",
       "  </tbody>\n",
       "</table>\n",
       "</div>"
      ],
      "text/plain": [
       "                  artists                    id_x           name_x  \\\n",
       "0  6Sa4YbwEdGlfVSJMF1Lp67  6Dvxpqv61hyRZJs4qDfiP3           Dennis   \n",
       "1  4j56EQDQu5XnL7R3E9iFJT  1UqhkbzB1kuFwt2iy4h29Q      Cough Syrup   \n",
       "2  2CUeVZl8E9ouggdBhyclFx  0wM1iycAaTB0BTWQa06POl          Special   \n",
       "3  2CUeVZl8E9ouggdBhyclFx  0wM1iycAaTB0BTWQa06POl          Special   \n",
       "4  7gHscNMDI8FF8pcgrV8eIn  6bLU8e0LGyztE9iD5DWBQ1  Hallucinogenics   \n",
       "\n",
       "                                              genres                    id_y  \\\n",
       "0                           [bedroom pop, indie pop]  6Sa4YbwEdGlfVSJMF1Lp67   \n",
       "1  [modern alternative rock, modern rock, rock, s...  4j56EQDQu5XnL7R3E9iFJT   \n",
       "2                                 [alt z, indie pop]  2CUeVZl8E9ouggdBhyclFx   \n",
       "3                                 [alt z, indie pop]  2CUeVZl8E9ouggdBhyclFx   \n",
       "4                                      [modern rock]  7gHscNMDI8FF8pcgrV8eIn   \n",
       "\n",
       "            name_y  \n",
       "0        Roy Blair  \n",
       "1  Young the Giant  \n",
       "2      Chloe Lilac  \n",
       "3      Chloe Lilac  \n",
       "4      Matt Maeson  "
      ]
     },
     "execution_count": 371,
     "metadata": {},
     "output_type": "execute_result"
    }
   ],
   "source": [
    "summer_2021_final_df.head()"
   ]
  },
  {
   "cell_type": "code",
   "execution_count": 372,
   "id": "011eaaa9",
   "metadata": {},
   "outputs": [],
   "source": [
    "summer_2021_final = summer_2021_final_df.drop(['artists', 'id_x', 'id_y'], axis = 1)"
   ]
  },
  {
   "cell_type": "code",
   "execution_count": 373,
   "id": "b0214608",
   "metadata": {},
   "outputs": [
    {
     "data": {
      "text/html": [
       "<div>\n",
       "<style scoped>\n",
       "    .dataframe tbody tr th:only-of-type {\n",
       "        vertical-align: middle;\n",
       "    }\n",
       "\n",
       "    .dataframe tbody tr th {\n",
       "        vertical-align: top;\n",
       "    }\n",
       "\n",
       "    .dataframe thead th {\n",
       "        text-align: right;\n",
       "    }\n",
       "</style>\n",
       "<table border=\"1\" class=\"dataframe\">\n",
       "  <thead>\n",
       "    <tr style=\"text-align: right;\">\n",
       "      <th></th>\n",
       "      <th>name_x</th>\n",
       "      <th>genres</th>\n",
       "      <th>name_y</th>\n",
       "    </tr>\n",
       "  </thead>\n",
       "  <tbody>\n",
       "    <tr>\n",
       "      <th>0</th>\n",
       "      <td>Dennis</td>\n",
       "      <td>[bedroom pop, indie pop]</td>\n",
       "      <td>Roy Blair</td>\n",
       "    </tr>\n",
       "    <tr>\n",
       "      <th>1</th>\n",
       "      <td>Cough Syrup</td>\n",
       "      <td>[modern alternative rock, modern rock, rock, s...</td>\n",
       "      <td>Young the Giant</td>\n",
       "    </tr>\n",
       "    <tr>\n",
       "      <th>2</th>\n",
       "      <td>Special</td>\n",
       "      <td>[alt z, indie pop]</td>\n",
       "      <td>Chloe Lilac</td>\n",
       "    </tr>\n",
       "    <tr>\n",
       "      <th>3</th>\n",
       "      <td>Special</td>\n",
       "      <td>[alt z, indie pop]</td>\n",
       "      <td>Chloe Lilac</td>\n",
       "    </tr>\n",
       "    <tr>\n",
       "      <th>4</th>\n",
       "      <td>Hallucinogenics</td>\n",
       "      <td>[modern rock]</td>\n",
       "      <td>Matt Maeson</td>\n",
       "    </tr>\n",
       "  </tbody>\n",
       "</table>\n",
       "</div>"
      ],
      "text/plain": [
       "            name_x                                             genres  \\\n",
       "0           Dennis                           [bedroom pop, indie pop]   \n",
       "1      Cough Syrup  [modern alternative rock, modern rock, rock, s...   \n",
       "2          Special                                 [alt z, indie pop]   \n",
       "3          Special                                 [alt z, indie pop]   \n",
       "4  Hallucinogenics                                      [modern rock]   \n",
       "\n",
       "            name_y  \n",
       "0        Roy Blair  \n",
       "1  Young the Giant  \n",
       "2      Chloe Lilac  \n",
       "3      Chloe Lilac  \n",
       "4      Matt Maeson  "
      ]
     },
     "execution_count": 373,
     "metadata": {},
     "output_type": "execute_result"
    }
   ],
   "source": [
    "summer_2021_final.head()"
   ]
  },
  {
   "cell_type": "code",
   "execution_count": 374,
   "id": "f43b564a",
   "metadata": {},
   "outputs": [],
   "source": [
    "summer_2021_df = summer_2021_final.rename(columns={'name_x': 'song title', 'name_y': 'artist'})"
   ]
  },
  {
   "cell_type": "code",
   "execution_count": 375,
   "id": "3923313e",
   "metadata": {},
   "outputs": [
    {
     "data": {
      "text/html": [
       "<div>\n",
       "<style scoped>\n",
       "    .dataframe tbody tr th:only-of-type {\n",
       "        vertical-align: middle;\n",
       "    }\n",
       "\n",
       "    .dataframe tbody tr th {\n",
       "        vertical-align: top;\n",
       "    }\n",
       "\n",
       "    .dataframe thead th {\n",
       "        text-align: right;\n",
       "    }\n",
       "</style>\n",
       "<table border=\"1\" class=\"dataframe\">\n",
       "  <thead>\n",
       "    <tr style=\"text-align: right;\">\n",
       "      <th></th>\n",
       "      <th>song title</th>\n",
       "      <th>genres</th>\n",
       "      <th>artist</th>\n",
       "    </tr>\n",
       "  </thead>\n",
       "  <tbody>\n",
       "    <tr>\n",
       "      <th>0</th>\n",
       "      <td>Dennis</td>\n",
       "      <td>[bedroom pop, indie pop]</td>\n",
       "      <td>Roy Blair</td>\n",
       "    </tr>\n",
       "    <tr>\n",
       "      <th>1</th>\n",
       "      <td>Cough Syrup</td>\n",
       "      <td>[modern alternative rock, modern rock, rock, s...</td>\n",
       "      <td>Young the Giant</td>\n",
       "    </tr>\n",
       "    <tr>\n",
       "      <th>2</th>\n",
       "      <td>Special</td>\n",
       "      <td>[alt z, indie pop]</td>\n",
       "      <td>Chloe Lilac</td>\n",
       "    </tr>\n",
       "    <tr>\n",
       "      <th>3</th>\n",
       "      <td>Special</td>\n",
       "      <td>[alt z, indie pop]</td>\n",
       "      <td>Chloe Lilac</td>\n",
       "    </tr>\n",
       "    <tr>\n",
       "      <th>4</th>\n",
       "      <td>Hallucinogenics</td>\n",
       "      <td>[modern rock]</td>\n",
       "      <td>Matt Maeson</td>\n",
       "    </tr>\n",
       "  </tbody>\n",
       "</table>\n",
       "</div>"
      ],
      "text/plain": [
       "        song title                                             genres  \\\n",
       "0           Dennis                           [bedroom pop, indie pop]   \n",
       "1      Cough Syrup  [modern alternative rock, modern rock, rock, s...   \n",
       "2          Special                                 [alt z, indie pop]   \n",
       "3          Special                                 [alt z, indie pop]   \n",
       "4  Hallucinogenics                                      [modern rock]   \n",
       "\n",
       "            artist  \n",
       "0        Roy Blair  \n",
       "1  Young the Giant  \n",
       "2      Chloe Lilac  \n",
       "3      Chloe Lilac  \n",
       "4      Matt Maeson  "
      ]
     },
     "execution_count": 375,
     "metadata": {},
     "output_type": "execute_result"
    }
   ],
   "source": [
    "summer_2021_df.head()"
   ]
  },
  {
   "cell_type": "code",
   "execution_count": 376,
   "id": "0c1886b7",
   "metadata": {},
   "outputs": [],
   "source": [
    "summer_2021_df.to_csv('summer_2021.csv')"
   ]
  },
  {
   "cell_type": "markdown",
   "id": "0ed74246",
   "metadata": {},
   "source": [
    "### Refining the Data ###"
   ]
  },
  {
   "cell_type": "markdown",
   "id": "33f8e633",
   "metadata": {},
   "source": [
    "Some artists listed more than one genre while other artists listed none. In order to make sure each artist only has one genre assigned to them, I deleted the more specific genres, leaving only the broadest genre that was mentioned first. For example, Frank Ocean had hip hop, lgbtq+ hip hop, neo soul, and pop listed under genres. In the csv file, I changed this to exclusively hip hop because it was the broadest genre that was listed first. For the artists with no genre listed, I replaced the empty space with the genre listed when I Googled them."
   ]
  },
  {
   "cell_type": "markdown",
   "id": "bc232d2e",
   "metadata": {},
   "source": [
    "I then put all the information into one CSV file in order to wrangle the data from one file. I added a column for the playlist name. "
   ]
  },
  {
   "cell_type": "code",
   "execution_count": 377,
   "id": "469df9bd",
   "metadata": {
    "scrolled": true
   },
   "outputs": [],
   "source": [
    "season_playlist_data = pd.read_csv('season_playlist_data.csv', sep = ',')"
   ]
  },
  {
   "cell_type": "markdown",
   "id": "c82394bc",
   "metadata": {},
   "source": [
    "### Analyzing the Data ##"
   ]
  },
  {
   "cell_type": "markdown",
   "id": "ea829b2b",
   "metadata": {},
   "source": [
    "I started this section by loading in the needed packages."
   ]
  },
  {
   "cell_type": "code",
   "execution_count": 378,
   "id": "e837b28c",
   "metadata": {},
   "outputs": [],
   "source": [
    "import numpy as np\n",
    "from matplotlib import pyplot as plt\n",
    "from scipy import stats"
   ]
  },
  {
   "cell_type": "markdown",
   "id": "8bc43ee2",
   "metadata": {},
   "source": [
    "I created two bar graphs to compare my summer 2022 and fall 2022 playlists side by side. By having two separate graphs, I could also look at each season individually. "
   ]
  },
  {
   "cell_type": "code",
   "execution_count": 379,
   "id": "2abdc4f5",
   "metadata": {},
   "outputs": [
    {
     "data": {
      "image/png": "[encoded data removed]",
      "text/plain": [
       "<Figure size 432x288 with 2 Axes>"
      ]
     },
     "metadata": {
      "needs_background": "light"
     },
     "output_type": "display_data"
    }
   ],
   "source": [
    "fig1, ax1 = plt.subplots(1, 2)\n",
    "\n",
    "summer_2022 = season_playlist_data[season_playlist_data['playlist'] == 'summer 2022']\n",
    "fall_2022 = season_playlist_data[season_playlist_data['playlist'] == 'fall 2022']\n",
    "\n",
    "summer_counts = summer_2022.groupby('genres').count().sort_values('Unnamed: 0', ascending = False)\n",
    "fall_counts = fall_2022.groupby('genres').count().sort_values('Unnamed: 0', ascending = False)\n",
    "\n",
    "ax1[0].bar(summer_counts.index, alpha = 0.5, color = 'blue', label = 'summer 2022', height = summer_counts['Unnamed: 0'])\n",
    "ax1[1].bar(fall_counts.index, alpha = 0.5, color = 'orange', label = 'fall 2022', height = fall_counts['Unnamed: 0'])\n",
    "\n",
    "ax1[0].set_xlabel('genres')\n",
    "ax1[1].set_xlabel('genres')\n",
    "ax1[0].tick_params(axis='x', labelrotation = 90)\n",
    "ax1[1].tick_params(axis='x', labelrotation = 90)\n",
    "\n",
    "ax1[0].legend()\n",
    "ax1[1].legend()\n",
    "\n",
    "plt.show()"
   ]
  },
  {
   "cell_type": "markdown",
   "id": "3cc783d0",
   "metadata": {},
   "source": [
    "I then created one bar graph to compare fall 2022 and summer 2022 in one graph. This allowed me to see the overlap between the genres I listened to during these two seasons more easily. "
   ]
  },
  {
   "cell_type": "code",
   "execution_count": 380,
   "id": "f7439b2f",
   "metadata": {
    "scrolled": true
   },
   "outputs": [
    {
     "data": {
      "image/png": "[encoded data removed]",
      "text/plain": [
       "<Figure size 432x288 with 1 Axes>"
      ]
     },
     "metadata": {
      "needs_background": "light"
     },
     "output_type": "display_data"
    }
   ],
   "source": [
    "fig2, ax1 = plt.subplots()\n",
    "\n",
    "summer_counts = summer_2022.groupby('genres').count().sort_values('Unnamed: 0', ascending = False)\n",
    "fall_counts = fall_2022.groupby('genres').count().sort_values('Unnamed: 0', ascending = False)\n",
    "\n",
    "ax1.bar(summer_counts.index, alpha = 0.5, color = 'blue', label = 'summer 2022', height = summer_counts['Unnamed: 0'])\n",
    "ax1.bar(fall_counts.index, alpha = 0.5, color = 'orange', label = 'fall 2022', height = fall_counts['Unnamed: 0'])\n",
    "\n",
    "ax1.set_xlabel('genres')\n",
    "ax1.tick_params(axis='x', labelrotation = 90)\n",
    "\n",
    "ax1.legend()\n",
    "\n",
    "plt.show()"
   ]
  },
  {
   "cell_type": "markdown",
   "id": "7f1c18cf",
   "metadata": {},
   "source": [
    "**From the summer 2022 and fall 2022 playlist data, I concluded that I listened to variations of pop, rock, and hip hip during the summer and variations of pop, rock, and folk in the fall. Pop and indie pop had the only cross over between the two seasons. They were also the genres most listened to both seasons.**"
   ]
  },
  {
   "cell_type": "markdown",
   "id": "5fac4c79",
   "metadata": {},
   "source": [
    "I created two bar graphs to compare my summer 2021 and fall 2021 playlists side by side. By having two separate graphs, I could also look at each season individually. "
   ]
  },
  {
   "cell_type": "code",
   "execution_count": 381,
   "id": "6ccdd9cc",
   "metadata": {
    "scrolled": false
   },
   "outputs": [
    {
     "data": {
      "image/png": "[encoded data removed]",
      "text/plain": [
       "<Figure size 432x288 with 2 Axes>"
      ]
     },
     "metadata": {
      "needs_background": "light"
     },
     "output_type": "display_data"
    }
   ],
   "source": [
    "fig3, ax1 = plt.subplots(1, 2)\n",
    "\n",
    "summer_2021 = season_playlist_data[season_playlist_data['playlist'] == 'summer 2021']\n",
    "fall_2021 = season_playlist_data[season_playlist_data['playlist'] == 'fall 2021']\n",
    "\n",
    "summer_counts = summer_2021.groupby('genres').count().sort_values('Unnamed: 0', ascending = False)\n",
    "fall_counts = fall_2021.groupby('genres').count().sort_values('Unnamed: 0', ascending = False)\n",
    "\n",
    "ax1[0].bar(summer_counts.index, alpha = 0.5, color = 'green', label = 'summer 2021', height = summer_counts['Unnamed: 0'])\n",
    "ax1[1].bar(fall_counts.index, alpha = 0.5, color = 'red', label = 'fall 2021', height = fall_counts['Unnamed: 0'])\n",
    "\n",
    "ax1[0].set_xlabel('genres')\n",
    "ax1[1].set_xlabel('genres')\n",
    "ax1[0].tick_params(axis='x', labelrotation = 90)\n",
    "ax1[1].tick_params(axis='x', labelrotation = 90)\n",
    "\n",
    "ax1[0].legend()\n",
    "ax1[1].legend()\n",
    "\n",
    "plt.show()"
   ]
  },
  {
   "cell_type": "markdown",
   "id": "7e92e9e4",
   "metadata": {},
   "source": [
    "I then created one bar graph to compare fall 2021 and summer 2021 in one graph. This allowed me to see the overlap between the genres I listened to during these two seasons more easily. "
   ]
  },
  {
   "cell_type": "code",
   "execution_count": 382,
   "id": "a1f11984",
   "metadata": {
    "scrolled": false
   },
   "outputs": [
    {
     "data": {
      "image/png": "[encoded data removed]",
      "text/plain": [
       "<Figure size 432x288 with 1 Axes>"
      ]
     },
     "metadata": {
      "needs_background": "light"
     },
     "output_type": "display_data"
    }
   ],
   "source": [
    "fig4, ax1 = plt.subplots()\n",
    "\n",
    "summer_2021 = season_playlist_data[season_playlist_data['playlist'] == 'summer 2021']\n",
    "fall_2021 = season_playlist_data[season_playlist_data['playlist'] == 'fall 2021']\n",
    "\n",
    "summer_counts = summer_2021.groupby('genres').count().sort_values('Unnamed: 0', ascending = False)\n",
    "fall_counts = fall_2021.groupby('genres').count().sort_values('Unnamed: 0', ascending = False)\n",
    "\n",
    "ax1.bar(summer_counts.index, alpha = 0.5, color = 'green', label = 'summer 2021', height = summer_counts['Unnamed: 0'])\n",
    "ax1.bar(fall_counts.index, alpha = 0.5, color = 'red', label = 'fall 2021', height = fall_counts['Unnamed: 0'])\n",
    "\n",
    "ax1.set_xlabel('genres')\n",
    "ax1.tick_params(axis='x', labelrotation = 90)\n",
    "\n",
    "ax1.legend()\n",
    "\n",
    "plt.show()"
   ]
  },
  {
   "cell_type": "markdown",
   "id": "39ecddd4",
   "metadata": {},
   "source": [
    "**From the summer 2021 and fall 2021 playlist data, I concluded that I listened to variations of pop most often between the two playlists. Pop and folk pop were my top genres in fall 2021. Pop and indie folk were my top genres in summer 2021. This did surprise me because I was not expecting so much variation of folk in a summer playlist.**"
   ]
  },
  {
   "cell_type": "markdown",
   "id": "301efb8b",
   "metadata": {},
   "source": [
    "Then I created two bar graphs to compare my summer 2022 and summer 2021 playlists side by side. By having two separate graphs, I could also look at each year individually. "
   ]
  },
  {
   "cell_type": "code",
   "execution_count": 383,
   "id": "dacf47fc",
   "metadata": {
    "scrolled": false
   },
   "outputs": [
    {
     "data": {
      "image/png": "[encoded data removed]",
      "text/plain": [
       "<Figure size 432x288 with 2 Axes>"
      ]
     },
     "metadata": {
      "needs_background": "light"
     },
     "output_type": "display_data"
    }
   ],
   "source": [
    "fig5, ax1 = plt.subplots(1, 2)\n",
    "\n",
    "summer_2022 = season_playlist_data[season_playlist_data['playlist'] == 'summer 2022']\n",
    "summer_2021 = season_playlist_data[season_playlist_data['playlist'] == 'summer 2021']\n",
    "\n",
    "summer_counts_2022 = summer_2022.groupby('genres').count().sort_values('Unnamed: 0', ascending = False)\n",
    "summer_counts_2021 = summer_2021.groupby('genres').count().sort_values('Unnamed: 0', ascending = False)\n",
    "\n",
    "ax1[0].bar(summer_counts_2022.index, alpha = 0.5, color = 'blue', label = 'summer 2022', height = summer_counts_2022['Unnamed: 0'])\n",
    "ax1[1].bar(summer_counts_2021.index, alpha = 0.5, color = 'green', label = 'summer 2021', height = summer_counts_2021['Unnamed: 0'])\n",
    "\n",
    "ax1[0].set_xlabel('genres')\n",
    "ax1[1].set_xlabel('genres')\n",
    "ax1[0].tick_params(axis='x', labelrotation = 90)\n",
    "ax1[1].tick_params(axis='x', labelrotation = 90)\n",
    "\n",
    "ax1[0].legend()\n",
    "ax1[1].legend()\n",
    "\n",
    "plt.show()"
   ]
  },
  {
   "cell_type": "markdown",
   "id": "af9b8fac",
   "metadata": {},
   "source": [
    "I created one bar graph to compare summer 2021 and summer 2022 in one graph. This allowed me to see the overlap between the genres I listened to during these two years more easily. "
   ]
  },
  {
   "cell_type": "code",
   "execution_count": 384,
   "id": "21995a50",
   "metadata": {
    "scrolled": true
   },
   "outputs": [
    {
     "data": {
      "image/png": "[encoded data removed]",
      "text/plain": [
       "<Figure size 432x288 with 1 Axes>"
      ]
     },
     "metadata": {
      "needs_background": "light"
     },
     "output_type": "display_data"
    }
   ],
   "source": [
    "fig6, ax1 = plt.subplots()\n",
    "\n",
    "summer_2022 = season_playlist_data[season_playlist_data['playlist'] == 'summer 2022']\n",
    "summer_2021 = season_playlist_data[season_playlist_data['playlist'] == 'summer 2021']\n",
    "\n",
    "summer_counts_2022 = summer_2022.groupby('genres').count().sort_values('Unnamed: 0', ascending = False)\n",
    "summer_counts_2021 = summer_2021.groupby('genres').count().sort_values('Unnamed: 0', ascending = False)\n",
    "\n",
    "ax1.bar(summer_counts_2022.index, alpha = 0.5, color = 'blue', label = 'summer 2022', height = summer_counts_2022['Unnamed: 0'])\n",
    "ax1.bar(summer_counts_2021.index, alpha = 0.5, color = 'green', label = 'summer 2021', height = summer_counts_2021['Unnamed: 0'])\n",
    "\n",
    "ax1.set_xlabel('genres')\n",
    "ax1.tick_params(axis='x', labelrotation = 90)\n",
    "\n",
    "ax1.legend()\n",
    "\n",
    "plt.show()"
   ]
  },
  {
   "cell_type": "markdown",
   "id": "a70ff142",
   "metadata": {},
   "source": [
    "**When comparing summer 2021 and 2022, my music taste evolved. In summer 2021, my top genres were pop and indie folk, but in summer 2022 my top genres were pop and indie pop. However, the genres of pop, indie folk, and indie pop are all very similar. Since these are both summer playlists from a year apart, it makes sense why the top genres are similar yet slightly evolved.**"
   ]
  },
  {
   "cell_type": "markdown",
   "id": "2c47db6f",
   "metadata": {},
   "source": [
    "I created two bar graphs to compare my fall 2022 and fall 2021 playlists side by side. By having two separate graphs, I could also look at each year individually. "
   ]
  },
  {
   "cell_type": "code",
   "execution_count": 385,
   "id": "abf8345e",
   "metadata": {
    "scrolled": true
   },
   "outputs": [
    {
     "data": {
      "image/png": "[encoded data removed]",
      "text/plain": [
       "<Figure size 432x288 with 2 Axes>"
      ]
     },
     "metadata": {
      "needs_background": "light"
     },
     "output_type": "display_data"
    }
   ],
   "source": [
    "fig7, ax1 = plt.subplots(1, 2)\n",
    "\n",
    "fall_2022 = season_playlist_data[season_playlist_data['playlist'] == 'fall 2022']\n",
    "fall_2021 = season_playlist_data[season_playlist_data['playlist'] == 'fall 2021']\n",
    "\n",
    "fall_counts_2022 = fall_2022.groupby('genres').count().sort_values('Unnamed: 0', ascending = False)\n",
    "fall_counts_2021 = fall_2021.groupby('genres').count().sort_values('Unnamed: 0', ascending = False)\n",
    "\n",
    "ax1[0].bar(fall_counts_2022.index, alpha = 0.5, color = 'orange', label = 'fall 2022', height = fall_counts_2022['Unnamed: 0'])\n",
    "ax1[1].bar(fall_counts_2021.index, alpha = 0.5, color = 'red', label = 'fall 2021', height = fall_counts_2021['Unnamed: 0'])\n",
    "\n",
    "ax1[0].set_xlabel('genres')\n",
    "ax1[1].set_xlabel('genres')\n",
    "ax1[0].tick_params(axis='x', labelrotation = 90)\n",
    "ax1[1].tick_params(axis='x', labelrotation = 90)\n",
    "\n",
    "ax1[0].legend()\n",
    "ax1[1].legend()\n",
    "\n",
    "plt.show()"
   ]
  },
  {
   "cell_type": "markdown",
   "id": "888f826e",
   "metadata": {},
   "source": [
    "I created one bar graph to compare fall 2021 and fall 2022 in one graph. This allowed me to see the overlap between the genres I listened to during these two years more easily."
   ]
  },
  {
   "cell_type": "code",
   "execution_count": 386,
   "id": "efa5247b",
   "metadata": {},
   "outputs": [
    {
     "data": {
      "image/png": "[encoded data removed]",
      "text/plain": [
       "<Figure size 432x288 with 1 Axes>"
      ]
     },
     "metadata": {
      "needs_background": "light"
     },
     "output_type": "display_data"
    }
   ],
   "source": [
    "fig8, ax1 = plt.subplots()\n",
    "\n",
    "fall_2022 = season_playlist_data[season_playlist_data['playlist'] == 'fall 2022']\n",
    "fall_2021 = season_playlist_data[season_playlist_data['playlist'] == 'fall 2021']\n",
    "\n",
    "fall_counts_2022 = fall_2022.groupby('genres').count().sort_values('Unnamed: 0', ascending = False)\n",
    "fall_counts_2021 = fall_2021.groupby('genres').count().sort_values('Unnamed: 0', ascending = False)\n",
    "\n",
    "ax1.bar(fall_counts_2022.index, alpha = 0.5, color = 'orange', label = 'fall 2022', height = fall_counts_2022['Unnamed: 0'])\n",
    "ax1.bar(fall_counts_2021.index, alpha = 0.5, color = 'red', label = 'fall 2021', height = fall_counts_2021['Unnamed: 0'])\n",
    "\n",
    "ax1.set_xlabel('genres')\n",
    "ax1.tick_params(axis='x', labelrotation = 90)\n",
    "\n",
    "ax1.legend()\n",
    "\n",
    "plt.show()"
   ]
  },
  {
   "cell_type": "markdown",
   "id": "99ac7c74",
   "metadata": {},
   "source": [
    "**In fall 2021, my top genres were pop and folk-pop. In fall 2022, my top genres were indie pop and pop. Like all the other graphs, the most overlap was in the pop genre. I am surprised to see modern rock was my third most listened to genre on my fall 2021 playlist.**"
   ]
  },
  {
   "cell_type": "markdown",
   "id": "5d27e8d1",
   "metadata": {},
   "source": [
    "**When comparing all the genre and year combinations, I am not surprised to see variations of pop and folk show up most often in all the playlists. However, in the summer playlists, I did see a broader range of genres explored than in the fall. For example, in summer 2022 I had songs on my playlist in the psychedelic hip-hop and indie r&b genres. Even though it was just one song in each, this was adventurous for me based on my fall playlists that were almost exclusively pop and folk music.**"
   ]
  },
  {
   "cell_type": "markdown",
   "id": "7e124b22",
   "metadata": {},
   "source": [
    "To address my original question \"If I listen to different genres at different times of year or if I have favorite genres that surpass the boundaries of seasons?\" I can conclude both statements are true. Some genres such as variations of pop and folk appear heavily in all playlists. However, some genres are more season specific, such as rap and hip hop appearing exclusively in the summer.\n",
    "\n",
    "I am slightly surprised with these results because I did not realize how much I like variations of folk music during all times of year. I thought I preferred folk only in the fall. Moving forward, I hope to use these results motivate myself to diversify my listening all year round."
   ]
  }
 ],
 "metadata": {
  "kernelspec": {
   "display_name": "Python 3 (ipykernel)",
   "language": "python",
   "name": "python3"
  },
  "language_info": {
   "codemirror_mode": {
    "name": "ipython",
    "version": 3
   },
   "file_extension": ".py",
   "mimetype": "text/x-python",
   "name": "python",
   "nbconvert_exporter": "python",
   "pygments_lexer": "ipython3",
   "version": "3.10.4"
  }
 },
 "nbformat": 4,
 "nbformat_minor": 5
}
