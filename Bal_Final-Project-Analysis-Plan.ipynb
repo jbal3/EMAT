{
 "cells": [
  {
   "cell_type": "code",
   "execution_count": 1,
   "id": "5d8484d6",
   "metadata": {},
   "outputs": [],
   "source": [
    "import json\n",
    "import pandas as pd\n",
    "import requests\n",
    "import base64"
   ]
  },
  {
   "cell_type": "code",
   "execution_count": 2,
   "id": "d7e6b8b3",
   "metadata": {},
   "outputs": [],
   "source": [
    "keys = pd.read_csv(\"Spotify-Keys_9-23-21\", header = 0, sep = \",\")"
   ]
  },
  {
   "cell_type": "code",
   "execution_count": 3,
   "id": "81231b07",
   "metadata": {},
   "outputs": [],
   "source": [
    "appid = keys['Client_ID'][0]"
   ]
  },
  {
   "cell_type": "code",
   "execution_count": 4,
   "id": "7752580e",
   "metadata": {},
   "outputs": [],
   "source": [
    "appsecret = keys['Client_Secret'][0]"
   ]
  },
  {
   "cell_type": "code",
   "execution_count": 5,
   "id": "60e4aa60",
   "metadata": {},
   "outputs": [],
   "source": [
    "client_cred = base64.b64encode(str(appid + \":\" + appsecret).encode('ascii'))"
   ]
  },
  {
   "cell_type": "code",
   "execution_count": 6,
   "id": "15d69227",
   "metadata": {},
   "outputs": [],
   "source": [
    "header = {'Authorization': 'Basic {}'.format(client_cred.decode('ascii'))}"
   ]
  },
  {
   "cell_type": "code",
   "execution_count": 7,
   "id": "b38e44cb",
   "metadata": {},
   "outputs": [],
   "source": [
    "payload = {'grant_type' : 'client_credentials'}\n",
    "access_token_url = \"https://accounts.spotify.com/api/token\""
   ]
  },
  {
   "cell_type": "code",
   "execution_count": 8,
   "id": "b5e81a89",
   "metadata": {},
   "outputs": [],
   "source": [
    "response = requests.post(access_token_url, headers = header, data = payload)"
   ]
  },
  {
   "cell_type": "code",
   "execution_count": 9,
   "id": "af215969",
   "metadata": {},
   "outputs": [],
   "source": [
    "session_token = response.json()['access_token']"
   ]
  },
  {
   "cell_type": "code",
   "execution_count": 10,
   "id": "a9f1b560",
   "metadata": {},
   "outputs": [],
   "source": [
    "session_header = {'Authorization': 'Bearer {}'.format(response.json()['access_token'])}"
   ]
  },
  {
   "cell_type": "markdown",
   "id": "7f43dad7",
   "metadata": {},
   "source": [
    "### Fall 2022 Data Collection ###"
   ]
  },
  {
   "cell_type": "code",
   "execution_count": 11,
   "id": "3d2be495",
   "metadata": {},
   "outputs": [],
   "source": [
    "fall_2022_id = '5qFxkaLI6E8pCj7eBytI5v'"
   ]
  },
  {
   "cell_type": "code",
   "execution_count": 12,
   "id": "f4915d6a",
   "metadata": {},
   "outputs": [],
   "source": [
    "playlist_tracks_endpoint = \"https://api.spotify.com/v1/playlists/{}/tracks\".format(fall_2022_id)"
   ]
  },
  {
   "cell_type": "code",
   "execution_count": 13,
   "id": "26e53912",
   "metadata": {},
   "outputs": [],
   "source": [
    "fall_2022_tracks = requests.get(playlist_tracks_endpoint, headers = session_header)"
   ]
  },
  {
   "cell_type": "code",
   "execution_count": 14,
   "id": "1149b557",
   "metadata": {},
   "outputs": [
    {
     "data": {
      "text/plain": [
       "200"
      ]
     },
     "execution_count": 14,
     "metadata": {},
     "output_type": "execute_result"
    }
   ],
   "source": [
    "fall_2022_tracks.status_code"
   ]
  },
  {
   "cell_type": "code",
   "execution_count": 15,
   "id": "33b10601",
   "metadata": {},
   "outputs": [],
   "source": [
    "fall_2022_dict = json.loads(fall_2022_tracks.text)"
   ]
  },
  {
   "cell_type": "code",
   "execution_count": 16,
   "id": "acabd83a",
   "metadata": {},
   "outputs": [
    {
     "data": {
      "text/plain": [
       "dict_keys(['href', 'items', 'limit', 'next', 'offset', 'previous', 'total'])"
      ]
     },
     "execution_count": 16,
     "metadata": {},
     "output_type": "execute_result"
    }
   ],
   "source": [
    "fall_2022_dict.keys()"
   ]
  },
  {
   "cell_type": "code",
   "execution_count": 17,
   "id": "0ffc4ada",
   "metadata": {},
   "outputs": [
    {
     "data": {
      "text/plain": [
       "dict_keys(['added_at', 'added_by', 'is_local', 'primary_color', 'track', 'video_thumbnail'])"
      ]
     },
     "execution_count": 17,
     "metadata": {},
     "output_type": "execute_result"
    }
   ],
   "source": [
    "fall_2022_dict['items'][0].keys()"
   ]
  },
  {
   "cell_type": "code",
   "execution_count": 18,
   "id": "3aeb2f8d",
   "metadata": {},
   "outputs": [
    {
     "data": {
      "text/plain": [
       "'2uatFg68ynGEapEel9ASuK'"
      ]
     },
     "execution_count": 18,
     "metadata": {},
     "output_type": "execute_result"
    }
   ],
   "source": [
    "fall_2022_dict['items'][0]['track']['id']"
   ]
  },
  {
   "cell_type": "code",
   "execution_count": 19,
   "id": "a31f391c",
   "metadata": {},
   "outputs": [
    {
     "data": {
      "text/plain": [
       "dict_keys(['external_urls', 'href', 'id', 'name', 'type', 'uri'])"
      ]
     },
     "execution_count": 19,
     "metadata": {},
     "output_type": "execute_result"
    }
   ],
   "source": [
    "fall_2022_dict['items'][0]['track']['artists'][0].keys()"
   ]
  },
  {
   "cell_type": "code",
   "execution_count": 20,
   "id": "e8afb3cf",
   "metadata": {},
   "outputs": [
    {
     "data": {
      "text/plain": [
       "'7vtSUU3zpHeYJfX6BPNrJd'"
      ]
     },
     "execution_count": 20,
     "metadata": {},
     "output_type": "execute_result"
    }
   ],
   "source": [
    "fall_2022_dict['items'][0]['track']['artists'][0]['id']"
   ]
  },
  {
   "cell_type": "code",
   "execution_count": 21,
   "id": "d7ff054c",
   "metadata": {},
   "outputs": [],
   "source": [
    "fall_2022_track_ids = [x['track']['id'] for x in fall_2022_dict['items']]"
   ]
  },
  {
   "cell_type": "code",
   "execution_count": null,
   "id": "6efa73be",
   "metadata": {
    "scrolled": true
   },
   "outputs": [],
   "source": [
    "fall_2022_track_ids"
   ]
  },
  {
   "cell_type": "code",
   "execution_count": 23,
   "id": "3dc1a357",
   "metadata": {},
   "outputs": [],
   "source": [
    "fall_2022_track_strings = ','.join(str(x) for x in fall_2022_track_ids)"
   ]
  },
  {
   "cell_type": "code",
   "execution_count": 24,
   "id": "5212c3d3",
   "metadata": {},
   "outputs": [
    {
     "data": {
      "text/plain": [
       "'2uatFg68ynGEapEel9ASuK,53taBvemC88CMHP2I1xAFX,7sgNQ34g23PpgpfAAuxMPy,4HHqDiNjHlsWtxqXoTR00O,4VeCmOb1rAEZQfH7Rlms9C,78vv48Ic6syaE6kWqDGY47,3Hvg5tRKsQlX25wYwgMF9p,6lCvK2AR2uOKkVFCVlAzzm,57V4uc2b2diZ4RPHXWecb9,3Z2anmIVG8b1GelyeFQdnP,0zesU7Cq6UM582kMYC6J3E,7nDFTHHwfe32a8qdp9XqPy,3rXCZRMiMZp0feGcYXpwYX,7trx783SvnHhKkmgSSTIFJ,01K4zKU104LyJ8gMb7227B,5ASPgiUgnrHCfwnJlh04ZR,2qhfWLkKqWripwiw8DJdGU,3o1cohFfwd57rAvrbyVE5e,0GNVXNz7Jkicfk2mp5OyG5,3cfeJE1UxGSOdtaQPkR2nd,6sQckd3Z8NPxVVKUnavY1F,7yNTZj1ugKCeRJdSP1meOk,3hiuZQQ33aDnu4Xmmn8Lr7,6vIyrLqStTPvZ6zwdW0zNw,14Aob2QYJ9Ija9pw9eJSI7,75nZ4W6quZhI55LKiqCXWh,1YenbnUpxiTyG15aLTl7JO,4GvdsVns332wQ3JsWAg2OV,3ekNuTF3UpOvIZCfiejpnC,5enxwA8aAbwZbf5qCHORXi,2CK9xYMVdmJMPKZyArVbt4,4Ifsg8iWpPy5qN5GDHnpta,0ZAbupc7jAQpG9IxojQ3s3,6255IIBwKySv6RYrOeHfQh,5EKqsMU2tn1iAYNQF8h0ll,3HAgxyWGeJtIVabS2mTREt,5hAFKx1IMhvx73JA6MSkIP,3PUMPtOSeXSJsBvK43K96b,20svOpmCQao5GUBgSu8zDe,7MbT4I8qGntX4fMdqMQgke,2MMZ1Llts0rTaU834P2Xct,2PfkfkaO9okAk0OxC4ggy5,6hUTzxvNiJ1c0lYqgoOTBW'"
      ]
     },
     "execution_count": 24,
     "metadata": {},
     "output_type": "execute_result"
    }
   ],
   "source": [
    "fall_2022_track_strings"
   ]
  },
  {
   "cell_type": "code",
   "execution_count": 25,
   "id": "d7ba0dee",
   "metadata": {},
   "outputs": [],
   "source": [
    "track_endpoint = \"https://api.spotify.com/v1/tracks?ids={}\".format(fall_2022_track_strings)"
   ]
  },
  {
   "cell_type": "code",
   "execution_count": 26,
   "id": "4cce05d8",
   "metadata": {},
   "outputs": [],
   "source": [
    "fall_2022_tracks_info = requests.get(track_endpoint, headers = session_header)"
   ]
  },
  {
   "cell_type": "code",
   "execution_count": 27,
   "id": "56e59757",
   "metadata": {
    "scrolled": true
   },
   "outputs": [
    {
     "data": {
      "text/plain": [
       "200"
      ]
     },
     "execution_count": 27,
     "metadata": {},
     "output_type": "execute_result"
    }
   ],
   "source": [
    "fall_2022_tracks_info.status_code"
   ]
  },
  {
   "cell_type": "code",
   "execution_count": 28,
   "id": "94706d8c",
   "metadata": {},
   "outputs": [],
   "source": [
    "fall_2022_dict = json.loads(fall_2022_tracks_info.text)"
   ]
  },
  {
   "cell_type": "code",
   "execution_count": 29,
   "id": "acde5754",
   "metadata": {},
   "outputs": [
    {
     "data": {
      "text/plain": [
       "dict_keys(['tracks'])"
      ]
     },
     "execution_count": 29,
     "metadata": {},
     "output_type": "execute_result"
    }
   ],
   "source": [
    "fall_2022_dict.keys()"
   ]
  },
  {
   "cell_type": "code",
   "execution_count": 30,
   "id": "0d0705c7",
   "metadata": {},
   "outputs": [],
   "source": [
    "fall_2022_tracks_df = pd.DataFrame(fall_2022_dict['tracks'])"
   ]
  },
  {
   "cell_type": "code",
   "execution_count": 109,
   "id": "ea1e2814",
   "metadata": {
    "scrolled": true
   },
   "outputs": [
    {
     "data": {
      "text/html": [
       "<div>\n",
       "<style scoped>\n",
       "    .dataframe tbody tr th:only-of-type {\n",
       "        vertical-align: middle;\n",
       "    }\n",
       "\n",
       "    .dataframe tbody tr th {\n",
       "        vertical-align: top;\n",
       "    }\n",
       "\n",
       "    .dataframe thead th {\n",
       "        text-align: right;\n",
       "    }\n",
       "</style>\n",
       "<table border=\"1\" class=\"dataframe\">\n",
       "  <thead>\n",
       "    <tr style=\"text-align: right;\">\n",
       "      <th></th>\n",
       "      <th>album</th>\n",
       "      <th>artists</th>\n",
       "      <th>available_markets</th>\n",
       "      <th>disc_number</th>\n",
       "      <th>duration_ms</th>\n",
       "      <th>explicit</th>\n",
       "      <th>external_ids</th>\n",
       "      <th>external_urls</th>\n",
       "      <th>href</th>\n",
       "      <th>id</th>\n",
       "      <th>is_local</th>\n",
       "      <th>name</th>\n",
       "      <th>popularity</th>\n",
       "      <th>preview_url</th>\n",
       "      <th>track_number</th>\n",
       "      <th>type</th>\n",
       "      <th>uri</th>\n",
       "    </tr>\n",
       "  </thead>\n",
       "  <tbody>\n",
       "    <tr>\n",
       "      <th>0</th>\n",
       "      <td>{'album_type': 'single', 'artists': [{'externa...</td>\n",
       "      <td>7vtSUU3zpHeYJfX6BPNrJd</td>\n",
       "      <td>[AD, AE, AG, AL, AM, AO, AR, AT, AU, AZ, BA, B...</td>\n",
       "      <td>1</td>\n",
       "      <td>278983</td>\n",
       "      <td>True</td>\n",
       "      <td>{'isrc': 'USAT21901844'}</td>\n",
       "      <td>{'spotify': 'https://open.spotify.com/track/2u...</td>\n",
       "      <td>https://api.spotify.com/v1/tracks/2uatFg68ynGE...</td>\n",
       "      <td>2uatFg68ynGEapEel9ASuK</td>\n",
       "      <td>False</td>\n",
       "      <td>Fool's Gold</td>\n",
       "      <td>54</td>\n",
       "      <td>https://p.scdn.co/mp3-preview/7dbf7deeaa297d44...</td>\n",
       "      <td>3</td>\n",
       "      <td>track</td>\n",
       "      <td>spotify:track:2uatFg68ynGEapEel9ASuK</td>\n",
       "    </tr>\n",
       "  </tbody>\n",
       "</table>\n",
       "</div>"
      ],
      "text/plain": [
       "                                               album                 artists  \\\n",
       "0  {'album_type': 'single', 'artists': [{'externa...  7vtSUU3zpHeYJfX6BPNrJd   \n",
       "\n",
       "                                   available_markets  disc_number  \\\n",
       "0  [AD, AE, AG, AL, AM, AO, AR, AT, AU, AZ, BA, B...            1   \n",
       "\n",
       "   duration_ms  explicit              external_ids  \\\n",
       "0       278983      True  {'isrc': 'USAT21901844'}   \n",
       "\n",
       "                                       external_urls  \\\n",
       "0  {'spotify': 'https://open.spotify.com/track/2u...   \n",
       "\n",
       "                                                href                      id  \\\n",
       "0  https://api.spotify.com/v1/tracks/2uatFg68ynGE...  2uatFg68ynGEapEel9ASuK   \n",
       "\n",
       "   is_local         name  popularity  \\\n",
       "0     False  Fool's Gold          54   \n",
       "\n",
       "                                         preview_url  track_number   type  \\\n",
       "0  https://p.scdn.co/mp3-preview/7dbf7deeaa297d44...             3  track   \n",
       "\n",
       "                                    uri  \n",
       "0  spotify:track:2uatFg68ynGEapEel9ASuK  "
      ]
     },
     "execution_count": 109,
     "metadata": {},
     "output_type": "execute_result"
    }
   ],
   "source": [
    "fall_2022_tracks_df.head(1)"
   ]
  },
  {
   "cell_type": "code",
   "execution_count": 32,
   "id": "792bd091",
   "metadata": {
    "scrolled": true
   },
   "outputs": [
    {
     "data": {
      "text/plain": [
       "[{'external_urls': {'spotify': 'https://open.spotify.com/artist/7vtSUU3zpHeYJfX6BPNrJd'},\n",
       "  'href': 'https://api.spotify.com/v1/artists/7vtSUU3zpHeYJfX6BPNrJd',\n",
       "  'id': '7vtSUU3zpHeYJfX6BPNrJd',\n",
       "  'name': 'Briston Maroney',\n",
       "  'type': 'artist',\n",
       "  'uri': 'spotify:artist:7vtSUU3zpHeYJfX6BPNrJd'}]"
      ]
     },
     "execution_count": 32,
     "metadata": {},
     "output_type": "execute_result"
    }
   ],
   "source": [
    "fall_2022_tracks_df['artists'][0]"
   ]
  },
  {
   "cell_type": "code",
   "execution_count": 33,
   "id": "22699524",
   "metadata": {},
   "outputs": [
    {
     "data": {
      "text/plain": [
       "'7vtSUU3zpHeYJfX6BPNrJd'"
      ]
     },
     "execution_count": 33,
     "metadata": {},
     "output_type": "execute_result"
    }
   ],
   "source": [
    "fall_2022_tracks_df['artists'][0][0]['id']"
   ]
  },
  {
   "cell_type": "code",
   "execution_count": 34,
   "id": "8a54a9e1",
   "metadata": {},
   "outputs": [],
   "source": [
    "fall_2022_artist_id = [x[0]['id'] for x in fall_2022_tracks_df['artists']]"
   ]
  },
  {
   "cell_type": "code",
   "execution_count": null,
   "id": "053048d7",
   "metadata": {
    "scrolled": true
   },
   "outputs": [],
   "source": [
    "fall_2022_artist_id"
   ]
  },
  {
   "cell_type": "code",
   "execution_count": 36,
   "id": "01d6fbf0",
   "metadata": {},
   "outputs": [],
   "source": [
    "fall_2022_tracks_df['artists'] = fall_2022_artist_id"
   ]
  },
  {
   "cell_type": "code",
   "execution_count": 108,
   "id": "838995e4",
   "metadata": {
    "scrolled": true
   },
   "outputs": [
    {
     "data": {
      "text/html": [
       "<div>\n",
       "<style scoped>\n",
       "    .dataframe tbody tr th:only-of-type {\n",
       "        vertical-align: middle;\n",
       "    }\n",
       "\n",
       "    .dataframe tbody tr th {\n",
       "        vertical-align: top;\n",
       "    }\n",
       "\n",
       "    .dataframe thead th {\n",
       "        text-align: right;\n",
       "    }\n",
       "</style>\n",
       "<table border=\"1\" class=\"dataframe\">\n",
       "  <thead>\n",
       "    <tr style=\"text-align: right;\">\n",
       "      <th></th>\n",
       "      <th>album</th>\n",
       "      <th>artists</th>\n",
       "      <th>available_markets</th>\n",
       "      <th>disc_number</th>\n",
       "      <th>duration_ms</th>\n",
       "      <th>explicit</th>\n",
       "      <th>external_ids</th>\n",
       "      <th>external_urls</th>\n",
       "      <th>href</th>\n",
       "      <th>id</th>\n",
       "      <th>is_local</th>\n",
       "      <th>name</th>\n",
       "      <th>popularity</th>\n",
       "      <th>preview_url</th>\n",
       "      <th>track_number</th>\n",
       "      <th>type</th>\n",
       "      <th>uri</th>\n",
       "    </tr>\n",
       "  </thead>\n",
       "  <tbody>\n",
       "    <tr>\n",
       "      <th>0</th>\n",
       "      <td>{'album_type': 'single', 'artists': [{'externa...</td>\n",
       "      <td>7vtSUU3zpHeYJfX6BPNrJd</td>\n",
       "      <td>[AD, AE, AG, AL, AM, AO, AR, AT, AU, AZ, BA, B...</td>\n",
       "      <td>1</td>\n",
       "      <td>278983</td>\n",
       "      <td>True</td>\n",
       "      <td>{'isrc': 'USAT21901844'}</td>\n",
       "      <td>{'spotify': 'https://open.spotify.com/track/2u...</td>\n",
       "      <td>https://api.spotify.com/v1/tracks/2uatFg68ynGE...</td>\n",
       "      <td>2uatFg68ynGEapEel9ASuK</td>\n",
       "      <td>False</td>\n",
       "      <td>Fool's Gold</td>\n",
       "      <td>54</td>\n",
       "      <td>https://p.scdn.co/mp3-preview/7dbf7deeaa297d44...</td>\n",
       "      <td>3</td>\n",
       "      <td>track</td>\n",
       "      <td>spotify:track:2uatFg68ynGEapEel9ASuK</td>\n",
       "    </tr>\n",
       "  </tbody>\n",
       "</table>\n",
       "</div>"
      ],
      "text/plain": [
       "                                               album                 artists  \\\n",
       "0  {'album_type': 'single', 'artists': [{'externa...  7vtSUU3zpHeYJfX6BPNrJd   \n",
       "\n",
       "                                   available_markets  disc_number  \\\n",
       "0  [AD, AE, AG, AL, AM, AO, AR, AT, AU, AZ, BA, B...            1   \n",
       "\n",
       "   duration_ms  explicit              external_ids  \\\n",
       "0       278983      True  {'isrc': 'USAT21901844'}   \n",
       "\n",
       "                                       external_urls  \\\n",
       "0  {'spotify': 'https://open.spotify.com/track/2u...   \n",
       "\n",
       "                                                href                      id  \\\n",
       "0  https://api.spotify.com/v1/tracks/2uatFg68ynGE...  2uatFg68ynGEapEel9ASuK   \n",
       "\n",
       "   is_local         name  popularity  \\\n",
       "0     False  Fool's Gold          54   \n",
       "\n",
       "                                         preview_url  track_number   type  \\\n",
       "0  https://p.scdn.co/mp3-preview/7dbf7deeaa297d44...             3  track   \n",
       "\n",
       "                                    uri  \n",
       "0  spotify:track:2uatFg68ynGEapEel9ASuK  "
      ]
     },
     "execution_count": 108,
     "metadata": {},
     "output_type": "execute_result"
    }
   ],
   "source": [
    "fall_2022_tracks_df.head(1)"
   ]
  },
  {
   "cell_type": "code",
   "execution_count": 149,
   "id": "b54e5585",
   "metadata": {},
   "outputs": [],
   "source": [
    "fall_2022_tracks = fall_2022_tracks_df.drop(['album', 'available_markets', 'disc_number', 'duration_ms', 'explicit', 'external_ids', 'external_urls', 'href', 'is_local', 'popularity', 'preview_url', 'track_number', 'type', 'uri'], axis = 1)"
   ]
  },
  {
   "cell_type": "code",
   "execution_count": 150,
   "id": "c48ecf30",
   "metadata": {},
   "outputs": [
    {
     "data": {
      "text/html": [
       "<div>\n",
       "<style scoped>\n",
       "    .dataframe tbody tr th:only-of-type {\n",
       "        vertical-align: middle;\n",
       "    }\n",
       "\n",
       "    .dataframe tbody tr th {\n",
       "        vertical-align: top;\n",
       "    }\n",
       "\n",
       "    .dataframe thead th {\n",
       "        text-align: right;\n",
       "    }\n",
       "</style>\n",
       "<table border=\"1\" class=\"dataframe\">\n",
       "  <thead>\n",
       "    <tr style=\"text-align: right;\">\n",
       "      <th></th>\n",
       "      <th>artists</th>\n",
       "      <th>id</th>\n",
       "      <th>name</th>\n",
       "    </tr>\n",
       "  </thead>\n",
       "  <tbody>\n",
       "    <tr>\n",
       "      <th>0</th>\n",
       "      <td>7vtSUU3zpHeYJfX6BPNrJd</td>\n",
       "      <td>2uatFg68ynGEapEel9ASuK</td>\n",
       "      <td>Fool's Gold</td>\n",
       "    </tr>\n",
       "    <tr>\n",
       "      <th>1</th>\n",
       "      <td>1GmsPCcpKgF9OhlNXjOsbS</td>\n",
       "      <td>53taBvemC88CMHP2I1xAFX</td>\n",
       "      <td>Means Something</td>\n",
       "    </tr>\n",
       "    <tr>\n",
       "      <th>2</th>\n",
       "      <td>0wyMPXGfOuQzNR54ujR9Ix</td>\n",
       "      <td>7sgNQ34g23PpgpfAAuxMPy</td>\n",
       "      <td>Light</td>\n",
       "    </tr>\n",
       "    <tr>\n",
       "      <th>3</th>\n",
       "      <td>4wMfqR1EZagrSlYndItxGQ</td>\n",
       "      <td>4HHqDiNjHlsWtxqXoTR00O</td>\n",
       "      <td>i think about you all the time</td>\n",
       "    </tr>\n",
       "    <tr>\n",
       "      <th>4</th>\n",
       "      <td>3gd8FJtBJtkRxdfbTu19U2</td>\n",
       "      <td>4VeCmOb1rAEZQfH7Rlms9C</td>\n",
       "      <td>Guiding Light</td>\n",
       "    </tr>\n",
       "  </tbody>\n",
       "</table>\n",
       "</div>"
      ],
      "text/plain": [
       "                  artists                      id  \\\n",
       "0  7vtSUU3zpHeYJfX6BPNrJd  2uatFg68ynGEapEel9ASuK   \n",
       "1  1GmsPCcpKgF9OhlNXjOsbS  53taBvemC88CMHP2I1xAFX   \n",
       "2  0wyMPXGfOuQzNR54ujR9Ix  7sgNQ34g23PpgpfAAuxMPy   \n",
       "3  4wMfqR1EZagrSlYndItxGQ  4HHqDiNjHlsWtxqXoTR00O   \n",
       "4  3gd8FJtBJtkRxdfbTu19U2  4VeCmOb1rAEZQfH7Rlms9C   \n",
       "\n",
       "                             name  \n",
       "0                     Fool's Gold  \n",
       "1                 Means Something  \n",
       "2                           Light  \n",
       "3  i think about you all the time  \n",
       "4                   Guiding Light  "
      ]
     },
     "execution_count": 150,
     "metadata": {},
     "output_type": "execute_result"
    }
   ],
   "source": [
    "fall_2022_tracks.head()"
   ]
  },
  {
   "cell_type": "code",
   "execution_count": null,
   "id": "dd44398e",
   "metadata": {
    "scrolled": false
   },
   "outputs": [],
   "source": [
    "fall_2022_artist_id"
   ]
  },
  {
   "cell_type": "code",
   "execution_count": 39,
   "id": "ff721696",
   "metadata": {},
   "outputs": [],
   "source": [
    "fall_2022_artist_strings = ','.join(str(x) for x in fall_2022_artist_id)"
   ]
  },
  {
   "cell_type": "code",
   "execution_count": 40,
   "id": "c51065db",
   "metadata": {
    "scrolled": false
   },
   "outputs": [
    {
     "data": {
      "text/plain": [
       "'7vtSUU3zpHeYJfX6BPNrJd,1GmsPCcpKgF9OhlNXjOsbS,0wyMPXGfOuQzNR54ujR9Ix,4wMfqR1EZagrSlYndItxGQ,3gd8FJtBJtkRxdfbTu19U2,3nYYI90ObxhjLjdxaoXGSa,16oZKvXb6WkQlVAjwo2Wbg,06HL4z0CvFAxyc27GXpf02,2FXC3k01G6Gw61bmprjgqS,2RQXRUsr4IW1f3mKyKsy4B,0wyMPXGfOuQzNR54ujR9Ix,2RQXRUsr4IW1f3mKyKsy4B,25IG9fa7cbdmCIy3OnuH57,4hz8tIajF2INpgM0qzPJz2,06HL4z0CvFAxyc27GXpf02,1r1uxoy19fzMxunt3ONAkG,16oZKvXb6WkQlVAjwo2Wbg,4dwdTW1Lfiq0cM8nBAqIIz,2RQXRUsr4IW1f3mKyKsy4B,4wMfqR1EZagrSlYndItxGQ,06HL4z0CvFAxyc27GXpf02,25IG9fa7cbdmCIy3OnuH57,1GmsPCcpKgF9OhlNXjOsbS,4dwdTW1Lfiq0cM8nBAqIIz,1moxjboGR7GNWYIMWsRjgG,0wyMPXGfOuQzNR54ujR9Ix,4dwdTW1Lfiq0cM8nBAqIIz,1r1uxoy19fzMxunt3ONAkG,16oZKvXb6WkQlVAjwo2Wbg,06HL4z0CvFAxyc27GXpf02,1GmsPCcpKgF9OhlNXjOsbS,7nW46aJfNHxK9Y3M5Dhadk,4hz8tIajF2INpgM0qzPJz2,0wyMPXGfOuQzNR54ujR9Ix,16oZKvXb6WkQlVAjwo2Wbg,0wyMPXGfOuQzNR54ujR9Ix,2RQXRUsr4IW1f3mKyKsy4B,4NZvixzsSefsNiIqXn0NDe,0n94vC3S9c3mb2HyNAOcjg,06HL4z0CvFAxyc27GXpf02,25IG9fa7cbdmCIy3OnuH57,2hR4h1Cao2ueuI7Cx9c7V8,7gRGh8w4G9zaFJSaIYp8HH'"
      ]
     },
     "execution_count": 40,
     "metadata": {},
     "output_type": "execute_result"
    }
   ],
   "source": [
    "fall_2022_artist_strings"
   ]
  },
  {
   "cell_type": "code",
   "execution_count": 41,
   "id": "556b0e45",
   "metadata": {},
   "outputs": [],
   "source": [
    "artist_endpoint = \"https://api.spotify.com/v1/artists?ids={}\".format(fall_2022_artist_strings)"
   ]
  },
  {
   "cell_type": "code",
   "execution_count": 42,
   "id": "39e1a170",
   "metadata": {},
   "outputs": [],
   "source": [
    "fall_2022_artist_info = requests.get(artist_endpoint, headers = session_header)"
   ]
  },
  {
   "cell_type": "code",
   "execution_count": 43,
   "id": "8e12fae6",
   "metadata": {},
   "outputs": [
    {
     "data": {
      "text/plain": [
       "200"
      ]
     },
     "execution_count": 43,
     "metadata": {},
     "output_type": "execute_result"
    }
   ],
   "source": [
    "fall_2022_artist_info.status_code"
   ]
  },
  {
   "cell_type": "code",
   "execution_count": 44,
   "id": "29e3393d",
   "metadata": {},
   "outputs": [],
   "source": [
    "fall_2022_dict = json.loads(fall_2022_artist_info.text)"
   ]
  },
  {
   "cell_type": "code",
   "execution_count": 45,
   "id": "7addc76f",
   "metadata": {},
   "outputs": [
    {
     "data": {
      "text/plain": [
       "dict_keys(['artists'])"
      ]
     },
     "execution_count": 45,
     "metadata": {},
     "output_type": "execute_result"
    }
   ],
   "source": [
    "fall_2022_dict.keys()"
   ]
  },
  {
   "cell_type": "code",
   "execution_count": 46,
   "id": "41572a54",
   "metadata": {},
   "outputs": [
    {
     "data": {
      "text/plain": [
       "dict_keys(['external_urls', 'followers', 'genres', 'href', 'id', 'images', 'name', 'popularity', 'type', 'uri'])"
      ]
     },
     "execution_count": 46,
     "metadata": {},
     "output_type": "execute_result"
    }
   ],
   "source": [
    "fall_2022_dict['artists'][0].keys()"
   ]
  },
  {
   "cell_type": "code",
   "execution_count": 105,
   "id": "767dcc69",
   "metadata": {},
   "outputs": [],
   "source": [
    "fall_2022_artists_df = pd.DataFrame(fall_2022_dict['artists'])"
   ]
  },
  {
   "cell_type": "code",
   "execution_count": 107,
   "id": "de24d58a",
   "metadata": {},
   "outputs": [
    {
     "data": {
      "text/html": [
       "<div>\n",
       "<style scoped>\n",
       "    .dataframe tbody tr th:only-of-type {\n",
       "        vertical-align: middle;\n",
       "    }\n",
       "\n",
       "    .dataframe tbody tr th {\n",
       "        vertical-align: top;\n",
       "    }\n",
       "\n",
       "    .dataframe thead th {\n",
       "        text-align: right;\n",
       "    }\n",
       "</style>\n",
       "<table border=\"1\" class=\"dataframe\">\n",
       "  <thead>\n",
       "    <tr style=\"text-align: right;\">\n",
       "      <th></th>\n",
       "      <th>external_urls</th>\n",
       "      <th>followers</th>\n",
       "      <th>genres</th>\n",
       "      <th>href</th>\n",
       "      <th>id</th>\n",
       "      <th>images</th>\n",
       "      <th>name</th>\n",
       "      <th>popularity</th>\n",
       "      <th>type</th>\n",
       "      <th>uri</th>\n",
       "    </tr>\n",
       "  </thead>\n",
       "  <tbody>\n",
       "    <tr>\n",
       "      <th>0</th>\n",
       "      <td>{'spotify': 'https://open.spotify.com/artist/7...</td>\n",
       "      <td>{'href': None, 'total': 215895}</td>\n",
       "      <td>[indie pop, modern rock, nashville indie]</td>\n",
       "      <td>https://api.spotify.com/v1/artists/7vtSUU3zpHe...</td>\n",
       "      <td>7vtSUU3zpHeYJfX6BPNrJd</td>\n",
       "      <td>[{'height': 640, 'url': 'https://i.scdn.co/ima...</td>\n",
       "      <td>Briston Maroney</td>\n",
       "      <td>61</td>\n",
       "      <td>artist</td>\n",
       "      <td>spotify:artist:7vtSUU3zpHeYJfX6BPNrJd</td>\n",
       "    </tr>\n",
       "  </tbody>\n",
       "</table>\n",
       "</div>"
      ],
      "text/plain": [
       "                                       external_urls  \\\n",
       "0  {'spotify': 'https://open.spotify.com/artist/7...   \n",
       "\n",
       "                         followers                                     genres  \\\n",
       "0  {'href': None, 'total': 215895}  [indie pop, modern rock, nashville indie]   \n",
       "\n",
       "                                                href                      id  \\\n",
       "0  https://api.spotify.com/v1/artists/7vtSUU3zpHe...  7vtSUU3zpHeYJfX6BPNrJd   \n",
       "\n",
       "                                              images             name  \\\n",
       "0  [{'height': 640, 'url': 'https://i.scdn.co/ima...  Briston Maroney   \n",
       "\n",
       "   popularity    type                                    uri  \n",
       "0          61  artist  spotify:artist:7vtSUU3zpHeYJfX6BPNrJd  "
      ]
     },
     "execution_count": 107,
     "metadata": {},
     "output_type": "execute_result"
    }
   ],
   "source": [
    "fall_2022_artists_df.head(1)"
   ]
  },
  {
   "cell_type": "code",
   "execution_count": 151,
   "id": "5aa36aa2",
   "metadata": {},
   "outputs": [],
   "source": [
    "fall_2022_artists = fall_2022_artists_df.drop(['external_urls', 'followers', 'href', 'images', 'popularity', 'type', 'uri'], axis = 1)"
   ]
  },
  {
   "cell_type": "code",
   "execution_count": 152,
   "id": "a2a81388",
   "metadata": {},
   "outputs": [
    {
     "data": {
      "text/html": [
       "<div>\n",
       "<style scoped>\n",
       "    .dataframe tbody tr th:only-of-type {\n",
       "        vertical-align: middle;\n",
       "    }\n",
       "\n",
       "    .dataframe tbody tr th {\n",
       "        vertical-align: top;\n",
       "    }\n",
       "\n",
       "    .dataframe thead th {\n",
       "        text-align: right;\n",
       "    }\n",
       "</style>\n",
       "<table border=\"1\" class=\"dataframe\">\n",
       "  <thead>\n",
       "    <tr style=\"text-align: right;\">\n",
       "      <th></th>\n",
       "      <th>genres</th>\n",
       "      <th>id</th>\n",
       "      <th>name</th>\n",
       "    </tr>\n",
       "  </thead>\n",
       "  <tbody>\n",
       "    <tr>\n",
       "      <th>0</th>\n",
       "      <td>[indie pop, modern rock, nashville indie]</td>\n",
       "      <td>7vtSUU3zpHeYJfX6BPNrJd</td>\n",
       "      <td>Briston Maroney</td>\n",
       "    </tr>\n",
       "    <tr>\n",
       "      <th>1</th>\n",
       "      <td>[boston folk, indie pop, pop]</td>\n",
       "      <td>1GmsPCcpKgF9OhlNXjOsbS</td>\n",
       "      <td>Lizzy McAlpine</td>\n",
       "    </tr>\n",
       "    <tr>\n",
       "      <th>2</th>\n",
       "      <td>[indie folk, stomp and holler]</td>\n",
       "      <td>0wyMPXGfOuQzNR54ujR9Ix</td>\n",
       "      <td>Caamp</td>\n",
       "    </tr>\n",
       "    <tr>\n",
       "      <th>3</th>\n",
       "      <td>[bubblegrunge, indie pop, lo-fi indie, small r...</td>\n",
       "      <td>4wMfqR1EZagrSlYndItxGQ</td>\n",
       "      <td>Field Medic</td>\n",
       "    </tr>\n",
       "    <tr>\n",
       "      <th>4</th>\n",
       "      <td>[modern folk rock, stomp and holler, uk americ...</td>\n",
       "      <td>3gd8FJtBJtkRxdfbTu19U2</td>\n",
       "      <td>Mumford &amp; Sons</td>\n",
       "    </tr>\n",
       "  </tbody>\n",
       "</table>\n",
       "</div>"
      ],
      "text/plain": [
       "                                              genres                      id  \\\n",
       "0          [indie pop, modern rock, nashville indie]  7vtSUU3zpHeYJfX6BPNrJd   \n",
       "1                      [boston folk, indie pop, pop]  1GmsPCcpKgF9OhlNXjOsbS   \n",
       "2                     [indie folk, stomp and holler]  0wyMPXGfOuQzNR54ujR9Ix   \n",
       "3  [bubblegrunge, indie pop, lo-fi indie, small r...  4wMfqR1EZagrSlYndItxGQ   \n",
       "4  [modern folk rock, stomp and holler, uk americ...  3gd8FJtBJtkRxdfbTu19U2   \n",
       "\n",
       "              name  \n",
       "0  Briston Maroney  \n",
       "1   Lizzy McAlpine  \n",
       "2            Caamp  \n",
       "3      Field Medic  \n",
       "4   Mumford & Sons  "
      ]
     },
     "execution_count": 152,
     "metadata": {},
     "output_type": "execute_result"
    }
   ],
   "source": [
    "fall_2022_artists.head()"
   ]
  },
  {
   "cell_type": "code",
   "execution_count": 153,
   "id": "d549ffa6",
   "metadata": {},
   "outputs": [],
   "source": [
    "fall_2022_final_df = fall_2022_tracks.merge(fall_2022_artists, left_on = 'artists', right_on = 'id', how = 'left' )"
   ]
  },
  {
   "cell_type": "code",
   "execution_count": 155,
   "id": "b8345e34",
   "metadata": {},
   "outputs": [
    {
     "data": {
      "text/html": [
       "<div>\n",
       "<style scoped>\n",
       "    .dataframe tbody tr th:only-of-type {\n",
       "        vertical-align: middle;\n",
       "    }\n",
       "\n",
       "    .dataframe tbody tr th {\n",
       "        vertical-align: top;\n",
       "    }\n",
       "\n",
       "    .dataframe thead th {\n",
       "        text-align: right;\n",
       "    }\n",
       "</style>\n",
       "<table border=\"1\" class=\"dataframe\">\n",
       "  <thead>\n",
       "    <tr style=\"text-align: right;\">\n",
       "      <th></th>\n",
       "      <th>artists</th>\n",
       "      <th>id_x</th>\n",
       "      <th>name_x</th>\n",
       "      <th>genres</th>\n",
       "      <th>id_y</th>\n",
       "      <th>name_y</th>\n",
       "    </tr>\n",
       "  </thead>\n",
       "  <tbody>\n",
       "    <tr>\n",
       "      <th>0</th>\n",
       "      <td>7vtSUU3zpHeYJfX6BPNrJd</td>\n",
       "      <td>2uatFg68ynGEapEel9ASuK</td>\n",
       "      <td>Fool's Gold</td>\n",
       "      <td>[indie pop, modern rock, nashville indie]</td>\n",
       "      <td>7vtSUU3zpHeYJfX6BPNrJd</td>\n",
       "      <td>Briston Maroney</td>\n",
       "    </tr>\n",
       "    <tr>\n",
       "      <th>1</th>\n",
       "      <td>1GmsPCcpKgF9OhlNXjOsbS</td>\n",
       "      <td>53taBvemC88CMHP2I1xAFX</td>\n",
       "      <td>Means Something</td>\n",
       "      <td>[boston folk, indie pop, pop]</td>\n",
       "      <td>1GmsPCcpKgF9OhlNXjOsbS</td>\n",
       "      <td>Lizzy McAlpine</td>\n",
       "    </tr>\n",
       "    <tr>\n",
       "      <th>2</th>\n",
       "      <td>1GmsPCcpKgF9OhlNXjOsbS</td>\n",
       "      <td>53taBvemC88CMHP2I1xAFX</td>\n",
       "      <td>Means Something</td>\n",
       "      <td>[boston folk, indie pop, pop]</td>\n",
       "      <td>1GmsPCcpKgF9OhlNXjOsbS</td>\n",
       "      <td>Lizzy McAlpine</td>\n",
       "    </tr>\n",
       "    <tr>\n",
       "      <th>3</th>\n",
       "      <td>1GmsPCcpKgF9OhlNXjOsbS</td>\n",
       "      <td>53taBvemC88CMHP2I1xAFX</td>\n",
       "      <td>Means Something</td>\n",
       "      <td>[boston folk, indie pop, pop]</td>\n",
       "      <td>1GmsPCcpKgF9OhlNXjOsbS</td>\n",
       "      <td>Lizzy McAlpine</td>\n",
       "    </tr>\n",
       "    <tr>\n",
       "      <th>4</th>\n",
       "      <td>0wyMPXGfOuQzNR54ujR9Ix</td>\n",
       "      <td>7sgNQ34g23PpgpfAAuxMPy</td>\n",
       "      <td>Light</td>\n",
       "      <td>[indie folk, stomp and holler]</td>\n",
       "      <td>0wyMPXGfOuQzNR54ujR9Ix</td>\n",
       "      <td>Caamp</td>\n",
       "    </tr>\n",
       "  </tbody>\n",
       "</table>\n",
       "</div>"
      ],
      "text/plain": [
       "                  artists                    id_x           name_x  \\\n",
       "0  7vtSUU3zpHeYJfX6BPNrJd  2uatFg68ynGEapEel9ASuK      Fool's Gold   \n",
       "1  1GmsPCcpKgF9OhlNXjOsbS  53taBvemC88CMHP2I1xAFX  Means Something   \n",
       "2  1GmsPCcpKgF9OhlNXjOsbS  53taBvemC88CMHP2I1xAFX  Means Something   \n",
       "3  1GmsPCcpKgF9OhlNXjOsbS  53taBvemC88CMHP2I1xAFX  Means Something   \n",
       "4  0wyMPXGfOuQzNR54ujR9Ix  7sgNQ34g23PpgpfAAuxMPy            Light   \n",
       "\n",
       "                                      genres                    id_y  \\\n",
       "0  [indie pop, modern rock, nashville indie]  7vtSUU3zpHeYJfX6BPNrJd   \n",
       "1              [boston folk, indie pop, pop]  1GmsPCcpKgF9OhlNXjOsbS   \n",
       "2              [boston folk, indie pop, pop]  1GmsPCcpKgF9OhlNXjOsbS   \n",
       "3              [boston folk, indie pop, pop]  1GmsPCcpKgF9OhlNXjOsbS   \n",
       "4             [indie folk, stomp and holler]  0wyMPXGfOuQzNR54ujR9Ix   \n",
       "\n",
       "            name_y  \n",
       "0  Briston Maroney  \n",
       "1   Lizzy McAlpine  \n",
       "2   Lizzy McAlpine  \n",
       "3   Lizzy McAlpine  \n",
       "4            Caamp  "
      ]
     },
     "execution_count": 155,
     "metadata": {},
     "output_type": "execute_result"
    }
   ],
   "source": [
    "fall_2022_final_df.head()"
   ]
  },
  {
   "cell_type": "code",
   "execution_count": 157,
   "id": "18bebdd9",
   "metadata": {},
   "outputs": [],
   "source": [
    "fall_2022_final = fall_2022_final_df.drop(['artists', 'id_x', 'id_y'], axis = 1)"
   ]
  },
  {
   "cell_type": "code",
   "execution_count": 158,
   "id": "2bdabb4a",
   "metadata": {},
   "outputs": [
    {
     "data": {
      "text/html": [
       "<div>\n",
       "<style scoped>\n",
       "    .dataframe tbody tr th:only-of-type {\n",
       "        vertical-align: middle;\n",
       "    }\n",
       "\n",
       "    .dataframe tbody tr th {\n",
       "        vertical-align: top;\n",
       "    }\n",
       "\n",
       "    .dataframe thead th {\n",
       "        text-align: right;\n",
       "    }\n",
       "</style>\n",
       "<table border=\"1\" class=\"dataframe\">\n",
       "  <thead>\n",
       "    <tr style=\"text-align: right;\">\n",
       "      <th></th>\n",
       "      <th>name_x</th>\n",
       "      <th>genres</th>\n",
       "      <th>name_y</th>\n",
       "    </tr>\n",
       "  </thead>\n",
       "  <tbody>\n",
       "    <tr>\n",
       "      <th>0</th>\n",
       "      <td>Fool's Gold</td>\n",
       "      <td>[indie pop, modern rock, nashville indie]</td>\n",
       "      <td>Briston Maroney</td>\n",
       "    </tr>\n",
       "    <tr>\n",
       "      <th>1</th>\n",
       "      <td>Means Something</td>\n",
       "      <td>[boston folk, indie pop, pop]</td>\n",
       "      <td>Lizzy McAlpine</td>\n",
       "    </tr>\n",
       "    <tr>\n",
       "      <th>2</th>\n",
       "      <td>Means Something</td>\n",
       "      <td>[boston folk, indie pop, pop]</td>\n",
       "      <td>Lizzy McAlpine</td>\n",
       "    </tr>\n",
       "    <tr>\n",
       "      <th>3</th>\n",
       "      <td>Means Something</td>\n",
       "      <td>[boston folk, indie pop, pop]</td>\n",
       "      <td>Lizzy McAlpine</td>\n",
       "    </tr>\n",
       "    <tr>\n",
       "      <th>4</th>\n",
       "      <td>Light</td>\n",
       "      <td>[indie folk, stomp and holler]</td>\n",
       "      <td>Caamp</td>\n",
       "    </tr>\n",
       "  </tbody>\n",
       "</table>\n",
       "</div>"
      ],
      "text/plain": [
       "            name_x                                     genres           name_y\n",
       "0      Fool's Gold  [indie pop, modern rock, nashville indie]  Briston Maroney\n",
       "1  Means Something              [boston folk, indie pop, pop]   Lizzy McAlpine\n",
       "2  Means Something              [boston folk, indie pop, pop]   Lizzy McAlpine\n",
       "3  Means Something              [boston folk, indie pop, pop]   Lizzy McAlpine\n",
       "4            Light             [indie folk, stomp and holler]            Caamp"
      ]
     },
     "execution_count": 158,
     "metadata": {},
     "output_type": "execute_result"
    }
   ],
   "source": [
    "fall_2022_final.head()"
   ]
  },
  {
   "cell_type": "code",
   "execution_count": 159,
   "id": "2578654f",
   "metadata": {},
   "outputs": [],
   "source": [
    "fall_2022_df = fall_2022_final.rename(columns={'name_x': 'song title', 'name_y': 'artist'})"
   ]
  },
  {
   "cell_type": "code",
   "execution_count": 160,
   "id": "ec5b977a",
   "metadata": {},
   "outputs": [
    {
     "data": {
      "text/html": [
       "<div>\n",
       "<style scoped>\n",
       "    .dataframe tbody tr th:only-of-type {\n",
       "        vertical-align: middle;\n",
       "    }\n",
       "\n",
       "    .dataframe tbody tr th {\n",
       "        vertical-align: top;\n",
       "    }\n",
       "\n",
       "    .dataframe thead th {\n",
       "        text-align: right;\n",
       "    }\n",
       "</style>\n",
       "<table border=\"1\" class=\"dataframe\">\n",
       "  <thead>\n",
       "    <tr style=\"text-align: right;\">\n",
       "      <th></th>\n",
       "      <th>song title</th>\n",
       "      <th>genres</th>\n",
       "      <th>artist</th>\n",
       "    </tr>\n",
       "  </thead>\n",
       "  <tbody>\n",
       "    <tr>\n",
       "      <th>0</th>\n",
       "      <td>Fool's Gold</td>\n",
       "      <td>[indie pop, modern rock, nashville indie]</td>\n",
       "      <td>Briston Maroney</td>\n",
       "    </tr>\n",
       "    <tr>\n",
       "      <th>1</th>\n",
       "      <td>Means Something</td>\n",
       "      <td>[boston folk, indie pop, pop]</td>\n",
       "      <td>Lizzy McAlpine</td>\n",
       "    </tr>\n",
       "    <tr>\n",
       "      <th>2</th>\n",
       "      <td>Means Something</td>\n",
       "      <td>[boston folk, indie pop, pop]</td>\n",
       "      <td>Lizzy McAlpine</td>\n",
       "    </tr>\n",
       "    <tr>\n",
       "      <th>3</th>\n",
       "      <td>Means Something</td>\n",
       "      <td>[boston folk, indie pop, pop]</td>\n",
       "      <td>Lizzy McAlpine</td>\n",
       "    </tr>\n",
       "    <tr>\n",
       "      <th>4</th>\n",
       "      <td>Light</td>\n",
       "      <td>[indie folk, stomp and holler]</td>\n",
       "      <td>Caamp</td>\n",
       "    </tr>\n",
       "  </tbody>\n",
       "</table>\n",
       "</div>"
      ],
      "text/plain": [
       "        song title                                     genres           artist\n",
       "0      Fool's Gold  [indie pop, modern rock, nashville indie]  Briston Maroney\n",
       "1  Means Something              [boston folk, indie pop, pop]   Lizzy McAlpine\n",
       "2  Means Something              [boston folk, indie pop, pop]   Lizzy McAlpine\n",
       "3  Means Something              [boston folk, indie pop, pop]   Lizzy McAlpine\n",
       "4            Light             [indie folk, stomp and holler]            Caamp"
      ]
     },
     "execution_count": 160,
     "metadata": {},
     "output_type": "execute_result"
    }
   ],
   "source": [
    "fall_2022_df.head()"
   ]
  },
  {
   "cell_type": "code",
   "execution_count": 167,
   "id": "93a02996",
   "metadata": {},
   "outputs": [],
   "source": [
    "fall_2022_df.to_csv('fall_2022.csv')"
   ]
  },
  {
   "cell_type": "markdown",
   "id": "323b5345",
   "metadata": {},
   "source": [
    "### Summer 2022 Playlist Data Collection ###"
   ]
  },
  {
   "cell_type": "code",
   "execution_count": 49,
   "id": "c87562dd",
   "metadata": {},
   "outputs": [],
   "source": [
    "summer_2022_id = '3nN2wUvLsk6JNvaBdUAFpP'"
   ]
  },
  {
   "cell_type": "code",
   "execution_count": 50,
   "id": "625f0b06",
   "metadata": {},
   "outputs": [],
   "source": [
    "playlist_tracks_endpoint = \"https://api.spotify.com/v1/playlists/{}/tracks\".format(summer_2022_id)"
   ]
  },
  {
   "cell_type": "code",
   "execution_count": 51,
   "id": "ad820a5c",
   "metadata": {},
   "outputs": [],
   "source": [
    "summer_2022_tracks = requests.get(playlist_tracks_endpoint, headers = session_header)"
   ]
  },
  {
   "cell_type": "code",
   "execution_count": 52,
   "id": "21435592",
   "metadata": {},
   "outputs": [
    {
     "data": {
      "text/plain": [
       "200"
      ]
     },
     "execution_count": 52,
     "metadata": {},
     "output_type": "execute_result"
    }
   ],
   "source": [
    "summer_2022_tracks.status_code"
   ]
  },
  {
   "cell_type": "code",
   "execution_count": 53,
   "id": "f96d8cd5",
   "metadata": {},
   "outputs": [],
   "source": [
    "summer_2022_dict = json.loads(summer_2022_tracks.text)"
   ]
  },
  {
   "cell_type": "code",
   "execution_count": 54,
   "id": "6859d193",
   "metadata": {},
   "outputs": [
    {
     "data": {
      "text/plain": [
       "dict_keys(['href', 'items', 'limit', 'next', 'offset', 'previous', 'total'])"
      ]
     },
     "execution_count": 54,
     "metadata": {},
     "output_type": "execute_result"
    }
   ],
   "source": [
    "summer_2022_dict.keys()"
   ]
  },
  {
   "cell_type": "code",
   "execution_count": 55,
   "id": "f53a58cc",
   "metadata": {},
   "outputs": [
    {
     "data": {
      "text/plain": [
       "dict_keys(['added_at', 'added_by', 'is_local', 'primary_color', 'track', 'video_thumbnail'])"
      ]
     },
     "execution_count": 55,
     "metadata": {},
     "output_type": "execute_result"
    }
   ],
   "source": [
    "summer_2022_dict['items'][0].keys()"
   ]
  },
  {
   "cell_type": "code",
   "execution_count": 56,
   "id": "69b03888",
   "metadata": {},
   "outputs": [
    {
     "data": {
      "text/plain": [
       "'2ZWlPOoWh0626oTaHrnl2a'"
      ]
     },
     "execution_count": 56,
     "metadata": {},
     "output_type": "execute_result"
    }
   ],
   "source": [
    "summer_2022_dict['items'][0]['track']['id']"
   ]
  },
  {
   "cell_type": "code",
   "execution_count": 57,
   "id": "d6798d8a",
   "metadata": {},
   "outputs": [],
   "source": [
    "summer_2022_track_ids = [x['track']['id'] for x in summer_2022_dict['items']]"
   ]
  },
  {
   "cell_type": "code",
   "execution_count": null,
   "id": "2a8a1216",
   "metadata": {
    "scrolled": true
   },
   "outputs": [],
   "source": [
    "summer_2022_track_ids"
   ]
  },
  {
   "cell_type": "code",
   "execution_count": 59,
   "id": "2920c8d9",
   "metadata": {},
   "outputs": [],
   "source": [
    "summer_2022_track_strings = ','.join(str(x) for x in summer_2022_track_ids)"
   ]
  },
  {
   "cell_type": "code",
   "execution_count": 60,
   "id": "7823493a",
   "metadata": {},
   "outputs": [
    {
     "data": {
      "text/plain": [
       "'2ZWlPOoWh0626oTaHrnl2a,2KHS3nIZrcWYM5txO4uM9N,3y7rwNtVmSo0dN5mhvv2dg,5Iq9CfQQSqeU7sPzdACC67,7b7wO3Je7i2HhyipNhcs1u,5q4BpnMrYEFzLO0dYODj6J,2uatFg68ynGEapEel9ASuK,6TT7B4MigCJCc0tqKYEpZC,0Oqc0kKFsQ6MhFOLBNZIGX,0mO6oS60RST2sWmN2FKknP,52ojopYMUzeNcudsoz7O9D,0JaVdpmiex2EP7bBzyKVTa,5exEU6LbxN4T4sY1nV5NfV,4QhWbupniDd44EDtnh2bFJ,7vRfxLcDDwgYW2WTrtEgUV,6K4t31amVTZDgR3sKmwUJJ,5bJ1DrEM4hNCafcDd1oxHx,0mCVNGC4Vvb6gDDQrDpaRh,524wvipGqxPKYWxkjf9y46,3i058E8uxTsYqJ5NWZzqSj,0g0sBPiXWelqPXS94iK4GU,5GUYJTQap5F3RDQiCOJhrS,32PhQGVwurZaoJrCvrh0nl,1WmEhKIzErn1aZNFf2m4FU,5ItZV96L6vLaicagdCUOTv,7Hxv4S989OEWkmq4QyhZLF,1EgLBP2HQsYf9Eh4bmQfWb,2NcQic8JxdjAlAHuNbOIRE,4sNG6zQBmtq7M8aeeKJRMQ,527hCrRlmminMcon8EaPGB,0BLY78hYpsH9NqP6X0N8CX,735rjks7kQgWCjTQlIHMuH,5xKvxwXINUs2dsyvDJ8Gjs,3QLjDkgLh9AOEHlhQtDuhs,7DrzZN5jaDyE0a0tVuVWnj,0YMe6PHRbeDcN7KJdCG0bW,0O3TAouZE4vL9dM5SyxgvH,1xLs8Mu1QEVbGCpyHQ2r2U,1h9cnXG82LBUy9l1FnYPCA,2F9DCIJ7ZXHhNkiIlIIOkw,7LigIDzs63Y4uFlZvNzCZq,6K8VQ84MqhsoakN5MjrnVR,3jS7bB0oXVOwGFZn3aE5NV,5YFIbauvzRGfW7xktVjR0I,7ARveOiD31w2Nq0n5FsSf8,38YclYWc3cxYdHoYxZ79jN,05iiUswjL7bPTeAcOfcIGR,1mw0RgNXIpYRyyCdBQbLgA'"
      ]
     },
     "execution_count": 60,
     "metadata": {},
     "output_type": "execute_result"
    }
   ],
   "source": [
    "summer_2022_track_strings"
   ]
  },
  {
   "cell_type": "code",
   "execution_count": 61,
   "id": "b13e5290",
   "metadata": {},
   "outputs": [],
   "source": [
    "track_endpoint = \"https://api.spotify.com/v1/tracks?ids={}\".format(summer_2022_track_strings)"
   ]
  },
  {
   "cell_type": "code",
   "execution_count": 62,
   "id": "9a1cea06",
   "metadata": {},
   "outputs": [],
   "source": [
    "summer_2022_tracks_info = requests.get(track_endpoint, headers = session_header)"
   ]
  },
  {
   "cell_type": "code",
   "execution_count": 63,
   "id": "947e1bbd",
   "metadata": {},
   "outputs": [
    {
     "data": {
      "text/plain": [
       "200"
      ]
     },
     "execution_count": 63,
     "metadata": {},
     "output_type": "execute_result"
    }
   ],
   "source": [
    "summer_2022_tracks_info.status_code"
   ]
  },
  {
   "cell_type": "code",
   "execution_count": 64,
   "id": "fb4933a0",
   "metadata": {},
   "outputs": [],
   "source": [
    "summer_2022_dict = json.loads(summer_2022_tracks_info.text)"
   ]
  },
  {
   "cell_type": "code",
   "execution_count": 65,
   "id": "2584d65c",
   "metadata": {},
   "outputs": [
    {
     "data": {
      "text/plain": [
       "dict_keys(['tracks'])"
      ]
     },
     "execution_count": 65,
     "metadata": {},
     "output_type": "execute_result"
    }
   ],
   "source": [
    "summer_2022_dict.keys()"
   ]
  },
  {
   "cell_type": "code",
   "execution_count": 66,
   "id": "eeaf8677",
   "metadata": {},
   "outputs": [],
   "source": [
    "summer_2022_tracks_df = pd.DataFrame(summer_2022_dict['tracks'])"
   ]
  },
  {
   "cell_type": "code",
   "execution_count": 103,
   "id": "a3ebc06f",
   "metadata": {},
   "outputs": [
    {
     "data": {
      "text/html": [
       "<div>\n",
       "<style scoped>\n",
       "    .dataframe tbody tr th:only-of-type {\n",
       "        vertical-align: middle;\n",
       "    }\n",
       "\n",
       "    .dataframe tbody tr th {\n",
       "        vertical-align: top;\n",
       "    }\n",
       "\n",
       "    .dataframe thead th {\n",
       "        text-align: right;\n",
       "    }\n",
       "</style>\n",
       "<table border=\"1\" class=\"dataframe\">\n",
       "  <thead>\n",
       "    <tr style=\"text-align: right;\">\n",
       "      <th></th>\n",
       "      <th>album</th>\n",
       "      <th>artists</th>\n",
       "      <th>available_markets</th>\n",
       "      <th>disc_number</th>\n",
       "      <th>duration_ms</th>\n",
       "      <th>explicit</th>\n",
       "      <th>external_ids</th>\n",
       "      <th>external_urls</th>\n",
       "      <th>href</th>\n",
       "      <th>id</th>\n",
       "      <th>is_local</th>\n",
       "      <th>name</th>\n",
       "      <th>popularity</th>\n",
       "      <th>preview_url</th>\n",
       "      <th>track_number</th>\n",
       "      <th>type</th>\n",
       "      <th>uri</th>\n",
       "    </tr>\n",
       "  </thead>\n",
       "  <tbody>\n",
       "    <tr>\n",
       "      <th>0</th>\n",
       "      <td>{'album_type': 'album', 'artists': [{'external...</td>\n",
       "      <td>2h93pZq0e7k5yf4dywlkpM</td>\n",
       "      <td>[AD, AE, AG, AL, AM, AO, AR, AT, AU, AZ, BA, B...</td>\n",
       "      <td>1</td>\n",
       "      <td>249191</td>\n",
       "      <td>True</td>\n",
       "      <td>{'isrc': 'QZ5C81600002'}</td>\n",
       "      <td>{'spotify': 'https://open.spotify.com/track/2Z...</td>\n",
       "      <td>https://api.spotify.com/v1/tracks/2ZWlPOoWh062...</td>\n",
       "      <td>2ZWlPOoWh0626oTaHrnl2a</td>\n",
       "      <td>False</td>\n",
       "      <td>Ivy</td>\n",
       "      <td>80</td>\n",
       "      <td>https://p.scdn.co/mp3-preview/45f1db448547c589...</td>\n",
       "      <td>2</td>\n",
       "      <td>track</td>\n",
       "      <td>spotify:track:2ZWlPOoWh0626oTaHrnl2a</td>\n",
       "    </tr>\n",
       "  </tbody>\n",
       "</table>\n",
       "</div>"
      ],
      "text/plain": [
       "                                               album                 artists  \\\n",
       "0  {'album_type': 'album', 'artists': [{'external...  2h93pZq0e7k5yf4dywlkpM   \n",
       "\n",
       "                                   available_markets  disc_number  \\\n",
       "0  [AD, AE, AG, AL, AM, AO, AR, AT, AU, AZ, BA, B...            1   \n",
       "\n",
       "   duration_ms  explicit              external_ids  \\\n",
       "0       249191      True  {'isrc': 'QZ5C81600002'}   \n",
       "\n",
       "                                       external_urls  \\\n",
       "0  {'spotify': 'https://open.spotify.com/track/2Z...   \n",
       "\n",
       "                                                href                      id  \\\n",
       "0  https://api.spotify.com/v1/tracks/2ZWlPOoWh062...  2ZWlPOoWh0626oTaHrnl2a   \n",
       "\n",
       "   is_local name  popularity  \\\n",
       "0     False  Ivy          80   \n",
       "\n",
       "                                         preview_url  track_number   type  \\\n",
       "0  https://p.scdn.co/mp3-preview/45f1db448547c589...             2  track   \n",
       "\n",
       "                                    uri  \n",
       "0  spotify:track:2ZWlPOoWh0626oTaHrnl2a  "
      ]
     },
     "execution_count": 103,
     "metadata": {},
     "output_type": "execute_result"
    }
   ],
   "source": [
    "summer_2022_tracks_df.head(1)"
   ]
  },
  {
   "cell_type": "code",
   "execution_count": 128,
   "id": "8f8b73f5",
   "metadata": {},
   "outputs": [
    {
     "data": {
      "text/plain": [
       "dict_keys(['artists'])"
      ]
     },
     "execution_count": 128,
     "metadata": {},
     "output_type": "execute_result"
    }
   ],
   "source": [
    "summer_2022_dict.keys()"
   ]
  },
  {
   "cell_type": "code",
   "execution_count": 68,
   "id": "b561607f",
   "metadata": {},
   "outputs": [
    {
     "data": {
      "text/plain": [
       "[{'external_urls': {'spotify': 'https://open.spotify.com/artist/2h93pZq0e7k5yf4dywlkpM'},\n",
       "  'href': 'https://api.spotify.com/v1/artists/2h93pZq0e7k5yf4dywlkpM',\n",
       "  'id': '2h93pZq0e7k5yf4dywlkpM',\n",
       "  'name': 'Frank Ocean',\n",
       "  'type': 'artist',\n",
       "  'uri': 'spotify:artist:2h93pZq0e7k5yf4dywlkpM'}]"
      ]
     },
     "execution_count": 68,
     "metadata": {},
     "output_type": "execute_result"
    }
   ],
   "source": [
    "summer_2022_tracks_df['artists'][0]"
   ]
  },
  {
   "cell_type": "code",
   "execution_count": 69,
   "id": "de3d2e3d",
   "metadata": {},
   "outputs": [
    {
     "data": {
      "text/plain": [
       "'2h93pZq0e7k5yf4dywlkpM'"
      ]
     },
     "execution_count": 69,
     "metadata": {},
     "output_type": "execute_result"
    }
   ],
   "source": [
    "summer_2022_tracks_df['artists'][0][0]['id']"
   ]
  },
  {
   "cell_type": "code",
   "execution_count": 70,
   "id": "f6a9296c",
   "metadata": {},
   "outputs": [],
   "source": [
    "summer_2022_artist_id = [x[0]['id'] for x in summer_2022_tracks_df['artists']]"
   ]
  },
  {
   "cell_type": "code",
   "execution_count": null,
   "id": "d233de96",
   "metadata": {
    "scrolled": false
   },
   "outputs": [],
   "source": [
    "summer_2022_artist_id"
   ]
  },
  {
   "cell_type": "code",
   "execution_count": 72,
   "id": "aa1d22d4",
   "metadata": {},
   "outputs": [],
   "source": [
    "summer_2022_tracks_df['artists'] = summer_2022_artist_id"
   ]
  },
  {
   "cell_type": "code",
   "execution_count": 102,
   "id": "dae650e9",
   "metadata": {
    "scrolled": true
   },
   "outputs": [
    {
     "data": {
      "text/html": [
       "<div>\n",
       "<style scoped>\n",
       "    .dataframe tbody tr th:only-of-type {\n",
       "        vertical-align: middle;\n",
       "    }\n",
       "\n",
       "    .dataframe tbody tr th {\n",
       "        vertical-align: top;\n",
       "    }\n",
       "\n",
       "    .dataframe thead th {\n",
       "        text-align: right;\n",
       "    }\n",
       "</style>\n",
       "<table border=\"1\" class=\"dataframe\">\n",
       "  <thead>\n",
       "    <tr style=\"text-align: right;\">\n",
       "      <th></th>\n",
       "      <th>album</th>\n",
       "      <th>artists</th>\n",
       "      <th>available_markets</th>\n",
       "      <th>disc_number</th>\n",
       "      <th>duration_ms</th>\n",
       "      <th>explicit</th>\n",
       "      <th>external_ids</th>\n",
       "      <th>external_urls</th>\n",
       "      <th>href</th>\n",
       "      <th>id</th>\n",
       "      <th>is_local</th>\n",
       "      <th>name</th>\n",
       "      <th>popularity</th>\n",
       "      <th>preview_url</th>\n",
       "      <th>track_number</th>\n",
       "      <th>type</th>\n",
       "      <th>uri</th>\n",
       "    </tr>\n",
       "  </thead>\n",
       "  <tbody>\n",
       "    <tr>\n",
       "      <th>0</th>\n",
       "      <td>{'album_type': 'album', 'artists': [{'external...</td>\n",
       "      <td>2h93pZq0e7k5yf4dywlkpM</td>\n",
       "      <td>[AD, AE, AG, AL, AM, AO, AR, AT, AU, AZ, BA, B...</td>\n",
       "      <td>1</td>\n",
       "      <td>249191</td>\n",
       "      <td>True</td>\n",
       "      <td>{'isrc': 'QZ5C81600002'}</td>\n",
       "      <td>{'spotify': 'https://open.spotify.com/track/2Z...</td>\n",
       "      <td>https://api.spotify.com/v1/tracks/2ZWlPOoWh062...</td>\n",
       "      <td>2ZWlPOoWh0626oTaHrnl2a</td>\n",
       "      <td>False</td>\n",
       "      <td>Ivy</td>\n",
       "      <td>80</td>\n",
       "      <td>https://p.scdn.co/mp3-preview/45f1db448547c589...</td>\n",
       "      <td>2</td>\n",
       "      <td>track</td>\n",
       "      <td>spotify:track:2ZWlPOoWh0626oTaHrnl2a</td>\n",
       "    </tr>\n",
       "  </tbody>\n",
       "</table>\n",
       "</div>"
      ],
      "text/plain": [
       "                                               album                 artists  \\\n",
       "0  {'album_type': 'album', 'artists': [{'external...  2h93pZq0e7k5yf4dywlkpM   \n",
       "\n",
       "                                   available_markets  disc_number  \\\n",
       "0  [AD, AE, AG, AL, AM, AO, AR, AT, AU, AZ, BA, B...            1   \n",
       "\n",
       "   duration_ms  explicit              external_ids  \\\n",
       "0       249191      True  {'isrc': 'QZ5C81600002'}   \n",
       "\n",
       "                                       external_urls  \\\n",
       "0  {'spotify': 'https://open.spotify.com/track/2Z...   \n",
       "\n",
       "                                                href                      id  \\\n",
       "0  https://api.spotify.com/v1/tracks/2ZWlPOoWh062...  2ZWlPOoWh0626oTaHrnl2a   \n",
       "\n",
       "   is_local name  popularity  \\\n",
       "0     False  Ivy          80   \n",
       "\n",
       "                                         preview_url  track_number   type  \\\n",
       "0  https://p.scdn.co/mp3-preview/45f1db448547c589...             2  track   \n",
       "\n",
       "                                    uri  \n",
       "0  spotify:track:2ZWlPOoWh0626oTaHrnl2a  "
      ]
     },
     "execution_count": 102,
     "metadata": {},
     "output_type": "execute_result"
    }
   ],
   "source": [
    "summer_2022_tracks_df.head(1)"
   ]
  },
  {
   "cell_type": "code",
   "execution_count": 117,
   "id": "9379e548",
   "metadata": {},
   "outputs": [],
   "source": [
    "summer_2022_tracks = summer_2022_tracks_df.drop(['album', 'available_markets', 'disc_number', 'duration_ms', 'explicit', 'external_ids', 'external_urls', 'href', 'is_local', 'popularity', 'preview_url', 'track_number', 'type', 'uri'], axis = 1)"
   ]
  },
  {
   "cell_type": "code",
   "execution_count": 145,
   "id": "9ff1ef64",
   "metadata": {},
   "outputs": [
    {
     "data": {
      "text/html": [
       "<div>\n",
       "<style scoped>\n",
       "    .dataframe tbody tr th:only-of-type {\n",
       "        vertical-align: middle;\n",
       "    }\n",
       "\n",
       "    .dataframe tbody tr th {\n",
       "        vertical-align: top;\n",
       "    }\n",
       "\n",
       "    .dataframe thead th {\n",
       "        text-align: right;\n",
       "    }\n",
       "</style>\n",
       "<table border=\"1\" class=\"dataframe\">\n",
       "  <thead>\n",
       "    <tr style=\"text-align: right;\">\n",
       "      <th></th>\n",
       "      <th>artists</th>\n",
       "      <th>id</th>\n",
       "      <th>name</th>\n",
       "    </tr>\n",
       "  </thead>\n",
       "  <tbody>\n",
       "    <tr>\n",
       "      <th>0</th>\n",
       "      <td>2h93pZq0e7k5yf4dywlkpM</td>\n",
       "      <td>2ZWlPOoWh0626oTaHrnl2a</td>\n",
       "      <td>Ivy</td>\n",
       "    </tr>\n",
       "    <tr>\n",
       "      <th>1</th>\n",
       "      <td>4e9vQfyvvDlcQAkjSdFE4x</td>\n",
       "      <td>2KHS3nIZrcWYM5txO4uM9N</td>\n",
       "      <td>Generous Heart</td>\n",
       "    </tr>\n",
       "    <tr>\n",
       "      <th>2</th>\n",
       "      <td>1moxjboGR7GNWYIMWsRjgG</td>\n",
       "      <td>3y7rwNtVmSo0dN5mhvv2dg</td>\n",
       "      <td>King</td>\n",
       "    </tr>\n",
       "    <tr>\n",
       "      <th>3</th>\n",
       "      <td>7jZycSvTyx0W9poD4PjEIG</td>\n",
       "      <td>5Iq9CfQQSqeU7sPzdACC67</td>\n",
       "      <td>She's Casual</td>\n",
       "    </tr>\n",
       "    <tr>\n",
       "      <th>4</th>\n",
       "      <td>0nnYdIpahs41QiZ9MWp5Wx</td>\n",
       "      <td>7b7wO3Je7i2HhyipNhcs1u</td>\n",
       "      <td>The Walls Are Way Too Thin</td>\n",
       "    </tr>\n",
       "  </tbody>\n",
       "</table>\n",
       "</div>"
      ],
      "text/plain": [
       "                  artists                      id                        name\n",
       "0  2h93pZq0e7k5yf4dywlkpM  2ZWlPOoWh0626oTaHrnl2a                         Ivy\n",
       "1  4e9vQfyvvDlcQAkjSdFE4x  2KHS3nIZrcWYM5txO4uM9N              Generous Heart\n",
       "2  1moxjboGR7GNWYIMWsRjgG  3y7rwNtVmSo0dN5mhvv2dg                        King\n",
       "3  7jZycSvTyx0W9poD4PjEIG  5Iq9CfQQSqeU7sPzdACC67                She's Casual\n",
       "4  0nnYdIpahs41QiZ9MWp5Wx  7b7wO3Je7i2HhyipNhcs1u  The Walls Are Way Too Thin"
      ]
     },
     "execution_count": 145,
     "metadata": {},
     "output_type": "execute_result"
    }
   ],
   "source": [
    "summer_2022_tracks.head()"
   ]
  },
  {
   "cell_type": "code",
   "execution_count": 74,
   "id": "61df2629",
   "metadata": {},
   "outputs": [],
   "source": [
    "summer_2022_artist_strings = ','.join(str(x) for x in summer_2022_artist_id)"
   ]
  },
  {
   "cell_type": "code",
   "execution_count": 75,
   "id": "4022a32c",
   "metadata": {},
   "outputs": [
    {
     "data": {
      "text/plain": [
       "'2h93pZq0e7k5yf4dywlkpM,4e9vQfyvvDlcQAkjSdFE4x,1moxjboGR7GNWYIMWsRjgG,7jZycSvTyx0W9poD4PjEIG,0nnYdIpahs41QiZ9MWp5Wx,163tK9Wjr9P9DmM0AVK7lm,7vtSUU3zpHeYJfX6BPNrJd,5GGJosGMs08YEmKTZJe1fL,00FQb4jTyendYWaN8pK0wa,5INjqkS1o8h1imAzPqGZBb,5INjqkS1o8h1imAzPqGZBb,3TVXtAsR1Inumwj472S9r4,1U1el3k54VvEUzo3ybLPlM,2h93pZq0e7k5yf4dywlkpM,00FQb4jTyendYWaN8pK0wa,5INjqkS1o8h1imAzPqGZBb,4LLpKhyESsyAXpc4laK94U,73sIBHcqh3Z3NyqHKZ7FOL,3TVXtAsR1Inumwj472S9r4,6KImCVD70vtIoJWnq6nGn3,4e9vQfyvvDlcQAkjSdFE4x,2h93pZq0e7k5yf4dywlkpM,0W8xe7IqAPlnBRMUpWOUuJ,5GGJosGMs08YEmKTZJe1fL,7jZycSvTyx0W9poD4PjEIG,1moxjboGR7GNWYIMWsRjgG,1moxjboGR7GNWYIMWsRjgG,6KImCVD70vtIoJWnq6nGn3,2D4FOOOtWycb3Aw9nY5n3c,67WNUxmM7y4WzHPAVzBu3E,6xdRb2GypJ7DqnWAI2mHGn,6ogn9necmbUdCppmNnGOdi,415rtLOb1FDKZAxo1IJ1hW,3TVXtAsR1Inumwj472S9r4,4aEuFytRb43SAgjchJDk5e,0knGpCTbmG4ctl1wzYRZs4,13ubrt8QOOCPljQ2FL1Kca,6USv9qhCn6zfxlBQIYJ9qs,5DPoUW5HGgfsoAelpybURt,4wrzxtBZw20ufDstKyTnnP,67WNUxmM7y4WzHPAVzBu3E,163tK9Wjr9P9DmM0AVK7lm,6ogn9necmbUdCppmNnGOdi,6ogn9necmbUdCppmNnGOdi,163tK9Wjr9P9DmM0AVK7lm,7jZycSvTyx0W9poD4PjEIG,5GGJosGMs08YEmKTZJe1fL,6KImCVD70vtIoJWnq6nGn3'"
      ]
     },
     "execution_count": 75,
     "metadata": {},
     "output_type": "execute_result"
    }
   ],
   "source": [
    "summer_2022_artist_strings"
   ]
  },
  {
   "cell_type": "code",
   "execution_count": 76,
   "id": "e980d988",
   "metadata": {},
   "outputs": [],
   "source": [
    "artist_endpoint = \"https://api.spotify.com/v1/artists?ids={}\".format(summer_2022_artist_strings)"
   ]
  },
  {
   "cell_type": "code",
   "execution_count": 77,
   "id": "f358a240",
   "metadata": {},
   "outputs": [],
   "source": [
    "summer_2022_genre_info = requests.get(artist_endpoint, headers = session_header)"
   ]
  },
  {
   "cell_type": "code",
   "execution_count": 78,
   "id": "4a5fdf4f",
   "metadata": {},
   "outputs": [
    {
     "data": {
      "text/plain": [
       "200"
      ]
     },
     "execution_count": 78,
     "metadata": {},
     "output_type": "execute_result"
    }
   ],
   "source": [
    "summer_2022_genre_info.status_code"
   ]
  },
  {
   "cell_type": "code",
   "execution_count": 79,
   "id": "44af05ef",
   "metadata": {},
   "outputs": [],
   "source": [
    "summer_2022_dict = json.loads(summer_2022_genre_info.text)"
   ]
  },
  {
   "cell_type": "code",
   "execution_count": 80,
   "id": "3f45a1ce",
   "metadata": {},
   "outputs": [
    {
     "data": {
      "text/plain": [
       "dict_keys(['artists'])"
      ]
     },
     "execution_count": 80,
     "metadata": {},
     "output_type": "execute_result"
    }
   ],
   "source": [
    "summer_2022_dict.keys()"
   ]
  },
  {
   "cell_type": "code",
   "execution_count": 81,
   "id": "c42f8e29",
   "metadata": {},
   "outputs": [],
   "source": [
    "summer_2022_artists_df = pd.DataFrame(summer_2022_dict['artists'])"
   ]
  },
  {
   "cell_type": "code",
   "execution_count": 164,
   "id": "4bc4e6d4",
   "metadata": {},
   "outputs": [
    {
     "data": {
      "text/html": [
       "<div>\n",
       "<style scoped>\n",
       "    .dataframe tbody tr th:only-of-type {\n",
       "        vertical-align: middle;\n",
       "    }\n",
       "\n",
       "    .dataframe tbody tr th {\n",
       "        vertical-align: top;\n",
       "    }\n",
       "\n",
       "    .dataframe thead th {\n",
       "        text-align: right;\n",
       "    }\n",
       "</style>\n",
       "<table border=\"1\" class=\"dataframe\">\n",
       "  <thead>\n",
       "    <tr style=\"text-align: right;\">\n",
       "      <th></th>\n",
       "      <th>external_urls</th>\n",
       "      <th>followers</th>\n",
       "      <th>genres</th>\n",
       "      <th>href</th>\n",
       "      <th>id</th>\n",
       "      <th>images</th>\n",
       "      <th>name</th>\n",
       "      <th>popularity</th>\n",
       "      <th>type</th>\n",
       "      <th>uri</th>\n",
       "    </tr>\n",
       "  </thead>\n",
       "  <tbody>\n",
       "    <tr>\n",
       "      <th>0</th>\n",
       "      <td>{'spotify': 'https://open.spotify.com/artist/2...</td>\n",
       "      <td>{'href': None, 'total': 10303341}</td>\n",
       "      <td>[hip hop, lgbtq+ hip hop, neo soul, pop]</td>\n",
       "      <td>https://api.spotify.com/v1/artists/2h93pZq0e7k...</td>\n",
       "      <td>2h93pZq0e7k5yf4dywlkpM</td>\n",
       "      <td>[{'height': 640, 'url': 'https://i.scdn.co/ima...</td>\n",
       "      <td>Frank Ocean</td>\n",
       "      <td>83</td>\n",
       "      <td>artist</td>\n",
       "      <td>spotify:artist:2h93pZq0e7k5yf4dywlkpM</td>\n",
       "    </tr>\n",
       "  </tbody>\n",
       "</table>\n",
       "</div>"
      ],
      "text/plain": [
       "                                       external_urls  \\\n",
       "0  {'spotify': 'https://open.spotify.com/artist/2...   \n",
       "\n",
       "                           followers  \\\n",
       "0  {'href': None, 'total': 10303341}   \n",
       "\n",
       "                                     genres  \\\n",
       "0  [hip hop, lgbtq+ hip hop, neo soul, pop]   \n",
       "\n",
       "                                                href                      id  \\\n",
       "0  https://api.spotify.com/v1/artists/2h93pZq0e7k...  2h93pZq0e7k5yf4dywlkpM   \n",
       "\n",
       "                                              images         name  popularity  \\\n",
       "0  [{'height': 640, 'url': 'https://i.scdn.co/ima...  Frank Ocean          83   \n",
       "\n",
       "     type                                    uri  \n",
       "0  artist  spotify:artist:2h93pZq0e7k5yf4dywlkpM  "
      ]
     },
     "execution_count": 164,
     "metadata": {},
     "output_type": "execute_result"
    }
   ],
   "source": [
    "summer_2022_artists_df.head(1)"
   ]
  },
  {
   "cell_type": "code",
   "execution_count": 121,
   "id": "64ee1de0",
   "metadata": {},
   "outputs": [],
   "source": [
    "summer_2022_artists = summer_2022_artists_df.drop(['external_urls', 'followers', 'href', 'images', 'popularity', 'type', 'uri'], axis = 1)"
   ]
  },
  {
   "cell_type": "code",
   "execution_count": 144,
   "id": "2a2b535c",
   "metadata": {},
   "outputs": [
    {
     "data": {
      "text/html": [
       "<div>\n",
       "<style scoped>\n",
       "    .dataframe tbody tr th:only-of-type {\n",
       "        vertical-align: middle;\n",
       "    }\n",
       "\n",
       "    .dataframe tbody tr th {\n",
       "        vertical-align: top;\n",
       "    }\n",
       "\n",
       "    .dataframe thead th {\n",
       "        text-align: right;\n",
       "    }\n",
       "</style>\n",
       "<table border=\"1\" class=\"dataframe\">\n",
       "  <thead>\n",
       "    <tr style=\"text-align: right;\">\n",
       "      <th></th>\n",
       "      <th>genres</th>\n",
       "      <th>id</th>\n",
       "      <th>name</th>\n",
       "    </tr>\n",
       "  </thead>\n",
       "  <tbody>\n",
       "    <tr>\n",
       "      <th>0</th>\n",
       "      <td>[hip hop, lgbtq+ hip hop, neo soul, pop]</td>\n",
       "      <td>2h93pZq0e7k5yf4dywlkpM</td>\n",
       "      <td>Frank Ocean</td>\n",
       "    </tr>\n",
       "    <tr>\n",
       "      <th>1</th>\n",
       "      <td>[indie pop]</td>\n",
       "      <td>4e9vQfyvvDlcQAkjSdFE4x</td>\n",
       "      <td>Maya Hawke</td>\n",
       "    </tr>\n",
       "    <tr>\n",
       "      <th>2</th>\n",
       "      <td>[baroque pop, pop, uk alternative pop]</td>\n",
       "      <td>1moxjboGR7GNWYIMWsRjgG</td>\n",
       "      <td>Florence + The Machine</td>\n",
       "    </tr>\n",
       "    <tr>\n",
       "      <th>3</th>\n",
       "      <td>[english indie rock, modern alternative rock, ...</td>\n",
       "      <td>7jZycSvTyx0W9poD4PjEIG</td>\n",
       "      <td>The Hunna</td>\n",
       "    </tr>\n",
       "    <tr>\n",
       "      <th>4</th>\n",
       "      <td>[alt z, indie pop, modern alternative pop, pop...</td>\n",
       "      <td>0nnYdIpahs41QiZ9MWp5Wx</td>\n",
       "      <td>Holly Humberstone</td>\n",
       "    </tr>\n",
       "  </tbody>\n",
       "</table>\n",
       "</div>"
      ],
      "text/plain": [
       "                                              genres                      id  \\\n",
       "0           [hip hop, lgbtq+ hip hop, neo soul, pop]  2h93pZq0e7k5yf4dywlkpM   \n",
       "1                                        [indie pop]  4e9vQfyvvDlcQAkjSdFE4x   \n",
       "2             [baroque pop, pop, uk alternative pop]  1moxjboGR7GNWYIMWsRjgG   \n",
       "3  [english indie rock, modern alternative rock, ...  7jZycSvTyx0W9poD4PjEIG   \n",
       "4  [alt z, indie pop, modern alternative pop, pop...  0nnYdIpahs41QiZ9MWp5Wx   \n",
       "\n",
       "                     name  \n",
       "0             Frank Ocean  \n",
       "1              Maya Hawke  \n",
       "2  Florence + The Machine  \n",
       "3               The Hunna  \n",
       "4       Holly Humberstone  "
      ]
     },
     "execution_count": 144,
     "metadata": {},
     "output_type": "execute_result"
    }
   ],
   "source": [
    "summer_2022_artists.head()"
   ]
  },
  {
   "cell_type": "code",
   "execution_count": 165,
   "id": "3f8c46d6",
   "metadata": {},
   "outputs": [],
   "source": [
    "summer_2022_final_df = summer_2022_tracks.merge(summer_2022_artists, left_on = 'artists', right_on = 'id', how = 'left' )"
   ]
  },
  {
   "cell_type": "markdown",
   "id": "7ac09bbb",
   "metadata": {},
   "source": [
    "I'm not sure why the data frames I created have some songs listed more than once. In the interest of moving forward, I exported each as a cvs file and deleted the extra song entries from the excel file."
   ]
  },
  {
   "cell_type": "code",
   "execution_count": 166,
   "id": "bca8de99",
   "metadata": {},
   "outputs": [
    {
     "data": {
      "text/html": [
       "<div>\n",
       "<style scoped>\n",
       "    .dataframe tbody tr th:only-of-type {\n",
       "        vertical-align: middle;\n",
       "    }\n",
       "\n",
       "    .dataframe tbody tr th {\n",
       "        vertical-align: top;\n",
       "    }\n",
       "\n",
       "    .dataframe thead th {\n",
       "        text-align: right;\n",
       "    }\n",
       "</style>\n",
       "<table border=\"1\" class=\"dataframe\">\n",
       "  <thead>\n",
       "    <tr style=\"text-align: right;\">\n",
       "      <th></th>\n",
       "      <th>artists</th>\n",
       "      <th>id_x</th>\n",
       "      <th>name_x</th>\n",
       "      <th>genres</th>\n",
       "      <th>id_y</th>\n",
       "      <th>name_y</th>\n",
       "    </tr>\n",
       "  </thead>\n",
       "  <tbody>\n",
       "    <tr>\n",
       "      <th>0</th>\n",
       "      <td>2h93pZq0e7k5yf4dywlkpM</td>\n",
       "      <td>2ZWlPOoWh0626oTaHrnl2a</td>\n",
       "      <td>Ivy</td>\n",
       "      <td>[hip hop, lgbtq+ hip hop, neo soul, pop]</td>\n",
       "      <td>2h93pZq0e7k5yf4dywlkpM</td>\n",
       "      <td>Frank Ocean</td>\n",
       "    </tr>\n",
       "    <tr>\n",
       "      <th>1</th>\n",
       "      <td>2h93pZq0e7k5yf4dywlkpM</td>\n",
       "      <td>2ZWlPOoWh0626oTaHrnl2a</td>\n",
       "      <td>Ivy</td>\n",
       "      <td>[hip hop, lgbtq+ hip hop, neo soul, pop]</td>\n",
       "      <td>2h93pZq0e7k5yf4dywlkpM</td>\n",
       "      <td>Frank Ocean</td>\n",
       "    </tr>\n",
       "    <tr>\n",
       "      <th>2</th>\n",
       "      <td>2h93pZq0e7k5yf4dywlkpM</td>\n",
       "      <td>2ZWlPOoWh0626oTaHrnl2a</td>\n",
       "      <td>Ivy</td>\n",
       "      <td>[hip hop, lgbtq+ hip hop, neo soul, pop]</td>\n",
       "      <td>2h93pZq0e7k5yf4dywlkpM</td>\n",
       "      <td>Frank Ocean</td>\n",
       "    </tr>\n",
       "    <tr>\n",
       "      <th>3</th>\n",
       "      <td>4e9vQfyvvDlcQAkjSdFE4x</td>\n",
       "      <td>2KHS3nIZrcWYM5txO4uM9N</td>\n",
       "      <td>Generous Heart</td>\n",
       "      <td>[indie pop]</td>\n",
       "      <td>4e9vQfyvvDlcQAkjSdFE4x</td>\n",
       "      <td>Maya Hawke</td>\n",
       "    </tr>\n",
       "    <tr>\n",
       "      <th>4</th>\n",
       "      <td>4e9vQfyvvDlcQAkjSdFE4x</td>\n",
       "      <td>2KHS3nIZrcWYM5txO4uM9N</td>\n",
       "      <td>Generous Heart</td>\n",
       "      <td>[indie pop]</td>\n",
       "      <td>4e9vQfyvvDlcQAkjSdFE4x</td>\n",
       "      <td>Maya Hawke</td>\n",
       "    </tr>\n",
       "  </tbody>\n",
       "</table>\n",
       "</div>"
      ],
      "text/plain": [
       "                  artists                    id_x          name_x  \\\n",
       "0  2h93pZq0e7k5yf4dywlkpM  2ZWlPOoWh0626oTaHrnl2a             Ivy   \n",
       "1  2h93pZq0e7k5yf4dywlkpM  2ZWlPOoWh0626oTaHrnl2a             Ivy   \n",
       "2  2h93pZq0e7k5yf4dywlkpM  2ZWlPOoWh0626oTaHrnl2a             Ivy   \n",
       "3  4e9vQfyvvDlcQAkjSdFE4x  2KHS3nIZrcWYM5txO4uM9N  Generous Heart   \n",
       "4  4e9vQfyvvDlcQAkjSdFE4x  2KHS3nIZrcWYM5txO4uM9N  Generous Heart   \n",
       "\n",
       "                                     genres                    id_y  \\\n",
       "0  [hip hop, lgbtq+ hip hop, neo soul, pop]  2h93pZq0e7k5yf4dywlkpM   \n",
       "1  [hip hop, lgbtq+ hip hop, neo soul, pop]  2h93pZq0e7k5yf4dywlkpM   \n",
       "2  [hip hop, lgbtq+ hip hop, neo soul, pop]  2h93pZq0e7k5yf4dywlkpM   \n",
       "3                               [indie pop]  4e9vQfyvvDlcQAkjSdFE4x   \n",
       "4                               [indie pop]  4e9vQfyvvDlcQAkjSdFE4x   \n",
       "\n",
       "        name_y  \n",
       "0  Frank Ocean  \n",
       "1  Frank Ocean  \n",
       "2  Frank Ocean  \n",
       "3   Maya Hawke  \n",
       "4   Maya Hawke  "
      ]
     },
     "execution_count": 166,
     "metadata": {},
     "output_type": "execute_result"
    }
   ],
   "source": [
    "summer_2022_final_df.head()"
   ]
  },
  {
   "cell_type": "code",
   "execution_count": 136,
   "id": "88e2e68c",
   "metadata": {},
   "outputs": [],
   "source": [
    "summer_2022_final = summer_2022_final_df.drop(['artists', 'id_x', 'id_y'], axis = 1)"
   ]
  },
  {
   "cell_type": "code",
   "execution_count": 162,
   "id": "0b65e274",
   "metadata": {},
   "outputs": [
    {
     "data": {
      "text/html": [
       "<div>\n",
       "<style scoped>\n",
       "    .dataframe tbody tr th:only-of-type {\n",
       "        vertical-align: middle;\n",
       "    }\n",
       "\n",
       "    .dataframe tbody tr th {\n",
       "        vertical-align: top;\n",
       "    }\n",
       "\n",
       "    .dataframe thead th {\n",
       "        text-align: right;\n",
       "    }\n",
       "</style>\n",
       "<table border=\"1\" class=\"dataframe\">\n",
       "  <thead>\n",
       "    <tr style=\"text-align: right;\">\n",
       "      <th></th>\n",
       "      <th>name_x</th>\n",
       "      <th>genres</th>\n",
       "      <th>name_y</th>\n",
       "    </tr>\n",
       "  </thead>\n",
       "  <tbody>\n",
       "    <tr>\n",
       "      <th>0</th>\n",
       "      <td>Ivy</td>\n",
       "      <td>[hip hop, lgbtq+ hip hop, neo soul, pop]</td>\n",
       "      <td>Frank Ocean</td>\n",
       "    </tr>\n",
       "    <tr>\n",
       "      <th>1</th>\n",
       "      <td>Ivy</td>\n",
       "      <td>[hip hop, lgbtq+ hip hop, neo soul, pop]</td>\n",
       "      <td>Frank Ocean</td>\n",
       "    </tr>\n",
       "    <tr>\n",
       "      <th>2</th>\n",
       "      <td>Ivy</td>\n",
       "      <td>[hip hop, lgbtq+ hip hop, neo soul, pop]</td>\n",
       "      <td>Frank Ocean</td>\n",
       "    </tr>\n",
       "    <tr>\n",
       "      <th>3</th>\n",
       "      <td>Generous Heart</td>\n",
       "      <td>[indie pop]</td>\n",
       "      <td>Maya Hawke</td>\n",
       "    </tr>\n",
       "    <tr>\n",
       "      <th>4</th>\n",
       "      <td>Generous Heart</td>\n",
       "      <td>[indie pop]</td>\n",
       "      <td>Maya Hawke</td>\n",
       "    </tr>\n",
       "  </tbody>\n",
       "</table>\n",
       "</div>"
      ],
      "text/plain": [
       "           name_x                                    genres       name_y\n",
       "0             Ivy  [hip hop, lgbtq+ hip hop, neo soul, pop]  Frank Ocean\n",
       "1             Ivy  [hip hop, lgbtq+ hip hop, neo soul, pop]  Frank Ocean\n",
       "2             Ivy  [hip hop, lgbtq+ hip hop, neo soul, pop]  Frank Ocean\n",
       "3  Generous Heart                               [indie pop]   Maya Hawke\n",
       "4  Generous Heart                               [indie pop]   Maya Hawke"
      ]
     },
     "execution_count": 162,
     "metadata": {},
     "output_type": "execute_result"
    }
   ],
   "source": [
    "summer_2022_final.head()"
   ]
  },
  {
   "cell_type": "code",
   "execution_count": 141,
   "id": "b77a9c4f",
   "metadata": {
    "scrolled": true
   },
   "outputs": [],
   "source": [
    "summer_2022_df = summer_2022_final.rename(columns={'name_x': 'song title', 'name_y': 'artist'})"
   ]
  },
  {
   "cell_type": "code",
   "execution_count": 143,
   "id": "17f52586",
   "metadata": {},
   "outputs": [
    {
     "data": {
      "text/html": [
       "<div>\n",
       "<style scoped>\n",
       "    .dataframe tbody tr th:only-of-type {\n",
       "        vertical-align: middle;\n",
       "    }\n",
       "\n",
       "    .dataframe tbody tr th {\n",
       "        vertical-align: top;\n",
       "    }\n",
       "\n",
       "    .dataframe thead th {\n",
       "        text-align: right;\n",
       "    }\n",
       "</style>\n",
       "<table border=\"1\" class=\"dataframe\">\n",
       "  <thead>\n",
       "    <tr style=\"text-align: right;\">\n",
       "      <th></th>\n",
       "      <th>song title</th>\n",
       "      <th>genres</th>\n",
       "      <th>artist</th>\n",
       "    </tr>\n",
       "  </thead>\n",
       "  <tbody>\n",
       "    <tr>\n",
       "      <th>0</th>\n",
       "      <td>Ivy</td>\n",
       "      <td>[hip hop, lgbtq+ hip hop, neo soul, pop]</td>\n",
       "      <td>Frank Ocean</td>\n",
       "    </tr>\n",
       "    <tr>\n",
       "      <th>1</th>\n",
       "      <td>Ivy</td>\n",
       "      <td>[hip hop, lgbtq+ hip hop, neo soul, pop]</td>\n",
       "      <td>Frank Ocean</td>\n",
       "    </tr>\n",
       "    <tr>\n",
       "      <th>2</th>\n",
       "      <td>Ivy</td>\n",
       "      <td>[hip hop, lgbtq+ hip hop, neo soul, pop]</td>\n",
       "      <td>Frank Ocean</td>\n",
       "    </tr>\n",
       "    <tr>\n",
       "      <th>3</th>\n",
       "      <td>Generous Heart</td>\n",
       "      <td>[indie pop]</td>\n",
       "      <td>Maya Hawke</td>\n",
       "    </tr>\n",
       "    <tr>\n",
       "      <th>4</th>\n",
       "      <td>Generous Heart</td>\n",
       "      <td>[indie pop]</td>\n",
       "      <td>Maya Hawke</td>\n",
       "    </tr>\n",
       "  </tbody>\n",
       "</table>\n",
       "</div>"
      ],
      "text/plain": [
       "       song title                                    genres       artist\n",
       "0             Ivy  [hip hop, lgbtq+ hip hop, neo soul, pop]  Frank Ocean\n",
       "1             Ivy  [hip hop, lgbtq+ hip hop, neo soul, pop]  Frank Ocean\n",
       "2             Ivy  [hip hop, lgbtq+ hip hop, neo soul, pop]  Frank Ocean\n",
       "3  Generous Heart                               [indie pop]   Maya Hawke\n",
       "4  Generous Heart                               [indie pop]   Maya Hawke"
      ]
     },
     "execution_count": 143,
     "metadata": {},
     "output_type": "execute_result"
    }
   ],
   "source": [
    "summer_2022_df.head()"
   ]
  },
  {
   "cell_type": "code",
   "execution_count": 168,
   "id": "5ba3d9e1",
   "metadata": {},
   "outputs": [],
   "source": [
    "summer_2022_df.to_csv('summer_2022.csv')"
   ]
  },
  {
   "cell_type": "markdown",
   "id": "0ed74246",
   "metadata": {},
   "source": [
    "### Refining the Data ###"
   ]
  },
  {
   "cell_type": "markdown",
   "id": "33f8e633",
   "metadata": {},
   "source": [
    "Some artists listed more than one genre while other artists listed none. In order to make sure each artist only has one genre assigned to them, I deleted the more specific genres, leaving only the broadest genre that was mentioned first. For example, Frank Ocean had hip hop, lgbtq+ hip hop, neo soul, and pop listed under genres. In the csv file, I changed this to exclusively hip hop. For the artists with no genre listed, I replaced the empty space with the genre listed when I Googled them."
   ]
  },
  {
   "cell_type": "code",
   "execution_count": null,
   "id": "76904691",
   "metadata": {},
   "outputs": [],
   "source": []
  }
 ],
 "metadata": {
  "kernelspec": {
   "display_name": "Python 3 (ipykernel)",
   "language": "python",
   "name": "python3"
  },
  "language_info": {
   "codemirror_mode": {
    "name": "ipython",
    "version": 3
   },
   "file_extension": ".py",
   "mimetype": "text/x-python",
   "name": "python",
   "nbconvert_exporter": "python",
   "pygments_lexer": "ipython3",
   "version": "3.10.4"
  }
 },
 "nbformat": 4,
 "nbformat_minor": 5
}
